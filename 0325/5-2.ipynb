{
 "cells": [
  {
   "cell_type": "code",
   "execution_count": 1,
   "id": "267494cb-4207-4059-baaf-4a9dd6704993",
   "metadata": {},
   "outputs": [
    {
     "data": {
      "text/plain": [
       "_io.TextIOWrapper"
      ]
     },
     "execution_count": 1,
     "metadata": {},
     "output_type": "execute_result"
    }
   ],
   "source": [
    "inFp=None\n",
    "inStr = \"\"\n",
    "\n",
    "inFp=open(\"Module1.py\",\"r\",encoding ='utf-8')\n",
    "type(inFp)"
   ]
  },
  {
   "cell_type": "code",
   "execution_count": 2,
   "id": "304aee25-a5d3-4cd3-a842-8d326592fe8f",
   "metadata": {},
   "outputs": [
    {
     "data": {
      "text/plain": [
       "'##함수선언부분#\\n'"
      ]
     },
     "execution_count": 2,
     "metadata": {},
     "output_type": "execute_result"
    }
   ],
   "source": [
    "inStr =inFp.readline()\n",
    "inStr"
   ]
  },
  {
   "cell_type": "code",
   "execution_count": 3,
   "id": "1173c969-bcc3-4ec6-bfde-cb2b4eb7b3ae",
   "metadata": {},
   "outputs": [
    {
     "name": "stdout",
     "output_type": "stream",
     "text": [
      "def func1() :\n",
      "    print(\"Module1.py의 func1()\")\n"
     ]
    }
   ],
   "source": [
    "inStr= inFp.readline()\n",
    "print(inStr,end=\"\")\n",
    "\n",
    "inStr =inFp.readline()\n",
    "print(inStr,end=\"\")\n",
    "\n",
    "inFp.close()"
   ]
  },
  {
   "cell_type": "code",
   "execution_count": 4,
   "id": "05e1927d-3a2a-4b2b-bb06-00720d1c6fab",
   "metadata": {},
   "outputs": [],
   "source": [
    "inFp=open(\"Module1.py\",\"r\")"
   ]
  },
  {
   "cell_type": "code",
   "execution_count": 5,
   "id": "6124ef42-4c46-4dd0-9695-945df5b71d9d",
   "metadata": {},
   "outputs": [
    {
     "ename": "UnicodeDecodeError",
     "evalue": "'cp949' codec can't decode byte 0xed in position 2: illegal multibyte sequence",
     "output_type": "error",
     "traceback": [
      "\u001b[1;31m---------------------------------------------------------------------------\u001b[0m",
      "\u001b[1;31mUnicodeDecodeError\u001b[0m                        Traceback (most recent call last)",
      "\u001b[1;32m~\\AppData\\Local\\Temp/ipykernel_1764/2485844237.py\u001b[0m in \u001b[0;36m<module>\u001b[1;34m\u001b[0m\n\u001b[1;32m----> 1\u001b[1;33m \u001b[0minFp\u001b[0m\u001b[1;33m.\u001b[0m\u001b[0mreadlines\u001b[0m\u001b[1;33m(\u001b[0m\u001b[1;33m)\u001b[0m\u001b[1;33m\u001b[0m\u001b[1;33m\u001b[0m\u001b[0m\n\u001b[0m",
      "\u001b[1;31mUnicodeDecodeError\u001b[0m: 'cp949' codec can't decode byte 0xed in position 2: illegal multibyte sequence"
     ]
    }
   ],
   "source": [
    "inFp.readlines()"
   ]
  },
  {
   "cell_type": "markdown",
   "id": "280761db-eafc-40ec-a342-bd14530dc01d",
   "metadata": {},
   "source": []
  },
  {
   "cell_type": "code",
   "execution_count": null,
   "id": "ebd65a3b-1556-47b6-874c-45b36523b1a2",
   "metadata": {},
   "outputs": [],
   "source": [
    "inFp = None #입력파일\n",
    "\n",
    "inStr = \"\" #읽어온문자열\n",
    "\n",
    "inFp = open(\"Module2.py\",\"r\")\n",
    "\n",
    "while True :\n",
    "    inStr = inFp.readline()\n",
    "    if inStr == \"\" :\n",
    "        break ;\n",
    "    print(inStr,end=\"\")\n",
    "\n",
    "inFp.close()"
   ]
  },
  {
   "cell_type": "markdown",
   "id": "7f9bf26a-2322-4f03-833a-31176cbd2b95",
   "metadata": {},
   "source": [
    "#### p.365 이진파일"
   ]
  },
  {
   "cell_type": "code",
   "execution_count": 2,
   "id": "fecd22f5-2d16-4d19-b995-1f0371ad95d9",
   "metadata": {},
   "outputs": [],
   "source": [
    "from tkinter import *\n",
    "\n",
    "## 함수 선언 부분 ##\n",
    "def loadImage(fname) :\n",
    "    global inImage, XSIZE, YSIZE\n",
    "    fp = open(fname, 'rb')\n",
    "\n",
    "    for i in range(0, XSIZE) :\n",
    "        tmpList = []\n",
    "        for k in range(0, YSIZE) :\n",
    "            data = int(ord(fp.read(1)))\n",
    "            tmpList.append(data)\n",
    "        inImage.append(tmpList)\n",
    "\n",
    "    fp.close()\n",
    "\n",
    "def displayImage(image) :\n",
    "    global XSIZE, YSIZE\n",
    "    rgbString = \"\"\n",
    "    for i in range(0, XSIZE) :\n",
    "        tmpString = \"\"\n",
    "        for k in range(0, YSIZE) :\n",
    "            data = image[i][k]\n",
    "            tmpString += \"#%02x%02x%02x \" % (data, data, data) # x 뒤에 한칸 공백\n",
    "        rgbString += \"{\" + tmpString +  \"} \" # } 뒤에 한칸 공백\n",
    "    paper.put(rgbString)\n",
    "\n",
    "## 전역 변수 선언 부분 ##\n",
    "window = None\n",
    "canvas = None\n",
    "XSIZE, YSIZE=256,256\n",
    "inImage=[] # 2차원 리스트 (메모리)\n",
    "\n",
    "## 메인 코드 부분 ##\n",
    "window = Tk()\n",
    "window.title(\"흑백 사진 보기\")\n",
    "canvas = Canvas(window, height = XSIZE, width = YSIZE)\n",
    "paper = PhotoImage(width = XSIZE, height = YSIZE)\n",
    "canvas.create_image((XSIZE/2, YSIZE/2), image = paper, state = \"normal\")\n",
    "\n",
    "# 파일 --> 메모리\n",
    "#filename = 'Raw/Tree.raw'  #상대경로\n",
    "#filename = 'C:/Users/BIT/Works/Raw/Tree.raw' #절대경로\n",
    "filename = 'C:\\\\Users\\\\BIT\\\\Works\\\\Raw\\\\Tree.raw' #절대경로\n",
    "loadImage(filename)\n",
    "\n",
    "# 메모리 --> 화면 \n",
    "displayImage(inImage)\n",
    "\n",
    "canvas.pack()\n",
    "window.mainloop()\n"
   ]
  },
  {
   "cell_type": "code",
   "execution_count": null,
   "id": "6630a65d-417d-405b-a7b1-79fdf879078a",
   "metadata": {},
   "outputs": [],
   "source": [
    "filename = 'C:/Users/BIT/Works/Raw/Tree.raw'"
   ]
  }
 ],
 "metadata": {
  "kernelspec": {
   "display_name": "Python 3 (ipykernel)",
   "language": "python",
   "name": "python3"
  },
  "language_info": {
   "codemirror_mode": {
    "name": "ipython",
    "version": 3
   },
   "file_extension": ".py",
   "mimetype": "text/x-python",
   "name": "python",
   "nbconvert_exporter": "python",
   "pygments_lexer": "ipython3",
   "version": "3.9.7"
  }
 },
 "nbformat": 4,
 "nbformat_minor": 5
}
