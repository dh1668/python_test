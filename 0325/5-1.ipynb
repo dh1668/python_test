{
 "cells": [
  {
   "cell_type": "code",
   "execution_count": 1,
   "id": "5eec2c3c-2f38-441d-8b7c-83836de2430f",
   "metadata": {},
   "outputs": [],
   "source": [
    "# 개발자들이 API를 통해 라이브러리에 넣어야 개발할수잇음(어플리케이션 프로그래밍 인터프리)\n",
    "\n",
    "# os > libraries > framework"
   ]
  },
  {
   "cell_type": "code",
   "execution_count": 2,
   "id": "34bb3435-b80d-4c55-9330-670dbe9fc511",
   "metadata": {},
   "outputs": [
    {
     "data": {
      "text/plain": [
       "(<tkinter.Tk object .>, None)"
      ]
     },
     "execution_count": 2,
     "metadata": {},
     "output_type": "execute_result"
    }
   ],
   "source": [
    "from tkinter import*\n",
    "\n",
    "window = Tk()   #실행\n",
    "window.title('윈도우 창')\n",
    "window.geometry('400x600')  #크기조절\n",
    "window.resizable(width =FALSE, height = FALSE) # 창의 크기를 바꿀수 잇는지 없는지기능임 (안써도 바꿀순잇음)\n",
    "\n",
    "\n",
    "window,mainloop()\n"
   ]
  },
  {
   "cell_type": "code",
   "execution_count": 3,
   "id": "4c7c2997-b610-408a-a9d7-11e8734ace5a",
   "metadata": {
    "tags": []
   },
   "outputs": [],
   "source": [
    "from tkinter import*\n",
    "\n",
    "window = Tk()\n",
    "window.title('윈도우 창')\n",
    "window.geometry('400x600')\n",
    "\n",
    "label1 =Label(window, text = \"COOKBOOK~~ Python을\")\n",
    "label2 =Label(window, text = '글씨체', font = ('굴림',30), fg ='blue')\n",
    "label3 =Label(window, text = '위치', fg = 'blue' , width = 20, height =5, anchor = SE)\n",
    "\n",
    "label1.pack()\n",
    "label2.pack()\n",
    "label3.pack()  # 순서 바꾸면 순서 바뀌게나옴 \n",
    "\n",
    "window.mainloop()"
   ]
  },
  {
   "cell_type": "markdown",
   "id": "5896c28c-a328-433b-a385-a0659b4bdb33",
   "metadata": {},
   "source": [
    "#### p.304 이미지"
   ]
  },
  {
   "cell_type": "code",
   "execution_count": 4,
   "id": "b98ea0b4-f5d6-463b-b5f8-0a01d8708659",
   "metadata": {},
   "outputs": [],
   "source": [
    "from tkinter import*\n",
    "window = Tk()\n",
    "\n",
    "photo = PhotoImage(file = 'bill.gif')\n",
    "label1 = Label(window, image =photo)\n",
    "\n",
    "label1.pack()\n",
    "\n",
    "window.mainloop()\n"
   ]
  },
  {
   "cell_type": "markdown",
   "id": "0cae5c70-9b35-46da-857a-57ebb2d56c03",
   "metadata": {},
   "source": [
    "#### p.305 버튼"
   ]
  },
  {
   "cell_type": "code",
   "execution_count": 5,
   "id": "9d7a30b8-7a1d-4046-b263-7d85671e7c70",
   "metadata": {},
   "outputs": [],
   "source": [
    "window = Tk()\n",
    "window.title('윈도우 창')\n",
    "window.geometry('400x600')\n",
    "\n",
    "label1 =Label(window, text = \"COOKBOOK~~ Python을\")\n",
    "label2 =Label(window, text = '글씨체', font = ('굴림',30), fg ='blue')\n",
    "label3 =Label(window, text = '위치', fg = 'blue' , width = 20, height =5, anchor = SE)\n",
    "\n",
    "button1 = Button(window, text='눌러!', fg= 'orange', command = quit)  #quit 사용하면  우리 옆 커널이죽음\n",
    "                                                # 원래 버튼을 누르면 나가게 만드는기능 (결론: 뭔가잘못됌)\n",
    "\n",
    "label1.pack()\n",
    "label2.pack()\n",
    "label3.pack()  # 순서 바꾸면 순서 바뀌게나옴 \n",
    "button1.pack()\n",
    "\n",
    "window.mainloop()"
   ]
  },
  {
   "cell_type": "markdown",
   "id": "69be33ce-6978-4168-b2fc-aed46a586ded",
   "metadata": {},
   "source": [
    "#### 체크박스 p.307"
   ]
  },
  {
   "cell_type": "code",
   "execution_count": 6,
   "id": "ad23b8b4-8acf-4fcf-b916-4747e036bb6f",
   "metadata": {},
   "outputs": [],
   "source": [
    "from tkinter import*\n",
    "from tkinter import messagebox\n",
    "window = Tk()\n",
    "window.title('강동훈')\n",
    "window.geometry('400x600')\n",
    "\n",
    "#함수선언부분#\n",
    "def myFunc() :\n",
    "    if chk.get() == 0 :\n",
    "        messagebox.showinfo(\"\",\"체크버튼이 꺼졌어요.\")\n",
    "    else :\n",
    "        messagebox.showinfo(\"\",\"체크버튼이 켜졌어요.\")\n",
    "        \n",
    "#메인부분코드#\n",
    "chk = IntVar()\n",
    "cb1 = Checkbutton(window, text = \"클릭하세요\", variable = chk, command = myFunc)\n",
    "\n",
    "cb1.pack()\n",
    "\n",
    "window.mainloop()"
   ]
  },
  {
   "cell_type": "code",
   "execution_count": 7,
   "id": "e3af6eeb-07a8-4bd7-900a-efa70ab276bf",
   "metadata": {},
   "outputs": [],
   "source": [
    "# from tkinter import*                            ############308페이지 보고하기\n",
    "# from tkinter import messagebox\n",
    "# window = Tk()\n",
    "# window.title('강동훈')\n",
    "# window.geometry('400x600')\n",
    "\n",
    "# #함수선언부분#\n",
    "# def myFunc() :\n",
    "#     if var.get() == 1 :                  #var.get : 선택된 번호가 나옴\n",
    "#         label1.configure(text = \"파이썬\")\n",
    "#     elif var.get() == 2 :\n",
    "#         label.configure(text = \"C++\")\n",
    "#     else :\n",
    "#         label.configure(text = \"JAVA\")\n",
    "        \n",
    "# #메인부분코드#\n",
    "# Var = IntVar()\n",
    "# rb1 = Radiobutton(window, text = \"파이썬\" , )\n",
    "\n",
    "# cb1.pack()\n",
    "\n",
    "# window.mainloop()"
   ]
  },
  {
   "cell_type": "markdown",
   "id": "d64d5fa0-a7a4-4418-a931-d438441827f5",
   "metadata": {},
   "source": [
    "#### 위젯 배치\n",
    "https://076923.github.io/posts/Python-tkinter-10/ 에서 더배우셈"
   ]
  },
  {
   "cell_type": "code",
   "execution_count": 8,
   "id": "b391729d-4453-4fa8-b631-31f0e18bbfbd",
   "metadata": {},
   "outputs": [],
   "source": [
    "#위젯배치 p.309\n",
    "from tkinter import*\n",
    "window = Tk()\n",
    "\n",
    "button1= Button(window, text = \"버튼1\")\n",
    "button2= Button(window, text = \"버튼2\")\n",
    "button3= Button(window, text = \"버튼3\")\n",
    "\n",
    "button1.pack(side = LEFT)\n",
    "button2.pack(side = LEFT)\n",
    "button3.pack(side = LEFT)\n",
    "\n",
    "window.mainloop()"
   ]
  },
  {
   "cell_type": "code",
   "execution_count": 9,
   "id": "dbf39ac0-f900-4e89-859d-7f6ed6a8f631",
   "metadata": {},
   "outputs": [],
   "source": [
    "#p.312 해보기"
   ]
  },
  {
   "cell_type": "code",
   "execution_count": 3,
   "id": "089a7aed-7e72-4143-a7d7-c998e6408190",
   "metadata": {},
   "outputs": [],
   "source": [
    "from tkinter import*\n",
    "from time import*\n",
    "\n",
    "##전역 변수 선언 부분#\n",
    "fnameList = [\"jeju1.gif\",\"jeju2.gif\",\"jeju3.gif\",\"jeju4.gif\",\"jeju5.gif\",\n",
    "             \"jeju6.gif\",\"jeju7.gif\",\"jeju8.gif\",\"jeju9.gif\",\"jeju10.gif\",\n",
    "             \"jeju11.gif\",\"jeju12.gif\",\"jeju13.gif\"]\n",
    "\n",
    "photoList = [None]*13\n",
    "num = 0\n",
    "\n",
    "#함수선언부분#\n",
    "def clickNext() :\n",
    "    global num\n",
    "    num += 1\n",
    "    if num > 12 :\n",
    "        num = 0\n",
    "    photo = PhotoImage(file = \"C:/Users/BIT/Works/gif/\"+fnameList[num])\n",
    "    pLabel.configure(image = photo)\n",
    "    pLabel.image = photo\n",
    "\n",
    "def clickPrev() :\n",
    "    global num\n",
    "    num -=1\n",
    "    if num < 0 :\n",
    "        num = 12\n",
    "    photo = PhotoImage(file = \"C:/Users/BIT/Works/gif/\"+fnameList[num])\n",
    "    pLabel.configure(image = photo)\n",
    "    pLabel.image = photo\n",
    "\n",
    "#메인코드부분#\n",
    "window =Tk()\n",
    "window.geometry(\"700x500\")\n",
    "window.title(\"사진 앨범 보기\")\n",
    "\n",
    "btnPrev = Button(window, text = \"<< 이전\", command = clickPrev)\n",
    "btnNext = Button(window, text = \"다음 >>\", command = clickNext)\n",
    "#filename = 'C:/Users/BIT/Works/Raw/Tree.raw' #절대경로\n",
    "photo = PhotoImage(file = \"C:/Users/BIT/Works/gif/\"+fnameList[0])\n",
    "pLabel =Label(window, image =photo)\n",
    "\n",
    "btnPrev.place(x=250, y=10)\n",
    "btnNext.place(x=400, y=10)\n",
    "pLabel.place(x=15, y=50) \n",
    "\n",
    "window.mainloop()"
   ]
  },
  {
   "cell_type": "code",
   "execution_count": null,
   "id": "3717fca8-9921-4c30-b7b7-f958a30dfadd",
   "metadata": {},
   "outputs": [],
   "source": []
  }
 ],
 "metadata": {
  "kernelspec": {
   "display_name": "Python 3 (ipykernel)",
   "language": "python",
   "name": "python3"
  },
  "language_info": {
   "codemirror_mode": {
    "name": "ipython",
    "version": 3
   },
   "file_extension": ".py",
   "mimetype": "text/x-python",
   "name": "python",
   "nbconvert_exporter": "python",
   "pygments_lexer": "ipython3",
   "version": "3.9.7"
  }
 },
 "nbformat": 4,
 "nbformat_minor": 5
}
