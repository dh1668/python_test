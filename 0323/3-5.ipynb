{
 "cells": [
  {
   "cell_type": "markdown",
   "id": "37d7ad37-c82e-4186-935f-e78657e48560",
   "metadata": {},
   "source": [
    "## chapter 7\n",
    "\n",
    "\n",
    "### 리스트 list\n",
    "\n",
    "    -딕셔너리를 활용해 음식 궁합을 출력하는 프로그램\n",
    "    -순서(번호 >> 인덱스, 0부터)"
   ]
  },
  {
   "cell_type": "markdown",
   "id": "fed7b61c-1fcb-4824-a9f5-10418266d4dd",
   "metadata": {},
   "source": []
  },
  {
   "cell_type": "code",
   "execution_count": 3,
   "id": "9a0593c4-7422-4016-a6e0-4b9d11283511",
   "metadata": {},
   "outputs": [],
   "source": [
    "a = ['1', 1, 100, '파','이','썬']"
   ]
  },
  {
   "cell_type": "code",
   "execution_count": 441,
   "id": "716bc9b5-43e0-45a8-ba61-c4695b5c678b",
   "metadata": {},
   "outputs": [
    {
     "data": {
      "text/plain": [
       "int"
      ]
     },
     "execution_count": 441,
     "metadata": {},
     "output_type": "execute_result"
    }
   ],
   "source": [
    "type(a)"
   ]
  },
  {
   "cell_type": "code",
   "execution_count": 7,
   "id": "d8a01a36-d0ea-452a-94d8-cd2eb574844d",
   "metadata": {},
   "outputs": [
    {
     "data": {
      "text/plain": [
       "'1'"
      ]
     },
     "execution_count": 7,
     "metadata": {},
     "output_type": "execute_result"
    }
   ],
   "source": [
    "# index\n",
    "a[0]"
   ]
  },
  {
   "cell_type": "code",
   "execution_count": 10,
   "id": "f192bf39-10c3-4c4b-963a-3c03c0bff06e",
   "metadata": {},
   "outputs": [
    {
     "data": {
      "text/plain": [
       "('파', 100)"
      ]
     },
     "execution_count": 10,
     "metadata": {},
     "output_type": "execute_result"
    }
   ],
   "source": [
    "a[3] ,a[2]"
   ]
  },
  {
   "cell_type": "code",
   "execution_count": 14,
   "id": "768974ad-c9bb-414d-a0d6-d99d3f9869c1",
   "metadata": {},
   "outputs": [
    {
     "name": "stdout",
     "output_type": "stream",
     "text": [
      "1 1 100 파 이 썬 "
     ]
    }
   ],
   "source": [
    "for i in a :\n",
    "    print(i, end= ' ')"
   ]
  },
  {
   "cell_type": "code",
   "execution_count": 17,
   "id": "c4ce033a-4297-46db-bb6d-30c3f5d2d3a0",
   "metadata": {},
   "outputs": [],
   "source": [
    "b =[a, 1,3,5,7,9]\n",
    "# 다른 리스트안에 리스트를 넣을수도 있다."
   ]
  },
  {
   "cell_type": "code",
   "execution_count": 18,
   "id": "cd2a02fb-a29d-4b10-ab8e-bbbb60f2814c",
   "metadata": {},
   "outputs": [
    {
     "data": {
      "text/plain": [
       "[['1', 1, 100, '파', '이', '썬'], 1, 3, 5, 7, 9]"
      ]
     },
     "execution_count": 18,
     "metadata": {},
     "output_type": "execute_result"
    }
   ],
   "source": [
    "b"
   ]
  },
  {
   "cell_type": "code",
   "execution_count": 19,
   "id": "e50f64b1-12fe-4160-b699-0173ed1e3625",
   "metadata": {},
   "outputs": [],
   "source": [
    "aa = [0,0,0,0]\n",
    "hap = 0\n",
    "\n",
    "aa[0] =int"
   ]
  },
  {
   "cell_type": "markdown",
   "id": "3a903262-0250-402d-a36e-34b87e79b04e",
   "metadata": {},
   "source": [
    "## 빈 리스트 [ ]"
   ]
  },
  {
   "cell_type": "code",
   "execution_count": 20,
   "id": "c979fe51-5e04-4eea-8e0c-8d81faed3e74",
   "metadata": {},
   "outputs": [],
   "source": [
    "a = [ ]"
   ]
  },
  {
   "cell_type": "code",
   "execution_count": 22,
   "id": "cdcf05c0-67c4-4f8b-ae0f-4418dc5d0247",
   "metadata": {},
   "outputs": [
    {
     "data": {
      "text/plain": [
       "list"
      ]
     },
     "execution_count": 22,
     "metadata": {},
     "output_type": "execute_result"
    }
   ],
   "source": [
    "type(a)"
   ]
  },
  {
   "cell_type": "code",
   "execution_count": 51,
   "id": "4c1ad0e6-c48b-4a83-94d9-a123228d71fe",
   "metadata": {},
   "outputs": [],
   "source": [
    "a = [ ]\n",
    "a.append(1)\n",
    "a.append('둘')\n",
    "a.append(3)"
   ]
  },
  {
   "cell_type": "code",
   "execution_count": 52,
   "id": "068ae777-23c6-4c09-96a8-d2535b96cd8e",
   "metadata": {},
   "outputs": [
    {
     "data": {
      "text/plain": [
       "[1, '둘', 3]"
      ]
     },
     "execution_count": 52,
     "metadata": {},
     "output_type": "execute_result"
    }
   ],
   "source": [
    "a"
   ]
  },
  {
   "cell_type": "code",
   "execution_count": 53,
   "id": "b7a2a1b0-46c0-4c48-8c73-b87548bf19cf",
   "metadata": {},
   "outputs": [
    {
     "name": "stdout",
     "output_type": "stream",
     "text": [
      "1\n",
      "둘\n",
      "3\n"
     ]
    }
   ],
   "source": [
    "for i in a :\n",
    "    print(i)"
   ]
  },
  {
   "cell_type": "code",
   "execution_count": 54,
   "id": "95e151c9-3435-41ec-8010-ae790fdd214e",
   "metadata": {},
   "outputs": [
    {
     "name": "stdout",
     "output_type": "stream",
     "text": [
      "1\n",
      "둘\n",
      "3\n"
     ]
    }
   ],
   "source": [
    "for i in range(0,3) :\n",
    "    print(a[i])"
   ]
  },
  {
   "cell_type": "code",
   "execution_count": 55,
   "id": "56d1496b-1426-4eb6-8664-69642ce2ad82",
   "metadata": {},
   "outputs": [
    {
     "data": {
      "text/plain": [
       "3"
      ]
     },
     "execution_count": 55,
     "metadata": {},
     "output_type": "execute_result"
    }
   ],
   "source": [
    "len(a)"
   ]
  },
  {
   "cell_type": "code",
   "execution_count": 57,
   "id": "646049c2-829c-4b5c-ae8a-faa52065a04d",
   "metadata": {},
   "outputs": [
    {
     "name": "stdout",
     "output_type": "stream",
     "text": [
      "1\n",
      "둘\n",
      "3\n"
     ]
    }
   ],
   "source": [
    "for i in range(0,len(a) ) :\n",
    "    print(a[i])"
   ]
  },
  {
   "cell_type": "code",
   "execution_count": 59,
   "id": "56b6ca6b-1a42-433e-a4d7-bf2773ba50f7",
   "metadata": {},
   "outputs": [
    {
     "name": "stdin",
     "output_type": "stream",
     "text": [
      "1번째 숫자 :  9\n",
      "2번째 숫자 :  7\n",
      "3번째 숫자 :  5\n",
      "4번째 숫자 :  3\n"
     ]
    },
    {
     "name": "stdout",
     "output_type": "stream",
     "text": [
      "합계 ==> 24\n"
     ]
    }
   ],
   "source": [
    "aa = [ ]\n",
    "\n",
    "for i in range(0, 4) :\n",
    "    aa.append(0)\n",
    "hap = 0\n",
    "\n",
    "for i in range(0,4) :\n",
    "    aa[i] = int(input(str(i+1) + \"번째 숫자 : \"))\n",
    "    \n",
    "hap = aa[0] +aa[1] + aa[2] + aa[3]\n",
    "\n",
    "print(\"합계 ==> %d\" %hap)"
   ]
  },
  {
   "cell_type": "code",
   "execution_count": 69,
   "id": "65748c1e-3da1-4af5-b932-1d1fabd4f30a",
   "metadata": {},
   "outputs": [
    {
     "name": "stdin",
     "output_type": "stream",
     "text": [
      "1번째 숫자 :  1\n",
      "2번째 숫자 :  1\n",
      "3번째 숫자 :  1\n",
      "4번째 숫자 :  1\n",
      "5번째 숫자 :  3\n",
      "6번째 숫자 :  2\n",
      "7번째 숫자 :  1\n"
     ]
    },
    {
     "name": "stdout",
     "output_type": "stream",
     "text": [
      "합계 ==> 7\n"
     ]
    }
   ],
   "source": [
    "aa = [ ]\n",
    "\n",
    "for i in range(0, 7) :\n",
    "    aa.append(0)\n",
    "hap = 0\n",
    "\n",
    "# for i in range(0,4) :\n",
    "for i in range(0, len(aa) ) :\n",
    "    aa[i] = int(input(str(i+1) + \"번째 숫자 : \" ))\n",
    "    \n",
    "hap = aa[0] +aa[1] + aa[2] + aa[3] + aa[4] \n",
    "\n",
    "print(\"합계 ==> %d\" %hap)"
   ]
  },
  {
   "cell_type": "code",
   "execution_count": 71,
   "id": "7717a719-116d-4c80-b755-d73c2cb247e0",
   "metadata": {},
   "outputs": [
    {
     "name": "stdin",
     "output_type": "stream",
     "text": [
      "1번째 숫자 :  1\n",
      "2번째 숫자 :  3\n",
      "3번째 숫자 :  2\n",
      "4번째 숫자 :  1\n"
     ]
    },
    {
     "name": "stdout",
     "output_type": "stream",
     "text": [
      "합계 ==> 7\n"
     ]
    }
   ],
   "source": [
    "aa = [ ]\n",
    "\n",
    "for i in range(0, 7) :\n",
    "    aa.append(0)\n",
    "hap = 0\n",
    "\n",
    "for i in range(0,4) :\n",
    "    aa[i] = int(input(str(i+1) + \"번째 숫자 : \"))\n",
    "    hap += aa[i]\n",
    "    \n",
    "\n",
    "print(\"합계 ==> %d\" %hap)"
   ]
  },
  {
   "cell_type": "markdown",
   "id": "1e138808-f3d3-47a1-b268-dc8c8d96c6fd",
   "metadata": {},
   "source": [
    "- 역순으로 된 인덱스"
   ]
  },
  {
   "cell_type": "code",
   "execution_count": 76,
   "id": "26ca527b-349f-4213-99da-ad7e3266fd39",
   "metadata": {},
   "outputs": [
    {
     "name": "stdout",
     "output_type": "stream",
     "text": [
      "bb[0]에는 198이, bb[99]에는 0이 입력됩니다.\n"
     ]
    }
   ],
   "source": [
    "aa = [ ]\n",
    "bb = [ ]\n",
    "value = 0\n",
    "\n",
    "for i in range(0, 100) :\n",
    "    aa.append(value)\n",
    "    value += 2\n",
    "\n",
    "for i in range(0, 100) :\n",
    "    bb.append(aa[99-i])\n",
    "    \n",
    "print(\"bb[0]에는 %d이, bb[99]에는 %d이 입력됩니다.\"%(bb[0],bb[99]))"
   ]
  },
  {
   "cell_type": "markdown",
   "id": "3d3fa818-7ad7-4ac1-bcd1-2e08fc9795e6",
   "metadata": {},
   "source": [
    "## 리스트 인덱싱    list indexing"
   ]
  },
  {
   "cell_type": "code",
   "execution_count": 207,
   "id": "e09ab9ab-72f4-4df9-a292-d79562f02dcd",
   "metadata": {},
   "outputs": [
    {
     "data": {
      "text/plain": [
       "[10, 20, 30, 40]"
      ]
     },
     "execution_count": 207,
     "metadata": {},
     "output_type": "execute_result"
    }
   ],
   "source": [
    "aa = [ 10,20,30,40]\n",
    "aa"
   ]
  },
  {
   "cell_type": "code",
   "execution_count": 208,
   "id": "1dbcba9f-bb23-41eb-b454-1d54a9f21c32",
   "metadata": {},
   "outputs": [
    {
     "data": {
      "text/plain": [
       "(10, 40, 20)"
      ]
     },
     "execution_count": 208,
     "metadata": {},
     "output_type": "execute_result"
    }
   ],
   "source": [
    "aa[0], aa[3], aa[1]"
   ]
  },
  {
   "cell_type": "code",
   "execution_count": 209,
   "id": "5beeb07a-536c-4a01-acec-060ed36321f2",
   "metadata": {
    "tags": []
   },
   "outputs": [
    {
     "data": {
      "text/plain": [
       "(40, 30)"
      ]
     },
     "execution_count": 209,
     "metadata": {},
     "output_type": "execute_result"
    }
   ],
   "source": [
    "aa[-1], aa[-2]"
   ]
  },
  {
   "cell_type": "code",
   "execution_count": 210,
   "id": "72b1547e-ea26-4628-aad8-cb1b6cbcac90",
   "metadata": {},
   "outputs": [
    {
     "data": {
      "text/plain": [
       "[10, 20]"
      ]
     },
     "execution_count": 210,
     "metadata": {},
     "output_type": "execute_result"
    }
   ],
   "source": [
    "# 인덱스 범위  `start: stop`\n",
    "aa[0 : 2] #끝은 stop -1"
   ]
  },
  {
   "cell_type": "code",
   "execution_count": 211,
   "id": "be7c4d24-d86a-475c-bad7-c6071734f337",
   "metadata": {},
   "outputs": [
    {
     "data": {
      "text/plain": [
       "[20, 30, 40]"
      ]
     },
     "execution_count": 211,
     "metadata": {},
     "output_type": "execute_result"
    }
   ],
   "source": [
    "aa[1:]"
   ]
  },
  {
   "cell_type": "code",
   "execution_count": 212,
   "id": "8fb5c811-cbd1-4530-bb18-961f3cc14c2e",
   "metadata": {},
   "outputs": [
    {
     "data": {
      "text/plain": [
       "[20]"
      ]
     },
     "execution_count": 212,
     "metadata": {},
     "output_type": "execute_result"
    }
   ],
   "source": [
    "aa[1:2]"
   ]
  },
  {
   "cell_type": "code",
   "execution_count": 213,
   "id": "bff451a7-6843-4f85-b53c-6b99e5a5e88b",
   "metadata": {},
   "outputs": [
    {
     "data": {
      "text/plain": [
       "[20]"
      ]
     },
     "execution_count": 213,
     "metadata": {},
     "output_type": "execute_result"
    }
   ],
   "source": [
    "aa[1:2]"
   ]
  },
  {
   "cell_type": "markdown",
   "id": "82283ab3-cbbf-4d8a-b0eb-cb9d1487f0e8",
   "metadata": {},
   "source": []
  },
  {
   "cell_type": "markdown",
   "id": "0ecaea09-2d4e-4d65-b173-1b70af55ecd8",
   "metadata": {},
   "source": [
    "#### in, not in"
   ]
  },
  {
   "cell_type": "code",
   "execution_count": 24,
   "id": "0e2dd9c6-037a-4ec8-b00d-0de41aa5328f",
   "metadata": {},
   "outputs": [
    {
     "data": {
      "text/plain": [
       "True"
      ]
     },
     "execution_count": 24,
     "metadata": {},
     "output_type": "execute_result"
    }
   ],
   "source": [
    "aa =[10,11,12,15,19,20]\n",
    "11 in aa"
   ]
  },
  {
   "cell_type": "code",
   "execution_count": 22,
   "id": "07f785b7-ee04-4f29-9a96-7a2862d104aa",
   "metadata": {},
   "outputs": [
    {
     "data": {
      "text/plain": [
       "True"
      ]
     },
     "execution_count": 22,
     "metadata": {},
     "output_type": "execute_result"
    }
   ],
   "source": [
    "11 not in aa"
   ]
  },
  {
   "cell_type": "markdown",
   "id": "472eea09-4374-4cd8-ad71-dfad05994b5f",
   "metadata": {},
   "source": [
    "### broadcasting !"
   ]
  },
  {
   "cell_type": "code",
   "execution_count": 116,
   "id": "b5705011-df08-42bc-822f-09ec74f8220f",
   "metadata": {},
   "outputs": [
    {
     "data": {
      "text/plain": [
       "([10, 20, 30, 40], [50, 60, 70, 80])"
      ]
     },
     "execution_count": 116,
     "metadata": {},
     "output_type": "execute_result"
    }
   ],
   "source": [
    "a = [10,20,30,40 ]\n",
    "b = [50,60,70,80 ]\n",
    "a,b"
   ]
  },
  {
   "cell_type": "code",
   "execution_count": 127,
   "id": "70899cdf-a257-4cbe-9e81-0a0ea4d33ea5",
   "metadata": {},
   "outputs": [
    {
     "name": "stdout",
     "output_type": "stream",
     "text": [
      "[10, 20, 30, 40, 10, 20, 30, 40]\n"
     ]
    }
   ],
   "source": [
    "print(a*2)\n",
    "\n",
    "#더하기 빼기 나누기는 없음"
   ]
  },
  {
   "cell_type": "markdown",
   "id": "e19a9872-eaa8-4e17-a0ad-1332726c7b7d",
   "metadata": {},
   "source": [
    "#### STEP"
   ]
  },
  {
   "cell_type": "code",
   "execution_count": 14,
   "id": "7165d2cd-5d60-4769-a29b-c4578a88175a",
   "metadata": {},
   "outputs": [
    {
     "data": {
      "text/plain": [
       "[30, 70]"
      ]
     },
     "execution_count": 14,
     "metadata": {},
     "output_type": "execute_result"
    }
   ],
   "source": [
    "a = [10, 20, 30, 40 , 50, 60, 70 ,80 ]\n",
    "a[2::4]\n",
    "\n",
    "#  :: 는 간격 기준임"
   ]
  },
  {
   "cell_type": "code",
   "execution_count": 17,
   "id": "cdc77ee9-a156-4e5a-8f04-11b93bcf51d0",
   "metadata": {},
   "outputs": [
    {
     "data": {
      "text/plain": [
       "[80, 50, 20]"
      ]
     },
     "execution_count": 17,
     "metadata": {},
     "output_type": "execute_result"
    }
   ],
   "source": [
    "a[::-3]"
   ]
  },
  {
   "cell_type": "markdown",
   "id": "4d17cd9f-a1b6-4eb1-accf-2fdfada72929",
   "metadata": {},
   "source": [
    "#### list() 함수"
   ]
  },
  {
   "cell_type": "code",
   "execution_count": 28,
   "id": "b27c4f10-3b06-4f2e-861f-969b3781db68",
   "metadata": {},
   "outputs": [
    {
     "data": {
      "text/plain": [
       "[1, 2, 3, 4, 5]"
      ]
     },
     "execution_count": 28,
     "metadata": {},
     "output_type": "execute_result"
    }
   ],
   "source": [
    "nums = list(range(1, 100))\n",
    "nums[:5]"
   ]
  },
  {
   "cell_type": "code",
   "execution_count": 30,
   "id": "fd34fbbe-afe8-43d3-a412-d03cb9145171",
   "metadata": {},
   "outputs": [
    {
     "data": {
      "text/plain": [
       "\u001b[1;31mInit signature:\u001b[0m \u001b[0mlist\u001b[0m\u001b[1;33m(\u001b[0m\u001b[0miterable\u001b[0m\u001b[1;33m=\u001b[0m\u001b[1;33m(\u001b[0m\u001b[1;33m)\u001b[0m\u001b[1;33m,\u001b[0m \u001b[1;33m/\u001b[0m\u001b[1;33m)\u001b[0m\u001b[1;33m\u001b[0m\u001b[1;33m\u001b[0m\u001b[0m\n",
       "\u001b[1;31mDocstring:\u001b[0m     \n",
       "Built-in mutable sequence.\n",
       "\n",
       "If no argument is given, the constructor creates a new empty list.\n",
       "The argument must be an iterable if specified.\n",
       "\u001b[1;31mType:\u001b[0m           type\n",
       "\u001b[1;31mSubclasses:\u001b[0m     _HashedSeq, StackSummary, DeferredConfigList, SList, _ImmutableLineList, FormattedText, NodeList, _ExplodedList, Stack, _Accumulator, ...\n"
      ]
     },
     "metadata": {},
     "output_type": "display_data"
    }
   ],
   "source": [
    "list?"
   ]
  },
  {
   "cell_type": "markdown",
   "id": "995c5cb7-68ed-48c8-bd53-54a35155d5c0",
   "metadata": {
    "tags": []
   },
   "source": [
    "### 값의 변경\n",
    " - 불변형 자료 : string , tuple\n",
    " - 가변형 자료 : list , dict "
   ]
  },
  {
   "cell_type": "markdown",
   "id": "96084f02-3491-4d6e-a042-522ee9c425db",
   "metadata": {},
   "source": [
    "#### 리스트 값의 변경"
   ]
  },
  {
   "cell_type": "code",
   "execution_count": 95,
   "id": "92d691a9-c290-4665-ad51-d7528c9ae5d5",
   "metadata": {},
   "outputs": [
    {
     "name": "stdout",
     "output_type": "stream",
     "text": [
      "[1, 2, 3, 4, 5, 6, 7, 8, 9]\n"
     ]
    }
   ],
   "source": [
    "a = list(range(1, 10 ))\n",
    "print(a)"
   ]
  },
  {
   "cell_type": "code",
   "execution_count": 96,
   "id": "54f556c1-48c5-4a9b-a9ef-484631e28c48",
   "metadata": {},
   "outputs": [
    {
     "name": "stdout",
     "output_type": "stream",
     "text": [
      "[1, 2, 300, 4, 5, 6, 7, 8, 9]\n"
     ]
    }
   ],
   "source": [
    "a[2] = 300\n",
    "print(a)"
   ]
  },
  {
   "cell_type": "code",
   "execution_count": 97,
   "id": "54870a68-b303-4428-90f0-5eb4df5aa383",
   "metadata": {},
   "outputs": [
    {
     "name": "stdout",
     "output_type": "stream",
     "text": [
      "[1, 200, 201, 300, 4, 5, 6, 7, 8, 9]\n"
     ]
    }
   ],
   "source": [
    "a[1:2] = [200,201]\n",
    "print(a)"
   ]
  },
  {
   "cell_type": "code",
   "execution_count": 98,
   "id": "d92b36ae-0d0e-4b86-9e60-837f11d563d9",
   "metadata": {},
   "outputs": [
    {
     "data": {
      "text/plain": [
       "[200, 201, 300]"
      ]
     },
     "execution_count": 98,
     "metadata": {},
     "output_type": "execute_result"
    }
   ],
   "source": [
    "a[1:4]"
   ]
  },
  {
   "cell_type": "code",
   "execution_count": null,
   "id": "b1f7373a-8a1c-45dd-a750-6275b4095c2a",
   "metadata": {},
   "outputs": [],
   "source": []
  },
  {
   "cell_type": "code",
   "execution_count": 99,
   "id": "f1fe797f-ff48-4142-a8e6-217bb9088cda",
   "metadata": {},
   "outputs": [
    {
     "name": "stdout",
     "output_type": "stream",
     "text": [
      "[1, 200, 201, 300, [200, 201], 5, 6, 7, 8, 9]\n"
     ]
    }
   ],
   "source": [
    "a[4] = [200,201]\n",
    "print(a)"
   ]
  },
  {
   "cell_type": "code",
   "execution_count": 100,
   "id": "7df9de24-1594-4628-bd08-94b4d7d358a0",
   "metadata": {},
   "outputs": [
    {
     "name": "stdout",
     "output_type": "stream",
     "text": [
      "[1, 200, 201, 300, 5, 6, 7, 8, 9]\n"
     ]
    }
   ],
   "source": [
    "del(a[4])\n",
    "print(a)\n",
    "\n",
    "# 4번삭제"
   ]
  },
  {
   "cell_type": "code",
   "execution_count": 101,
   "id": "a6f2c96f-048a-46ac-9cdf-86afea64fb8d",
   "metadata": {},
   "outputs": [
    {
     "name": "stdout",
     "output_type": "stream",
     "text": [
      "[1, 200, 201, 6, 7, 8, 9]\n"
     ]
    }
   ],
   "source": [
    "del(a[3:5])\n",
    "print(a)"
   ]
  },
  {
   "cell_type": "code",
   "execution_count": 102,
   "id": "5f7b35c0-2581-4e79-8a6c-2fee8e548fa8",
   "metadata": {},
   "outputs": [
    {
     "name": "stdout",
     "output_type": "stream",
     "text": [
      "[[], 200, 201, 6, 7, 8, 9]\n"
     ]
    }
   ],
   "source": [
    "a[0] =  [ ]\n",
    "print(a)\n",
    "\n",
    "#공백리스트 만들때"
   ]
  },
  {
   "cell_type": "code",
   "execution_count": 103,
   "id": "0df62a23-5236-43b5-a933-873252b32672",
   "metadata": {},
   "outputs": [
    {
     "name": "stdout",
     "output_type": "stream",
     "text": [
      "[6, 7, 8, 9]\n"
     ]
    }
   ],
   "source": [
    "a[0:3] = []\n",
    "print(a)\n",
    "\n",
    "# 지우는 방법"
   ]
  },
  {
   "cell_type": "markdown",
   "id": "4fb60b47-765c-4b1f-88ba-6c6b99836f09",
   "metadata": {},
   "source": [
    "## 집게 함수\n",
    " - sum() ,max(),min()\n",
    " - len()"
   ]
  },
  {
   "cell_type": "code",
   "execution_count": 179,
   "id": "5a92abc2-1d26-4b6d-802b-e0ec0c280e57",
   "metadata": {},
   "outputs": [],
   "source": [
    "a = [-100, -5 , 9 ,999 ,777 ,-678]"
   ]
  },
  {
   "cell_type": "code",
   "execution_count": 180,
   "id": "02933ab8-d7bd-4177-befb-22b5a8ff823d",
   "metadata": {},
   "outputs": [
    {
     "name": "stdout",
     "output_type": "stream",
     "text": [
      "1002\n"
     ]
    }
   ],
   "source": [
    "# for 써서 한다면?\n",
    "\n",
    "hap = 0\n",
    "for i in a :\n",
    "    hap += i\n",
    "print(hap)"
   ]
  },
  {
   "cell_type": "code",
   "execution_count": 181,
   "id": "472b185d-1285-4e13-aad2-26d966a5350e",
   "metadata": {},
   "outputs": [
    {
     "name": "stdout",
     "output_type": "stream",
     "text": [
      "1002\n"
     ]
    }
   ],
   "source": [
    "# for 써서 합계!\n",
    "\n",
    "count = 0\n",
    "for i in a :\n",
    "    count += i\n",
    "print(count)"
   ]
  },
  {
   "cell_type": "markdown",
   "id": "16d267f2-4070-440e-8f59-2d54d4e90aa1",
   "metadata": {},
   "source": [
    "p197실습 : list 내장함수"
   ]
  },
  {
   "cell_type": "code",
   "execution_count": 182,
   "id": "80ed51ac-541d-4428-a26a-b3a5a7747683",
   "metadata": {},
   "outputs": [],
   "source": [
    "myList = [30,10,20]"
   ]
  },
  {
   "cell_type": "code",
   "execution_count": 183,
   "id": "0aa66345-2267-4513-a993-2cab27f7d72c",
   "metadata": {},
   "outputs": [
    {
     "data": {
      "text/plain": [
       "[30, 10, 20, 40]"
      ]
     },
     "execution_count": 183,
     "metadata": {},
     "output_type": "execute_result"
    }
   ],
   "source": [
    "myList.append(40)\n",
    "myList"
   ]
  },
  {
   "cell_type": "code",
   "execution_count": 184,
   "id": "c6814484-81a0-4f2f-b97b-dc254251553c",
   "metadata": {},
   "outputs": [
    {
     "data": {
      "text/plain": [
       "[30, 10, 20]"
      ]
     },
     "execution_count": 184,
     "metadata": {},
     "output_type": "execute_result"
    }
   ],
   "source": [
    "myList.pop()\n",
    "myList"
   ]
  },
  {
   "cell_type": "code",
   "execution_count": 185,
   "id": "b7d95453-bd2b-44b8-98fb-7d87fbca4fc9",
   "metadata": {},
   "outputs": [],
   "source": [
    "myList.sort()"
   ]
  },
  {
   "cell_type": "code",
   "execution_count": 186,
   "id": "bfd3edb4-5959-4711-a8ef-ec9bc749136b",
   "metadata": {},
   "outputs": [
    {
     "data": {
      "text/plain": [
       "[10, 20, 30]"
      ]
     },
     "execution_count": 186,
     "metadata": {},
     "output_type": "execute_result"
    }
   ],
   "source": [
    "myList"
   ]
  },
  {
   "cell_type": "code",
   "execution_count": 187,
   "id": "a91062fa-4fcb-47bb-9370-f7960266bd65",
   "metadata": {},
   "outputs": [
    {
     "data": {
      "text/plain": [
       "[30, 20, 10]"
      ]
     },
     "execution_count": 187,
     "metadata": {},
     "output_type": "execute_result"
    }
   ],
   "source": [
    "myList.reverse()\n",
    "myList"
   ]
  },
  {
   "cell_type": "code",
   "execution_count": 188,
   "id": "7dacba9e-fe68-4f5f-8d1d-d2736f53822f",
   "metadata": {},
   "outputs": [
    {
     "data": {
      "text/plain": [
       "[30, 20, 222, 10]"
      ]
     },
     "execution_count": 188,
     "metadata": {},
     "output_type": "execute_result"
    }
   ],
   "source": [
    "myList.insert(2,222)\n",
    "myList"
   ]
  },
  {
   "cell_type": "code",
   "execution_count": 189,
   "id": "876cddce-7d30-4fef-b7e4-4681ab792952",
   "metadata": {},
   "outputs": [
    {
     "data": {
      "text/plain": [
       "[30, 222, 10]"
      ]
     },
     "execution_count": 189,
     "metadata": {},
     "output_type": "execute_result"
    }
   ],
   "source": [
    "myList.remove(20)\n",
    "myList"
   ]
  },
  {
   "cell_type": "code",
   "execution_count": null,
   "id": "9659855c-694a-4872-b2fb-f892dc11a3a6",
   "metadata": {},
   "outputs": [],
   "source": []
  },
  {
   "cell_type": "markdown",
   "id": "c3031ace-2ce6-45cb-8587-1de6240108e6",
   "metadata": {},
   "source": [
    "**파이썬내장함수 sorted vs list.sort() **list내장함수"
   ]
  },
  {
   "cell_type": "code",
   "execution_count": 171,
   "id": "b68778f9-15f1-4dc4-a972-a67e767b771c",
   "metadata": {},
   "outputs": [],
   "source": [
    "myList = [30,10,20]"
   ]
  },
  {
   "cell_type": "code",
   "execution_count": 173,
   "id": "fa17e8e5-fd7b-4850-90b0-ee871e034354",
   "metadata": {},
   "outputs": [
    {
     "data": {
      "text/plain": [
       "[10, 20, 30]"
      ]
     },
     "execution_count": 173,
     "metadata": {},
     "output_type": "execute_result"
    }
   ],
   "source": [
    "sorted(myList)"
   ]
  },
  {
   "cell_type": "code",
   "execution_count": 175,
   "id": "09748a41-a47c-4072-b3a1-558a11e6620f",
   "metadata": {},
   "outputs": [
    {
     "data": {
      "text/plain": [
       "[30, 10, 20]"
      ]
     },
     "execution_count": 175,
     "metadata": {},
     "output_type": "execute_result"
    }
   ],
   "source": [
    "myList"
   ]
  },
  {
   "cell_type": "code",
   "execution_count": 176,
   "id": "590bd535-e813-4fe3-9895-d184c8378a6f",
   "metadata": {},
   "outputs": [],
   "source": [
    "myList.sort()"
   ]
  },
  {
   "cell_type": "code",
   "execution_count": 177,
   "id": "23350025-45b7-4ce3-aab6-44c4ed14d267",
   "metadata": {},
   "outputs": [
    {
     "data": {
      "text/plain": [
       "[10, 20, 30]"
      ]
     },
     "execution_count": 177,
     "metadata": {},
     "output_type": "execute_result"
    }
   ],
   "source": [
    "myList"
   ]
  },
  {
   "cell_type": "markdown",
   "id": "c6c66ed8-101d-443c-9516-07a43c32f7c6",
   "metadata": {},
   "source": [
    "## 2차원 리스트"
   ]
  },
  {
   "cell_type": "code",
   "execution_count": 218,
   "id": "25839df4-3b89-44a8-815a-2fff16184ca9",
   "metadata": {},
   "outputs": [],
   "source": [
    "a = [[1,2,3,4],\n",
    "    [5,6,7,8],\n",
    "    [9,10,11,12]]\n",
    "# 인덱스 범위  `start: stop`\n",
    "\n",
    "# len은 갯수.  위에 a 같은경우 인덱스가 3개여서 3임\n",
    "#  ex) b= [1,2,3,4,5,6,7]\n",
    "#  len(b) = 7 나옴"
   ]
  },
  {
   "cell_type": "code",
   "execution_count": 219,
   "id": "1af39143-19f6-4e4c-b0a2-ba4be0bb3166",
   "metadata": {},
   "outputs": [
    {
     "data": {
      "text/plain": [
       "7"
      ]
     },
     "execution_count": 219,
     "metadata": {},
     "output_type": "execute_result"
    }
   ],
   "source": [
    "b= [1,2,3,4,5,6,7]\n",
    "len(b)"
   ]
  },
  {
   "cell_type": "code",
   "execution_count": 220,
   "id": "e2f9453d-5f4a-48e2-ad2d-bc44d2a871b3",
   "metadata": {},
   "outputs": [
    {
     "data": {
      "text/plain": [
       "3"
      ]
     },
     "execution_count": 220,
     "metadata": {},
     "output_type": "execute_result"
    }
   ],
   "source": [
    "len(a)"
   ]
  },
  {
   "cell_type": "code",
   "execution_count": 221,
   "id": "86d135f6-b3dd-405e-8823-5340bd0e0ebc",
   "metadata": {},
   "outputs": [
    {
     "data": {
      "text/plain": [
       "([1, 2, 3, 4], [5, 6, 7, 8], [[5, 6, 7, 8], [9, 10, 11, 12]])"
      ]
     },
     "execution_count": 221,
     "metadata": {},
     "output_type": "execute_result"
    }
   ],
   "source": [
    "a[0], a[1], a[1:3]\n",
    "\n",
    "#"
   ]
  },
  {
   "cell_type": "code",
   "execution_count": 222,
   "id": "5cfaec22-8c69-444c-9459-ff2c6634bf5d",
   "metadata": {},
   "outputs": [
    {
     "data": {
      "text/plain": [
       "2"
      ]
     },
     "execution_count": 222,
     "metadata": {},
     "output_type": "execute_result"
    }
   ],
   "source": [
    "a[0][1]\n",
    "#첫번째줄 1번 이여서 2가나옴"
   ]
  },
  {
   "cell_type": "markdown",
   "id": "f3acac45-4e85-42b5-af6f-094ea5a21c2b",
   "metadata": {},
   "source": [
    "p.200 연습문제"
   ]
  },
  {
   "cell_type": "code",
   "execution_count": 261,
   "id": "a8f20b55-e540-4a2f-a2b1-6fd16699df39",
   "metadata": {},
   "outputs": [
    {
     "ename": "NameError",
     "evalue": "name 'List2' is not defined",
     "output_type": "error",
     "traceback": [
      "\u001b[1;31m---------------------------------------------------------------------------\u001b[0m",
      "\u001b[1;31mNameError\u001b[0m                                 Traceback (most recent call last)",
      "\u001b[1;32m~\\AppData\\Local\\Temp/ipykernel_1308/3048187267.py\u001b[0m in \u001b[0;36m<module>\u001b[1;34m\u001b[0m\n\u001b[0;32m      6\u001b[0m         \u001b[0mlist1\u001b[0m\u001b[1;33m.\u001b[0m\u001b[0mappend\u001b[0m\u001b[1;33m(\u001b[0m\u001b[0mvalue\u001b[0m\u001b[1;33m)\u001b[0m\u001b[1;33m\u001b[0m\u001b[1;33m\u001b[0m\u001b[0m\n\u001b[0;32m      7\u001b[0m         \u001b[0mvalue\u001b[0m \u001b[1;33m+=\u001b[0m \u001b[1;36m1\u001b[0m\u001b[1;33m\u001b[0m\u001b[1;33m\u001b[0m\u001b[0m\n\u001b[1;32m----> 8\u001b[1;33m     \u001b[0mList2\u001b[0m\u001b[1;33m.\u001b[0m\u001b[0mappend\u001b[0m\u001b[1;33m(\u001b[0m\u001b[0mlist1\u001b[0m\u001b[1;33m)\u001b[0m\u001b[1;33m\u001b[0m\u001b[1;33m\u001b[0m\u001b[0m\n\u001b[0m\u001b[0;32m      9\u001b[0m     \u001b[0mlist1\u001b[0m\u001b[1;33m=\u001b[0m\u001b[1;33m[\u001b[0m\u001b[1;33m]\u001b[0m\u001b[1;33m\u001b[0m\u001b[1;33m\u001b[0m\u001b[0m\n\u001b[0;32m     10\u001b[0m \u001b[1;33m\u001b[0m\u001b[0m\n",
      "\u001b[1;31mNameError\u001b[0m: name 'List2' is not defined"
     ]
    }
   ],
   "source": [
    "list1 = []\n",
    "list2 = []\n",
    "value =1\n",
    "for i in range(0,3) :\n",
    "    for k in range(0,4) :\n",
    "        list1.append(value)\n",
    "        value += 1\n",
    "    List2.append(list1)\n",
    "    list1=[]\n",
    "\n",
    "for i in range(0,3) :\n",
    "    for k in range(0,4) :\n",
    "        print(\"%3d\"%List2[i][k], end = \"\")\n",
    "    print(\"\")"
   ]
  },
  {
   "cell_type": "markdown",
   "id": "7f5536fa-78c6-41bf-a8c3-1beb74be78e1",
   "metadata": {},
   "source": [
    "## 튜플\n",
    " - 리스트는 [] 대괄호 튜플은 소괄호 ()\n",
    " - 값 수정할수 없고, 읽기만 가능"
   ]
  },
  {
   "cell_type": "code",
   "execution_count": 263,
   "id": "62667a3c-d334-400a-813e-7728121a82b1",
   "metadata": {},
   "outputs": [
    {
     "data": {
      "text/plain": [
       "(1, 2, 3, 4, 5)"
      ]
     },
     "execution_count": 263,
     "metadata": {},
     "output_type": "execute_result"
    }
   ],
   "source": [
    "tt1 = (1,2,3,4,5)\n",
    "tt1"
   ]
  },
  {
   "cell_type": "code",
   "execution_count": 265,
   "id": "ca3daf5c-f67a-4845-8431-88aebda3d0b6",
   "metadata": {},
   "outputs": [
    {
     "data": {
      "text/plain": [
       "(0, 10, 5)"
      ]
     },
     "execution_count": 265,
     "metadata": {},
     "output_type": "execute_result"
    }
   ],
   "source": [
    "a,b,c = 0,10,5\n",
    "a,b,c"
   ]
  },
  {
   "cell_type": "code",
   "execution_count": 267,
   "id": "b9830ede-6dff-4b02-b972-d4a248b36d5c",
   "metadata": {},
   "outputs": [
    {
     "data": {
      "text/plain": [
       "tuple"
      ]
     },
     "execution_count": 267,
     "metadata": {},
     "output_type": "execute_result"
    }
   ],
   "source": [
    "type(tt1)"
   ]
  },
  {
   "cell_type": "code",
   "execution_count": 268,
   "id": "471f4f62-e92b-4c31-a508-b9d6f5b4ec7e",
   "metadata": {},
   "outputs": [
    {
     "data": {
      "text/plain": [
       "()"
      ]
     },
     "execution_count": 268,
     "metadata": {},
     "output_type": "execute_result"
    }
   ],
   "source": [
    "tt1 = ()\n",
    "tt1"
   ]
  },
  {
   "cell_type": "code",
   "execution_count": 272,
   "id": "5add2447-91fb-47a3-ac6b-2afca2d1e55c",
   "metadata": {},
   "outputs": [
    {
     "data": {
      "text/plain": [
       "(10, 20, 30)"
      ]
     },
     "execution_count": 272,
     "metadata": {},
     "output_type": "execute_result"
    }
   ],
   "source": [
    "tt2 = 10,20,30     #여러가지 쓰고 튜플안넣으면 자동으로 출력됌\n",
    "tt2"
   ]
  },
  {
   "cell_type": "code",
   "execution_count": 273,
   "id": "5869877c-12d6-488a-9a74-4b9890a66d6e",
   "metadata": {},
   "outputs": [
    {
     "data": {
      "text/plain": [
       "10"
      ]
     },
     "execution_count": 273,
     "metadata": {},
     "output_type": "execute_result"
    }
   ],
   "source": [
    "tt2 = 10\n",
    "tt2"
   ]
  },
  {
   "cell_type": "code",
   "execution_count": 274,
   "id": "06794320-f166-405e-8fb3-6f097c03bd05",
   "metadata": {},
   "outputs": [
    {
     "data": {
      "text/plain": [
       "(10,)"
      ]
     },
     "execution_count": 274,
     "metadata": {},
     "output_type": "execute_result"
    }
   ],
   "source": [
    "tt2 =10, \n",
    "tt2"
   ]
  },
  {
   "cell_type": "code",
   "execution_count": 275,
   "id": "268613f6-89ff-4537-a826-1597d7d82e90",
   "metadata": {},
   "outputs": [
    {
     "data": {
      "text/plain": [
       "(10, 20, 30, 40, 50, 60, 70)"
      ]
     },
     "execution_count": 275,
     "metadata": {},
     "output_type": "execute_result"
    }
   ],
   "source": [
    "tt2 = 10,20,30,40,50,60,70\n",
    "tt2"
   ]
  },
  {
   "cell_type": "code",
   "execution_count": 277,
   "id": "40189dd6-6e7d-48aa-a903-56259f1f9a5a",
   "metadata": {},
   "outputs": [
    {
     "data": {
      "text/plain": [
       "(10, 30)"
      ]
     },
     "execution_count": 277,
     "metadata": {},
     "output_type": "execute_result"
    }
   ],
   "source": [
    "tt2[0],tt2[2]"
   ]
  },
  {
   "cell_type": "code",
   "execution_count": 278,
   "id": "f436a2e9-7131-44d5-aafc-6d00733ac715",
   "metadata": {},
   "outputs": [
    {
     "data": {
      "text/plain": [
       "(30, 40, 50)"
      ]
     },
     "execution_count": 278,
     "metadata": {},
     "output_type": "execute_result"
    }
   ],
   "source": [
    "tt2[2:5]"
   ]
  },
  {
   "cell_type": "markdown",
   "id": "ea38dab6-d8dd-4d02-9ee0-d57f2488b068",
   "metadata": {},
   "source": [
    "브로드캐스팅"
   ]
  },
  {
   "cell_type": "code",
   "execution_count": 283,
   "id": "fdeb4f5a-57df-493d-909d-caf50de21e95",
   "metadata": {},
   "outputs": [],
   "source": [
    "tt2 = ('A','B')\n",
    "tt1 = 10,20,30,40"
   ]
  },
  {
   "cell_type": "code",
   "execution_count": 284,
   "id": "accd7ee2-e656-457b-9544-6a1c243ed8e5",
   "metadata": {},
   "outputs": [
    {
     "ename": "TypeError",
     "evalue": "can only concatenate tuple (not \"int\") to tuple",
     "output_type": "error",
     "traceback": [
      "\u001b[1;31m---------------------------------------------------------------------------\u001b[0m",
      "\u001b[1;31mTypeError\u001b[0m                                 Traceback (most recent call last)",
      "\u001b[1;32m~\\AppData\\Local\\Temp/ipykernel_1308/3363798814.py\u001b[0m in \u001b[0;36m<module>\u001b[1;34m\u001b[0m\n\u001b[1;32m----> 1\u001b[1;33m \u001b[0mtt2\u001b[0m \u001b[1;33m+\u001b[0m \u001b[1;36m2\u001b[0m\u001b[1;33m\u001b[0m\u001b[1;33m\u001b[0m\u001b[0m\n\u001b[0m",
      "\u001b[1;31mTypeError\u001b[0m: can only concatenate tuple (not \"int\") to tuple"
     ]
    }
   ],
   "source": [
    "tt2 + 2"
   ]
  },
  {
   "cell_type": "code",
   "execution_count": 287,
   "id": "66314f9a-c23f-4fa4-9d4b-340c314ee459",
   "metadata": {},
   "outputs": [
    {
     "data": {
      "text/plain": [
       "('A', 'B', 'A', 'B')"
      ]
     },
     "execution_count": 287,
     "metadata": {},
     "output_type": "execute_result"
    }
   ],
   "source": [
    "tt2 * 2"
   ]
  },
  {
   "cell_type": "code",
   "execution_count": 288,
   "id": "c7c347eb-8fb3-4ea0-8cfa-824e58e5f650",
   "metadata": {},
   "outputs": [
    {
     "data": {
      "text/plain": [
       "('A', 'B', 10, 20, 30, 40)"
      ]
     },
     "execution_count": 288,
     "metadata": {},
     "output_type": "execute_result"
    }
   ],
   "source": [
    "tt2 + tt1"
   ]
  },
  {
   "cell_type": "code",
   "execution_count": 290,
   "id": "22bf0df9-3eb7-43b8-9447-918f46ba8a5c",
   "metadata": {},
   "outputs": [
    {
     "data": {
      "text/plain": [
       "(1, 2, 3, 4, 5, 6, 7, 8, 9)"
      ]
     },
     "execution_count": 290,
     "metadata": {},
     "output_type": "execute_result"
    }
   ],
   "source": [
    "tt2 = tuple(range(1,10))\n",
    "tt2"
   ]
  },
  {
   "cell_type": "markdown",
   "id": "c16fd13a-9b3c-4571-b6ce-0d6572c612bc",
   "metadata": {},
   "source": [
    "## 리시트 <-> 튜플 변환\n",
    " - list()\n",
    " - tuple()"
   ]
  },
  {
   "cell_type": "code",
   "execution_count": 322,
   "id": "aaffd2b7-5847-4070-8cb3-b4f3c2a76683",
   "metadata": {},
   "outputs": [],
   "source": [
    "li = [1,2,3,4,5]\n",
    "t1 = (-9, -8, -7, -6)"
   ]
  },
  {
   "cell_type": "code",
   "execution_count": 323,
   "id": "a97c119b-4afe-4aef-a697-b7152f18a500",
   "metadata": {},
   "outputs": [
    {
     "data": {
      "text/plain": [
       "(1, 2, 3, 4, 5)"
      ]
     },
     "execution_count": 323,
     "metadata": {},
     "output_type": "execute_result"
    }
   ],
   "source": [
    "tuple(li)\n",
    "# 리스트를 튜플화"
   ]
  },
  {
   "cell_type": "code",
   "execution_count": 324,
   "id": "86db0320-eedf-41ff-828f-de2bc8df2e90",
   "metadata": {},
   "outputs": [
    {
     "data": {
      "text/plain": [
       "[-9, -8, -7, -6]"
      ]
     },
     "execution_count": 324,
     "metadata": {},
     "output_type": "execute_result"
    }
   ],
   "source": [
    "list(t1)\n",
    "# 튜플을 리스트화"
   ]
  },
  {
   "cell_type": "code",
   "execution_count": 325,
   "id": "b03456ed-ee7e-409a-98bb-ace8a7f0efa1",
   "metadata": {},
   "outputs": [
    {
     "data": {
      "text/plain": [
       "(list, tuple)"
      ]
     },
     "execution_count": 325,
     "metadata": {},
     "output_type": "execute_result"
    }
   ],
   "source": [
    "li = []\n",
    "t1 = ()\n",
    "type(li), type(t1)"
   ]
  },
  {
   "cell_type": "markdown",
   "id": "78cff3b9-098d-47cd-ab0f-68648c21686e",
   "metadata": {},
   "source": [
    "## 딕셔너리\n",
    "    -쌍2개가 하나로 묶인 자료구조\n",
    "    예> 'apple' 사과처럼 의미 있는 두값을 연결해 구성\n",
    "    - key -value 자료\n",
    "    \n",
    "    -다른 프로그래밍 언어에서는 해시(hash) 연관 배열 (associative array )이라함\n",
    "    \n",
    "    -중괄호 {}묶어서 구성, 키 (key) 와 값(value)의 쌍으로 구성"
   ]
  },
  {
   "cell_type": "code",
   "execution_count": 298,
   "id": "344e42d7-8563-4fad-81b8-471e1602d7b4",
   "metadata": {},
   "outputs": [
    {
     "data": {
      "text/plain": [
       "dict"
      ]
     },
     "execution_count": 298,
     "metadata": {},
     "output_type": "execute_result"
    }
   ],
   "source": [
    "dic1 = { }\n",
    "type(dic1)"
   ]
  },
  {
   "cell_type": "code",
   "execution_count": 299,
   "id": "442b8762-4c10-4ebe-8e5c-873bcd61a620",
   "metadata": {},
   "outputs": [
    {
     "data": {
      "text/plain": [
       "{1: 'a', 2: 'b', 3: 'c'}"
      ]
     },
     "execution_count": 299,
     "metadata": {},
     "output_type": "execute_result"
    }
   ],
   "source": [
    "dic1 = {1 : 'a' , 2: 'b' , 3: 'c'}\n",
    "dic1"
   ]
  },
  {
   "cell_type": "code",
   "execution_count": 300,
   "id": "2e8a335d-9ac2-4ab9-8ea0-66fda125a453",
   "metadata": {},
   "outputs": [
    {
     "data": {
      "text/plain": [
       "'a'"
      ]
     },
     "execution_count": 300,
     "metadata": {},
     "output_type": "execute_result"
    }
   ],
   "source": [
    "dic1[1]"
   ]
  },
  {
   "cell_type": "code",
   "execution_count": 309,
   "id": "7dcd4229-d6c6-4ce6-8f20-1284a7bc75e2",
   "metadata": {
    "tags": []
   },
   "outputs": [],
   "source": [
    "dic1 = {'a' : 123 , 'b' : 234 , 'c' :456}"
   ]
  },
  {
   "cell_type": "code",
   "execution_count": 314,
   "id": "bf087cf3-1545-42c8-a40f-431555826d5e",
   "metadata": {},
   "outputs": [
    {
     "data": {
      "text/plain": [
       "123"
      ]
     },
     "execution_count": 314,
     "metadata": {},
     "output_type": "execute_result"
    }
   ],
   "source": [
    "dic1['a']"
   ]
  },
  {
   "cell_type": "code",
   "execution_count": 327,
   "id": "3649d7cc-82e8-4c5f-abb0-580725b515e7",
   "metadata": {},
   "outputs": [
    {
     "data": {
      "text/plain": [
       "{'학번': 1000, '이름': '홍길동', '학과': '컴공'}"
      ]
     },
     "execution_count": 327,
     "metadata": {},
     "output_type": "execute_result"
    }
   ],
   "source": [
    "student1 = {'학번': 1000, '이름':'홍길동','학과':'컴공'}\n",
    "student1"
   ]
  },
  {
   "cell_type": "code",
   "execution_count": 328,
   "id": "46cbdcd6-5a9e-4b0d-9540-8d7beb6c825c",
   "metadata": {},
   "outputs": [
    {
     "data": {
      "text/plain": [
       "1000"
      ]
     },
     "execution_count": 328,
     "metadata": {},
     "output_type": "execute_result"
    }
   ],
   "source": [
    "student1['학번']"
   ]
  },
  {
   "cell_type": "code",
   "execution_count": 329,
   "id": "c7b7c0af-ee13-4813-800d-600da7cac777",
   "metadata": {},
   "outputs": [
    {
     "data": {
      "text/plain": [
       "{'학번': 1000, '이름': '홍길동', '학과': '컴공', '연락처': '000-222-3333'}"
      ]
     },
     "execution_count": 329,
     "metadata": {},
     "output_type": "execute_result"
    }
   ],
   "source": [
    "student1['연락처'] = '000-222-3333'\n",
    "student1"
   ]
  },
  {
   "cell_type": "code",
   "execution_count": 330,
   "id": "e40b3154-212a-4c3c-a9ac-972c3d2a222c",
   "metadata": {},
   "outputs": [
    {
     "data": {
      "text/plain": [
       "{'학번': 1000, '이름': '홍길동', '학과': '컴공', '연락처': ''}"
      ]
     },
     "execution_count": 330,
     "metadata": {},
     "output_type": "execute_result"
    }
   ],
   "source": [
    "student1['연락처'] = ''\n",
    "student1"
   ]
  },
  {
   "cell_type": "code",
   "execution_count": 331,
   "id": "09badbe2-6a8f-4f36-85b4-c5c73904904d",
   "metadata": {},
   "outputs": [],
   "source": [
    "del student1['연락처']"
   ]
  },
  {
   "cell_type": "code",
   "execution_count": 332,
   "id": "b506b4e7-65e5-4800-b048-d570959accfe",
   "metadata": {},
   "outputs": [
    {
     "data": {
      "text/plain": [
       "{'학번': 1000, '이름': '홍길동', '학과': '컴공'}"
      ]
     },
     "execution_count": 332,
     "metadata": {},
     "output_type": "execute_result"
    }
   ],
   "source": [
    "student1"
   ]
  },
  {
   "cell_type": "code",
   "execution_count": 334,
   "id": "9c3db1bc-4a50-4e4b-8aa9-350e3dc118b3",
   "metadata": {},
   "outputs": [
    {
     "ename": "KeyError",
     "evalue": "'wnth'",
     "output_type": "error",
     "traceback": [
      "\u001b[1;31m---------------------------------------------------------------------------\u001b[0m",
      "\u001b[1;31mKeyError\u001b[0m                                  Traceback (most recent call last)",
      "\u001b[1;32m~\\AppData\\Local\\Temp/ipykernel_1308/3936203957.py\u001b[0m in \u001b[0;36m<module>\u001b[1;34m\u001b[0m\n\u001b[1;32m----> 1\u001b[1;33m \u001b[0mstudent1\u001b[0m\u001b[1;33m[\u001b[0m\u001b[1;34m'wnth'\u001b[0m\u001b[1;33m]\u001b[0m\u001b[1;33m\u001b[0m\u001b[1;33m\u001b[0m\u001b[0m\n\u001b[0m",
      "\u001b[1;31mKeyError\u001b[0m: 'wnth'"
     ]
    }
   ],
   "source": [
    "student1['wnth']"
   ]
  },
  {
   "cell_type": "code",
   "execution_count": 336,
   "id": "8c140e5a-bc33-4998-bb9d-c4e4388f5d8f",
   "metadata": {},
   "outputs": [],
   "source": [
    "student1.get('주소')"
   ]
  },
  {
   "cell_type": "code",
   "execution_count": 337,
   "id": "70137abc-97ad-46f6-82ad-4ccbf34404fb",
   "metadata": {},
   "outputs": [
    {
     "data": {
      "text/plain": [
       "dict_keys(['학번', '이름', '학과'])"
      ]
     },
     "execution_count": 337,
     "metadata": {},
     "output_type": "execute_result"
    }
   ],
   "source": [
    "student1.keys()\n",
    "#키값만 요청"
   ]
  },
  {
   "cell_type": "code",
   "execution_count": 342,
   "id": "793c942b-7d84-43a0-a7cf-2bf184cac2f0",
   "metadata": {},
   "outputs": [
    {
     "data": {
      "text/plain": [
       "dict_values([1000, '홍길동', '컴공'])"
      ]
     },
     "execution_count": 342,
     "metadata": {},
     "output_type": "execute_result"
    }
   ],
   "source": [
    "student1.values()\n",
    "#값만 요청"
   ]
  },
  {
   "cell_type": "code",
   "execution_count": 343,
   "id": "26caf22f-7d16-4538-857a-ca2de054616b",
   "metadata": {},
   "outputs": [
    {
     "data": {
      "text/plain": [
       "dict_items([('학번', 1000), ('이름', '홍길동'), ('학과', '컴공')])"
      ]
     },
     "execution_count": 343,
     "metadata": {},
     "output_type": "execute_result"
    }
   ],
   "source": [
    "student1.items()"
   ]
  },
  {
   "cell_type": "code",
   "execution_count": 344,
   "id": "95364268-e07a-41cb-9f67-d844f9b6aac9",
   "metadata": {},
   "outputs": [
    {
     "data": {
      "text/plain": [
       "False"
      ]
     },
     "execution_count": 344,
     "metadata": {},
     "output_type": "execute_result"
    }
   ],
   "source": [
    "'홍길동'in student1"
   ]
  },
  {
   "cell_type": "code",
   "execution_count": 345,
   "id": "3f076498-0744-4975-ad18-d7d740fde02b",
   "metadata": {},
   "outputs": [
    {
     "data": {
      "text/plain": [
       "True"
      ]
     },
     "execution_count": 345,
     "metadata": {},
     "output_type": "execute_result"
    }
   ],
   "source": [
    "'이름'in student1"
   ]
  },
  {
   "cell_type": "code",
   "execution_count": 349,
   "id": "3c50cb82-ff32-4b7e-920d-6f284239ded5",
   "metadata": {},
   "outputs": [
    {
     "name": "stdout",
     "output_type": "stream",
     "text": [
      "1000\n",
      "홍길동\n",
      "컴공\n"
     ]
    }
   ],
   "source": [
    "for key in student1.keys() :\n",
    "    print(student1[key])\n",
    "\n",
    "#for 문사용해서 key값 요청"
   ]
  },
  {
   "cell_type": "code",
   "execution_count": 358,
   "id": "6012222a-bf5e-44a8-acd6-8443255b0b5f",
   "metadata": {},
   "outputs": [
    {
     "name": "stdout",
     "output_type": "stream",
     "text": [
      "1000\n",
      "홍길동\n",
      "컴공\n"
     ]
    }
   ],
   "source": [
    "for key in student1.keys() :\n",
    "    print(student1[key])"
   ]
  },
  {
   "cell_type": "code",
   "execution_count": 360,
   "id": "5abd7250-9d0e-4567-898c-a45e32ac347f",
   "metadata": {},
   "outputs": [
    {
     "name": "stdout",
     "output_type": "stream",
     "text": [
      "학번 1000\n",
      "이름 홍길동\n",
      "학과 컴공\n"
     ]
    }
   ],
   "source": [
    "for k ,v in student1.items() :\n",
    "    # print(student1[k])\n",
    "    print(k,v)"
   ]
  },
  {
   "cell_type": "code",
   "execution_count": 436,
   "id": "24a79393-588f-46c7-a55e-6824d9c5271c",
   "metadata": {},
   "outputs": [
    {
     "name": "stdin",
     "output_type": "stream",
     "text": [
      "['떡볶이', '짜장면', '라면', '피자', '맥주', '치킨', '삼겹살']중 좋아하는 음식은? 끝\n"
     ]
    }
   ],
   "source": [
    "foods = {\"떡볶이\" : \"오뎅\",\n",
    "         \"짜장면\" : \"단무지\",\n",
    "         \"라면\" : \"김치\",\n",
    "         \"피자\" : \"피클\",\n",
    "         \"맥주\" : \"땅콩\",\n",
    "         \"치킨\" : \"치킨무\",\n",
    "         \"삼겹살\" : \"상추\"};\n",
    "\n",
    "while(True) :\n",
    "    myfood = input(str(list(foods.keys())) + \"중 좋아하는 음식은?\"\n",
    "    if myfood in foods :\n",
    "        print(\"<%s> 궁합 음식은 <%s>입니다.\" %(myfood, foods.get(myfood)))\n",
    "    elif myfood == \"끝\":\n",
    "        break\n",
    "\n",
    "    else :\n",
    "        print(\"그런 음식은 없습니다. 확인해 보세요\")"
   ]
  },
  {
   "cell_type": "markdown",
   "id": "23555325-4e3e-4c89-84cf-161ec8aa3ef0",
   "metadata": {},
   "source": [
    "## 세트\n",
    "\n",
    "    - 키만 모아 놓은 딕셔너리의 특수한 형태\n",
    "    - 딕셔너리의 키는 중복되면 안되므로 세트에 들어있는 값은 항상 유일\n",
    "    - 세트를 생성하려면 딕셔너리처럼 중괄호 {} 사용하지만 : 없이 값을 입력\n",
    "    - 중복된 키는 자동으로 하나만 남음\n",
    "    \n",
    "    -판매된 물품의 젅체 수량이 아닌 종류만 파악하고 싶을때"
   ]
  },
  {
   "cell_type": "code",
   "execution_count": 442,
   "id": "ff8ce249-bca9-4946-bbc7-5e0fc78793b5",
   "metadata": {},
   "outputs": [
    {
     "data": {
      "text/plain": [
       "set()"
      ]
     },
     "execution_count": 442,
     "metadata": {},
     "output_type": "execute_result"
    }
   ],
   "source": [
    "s2 =set()\n",
    "s2"
   ]
  },
  {
   "cell_type": "code",
   "execution_count": 443,
   "id": "81c880a8-2464-4571-ac9c-de1a7f74c2bd",
   "metadata": {},
   "outputs": [
    {
     "data": {
      "text/plain": [
       "set"
      ]
     },
     "execution_count": 443,
     "metadata": {},
     "output_type": "execute_result"
    }
   ],
   "source": [
    "type(s2)"
   ]
  },
  {
   "cell_type": "code",
   "execution_count": 444,
   "id": "9392bc49-99a3-4c02-ba6d-62c87a609c74",
   "metadata": {},
   "outputs": [],
   "source": [
    "s1 = {1,2,3,4,5}\n",
    "s2 = {4,5,6,7}"
   ]
  },
  {
   "cell_type": "code",
   "execution_count": 445,
   "id": "5a7732a6-6d95-42de-83e4-40885195f9ff",
   "metadata": {},
   "outputs": [
    {
     "data": {
      "text/plain": [
       "{4, 5}"
      ]
     },
     "execution_count": 445,
     "metadata": {},
     "output_type": "execute_result"
    }
   ],
   "source": [
    "s1 & s2 #교집합"
   ]
  },
  {
   "cell_type": "code",
   "execution_count": 447,
   "id": "9157e778-f6a1-4c60-8a71-f869b1fdd774",
   "metadata": {},
   "outputs": [
    {
     "data": {
      "text/plain": [
       "{1, 2, 3, 4, 5, 6, 7}"
      ]
     },
     "execution_count": 447,
     "metadata": {},
     "output_type": "execute_result"
    }
   ],
   "source": [
    "s1 | s2 #합집합"
   ]
  },
  {
   "cell_type": "code",
   "execution_count": 452,
   "id": "56620b7f-fbaa-484b-a1c4-e0f02250a70c",
   "metadata": {},
   "outputs": [
    {
     "data": {
      "text/plain": [
       "{1, 2, 3, 6, 7}"
      ]
     },
     "execution_count": 452,
     "metadata": {},
     "output_type": "execute_result"
    }
   ],
   "source": [
    "s1 ^ s2"
   ]
  },
  {
   "cell_type": "code",
   "execution_count": 450,
   "id": "91ea48bf-1e08-41b3-a1d7-38270d3de02c",
   "metadata": {},
   "outputs": [
    {
     "data": {
      "text/plain": [
       "<function set.intersection>"
      ]
     },
     "execution_count": 450,
     "metadata": {},
     "output_type": "execute_result"
    }
   ],
   "source": [
    "s1.intersection"
   ]
  },
  {
   "cell_type": "markdown",
   "id": "77cb8284-7b73-40ae-8ff8-ec5a1ee14dd2",
   "metadata": {},
   "source": [
    "### 컴프리헨션\n",
    "    -값이 순차적인 리스트를 한 줄로 만드는 간단한 방법\n",
    "    -1부터 5까지 저장된 리스트"
   ]
  },
  {
   "cell_type": "code",
   "execution_count": 456,
   "id": "946357de-078a-46a1-9d6d-cebf2e00441e",
   "metadata": {},
   "outputs": [
    {
     "data": {
      "text/plain": [
       "[2, 4, 6, 8, 10]"
      ]
     },
     "execution_count": 456,
     "metadata": {},
     "output_type": "execute_result"
    }
   ],
   "source": [
    "[num*2 for num in range(1,6)]\n"
   ]
  },
  {
   "cell_type": "code",
   "execution_count": 457,
   "id": "028a882d-8b82-44dc-8bd7-533cb6e183e4",
   "metadata": {},
   "outputs": [
    {
     "data": {
      "text/plain": [
       "[2, 4, 6, 8, 10]"
      ]
     },
     "execution_count": 457,
     "metadata": {},
     "output_type": "execute_result"
    }
   ],
   "source": [
    "numlist = [num*2 for num in range(1,6)]\n",
    "numlist"
   ]
  },
  {
   "cell_type": "code",
   "execution_count": 458,
   "id": "37b83fbd-0215-4658-84aa-460380466008",
   "metadata": {},
   "outputs": [
    {
     "data": {
      "text/plain": [
       "list"
      ]
     },
     "execution_count": 458,
     "metadata": {},
     "output_type": "execute_result"
    }
   ],
   "source": [
    "type(numlist)"
   ]
  },
  {
   "cell_type": "code",
   "execution_count": 461,
   "id": "bdfc3b82-0e42-4e75-b63b-9518e4fc5489",
   "metadata": {},
   "outputs": [
    {
     "data": {
      "text/plain": [
       "[3, 6, 9, 12, 15, 18]"
      ]
     },
     "execution_count": 461,
     "metadata": {},
     "output_type": "execute_result"
    }
   ],
   "source": [
    "[num for num in range(1,21) if num % 3 ==0]"
   ]
  },
  {
   "cell_type": "markdown",
   "id": "869a387f-dae7-46a1-be9b-66af5c489085",
   "metadata": {},
   "source": [
    "#### zip() 함수\n",
    "    - 동시에 여러 리스트 접근해서 묶는다"
   ]
  },
  {
   "cell_type": "code",
   "execution_count": 463,
   "id": "a4409749-9da9-4f60-871f-337c01d636c0",
   "metadata": {},
   "outputs": [],
   "source": [
    "food = ['1', '2', '3', '4', '5']\n",
    "side = [-1, -2, -3]"
   ]
  },
  {
   "cell_type": "code",
   "execution_count": 468,
   "id": "9a2df02c-242d-4550-b5a2-5b6f9056f1eb",
   "metadata": {},
   "outputs": [
    {
     "name": "stdout",
     "output_type": "stream",
     "text": [
      "1 -1\n",
      "2 -2\n",
      "3 -3\n"
     ]
    }
   ],
   "source": [
    "for f, s in zip(food,side):\n",
    "    print(f,s)"
   ]
  },
  {
   "cell_type": "code",
   "execution_count": 470,
   "id": "11bcc868-f1fa-4228-9a5c-bc685889bf26",
   "metadata": {},
   "outputs": [
    {
     "data": {
      "text/plain": [
       "<zip at 0x28bb8b30280>"
      ]
     },
     "execution_count": 470,
     "metadata": {},
     "output_type": "execute_result"
    }
   ],
   "source": [
    "zip(food,side)"
   ]
  },
  {
   "cell_type": "code",
   "execution_count": 547,
   "id": "d7e785fa-afff-4a58-aeda-e29472ea938e",
   "metadata": {},
   "outputs": [
    {
     "data": {
      "text/plain": [
       "{'떡볶이': '오뎅', '짜장면': '단무지', '라면': '김치'}"
      ]
     },
     "execution_count": 547,
     "metadata": {},
     "output_type": "execute_result"
    }
   ],
   "source": [
    "foods = ['떡볶이', '짜장면', '라면', '피자', '맥주', '치킨', '삼겹살']\n",
    "sides =  ['오뎅', '단무지','김치']\n",
    "tupList = list(zip(foods,sides))\n",
    "dic = dict(zip(foods,sides))\n",
    "tupList\n",
    "dic"
   ]
  },
  {
   "cell_type": "markdown",
   "id": "2b8726a8-9c22-4390-84a2-eaac534cf3b1",
   "metadata": {},
   "source": [
    "### 리스트의 복사\n",
    "    \n",
    "    -복사: 얕은복사 / 깊은복사\n",
    "    -copy by value\n",
    "    -copy by reference <기본방식> = 객체 라고함 <얕은복사\n",
    "    \n",
    "    newlist = oldList와 oldList가 동일한 메모리 공간공유"
   ]
  },
  {
   "cell_type": "code",
   "execution_count": 549,
   "id": "56569c9e-7deb-4cdd-81ee-4b3564c7fb5e",
   "metadata": {},
   "outputs": [],
   "source": [
    "li =[1,2,3,4]\n",
    "li2 =li"
   ]
  },
  {
   "cell_type": "code",
   "execution_count": 550,
   "id": "84dc0138-bd0b-46e2-b0d1-aba2c4a66602",
   "metadata": {},
   "outputs": [
    {
     "data": {
      "text/plain": [
       "[1, 2, 3, 4]"
      ]
     },
     "execution_count": 550,
     "metadata": {},
     "output_type": "execute_result"
    }
   ],
   "source": [
    "li"
   ]
  },
  {
   "cell_type": "code",
   "execution_count": 551,
   "id": "2b25d973-d682-4fe0-b278-ede3c973d50b",
   "metadata": {},
   "outputs": [
    {
     "data": {
      "text/plain": [
       "[1, 2, 3, 4]"
      ]
     },
     "execution_count": 551,
     "metadata": {},
     "output_type": "execute_result"
    }
   ],
   "source": [
    "li2"
   ]
  },
  {
   "cell_type": "code",
   "execution_count": 554,
   "id": "37f8dd27-83db-4cf9-8ca0-a9de1274bf41",
   "metadata": {},
   "outputs": [
    {
     "data": {
      "text/plain": [
       "2799122493376"
      ]
     },
     "execution_count": 554,
     "metadata": {},
     "output_type": "execute_result"
    }
   ],
   "source": [
    "id(li)"
   ]
  },
  {
   "cell_type": "code",
   "execution_count": 556,
   "id": "5b386b3a-839f-4aea-9614-0b8e3433a41c",
   "metadata": {},
   "outputs": [
    {
     "data": {
      "text/plain": [
       "2799122493376"
      ]
     },
     "execution_count": 556,
     "metadata": {},
     "output_type": "execute_result"
    }
   ],
   "source": [
    "id(li2)"
   ]
  },
  {
   "cell_type": "code",
   "execution_count": 571,
   "id": "73dda604-664d-44f9-9ffb-ada3df04b78c",
   "metadata": {},
   "outputs": [
    {
     "name": "stdout",
     "output_type": "stream",
     "text": [
      "['짜장면', '탕수육', '군만두']\n",
      "['짬뽕', '탕수육', '군만두', '깐풍기']\n"
     ]
    }
   ],
   "source": [
    "oldList = ['짜장면','탕수육','군만두']\n",
    "newList = oldList\n",
    "print(newList)\n",
    "\n",
    "oldList[0] ='짬뽕'\n",
    "oldList.append('깐풍기')\n",
    "print(newList)"
   ]
  },
  {
   "cell_type": "code",
   "execution_count": 574,
   "id": "4acf65fc-50e0-4d56-a237-a9a7d125ac2c",
   "metadata": {},
   "outputs": [
    {
     "name": "stdout",
     "output_type": "stream",
     "text": [
      "['짜장면', '탕수육', '군만두']\n",
      "['짜장면', '탕수육', '군만두']\n"
     ]
    }
   ],
   "source": [
    "oldList = ['짜장면','탕수육','군만두']\n",
    "newList = oldList[:]\n",
    "print(newList)\n",
    "\n",
    "oldList[0]='짬뽕'\n",
    "oldList.append('깐풍기')\n",
    "print(newList)"
   ]
  },
  {
   "cell_type": "code",
   "execution_count": null,
   "id": "bd2cc029-2502-4389-a771-166b3370fb11",
   "metadata": {},
   "outputs": [],
   "source": []
  }
 ],
 "metadata": {
  "kernelspec": {
   "display_name": "Python 3 (ipykernel)",
   "language": "python",
   "name": "python3"
  },
  "language_info": {
   "codemirror_mode": {
    "name": "ipython",
    "version": 3
   },
   "file_extension": ".py",
   "mimetype": "text/x-python",
   "name": "python",
   "nbconvert_exporter": "python",
   "pygments_lexer": "ipython3",
   "version": "3.9.7"
  }
 },
 "nbformat": 4,
 "nbformat_minor": 5
}
