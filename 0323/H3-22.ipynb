{
 "cells": [
  {
   "cell_type": "code",
   "execution_count": 1,
   "id": "63908221-e870-4675-b91a-46dbfe7edc9d",
   "metadata": {},
   "outputs": [],
   "source": [
    "#3장 연습문제 1번~14번 p89~p91\n",
    "\n",
    "#쥬피터 노트북으로 코드 연습 실행"
   ]
  },
  {
   "cell_type": "code",
   "execution_count": 4,
   "id": "c9e3f9a0-71ed-47b0-a847-1add9bc35f00",
   "metadata": {},
   "outputs": [
    {
     "name": "stdout",
     "output_type": "stream",
     "text": [
      "100\n",
      "100\n",
      "100\n",
      "50+50\n"
     ]
    }
   ],
   "source": [
    "# 문제1\n",
    "print(\"100\")\n",
    "print(100)\n",
    "print(50+50)\n",
    "print(\"50+50\")\n",
    "\n",
    "#정답 4번"
   ]
  },
  {
   "cell_type": "code",
   "execution_count": 6,
   "id": "6394d410-059d-464a-a85d-4b717febc577",
   "metadata": {},
   "outputs": [
    {
     "name": "stdout",
     "output_type": "stream",
     "text": [
      "5/10=0\n"
     ]
    }
   ],
   "source": [
    "#문제2\n",
    "print('%d/%d=%d'%(5,10,5/10))"
   ]
  },
  {
   "cell_type": "code",
   "execution_count": 25,
   "id": "45c26c26-8981-4e9c-a0ba-b894e88cadce",
   "metadata": {},
   "outputs": [
    {
     "name": "stdout",
     "output_type": "stream",
     "text": [
      "0876\n",
      "CockBook\n",
      "123.5\n"
     ]
    }
   ],
   "source": [
    "#문제3\n",
    "print(\"%04d\" %876)\n",
    "print(\"%5s\" %\"CockBook\")\n",
    "print(\"%1.1f\" %123.45)"
   ]
  },
  {
   "cell_type": "code",
   "execution_count": 34,
   "id": "fef4b0ce-99e5-40f1-a537-0d728116deba",
   "metadata": {},
   "outputs": [
    {
     "name": "stdout",
     "output_type": "stream",
     "text": [
      "333 111 222\n"
     ]
    }
   ],
   "source": [
    "#문제4\n",
    "print(\"{2:d} {0:d} {1:d}\".format(111,222,333))"
   ]
  },
  {
   "cell_type": "code",
   "execution_count": 35,
   "id": "4ac0b032-d406-41d4-aedd-a80afb219ecd",
   "metadata": {},
   "outputs": [],
   "source": [
    "#문제5\n",
    "# (1) \\t\n",
    "# (2) \\b\n",
    "# (3) \\\\"
   ]
  },
  {
   "cell_type": "code",
   "execution_count": null,
   "id": "f8b204ac-0f88-422f-b229-ad386907b569",
   "metadata": {},
   "outputs": [],
   "source": [
    "#문제6\n",
    "\n",
    "#char : 문자 << 자바에서 사용하는 데이터"
   ]
  },
  {
   "cell_type": "code",
   "execution_count": 52,
   "id": "e6f25014-351a-48a1-9f1c-3db18bf323d8",
   "metadata": {},
   "outputs": [],
   "source": [
    "#문제7\n",
    "\n",
    "#(2) 100 = num1         앞에 숫자 사용금지\n",
    "#(4) num1 = 100 = num2 = 100      중간에 숫자 넣는게 파이썬에서 금지\n",
    "\n"
   ]
  },
  {
   "cell_type": "code",
   "execution_count": 54,
   "id": "ad3d4b2c-852e-401c-a74d-698412e0824e",
   "metadata": {},
   "outputs": [],
   "source": [
    "#문제8\n",
    "# a = b =10 = c = d = 20\n",
    "# a, b는 10이고, c,d는 20이여서 오류발생 , 그리고 대입연산자는 오른쪽에서 왼쪽으로 진행됨"
   ]
  },
  {
   "cell_type": "code",
   "execution_count": 57,
   "id": "e8711573-04bc-41ba-9948-f64dd7c3490f",
   "metadata": {},
   "outputs": [],
   "source": [
    "#문제9\n",
    "# (2) : 0011은 3\n",
    "# (4) : 1001은 9 , C는 12\n",
    "# (5) : 1111은 15 , F는 10"
   ]
  },
  {
   "cell_type": "code",
   "execution_count": 58,
   "id": "340d8527-94c3-4d78-a7ff-93b8b2289aa1",
   "metadata": {},
   "outputs": [],
   "source": [
    "#문제10\n",
    "# (1) 2진수 0011 : int(0b0011) =3\n",
    "# (2) 2진수 01010 : int(0b01010) =10\n",
    "# (3) 16진수 11 : int(0x11) = 17\n",
    "# (4) 8진수 17 : int(0o17) = 15"
   ]
  },
  {
   "cell_type": "code",
   "execution_count": 67,
   "id": "c5c6016a-dcfe-4da0-bb8e-d7884fe89d70",
   "metadata": {},
   "outputs": [],
   "source": [
    "#문제11\n",
    "# (1) 1011(2진수) : int(0b1011) =11\n",
    "# (2) 1A(16진수) : int(0x1A) = 26"
   ]
  },
  {
   "cell_type": "code",
   "execution_count": null,
   "id": "3e0947f4-19cd-4ffb-b6b9-d24991f5546c",
   "metadata": {},
   "outputs": [],
   "source": [
    "#문제12\n",
    "# (1) hex\n",
    "# (2) Oct\n",
    "# (3) bin"
   ]
  },
  {
   "cell_type": "code",
   "execution_count": 78,
   "id": "14fe0f26-5504-4e44-a33a-5b0f7bb0f1f5",
   "metadata": {},
   "outputs": [],
   "source": [
    "#문제13\n",
    "# (1) int('1002',2)= 2진수에서 0과1만 올수 있기때문에 2가 올 수 없음\n",
    "# (2) int('1008',8)= 8진수에서 8은 10이기때문에 8이 올수가 없음\n",
    "# (3) int('AAFG',16) = 16진수 4자리수는 출력이 안되긴때문"
   ]
  },
  {
   "cell_type": "code",
   "execution_count": 80,
   "id": "bea47e9e-e2ce-4da3-9dae-a5b8395c1e01",
   "metadata": {},
   "outputs": [],
   "source": [
    "#문제14\n",
    "# (1) <class 'int'> 표현 = a=123 ; type(a)\n",
    "# (2) 파이썬에서 int는 크기의 제한이없음\n",
    "# (3) 불형은 True, False만 있음\n",
    "# (4) 실수형은 당연히 소수점이 있음\n",
    "# (5) 파이썬에서는 둘다쓸수 있음\n",
    "\n",
    "#정답: 3 , 5 "
   ]
  },
  {
   "cell_type": "code",
   "execution_count": null,
   "id": "ee734444-7e62-431f-858e-db5a3e581a5e",
   "metadata": {},
   "outputs": [],
   "source": [
    "#문제 15\n",
    "num=12345678\n",
    "hex_num= 0xbc614e\n",
    "oct_num=0o57060516\n",
    "bin_num=0b101111000110000101001110\n",
    "\n",
    "print(\"10진수==> \", num)\n",
    "print(\"16진수==> \", hex_num)\n",
    "print(\"8진수==> \", oct_num)\n",
    "print(\"2진수==> \", bin_num)"
   ]
  },
  {
   "cell_type": "code",
   "execution_count": 232,
   "id": "7175ae0f-5a42-48e7-8067-70351d0c5212",
   "metadata": {},
   "outputs": [
    {
     "name": "stdin",
     "output_type": "stream",
     "text": [
      "글자 입력 : 8\n"
     ]
    },
    {
     "name": "stdout",
     "output_type": "stream",
     "text": [
      "2진수 또는 8진수 또는 10진수 또는 16진수입니다.\n"
     ]
    }
   ],
   "source": [
    "#문제 16\n",
    "jinsu , j2 , j8 ,j10, j16 = 0, 0, 0 , 0,0;\n",
    "\n",
    "jinsu = int(input(\"글자 입력 :\"))\n",
    "if jinsu > 0 :\n",
    "    print(\"2진수 또는 8진수 또는 10진수 또는 16진수입니다.\")"
   ]
  },
  {
   "cell_type": "markdown",
   "id": "c92b6b1f-ab7e-452e-8625-b8047e5dc2a5",
   "metadata": {},
   "source": [
    "# 4장 p116~p118"
   ]
  },
  {
   "cell_type": "code",
   "execution_count": 121,
   "id": "1c63b398-ceea-4f0d-95d2-1a633bddd16c",
   "metadata": {},
   "outputs": [],
   "source": [
    "# 문제1\n",
    "#(1) = , ==\n",
    "#(2) //\n",
    "#(3) %\n",
    "#(4) **"
   ]
  },
  {
   "cell_type": "code",
   "execution_count": 122,
   "id": "32f5beb1-4ad7-4b70-8977-81f9534dff8a",
   "metadata": {},
   "outputs": [],
   "source": [
    "# 문제2\n",
    "# (1) 7\n",
    "# (2) 5\n",
    "# (3) -5\n",
    "# (4) -1"
   ]
  },
  {
   "cell_type": "code",
   "execution_count": 131,
   "id": "56b115f7-cb1a-4885-8477-966f87e5ef37",
   "metadata": {},
   "outputs": [],
   "source": [
    "# 문제3\n",
    "# (1) int\n",
    "# (2) flaot\n",
    "# (3) str"
   ]
  },
  {
   "cell_type": "code",
   "execution_count": 133,
   "id": "061c31bc-7b36-47e5-a2c9-6246c2071097",
   "metadata": {},
   "outputs": [
    {
     "name": "stdout",
     "output_type": "stream",
     "text": [
      "100\n"
     ]
    }
   ],
   "source": [
    "# 문제4\n",
    "num = 100\n",
    "num+=1\n",
    "num-=1\n",
    "num*=1\n",
    "num/=1\n",
    "num=int(num)\n",
    "print(num)\n",
    "#정답 100"
   ]
  },
  {
   "cell_type": "code",
   "execution_count": 137,
   "id": "1ac680d1-2ead-4687-b329-f4caaaa6cf7d",
   "metadata": {},
   "outputs": [],
   "source": [
    "# 문제6\n",
    "# (1) false \n",
    "# (2) false\n",
    "# (3) True\n",
    "# (4) True\n",
    "\n",
    "# a=(num1==num2) and (num1!=num2)\n",
    "# b=(num1==num2) or (num1!=num2)\n",
    "# c=(num1>=num2) and (num1<=num2)\n",
    "# d=(num1>=num2) or (num1<=num2)"
   ]
  },
  {
   "cell_type": "code",
   "execution_count": 168,
   "id": "c572df32-f13f-4782-a8b0-2c95b0386b49",
   "metadata": {},
   "outputs": [],
   "source": [
    "# 문제7\n",
    "num1,num2=6,1  \n",
    "\n",
    "# (1)num1 & num2 = 0\n",
    "# (2)num1 | num2 = 7\n",
    "# (3)num1 >> num2 = 3\n",
    "# (4)num1 << num = 7605903601369376408980219232256"
   ]
  },
  {
   "cell_type": "code",
   "execution_count": 169,
   "id": "714642bf-1540-4435-b80f-f1a4a04b2769",
   "metadata": {},
   "outputs": [],
   "source": [
    "# 문제8\n",
    "# () , + , << , &, ==, and"
   ]
  },
  {
   "cell_type": "code",
   "execution_count": 178,
   "id": "2ce239d3-4cdb-4c81-8efd-d8ca89f01833",
   "metadata": {},
   "outputs": [
    {
     "name": "stdin",
     "output_type": "stream",
     "text": [
      "교환할 돈은 얼마 ?  5270\n"
     ]
    },
    {
     "name": "stdout",
     "output_type": "stream",
     "text": [
      "\n",
      " 500원짜리 ==> 10개\n",
      " 100원짜리 ==> 2개\n",
      " 50원짜리 ==> 1개\n",
      " 10원짜리 ==> 2개\n",
      " 바꾸지 못한 잔돈 ==> 0원 \n",
      "\n"
     ]
    }
   ],
   "source": [
    "# 문제9\n",
    "## 변수 선언 부분##\n",
    "money , c500 , c100, c50, c10 = 0, 0, 0, 0, 0\n",
    "\n",
    "## 메인 코드 부분 ##\n",
    "money = int(input(\"교환할 돈은 얼마 ? \"))\n",
    "\n",
    "c500 = money // 500\n",
    "money %=500\n",
    "\n",
    "c100 = money // 100\n",
    "money %=100\n",
    "\n",
    "c50 = money // 50\n",
    "money %=50\n",
    "\n",
    "c10 = money // 10\n",
    "money %=10\n",
    "\n",
    "print(\"\\n 500원짜리 ==> %d개\" % c500)\n",
    "print(\" 100원짜리 ==> %d개\" % c100)\n",
    "print(\" 50원짜리 ==> %d개\" % c50)\n",
    "print(\" 10원짜리 ==> %d개\" % c10)\n",
    "print(\" 바꾸지 못한 잔돈 ==> %d원 \\n\" % money)"
   ]
  },
  {
   "cell_type": "code",
   "execution_count": 239,
   "id": "feaceabf-9b5d-4fec-9cd8-b90174e37a6a",
   "metadata": {},
   "outputs": [
    {
     "name": "stdin",
     "output_type": "stream",
     "text": [
      "500원짜리 개수 ==>  7\n",
      "100원짜리 개수 ==>  13\n",
      "50원짜리 개수 ==>  9\n",
      "10원짜리 개수 ==>  2\n"
     ]
    },
    {
     "name": "stdout",
     "output_type": "stream",
     "text": [
      "## 동전의 합계 ==> 5270원\n"
     ]
    }
   ],
   "source": [
    "n1= int(input(\"500원짜리 개수 ==> \"))\n",
    "n2= int(input(\"100원짜리 개수 ==> \"))\n",
    "n3= int(input(\"50원짜리 개수 ==> \"))\n",
    "n4= int(input(\"10원짜리 개수 ==> \"))\n",
    "print(\"## 동전의 합계 ==> %d원\" %(n1*500+n2*100+n3*50+n4*10))"
   ]
  },
  {
   "cell_type": "markdown",
   "id": "421aaa71-7a9d-4ca5-86a5-e2af4088915c",
   "metadata": {},
   "source": [
    "# 5장 p140~p141"
   ]
  },
  {
   "cell_type": "code",
   "execution_count": 215,
   "id": "0485d2f2-1a67-4344-9088-965080d0f39a",
   "metadata": {},
   "outputs": [
    {
     "name": "stdout",
     "output_type": "stream",
     "text": [
      "100\n"
     ]
    }
   ],
   "source": [
    "#문제1\n",
    "bum = 100\n",
    "if bum == 100 :\n",
    "    print(bum)\n",
    "#정답:4번"
   ]
  },
  {
   "cell_type": "code",
   "execution_count": 218,
   "id": "6fbf2486-f23e-4c95-9e8e-04b79f91c34e",
   "metadata": {},
   "outputs": [
    {
     "name": "stdout",
     "output_type": "stream",
     "text": [
      "케이스2케이스3"
     ]
    }
   ],
   "source": [
    "#문제2\n",
    "num =0\n",
    "if num > 0 :\n",
    "    print(\"케이스1\",end='')\n",
    "else :\n",
    "    print(\"케이스2\",end='')\n",
    "print(\"케이스3\",end='')\n",
    "\n",
    "#0이 0보다 크지않기 때문에 케이스1이 안나옴"
   ]
  },
  {
   "cell_type": "code",
   "execution_count": 247,
   "id": "29e7bd6d-12b4-42cc-a003-ebd36ad72c39",
   "metadata": {},
   "outputs": [
    {
     "name": "stdin",
     "output_type": "stream",
     "text": [
      "정수를 입력하세요 :  87\n"
     ]
    },
    {
     "name": "stdout",
     "output_type": "stream",
     "text": [
      "5의 배수가 아닙니다.\n"
     ]
    }
   ],
   "source": [
    "#문제3\n",
    "a= int(input(\"정수를 입력하세요 : \"))\n",
    "\n",
    "if a % 5 !=0 :\n",
    "    print(\"5의 배수가 아닙니다.\")\n",
    "else :\n",
    "    print(\"5의 배수입니다.\")"
   ]
  },
  {
   "cell_type": "code",
   "execution_count": 248,
   "id": "28b88745-63b2-40f2-84d0-1e9dd5d0d398",
   "metadata": {},
   "outputs": [
    {
     "name": "stdin",
     "output_type": "stream",
     "text": [
      "점수를 입력하세요 :  54\n"
     ]
    },
    {
     "name": "stdout",
     "output_type": "stream",
     "text": [
      "불합격입니다 ^^\n"
     ]
    }
   ],
   "source": [
    "#문제4\n",
    "score = int(input(\"점수를 입력하세요 : \"))\n",
    "if score>=90 :\n",
    "    print(\"장학생\",end='')\n",
    "elif score >=60 :\n",
    "    print(\"합격\", end='')\n",
    "else :\n",
    "    print(\"불합격\", end='')\n",
    "print(\"입니다 ^^\")"
   ]
  },
  {
   "cell_type": "code",
   "execution_count": 220,
   "id": "0e870e8b-675a-493e-82e3-d976c0d71deb",
   "metadata": {},
   "outputs": [
    {
     "name": "stdout",
     "output_type": "stream",
     "text": [
      "홀수\n"
     ]
    }
   ],
   "source": [
    "#문제5\n",
    "num = 5\n",
    "if num%2==0 :\n",
    "    res = '짝수'\n",
    "else :\n",
    "    res = '홀수'\n",
    "print(res)\n",
    "\n",
    "# 정답:3번\n",
    "#res = '짝수' if num%2==0 else '홀수'"
   ]
  },
  {
   "cell_type": "code",
   "execution_count": 10,
   "id": "bdf063bb-94b4-4789-9306-474102016fef",
   "metadata": {},
   "outputs": [
    {
     "name": "stdout",
     "output_type": "stream",
     "text": [
      "생성된 리스트 [17, 18, 11, 12, 15, 15, 3, 7, 1, 11, 0, 8, 2, 12, 11, 12, 9, 0, 13, 16, 11]\n",
      "숫자 %d는(은) 뽑혔습니다.\n",
      "숫자 %d는(은) 뽑혔습니다.\n",
      "숫자 %d는(은) 뽑혔습니다.\n",
      "숫자 %d는(은) 뽑혔습니다.\n",
      "숫자 %d는(은) 뽑혔습니다.\n",
      "숫자 %d는(은) 뽑혔습니다.\n",
      "숫자 %d는(은) 뽑혔습니다.\n"
     ]
    }
   ],
   "source": [
    "#문제6\n",
    "import random\n",
    "\n",
    "numbers=[]\n",
    "for num in range(0,21) :\n",
    "    numbers.append(random.randrange(0,21))\n",
    "\n",
    "print(\"생성된 리스트\", numbers)\n",
    "\n",
    "for num in range(0,21) :\n",
    "    if num not in numbers :\n",
    "        print(\"숫자 %d는(은) 뽑혔습니다.\")"
   ]
  },
  {
   "cell_type": "code",
   "execution_count": 17,
   "id": "cb4d28d2-c8a3-4b02-8020-e291da5ca88b",
   "metadata": {},
   "outputs": [
    {
     "data": {
      "text/plain": [
       "5.0"
      ]
     },
     "execution_count": 17,
     "metadata": {},
     "output_type": "execute_result"
    }
   ],
   "source": [
    "a=50\n",
    "a/10"
   ]
  }
 ],
 "metadata": {
  "kernelspec": {
   "display_name": "Python 3 (ipykernel)",
   "language": "python",
   "name": "python3"
  },
  "language_info": {
   "codemirror_mode": {
    "name": "ipython",
    "version": 3
   },
   "file_extension": ".py",
   "mimetype": "text/x-python",
   "name": "python",
   "nbconvert_exporter": "python",
   "pygments_lexer": "ipython3",
   "version": "3.9.7"
  }
 },
 "nbformat": 4,
 "nbformat_minor": 5
}
