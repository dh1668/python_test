{
 "cells": [
  {
   "cell_type": "code",
   "execution_count": 24,
   "id": "f20e0abc-28e9-47cd-9c8b-7bd9ff35a330",
   "metadata": {},
   "outputs": [
    {
     "name": "stdout",
     "output_type": "stream",
     "text": [
      "1 안녕하세요\n",
      "2 안녕하세요\n",
      "3 안녕하세요\n",
      "4 안녕하세요\n",
      "5 안녕하세요\n",
      "6 안녕하세요\n",
      "7 안녕하세요\n",
      "8 안녕하세요\n"
     ]
    }
   ],
   "source": [
    "for i in range(1,9) :\n",
    "    print (\"%d 안녕하세요\" %i)"
   ]
  },
  {
   "cell_type": "code",
   "execution_count": 38,
   "id": "db994bef-4262-4221-b18b-b3d20c8953e9",
   "metadata": {},
   "outputs": [
    {
     "name": "stdout",
     "output_type": "stream",
     "text": [
      "안녕하세요. 1\n",
      "안녕하세요. 2\n",
      "안녕하세요. 3\n",
      "안녕하세요. 4\n",
      "안녕하세요. 5\n",
      "안녕하세요. 6\n",
      "안녕하세요. 7\n",
      "안녕하세요. 8\n"
     ]
    }
   ],
   "source": [
    "j =0\n",
    "for i in range(1,9) :\n",
    "    print(\"안녕하세요. {}\".format( i))"
   ]
  },
  {
   "cell_type": "code",
   "execution_count": 48,
   "id": "dfb3a65b-0850-4ea6-9cec-41e09b0a0169",
   "metadata": {},
   "outputs": [
    {
     "name": "stdout",
     "output_type": "stream",
     "text": [
      "안녕하세요 1 1\n",
      "안녕하세요 2 2\n",
      "안녕하세요 3 3\n",
      "안녕하세요 4 4\n",
      "안녕하세요 5 5\n",
      "안녕하세요 6 6\n",
      "안녕하세요 7 7\n",
      "안녕하세요 8 8\n"
     ]
    }
   ],
   "source": [
    "for i in range(1,9) :\n",
    "    print(f\"안녕하세요 {i} {i}\")"
   ]
  },
  {
   "cell_type": "code",
   "execution_count": 60,
   "id": "276c2425-0ad6-4be0-a6e1-6c6c85b7497c",
   "metadata": {},
   "outputs": [
    {
     "name": "stdout",
     "output_type": "stream",
     "text": [
      "하이요  1\n",
      "하이요  0\n",
      "하이요  -1\n",
      "하이요  -2\n",
      "하이요  -3\n",
      "하이요  -4\n"
     ]
    }
   ],
   "source": [
    "for i in range(1, -5 ,-1) :\n",
    "    print(\"하이요 \",i)"
   ]
  },
  {
   "cell_type": "code",
   "execution_count": 75,
   "id": "371590a5-d696-4795-9227-d6e63f95efab",
   "metadata": {},
   "outputs": [
    {
     "name": "stdout",
     "output_type": "stream",
     "text": [
      "1에서 10까지의 합계 : 15\n"
     ]
    }
   ],
   "source": [
    "#1에서 10까지의 합계 \n",
    "i = 0\n",
    "hap =0\n",
    "for i in range(1,6) :\n",
    "    hap = hap + i\n",
    "print(\"1에서 10까지의 합계 : %d\" %hap)"
   ]
  },
  {
   "cell_type": "code",
   "execution_count": 87,
   "id": "c7ecc869-879b-48d4-9226-9155331d897d",
   "metadata": {},
   "outputs": [
    {
     "name": "stdin",
     "output_type": "stream",
     "text": [
      "값을 입력해보세요 :  100\n"
     ]
    },
    {
     "name": "stdout",
     "output_type": "stream",
     "text": [
      "1에서 100까지의 합계 : 5050\n"
     ]
    }
   ],
   "source": [
    "i,hap =0,0\n",
    "num = 0\n",
    "\n",
    "num = int(input(\"값을 입력해보세요 : \"))\n",
    "\n",
    "for i in range(1,num+1, 1) :\n",
    "    hap = hap + i\n",
    "    \n",
    "print(\"1에서 %d까지의 합계 : %d\" %(num,hap) )"
   ]
  },
  {
   "cell_type": "code",
   "execution_count": 96,
   "id": "e9be22ea-144e-4a93-b1ec-36ebbef95fed",
   "metadata": {},
   "outputs": [
    {
     "name": "stdin",
     "output_type": "stream",
     "text": [
      "시작값을 입력하세요 :  5\n",
      "끝값을 입력하세요 :  50\n",
      "증가값을 입력하세요 :  1\n"
     ]
    },
    {
     "ename": "ValueError",
     "evalue": "unsupported format character '?' (0xc529) at index 11",
     "output_type": "error",
     "traceback": [
      "\u001b[1;31m---------------------------------------------------------------------------\u001b[0m",
      "\u001b[1;31mValueError\u001b[0m                                Traceback (most recent call last)",
      "\u001b[1;32m~\\AppData\\Local\\Temp/ipykernel_956/2005194155.py\u001b[0m in \u001b[0;36m<module>\u001b[1;34m\u001b[0m\n\u001b[0;32m      8\u001b[0m \u001b[1;32mfor\u001b[0m \u001b[0mi\u001b[0m \u001b[1;32min\u001b[0m \u001b[0mrange\u001b[0m\u001b[1;33m(\u001b[0m\u001b[0mnum1\u001b[0m\u001b[1;33m,\u001b[0m \u001b[0mnum2\u001b[0m\u001b[1;33m+\u001b[0m\u001b[1;36m1\u001b[0m\u001b[1;33m,\u001b[0m \u001b[0mnum3\u001b[0m\u001b[1;33m)\u001b[0m \u001b[1;33m:\u001b[0m\u001b[1;33m\u001b[0m\u001b[1;33m\u001b[0m\u001b[0m\n\u001b[0;32m      9\u001b[0m     \u001b[0mhap\u001b[0m \u001b[1;33m+=\u001b[0m \u001b[0mi\u001b[0m\u001b[1;33m\u001b[0m\u001b[1;33m\u001b[0m\u001b[0m\n\u001b[1;32m---> 10\u001b[1;33m     \u001b[0mprint\u001b[0m\u001b[1;33m(\u001b[0m\u001b[1;34m\"%d에서 %d까지 %씩 증가시킨 값의 합계 : %d\"\u001b[0m \u001b[1;33m%\u001b[0m\u001b[1;33m(\u001b[0m\u001b[0mnum1\u001b[0m\u001b[1;33m,\u001b[0m\u001b[0mnum2\u001b[0m\u001b[1;33m,\u001b[0m\u001b[0mnum3\u001b[0m\u001b[1;33m,\u001b[0m\u001b[0mhap\u001b[0m\u001b[1;33m)\u001b[0m\u001b[1;33m)\u001b[0m\u001b[1;33m\u001b[0m\u001b[1;33m\u001b[0m\u001b[0m\n\u001b[0m",
      "\u001b[1;31mValueError\u001b[0m: unsupported format character '?' (0xc529) at index 11"
     ]
    }
   ],
   "source": [
    "i ,hap = 0,0\n",
    "num1,num2,num3 = 0,0,0\n",
    "\n",
    "num1=int(input(\"시작값을 입력하세요 : \"))\n",
    "num2=int(input(\"끝값을 입력하세요 : \"))\n",
    "num3=int(input(\"증가값을 입력하세요 : \"))\n",
    "\n",
    "for i in range(num1, num2+1, num3) :\n",
    "    hap += i\n",
    "    print(\"%d에서 %d까지 %씩 증가시킨 값의 합계 : %d\" %(num1,num2,num3,hap))"
   ]
  },
  {
   "cell_type": "code",
   "execution_count": 110,
   "id": "19af24b8-4643-412d-b483-498406209200",
   "metadata": {},
   "outputs": [
    {
     "name": "stdout",
     "output_type": "stream",
     "text": [
      "1에서 10까지의 합계 : 55\n"
     ]
    }
   ],
   "source": [
    "i, hap = 0,0\n",
    "\n",
    "i =1\n",
    "while i < 11 :      #<< 10까지의 합계를 위해서 11로 지정한거임\n",
    "    hap += i\n",
    "    i= i + 1 \n",
    "\n",
    "print(\"1에서 10까지의 합계 : %d\" % hap)"
   ]
  },
  {
   "cell_type": "code",
   "execution_count": null,
   "id": "f23a3930-1b14-4b9a-b94d-cc931d027ee1",
   "metadata": {},
   "outputs": [],
   "source": []
  }
 ],
 "metadata": {
  "kernelspec": {
   "display_name": "Python 3 (ipykernel)",
   "language": "python",
   "name": "python3"
  },
  "language_info": {
   "codemirror_mode": {
    "name": "ipython",
    "version": 3
   },
   "file_extension": ".py",
   "mimetype": "text/x-python",
   "name": "python",
   "nbconvert_exporter": "python",
   "pygments_lexer": "ipython3",
   "version": "3.9.7"
  }
 },
 "nbformat": 4,
 "nbformat_minor": 5
}
