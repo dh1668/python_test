{
 "cells": [
  {
   "cell_type": "markdown",
   "id": "dbff03bb-8c44-485f-8c1c-aac09bbde4c7",
   "metadata": {},
   "source": [
    "p.155"
   ]
  },
  {
   "cell_type": "code",
   "execution_count": 4,
   "id": "a85b1b6c-b01f-4198-9a0a-57695dfd103f",
   "metadata": {},
   "outputs": [
    {
     "name": "stdin",
     "output_type": "stream",
     "text": [
      "값을 입력해보세요 :  100\n"
     ]
    },
    {
     "name": "stdout",
     "output_type": "stream",
     "text": [
      "1에서 100까지의 합계 : 100\n"
     ]
    }
   ],
   "source": [
    "i ,hap = 0,0\n",
    "num=0\n",
    "\n",
    "num = int (input(\"값을 입력하세요 : \"))\n",
    "\n",
    "for i in range(1, num+1 ,1) :\n",
    "    hap = hap + i\n",
    "    \n",
    "print(\"1에서 %d까지의 합계 : %d\" %(num,hap))"
   ]
  },
  {
   "cell_type": "code",
   "execution_count": 9,
   "id": "afa747c9-7fc4-4c34-b472-b9d6d37ac0af",
   "metadata": {},
   "outputs": [
    {
     "name": "stdin",
     "output_type": "stream",
     "text": [
      "시작값을 입력하세요 :  10\n",
      "끝값을 입력하세요 :  50\n",
      "증가값을 입력하세요 :  2\n"
     ]
    },
    {
     "name": "stdout",
     "output_type": "stream",
     "text": [
      "10에서 50까지 2씩 증가시킨 값의 합계 : 630\n"
     ]
    }
   ],
   "source": [
    "i , hap = 0 , 0\n",
    "num1,num2,num3 = 0,0,0\n",
    "\n",
    "num1=int(input(\"시작값을 입력하세요 : \"))\n",
    "num2=int(input(\"끝값을 입력하세요 : \"))\n",
    "num3=int(input(\"증가값을 입력하세요 : \"))\n",
    "\n",
    "for i in range(num1, num2+1,num3) :\n",
    "    hap = hap + i\n",
    "print(\"%d에서 %d까지 %d씩 증가시킨 값의 합계 : %d\" %(num1,num2,num3,hap))"
   ]
  },
  {
   "cell_type": "markdown",
   "id": "597b5c88-321b-4e4c-bf00-5e7b37445aa3",
   "metadata": {},
   "source": [
    "## 중첩 for"
   ]
  },
  {
   "cell_type": "code",
   "execution_count": 7,
   "id": "eca6a81c-9651-4a72-90f1-2015dc5605c4",
   "metadata": {},
   "outputs": [
    {
     "name": "stdout",
     "output_type": "stream",
     "text": [
      "안녕하세요 :  9 1\n",
      "안녕하세요 :  10 1\n",
      "안녕하세요 :  11 1\n",
      "안녕하세요 :  12 1\n",
      "안녕하세요 :  13 1\n",
      "안녕하세요 :  14 1\n",
      "안녕하세요 :  15 1\n",
      "안녕하세요 :  9 2\n",
      "안녕하세요 :  10 2\n",
      "안녕하세요 :  11 2\n",
      "안녕하세요 :  12 2\n",
      "안녕하세요 :  13 2\n",
      "안녕하세요 :  14 2\n",
      "안녕하세요 :  15 2\n",
      "안녕하세요 :  9 3\n",
      "안녕하세요 :  10 3\n",
      "안녕하세요 :  11 3\n",
      "안녕하세요 :  12 3\n",
      "안녕하세요 :  13 3\n",
      "안녕하세요 :  14 3\n",
      "안녕하세요 :  15 3\n",
      "안녕하세요 :  9 4\n",
      "안녕하세요 :  10 4\n",
      "안녕하세요 :  11 4\n",
      "안녕하세요 :  12 4\n",
      "안녕하세요 :  13 4\n",
      "안녕하세요 :  14 4\n",
      "안녕하세요 :  15 4\n"
     ]
    }
   ],
   "source": [
    "for i in range(1, 5, 1 ) :\n",
    "    for j in range(9, 16 ,1) :\n",
    "        print(\"안녕하세요 : \",j, i)\n",
    "\n",
    "# i 는 총 몇번할지 횟수\n",
    "# j는 9~ 15까지 반복"
   ]
  },
  {
   "cell_type": "code",
   "execution_count": 11,
   "id": "02b1ce24-1613-436a-a6c8-99b569399450",
   "metadata": {},
   "outputs": [
    {
     "name": "stdout",
     "output_type": "stream",
     "text": [
      "2*1= 2\n",
      "2*2= 4\n",
      "2*3= 6\n",
      "2*4= 8\n",
      "2*5=10\n",
      "2*6=12\n",
      "2*7=14\n",
      "2*8=16\n",
      "2*9=18\n",
      "\n",
      "3*1= 3\n",
      "3*2= 6\n",
      "3*3= 9\n",
      "3*4=12\n",
      "3*5=15\n",
      "3*6=18\n",
      "3*7=21\n",
      "3*8=24\n",
      "3*9=27\n",
      "\n",
      "4*1= 4\n",
      "4*2= 8\n",
      "4*3=12\n",
      "4*4=16\n",
      "4*5=20\n",
      "4*6=24\n",
      "4*7=28\n",
      "4*8=32\n",
      "4*9=36\n",
      "\n",
      "5*1= 5\n",
      "5*2=10\n",
      "5*3=15\n",
      "5*4=20\n",
      "5*5=25\n",
      "5*6=30\n",
      "5*7=35\n",
      "5*8=40\n",
      "5*9=45\n",
      "\n",
      "6*1= 6\n",
      "6*2=12\n",
      "6*3=18\n",
      "6*4=24\n",
      "6*5=30\n",
      "6*6=36\n",
      "6*7=42\n",
      "6*8=48\n",
      "6*9=54\n",
      "\n",
      "7*1= 7\n",
      "7*2=14\n",
      "7*3=21\n",
      "7*4=28\n",
      "7*5=35\n",
      "7*6=42\n",
      "7*7=49\n",
      "7*8=56\n",
      "7*9=63\n",
      "\n",
      "8*1= 8\n",
      "8*2=16\n",
      "8*3=24\n",
      "8*4=32\n",
      "8*5=40\n",
      "8*6=48\n",
      "8*7=56\n",
      "8*8=64\n",
      "8*9=72\n",
      "\n",
      "9*1= 9\n",
      "9*2=18\n",
      "9*3=27\n",
      "9*4=36\n",
      "9*5=45\n",
      "9*6=54\n",
      "9*7=63\n",
      "9*8=72\n",
      "9*9=81\n",
      "\n"
     ]
    }
   ],
   "source": [
    "i,k =0,0\n",
    "\n",
    "for i in range(2,10,1) :\n",
    "    for k in range(1,10,1) :\n",
    "        print(\"%d*%d=%2d\"%(i,k,i*k))\n",
    "    print(\"\")"
   ]
  },
  {
   "cell_type": "code",
   "execution_count": 35,
   "id": "44ea8091-64e2-4c36-9592-4a0aedf55008",
   "metadata": {},
   "outputs": [
    {
     "name": "stdout",
     "output_type": "stream",
     "text": [
      "# 2단 ## 3단 ## 4단 ## 5단 ## 6단 ## 7단 ## 8단 ## 9단 #\n",
      " 2X  1= 2 3X  1= 3 4X  1= 4 5X  1= 5 6X  1= 6 7X  1= 7 8X  1= 8 9X  1= 9\n",
      " 2X  2= 4 3X  2= 6 4X  2= 8 5X  2=10 6X  2=12 7X  2=14 8X  2=16 9X  2=18\n",
      " 2X  3= 6 3X  3= 9 4X  3=12 5X  3=15 6X  3=18 7X  3=21 8X  3=24 9X  3=27\n",
      " 2X  4= 8 3X  4=12 4X  4=16 5X  4=20 6X  4=24 7X  4=28 8X  4=32 9X  4=36\n",
      " 2X  5=10 3X  5=15 4X  5=20 5X  5=25 6X  5=30 7X  5=35 8X  5=40 9X  5=45\n",
      " 2X  6=12 3X  6=18 4X  6=24 5X  6=30 6X  6=36 7X  6=42 8X  6=48 9X  6=54\n",
      " 2X  7=14 3X  7=21 4X  7=28 5X  7=35 6X  7=42 7X  7=49 8X  7=56 9X  7=63\n",
      " 2X  8=16 3X  8=24 4X  8=32 5X  8=40 6X  8=48 7X  8=56 8X  8=64 9X  8=72\n",
      " 2X  9=18 3X  9=27 4X  9=36 5X  9=45 6X  9=54 7X  9=63 8X  9=72 9X  9=81\n"
     ]
    }
   ],
   "source": [
    "i, k, guguLine=0,0,\"\"\n",
    "\n",
    "for i in range(2,10) :\n",
    "    guguLine = guguLine + (\"# %d단 #\" %i)\n",
    "\n",
    "print(guguLine)\n",
    "\n",
    "for i in range(1, 10) :\n",
    "    guguLine = \"\"\n",
    "    for k in range(2,10) :\n",
    "        guguLine = guguLine + str(\"%2dX %2d=%2d\" %(k,i,k*i))\n",
    "    print(guguLine)"
   ]
  },
  {
   "cell_type": "markdown",
   "id": "2f819136-8f46-4bb6-9b39-3d59e46fa283",
   "metadata": {},
   "source": [
    "## 별 그리기 !!!\n",
    "for 반복문으로\n",
    "```\n",
    "*\n",
    "**\n",
    "***\n",
    "****\n",
    "*****\n",
    "```"
   ]
  },
  {
   "cell_type": "code",
   "execution_count": 30,
   "id": "26e88413-b305-4c13-9278-821deef527b8",
   "metadata": {},
   "outputs": [
    {
     "name": "stdout",
     "output_type": "stream",
     "text": [
      "*\n",
      "**\n",
      "***\n",
      "****\n",
      "*****\n"
     ]
    }
   ],
   "source": [
    "for i in range(1,6):\n",
    "    for j in range(1 ,i+1) :\n",
    "        print('*', end = '')\n",
    "    print('')"
   ]
  }
 ],
 "metadata": {
  "kernelspec": {
   "display_name": "Python 3 (ipykernel)",
   "language": "python",
   "name": "python3"
  },
  "language_info": {
   "codemirror_mode": {
    "name": "ipython",
    "version": 3
   },
   "file_extension": ".py",
   "mimetype": "text/x-python",
   "name": "python",
   "nbconvert_exporter": "python",
   "pygments_lexer": "ipython3",
   "version": "3.9.7"
  }
 },
 "nbformat": 4,
 "nbformat_minor": 5
}
