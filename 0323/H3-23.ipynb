{
 "cells": [
  {
   "cell_type": "code",
   "execution_count": null,
   "id": "3458d1d3-9954-4b66-8e32-cee17173deb2",
   "metadata": {},
   "outputs": [],
   "source": [
    "#Chapter6 p178 문제: 9번 (p180 참조)"
   ]
  },
  {
   "cell_type": "code",
   "execution_count": 88,
   "id": "33afe817-dfab-4322-b6bb-1035b71ebb82",
   "metadata": {},
   "outputs": [
    {
     "name": "stdout",
     "output_type": "stream",
     "text": [
      "1234 * 3.0: 3702\n",
      "1234 * 4.0: 4936\n",
      "1234 * 5.0: 6170\n",
      "1234 * 6.0: 7404\n",
      "1234 * 7.0: 8638\n",
      "1234 * 8.0: 9872\n",
      "40722\n"
     ]
    }
   ],
   "source": [
    "sum = 0\n",
    "\n",
    "for num in range(3333, 10000):\n",
    "    if((num % 1234) != 0):\n",
    "        continue\n",
    "    if((sum + num) >= 100000):\n",
    "        break\n",
    "    print(f\"1234 * {num / 1234}: {num}\")\n",
    "    sum += num\n",
    "\n",
    "print(sum)"
   ]
  },
  {
   "cell_type": "code",
   "execution_count": null,
   "id": "a2063fac-b514-440e-9d44-e0aa91081e41",
   "metadata": {},
   "outputs": [],
   "source": []
  },
  {
   "cell_type": "code",
   "execution_count": null,
   "id": "919a7416-abe4-4943-9848-e58144b37cdd",
   "metadata": {},
   "outputs": [],
   "source": []
  },
  {
   "cell_type": "code",
   "execution_count": 51,
   "id": "0f2c4456-c92c-4b87-ac8d-52d3f5c781dc",
   "metadata": {},
   "outputs": [],
   "source": [
    "#Chapter6 p178 문제 10번 (p180 참조)\n"
   ]
  },
  {
   "cell_type": "code",
   "execution_count": 67,
   "id": "db8ff5a5-1a4a-40e2-a74f-0719ef529db7",
   "metadata": {},
   "outputs": [],
   "source": [
    "i, k,hearnum =0,0,0\n",
    "numstr ,ch , hearstr = \"\",\"\",\"\"\n",
    "\n",
    "if __name__ == \"__main__ \":\n",
    "    numstr = input(\"숫자를 여러 개 입력하세요 :\")\n",
    "    print(\" \")\n",
    "    i = 0\n",
    "    ch = numstr[i]\n",
    "    while True :\n",
    "        hearnum = int(ch)\n",
    "        \n",
    "        hearstr = \"\"\n",
    "        for k in range(0,hearnum) :\n",
    "            hearstr += \"\\u2665\"\n",
    "            k+=1\n",
    "        \n",
    "        print(hearstr)\n",
    "        \n",
    "        i += 1\n",
    "        if(i > len(numstr) -1) :\n",
    "            break\n",
    "        \n",
    "        ch = numstr[i]"
   ]
  },
  {
   "cell_type": "code",
   "execution_count": null,
   "id": "c0c94974-8f23-4e51-8e68-9593bbe4fd99",
   "metadata": {},
   "outputs": [],
   "source": []
  },
  {
   "cell_type": "code",
   "execution_count": 85,
   "id": "a487c2de-4c0a-42cd-8a96-0b6f78d43a98",
   "metadata": {},
   "outputs": [],
   "source": [
    "i = 1"
   ]
  },
  {
   "cell_type": "code",
   "execution_count": 87,
   "id": "50b71059-cb75-4d84-aaf9-0747b8da58ee",
   "metadata": {},
   "outputs": [
    {
     "name": "stdin",
     "output_type": "stream",
     "text": [
      "1번째 숫자 :  넵\n"
     ]
    },
    {
     "name": "stdout",
     "output_type": "stream",
     "text": [
      "안녕하세요\n"
     ]
    }
   ],
   "source": [
    "w= input(str(i) + \"번째 숫자 : \" )\n",
    "print(\"안녕하세요\")"
   ]
  },
  {
   "cell_type": "code",
   "execution_count": null,
   "id": "f6698d55-de5b-4a5a-9968-0244ef16fd78",
   "metadata": {},
   "outputs": [],
   "source": []
  }
 ],
 "metadata": {
  "kernelspec": {
   "display_name": "Python 3 (ipykernel)",
   "language": "python",
   "name": "python3"
  },
  "language_info": {
   "codemirror_mode": {
    "name": "ipython",
    "version": 3
   },
   "file_extension": ".py",
   "mimetype": "text/x-python",
   "name": "python",
   "nbconvert_exporter": "python",
   "pygments_lexer": "ipython3",
   "version": "3.9.7"
  }
 },
 "nbformat": 4,
 "nbformat_minor": 5
}
