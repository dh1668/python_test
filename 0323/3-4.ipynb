{
 "cells": [
  {
   "cell_type": "markdown",
   "id": "63f3c1d4-7c4a-495d-8d91-3eef1360c457",
   "metadata": {},
   "source": [
    "## while 문"
   ]
  },
  {
   "cell_type": "code",
   "execution_count": 3,
   "id": "80237ce5-90a0-42e7-b4d1-67829a035e30",
   "metadata": {},
   "outputs": [
    {
     "name": "stdout",
     "output_type": "stream",
     "text": [
      "0\n",
      "1\n",
      "2\n"
     ]
    }
   ],
   "source": [
    "i = 0\n",
    "\n",
    "while i < 3 :\n",
    "    print(i)\n",
    "    i += 1 #break 조건임"
   ]
  },
  {
   "cell_type": "code",
   "execution_count": 6,
   "id": "c63a1568-ee39-4adb-9002-e8cbffe02979",
   "metadata": {},
   "outputs": [
    {
     "name": "stdout",
     "output_type": "stream",
     "text": [
      "1에서 10까지의  합계 :55\n"
     ]
    }
   ],
   "source": [
    "#p.165\n",
    "\n",
    "i, hap =0,0\n",
    "\n",
    "i = 1                               #<< 10까지의 합계를 위해서 11로 지정한거임\n",
    "while i < 11 :\n",
    "    hap = hap + i\n",
    "    i = i+1\n",
    "print(\"1에서 10까지의  합계 :%d\" %hap)"
   ]
  },
  {
   "cell_type": "code",
   "execution_count": 10,
   "id": "1242f742-5c25-46f2-a523-ee0dcc74a99a",
   "metadata": {},
   "outputs": [
    {
     "ename": "KeyboardInterrupt",
     "evalue": "Interrupted by user",
     "output_type": "error",
     "traceback": [
      "\u001b[1;31m---------------------------------------------------------------------------\u001b[0m",
      "\u001b[1;31mKeyboardInterrupt\u001b[0m                         Traceback (most recent call last)",
      "\u001b[1;32m~\\AppData\\Local\\Temp/ipykernel_7940/2825602514.py\u001b[0m in \u001b[0;36m<module>\u001b[1;34m\u001b[0m\n\u001b[0;32m      4\u001b[0m \u001b[0ma\u001b[0m\u001b[1;33m,\u001b[0m\u001b[0mb\u001b[0m\u001b[1;33m=\u001b[0m\u001b[1;36m0\u001b[0m\u001b[1;33m,\u001b[0m\u001b[1;36m0\u001b[0m\u001b[1;33m\u001b[0m\u001b[1;33m\u001b[0m\u001b[0m\n\u001b[0;32m      5\u001b[0m \u001b[1;32mwhile\u001b[0m \u001b[1;32mTrue\u001b[0m \u001b[1;33m:\u001b[0m\u001b[1;33m\u001b[0m\u001b[1;33m\u001b[0m\u001b[0m\n\u001b[1;32m----> 6\u001b[1;33m     \u001b[0ma\u001b[0m\u001b[1;33m=\u001b[0m\u001b[0mint\u001b[0m\u001b[1;33m(\u001b[0m\u001b[0minput\u001b[0m\u001b[1;33m(\u001b[0m\u001b[1;34m\"계산할 첫 번재 수를 입력하세요 : \"\u001b[0m\u001b[1;33m)\u001b[0m\u001b[1;33m)\u001b[0m\u001b[1;33m\u001b[0m\u001b[1;33m\u001b[0m\u001b[0m\n\u001b[0m\u001b[0;32m      7\u001b[0m     \u001b[0mb\u001b[0m\u001b[1;33m=\u001b[0m\u001b[0mint\u001b[0m\u001b[1;33m(\u001b[0m\u001b[0minput\u001b[0m\u001b[1;33m(\u001b[0m\u001b[1;34m\"계산할 두 번재 수를 입력하세요 : \"\u001b[0m\u001b[1;33m)\u001b[0m\u001b[1;33m)\u001b[0m\u001b[1;33m\u001b[0m\u001b[1;33m\u001b[0m\u001b[0m\n\u001b[0;32m      8\u001b[0m     \u001b[0mch\u001b[0m\u001b[1;33m=\u001b[0m \u001b[0minput\u001b[0m\u001b[1;33m(\u001b[0m\u001b[1;34m\"계산할 연산자를 입력하세요 : \"\u001b[0m\u001b[1;33m)\u001b[0m\u001b[1;33m\u001b[0m\u001b[1;33m\u001b[0m\u001b[0m\n",
      "\u001b[1;32m~\\anaconda3\\lib\\site-packages\\ipykernel\\kernelbase.py\u001b[0m in \u001b[0;36mraw_input\u001b[1;34m(self, prompt)\u001b[0m\n\u001b[0;32m   1004\u001b[0m                 \u001b[1;34m\"raw_input was called, but this frontend does not support input requests.\"\u001b[0m\u001b[1;33m\u001b[0m\u001b[1;33m\u001b[0m\u001b[0m\n\u001b[0;32m   1005\u001b[0m             )\n\u001b[1;32m-> 1006\u001b[1;33m         return self._input_request(\n\u001b[0m\u001b[0;32m   1007\u001b[0m             \u001b[0mstr\u001b[0m\u001b[1;33m(\u001b[0m\u001b[0mprompt\u001b[0m\u001b[1;33m)\u001b[0m\u001b[1;33m,\u001b[0m\u001b[1;33m\u001b[0m\u001b[1;33m\u001b[0m\u001b[0m\n\u001b[0;32m   1008\u001b[0m             \u001b[0mself\u001b[0m\u001b[1;33m.\u001b[0m\u001b[0m_parent_ident\u001b[0m\u001b[1;33m[\u001b[0m\u001b[1;34m\"shell\"\u001b[0m\u001b[1;33m]\u001b[0m\u001b[1;33m,\u001b[0m\u001b[1;33m\u001b[0m\u001b[1;33m\u001b[0m\u001b[0m\n",
      "\u001b[1;32m~\\anaconda3\\lib\\site-packages\\ipykernel\\kernelbase.py\u001b[0m in \u001b[0;36m_input_request\u001b[1;34m(self, prompt, ident, parent, password)\u001b[0m\n\u001b[0;32m   1049\u001b[0m             \u001b[1;32mexcept\u001b[0m \u001b[0mKeyboardInterrupt\u001b[0m\u001b[1;33m:\u001b[0m\u001b[1;33m\u001b[0m\u001b[1;33m\u001b[0m\u001b[0m\n\u001b[0;32m   1050\u001b[0m                 \u001b[1;31m# re-raise KeyboardInterrupt, to truncate traceback\u001b[0m\u001b[1;33m\u001b[0m\u001b[1;33m\u001b[0m\u001b[0m\n\u001b[1;32m-> 1051\u001b[1;33m                 \u001b[1;32mraise\u001b[0m \u001b[0mKeyboardInterrupt\u001b[0m\u001b[1;33m(\u001b[0m\u001b[1;34m\"Interrupted by user\"\u001b[0m\u001b[1;33m)\u001b[0m \u001b[1;32mfrom\u001b[0m \u001b[1;32mNone\u001b[0m\u001b[1;33m\u001b[0m\u001b[1;33m\u001b[0m\u001b[0m\n\u001b[0m\u001b[0;32m   1052\u001b[0m             \u001b[1;32mexcept\u001b[0m \u001b[0mException\u001b[0m\u001b[1;33m:\u001b[0m\u001b[1;33m\u001b[0m\u001b[1;33m\u001b[0m\u001b[0m\n\u001b[0;32m   1053\u001b[0m                 \u001b[0mself\u001b[0m\u001b[1;33m.\u001b[0m\u001b[0mlog\u001b[0m\u001b[1;33m.\u001b[0m\u001b[0mwarning\u001b[0m\u001b[1;33m(\u001b[0m\u001b[1;34m\"Invalid Message:\"\u001b[0m\u001b[1;33m,\u001b[0m \u001b[0mexc_info\u001b[0m\u001b[1;33m=\u001b[0m\u001b[1;32mTrue\u001b[0m\u001b[1;33m)\u001b[0m\u001b[1;33m\u001b[0m\u001b[1;33m\u001b[0m\u001b[0m\n",
      "\u001b[1;31mKeyboardInterrupt\u001b[0m: Interrupted by user"
     ]
    }
   ],
   "source": [
    "#p.167\n",
    "\n",
    "ch= \"\"\n",
    "a,b=0,0\n",
    "while True :\n",
    "    a=int(input(\"계산할 첫 번재 수를 입력하세요 : \"))\n",
    "    b=int(input(\"계산할 두 번재 수를 입력하세요 : \"))\n",
    "    ch= input(\"계산할 연산자를 입력하세요 : \")\n",
    "    \n",
    "    if (ch == \"+\" ) :\n",
    "        print(\"%d + %d=%d\"%(a,b,a+b,))\n",
    "    elif (ch ==\"-\" ) :\n",
    "        print(\"%d - %d=%d\"%(a,b,a-b))\n",
    "    elif (ch ==\"*\" ) :\n",
    "        print(\"%d * %d=%d\"%(a,b,a*b))\n",
    "    elif (ch ==\"/\" ) :\n",
    "        print(\"%d / %d=%d\"%(a,b,a/b))\n",
    "    elif (ch ==\"%\" ) :\n",
    "        print(\"%d % %d=%d\"%(a,b,a%b))\n",
    "    elif (ch ==\"//\" ) :\n",
    "        print(\"%d // %d=%d\"%(a,b,a//b))\n",
    "    elif (ch ==\"**\" ) :\n",
    "        print(\"%d ** %d=%d\"%(a,b,a**b))\n",
    "    else :\n",
    "        print(\"연산자를 잘못 입력했습니다.\")"
   ]
  },
  {
   "cell_type": "markdown",
   "id": "318e06ee-b1be-4930-8e58-ead5f483ca3a",
   "metadata": {},
   "source": [
    "## Break문\n",
    " - break : 바로 멈춤 ( 그문장에서 )\n",
    " - continue"
   ]
  },
  {
   "cell_type": "code",
   "execution_count": 13,
   "id": "f0cfde06-6d1c-4ee8-a191-d4c5ab082224",
   "metadata": {},
   "outputs": [
    {
     "name": "stdout",
     "output_type": "stream",
     "text": [
      "for 1 times :\n"
     ]
    }
   ],
   "source": [
    "for i in range(1, 100) :\n",
    "   \n",
    "    \n",
    "    print(\"for %d times :\"%i)\n",
    "    \n",
    "    \n",
    "    break\n"
   ]
  },
  {
   "cell_type": "code",
   "execution_count": 12,
   "id": "79ac7706-5fc2-4006-bbde-c6014982662e",
   "metadata": {},
   "outputs": [],
   "source": [
    "for i in range(1, 100) :\n",
    "    \n",
    "    break\n",
    "    \n",
    "    print(\"for %d times :\"%i)\n",
    "    \n",
    "    \n",
    "    \n"
   ]
  },
  {
   "cell_type": "code",
   "execution_count": 9,
   "id": "60caa825-2ee1-44fa-b4d4-c1baf3134a7f",
   "metadata": {},
   "outputs": [
    {
     "ename": "KeyboardInterrupt",
     "evalue": "Interrupted by user",
     "output_type": "error",
     "traceback": [
      "\u001b[1;31m---------------------------------------------------------------------------\u001b[0m",
      "\u001b[1;31mKeyboardInterrupt\u001b[0m                         Traceback (most recent call last)",
      "\u001b[1;32m~\\AppData\\Local\\Temp/ipykernel_7940/184022573.py\u001b[0m in \u001b[0;36m<module>\u001b[1;34m\u001b[0m\n\u001b[0;32m      3\u001b[0m \u001b[1;33m\u001b[0m\u001b[0m\n\u001b[0;32m      4\u001b[0m \u001b[1;32mwhile\u001b[0m \u001b[1;32mTrue\u001b[0m \u001b[1;33m:\u001b[0m\u001b[1;33m\u001b[0m\u001b[1;33m\u001b[0m\u001b[0m\n\u001b[1;32m----> 5\u001b[1;33m     \u001b[0ma\u001b[0m \u001b[1;33m=\u001b[0m \u001b[0mint\u001b[0m\u001b[1;33m(\u001b[0m\u001b[0minput\u001b[0m\u001b[1;33m(\u001b[0m\u001b[1;34m\"더할 첫 번째 수를 입력하세요 : \"\u001b[0m\u001b[1;33m)\u001b[0m\u001b[1;33m)\u001b[0m\u001b[1;33m\u001b[0m\u001b[1;33m\u001b[0m\u001b[0m\n\u001b[0m\u001b[0;32m      6\u001b[0m     \u001b[1;32mif\u001b[0m \u001b[0ma\u001b[0m \u001b[1;33m==\u001b[0m \u001b[1;36m0\u001b[0m \u001b[1;33m:\u001b[0m\u001b[1;33m\u001b[0m\u001b[1;33m\u001b[0m\u001b[0m\n\u001b[0;32m      7\u001b[0m         \u001b[1;32mbreak\u001b[0m\u001b[1;33m\u001b[0m\u001b[1;33m\u001b[0m\u001b[0m\n",
      "\u001b[1;32m~\\anaconda3\\lib\\site-packages\\ipykernel\\kernelbase.py\u001b[0m in \u001b[0;36mraw_input\u001b[1;34m(self, prompt)\u001b[0m\n\u001b[0;32m   1004\u001b[0m                 \u001b[1;34m\"raw_input was called, but this frontend does not support input requests.\"\u001b[0m\u001b[1;33m\u001b[0m\u001b[1;33m\u001b[0m\u001b[0m\n\u001b[0;32m   1005\u001b[0m             )\n\u001b[1;32m-> 1006\u001b[1;33m         return self._input_request(\n\u001b[0m\u001b[0;32m   1007\u001b[0m             \u001b[0mstr\u001b[0m\u001b[1;33m(\u001b[0m\u001b[0mprompt\u001b[0m\u001b[1;33m)\u001b[0m\u001b[1;33m,\u001b[0m\u001b[1;33m\u001b[0m\u001b[1;33m\u001b[0m\u001b[0m\n\u001b[0;32m   1008\u001b[0m             \u001b[0mself\u001b[0m\u001b[1;33m.\u001b[0m\u001b[0m_parent_ident\u001b[0m\u001b[1;33m[\u001b[0m\u001b[1;34m\"shell\"\u001b[0m\u001b[1;33m]\u001b[0m\u001b[1;33m,\u001b[0m\u001b[1;33m\u001b[0m\u001b[1;33m\u001b[0m\u001b[0m\n",
      "\u001b[1;32m~\\anaconda3\\lib\\site-packages\\ipykernel\\kernelbase.py\u001b[0m in \u001b[0;36m_input_request\u001b[1;34m(self, prompt, ident, parent, password)\u001b[0m\n\u001b[0;32m   1049\u001b[0m             \u001b[1;32mexcept\u001b[0m \u001b[0mKeyboardInterrupt\u001b[0m\u001b[1;33m:\u001b[0m\u001b[1;33m\u001b[0m\u001b[1;33m\u001b[0m\u001b[0m\n\u001b[0;32m   1050\u001b[0m                 \u001b[1;31m# re-raise KeyboardInterrupt, to truncate traceback\u001b[0m\u001b[1;33m\u001b[0m\u001b[1;33m\u001b[0m\u001b[0m\n\u001b[1;32m-> 1051\u001b[1;33m                 \u001b[1;32mraise\u001b[0m \u001b[0mKeyboardInterrupt\u001b[0m\u001b[1;33m(\u001b[0m\u001b[1;34m\"Interrupted by user\"\u001b[0m\u001b[1;33m)\u001b[0m \u001b[1;32mfrom\u001b[0m \u001b[1;32mNone\u001b[0m\u001b[1;33m\u001b[0m\u001b[1;33m\u001b[0m\u001b[0m\n\u001b[0m\u001b[0;32m   1052\u001b[0m             \u001b[1;32mexcept\u001b[0m \u001b[0mException\u001b[0m\u001b[1;33m:\u001b[0m\u001b[1;33m\u001b[0m\u001b[1;33m\u001b[0m\u001b[0m\n\u001b[0;32m   1053\u001b[0m                 \u001b[0mself\u001b[0m\u001b[1;33m.\u001b[0m\u001b[0mlog\u001b[0m\u001b[1;33m.\u001b[0m\u001b[0mwarning\u001b[0m\u001b[1;33m(\u001b[0m\u001b[1;34m\"Invalid Message:\"\u001b[0m\u001b[1;33m,\u001b[0m \u001b[0mexc_info\u001b[0m\u001b[1;33m=\u001b[0m\u001b[1;32mTrue\u001b[0m\u001b[1;33m)\u001b[0m\u001b[1;33m\u001b[0m\u001b[1;33m\u001b[0m\u001b[0m\n",
      "\u001b[1;31mKeyboardInterrupt\u001b[0m: Interrupted by user"
     ]
    }
   ],
   "source": [
    "hap = 0\n",
    "a,b =0,0\n",
    "\n",
    "while True :\n",
    "    a = int(input(\"더할 첫 번째 수를 입력하세요 : \"))\n",
    "    if a == 0 :\n",
    "        break\n",
    "    b = int(input(\"더할 두 번째 수를 입력하세요 : \"))\n",
    "    hap = a + b\n",
    "    print(\"%d+%d=%d\"%(a,b,hap))\n",
    "                   \n",
    "print(\"0을 입력해 반복문을 탈출했습니다.\")\n",
    "        "
   ]
  },
  {
   "cell_type": "code",
   "execution_count": 64,
   "id": "859a2c7d-aebd-494b-b17a-dc0a0563c229",
   "metadata": {},
   "outputs": [
    {
     "name": "stdin",
     "output_type": "stream",
     "text": [
      "더할 첫 번째 수를 입력하세요 :  s\n"
     ]
    },
    {
     "name": "stdout",
     "output_type": "stream",
     "text": [
      "문자가 입력됐습니다. 끝냅니다.\n",
      "0을 입력해 반복문을 탈출했습니다.\n"
     ]
    }
   ],
   "source": [
    "#문자입력으로 안됐을경우\n",
    "\n",
    "hap = 0 \n",
    "a,b =0,0\n",
    "\n",
    "while True :\n",
    "    a = input(\"더할 첫 번째 수를 입력하세요 : \")\n",
    "    if type(a) == str :\n",
    "        print(\"문자가 입력됐습니다. 끝냅니다.\")\n",
    "        break \n",
    "        \n",
    "    b = int(input(\"더할 두 번째 수를 입력하세요 : \"))\n",
    "    hap = a + b\n",
    "    print(\"%d+%d=%d\"%(a,b,hap))\n",
    "                   \n",
    "print(\"0을 입력해 반복문을 탈출했습니다.\")\n",
    "        "
   ]
  },
  {
   "cell_type": "code",
   "execution_count": null,
   "id": "b3c1868e-e92e-4775-aa0b-664842d52e65",
   "metadata": {},
   "outputs": [],
   "source": []
  },
  {
   "cell_type": "markdown",
   "id": "23860671-6f86-4ae9-821c-4e8e11a3e30b",
   "metadata": {},
   "source": [
    "주석 : \n",
    " - 한 줄 주석 '#'\n",
    " - 블럭(범위, 여러 줄)주석X\n",
    "   - 대체 : \"\"\" \"\"\""
   ]
  },
  {
   "cell_type": "code",
   "execution_count": 22,
   "id": "edd0907e-361f-46f7-9ec6-c512155e279b",
   "metadata": {},
   "outputs": [],
   "source": [
    "t= \"\"\"안녕하세요.\n",
    "반갑습니다...\n",
    "\"\"\""
   ]
  },
  {
   "cell_type": "code",
   "execution_count": 39,
   "id": "2fb7102c-91c3-403d-8d6b-7868b6756851",
   "metadata": {},
   "outputs": [
    {
     "data": {
      "text/plain": [
       "'안녕하세요.\\n반갑습니다...\\n'"
      ]
     },
     "execution_count": 39,
     "metadata": {},
     "output_type": "execute_result"
    }
   ],
   "source": [
    "t"
   ]
  },
  {
   "cell_type": "code",
   "execution_count": 12,
   "id": "e81a2114-f67c-4c9c-b9c6-639e6d1d5785",
   "metadata": {},
   "outputs": [
    {
     "name": "stdout",
     "output_type": "stream",
     "text": [
      "안녕하세요 :  11 0\n",
      "안녕하세요 :  12 0\n",
      "안녕하세요 :  13 0\n",
      "안녕하세요 :  14 0\n",
      "안녕하세요 :  11 1\n",
      "안녕하세요 :  12 1\n",
      "안녕하세요 :  13 1\n",
      "안녕하세요 :  14 1\n",
      "안녕하세요 :  11 2\n",
      "안녕하세요 :  12 2\n",
      "안녕하세요 :  13 2\n",
      "안녕하세요 :  14 2\n",
      "안녕하세요 :  11 3\n",
      "안녕하세요 :  12 3\n",
      "안녕하세요 :  13 3\n",
      "안녕하세요 :  14 3\n",
      "안녕하세요 :  11 4\n",
      "안녕하세요 :  12 4\n",
      "안녕하세요 :  13 4\n",
      "안녕하세요 :  14 4\n"
     ]
    }
   ],
   "source": [
    "# 중첩 반복문과 break\n",
    "\n",
    "for i in range(0,5,1) :\n",
    "    for j in range(11,16,1 ) :\n",
    "        print(\"안녕하세요 : \",j,i)\n",
    "        if j == 14:\n",
    "            break"
   ]
  },
  {
   "cell_type": "markdown",
   "id": "d2cfab90-8705-4767-8453-e3c3e190d80c",
   "metadata": {},
   "source": [
    "## continue"
   ]
  },
  {
   "cell_type": "code",
   "execution_count": 49,
   "id": "4419ab23-c128-4c4d-afc7-52cda32698fd",
   "metadata": {},
   "outputs": [
    {
     "name": "stdout",
     "output_type": "stream",
     "text": [
      "for 1 time\n",
      "for 2 time\n",
      "for 4 time\n",
      "for 5 time\n",
      "for 7 time\n",
      "for 8 time\n",
      "for 10 time\n",
      "for 11 time\n",
      "for 13 time\n",
      "for 14 time\n",
      "for 16 time\n",
      "for 17 time\n",
      "for 19 time\n",
      "for 20 time\n",
      "for 22 time\n",
      "for 23 time\n",
      "for 25 time\n",
      "for 26 time\n",
      "for 28 time\n",
      "for 29 time\n",
      "for 31 time\n",
      "for 32 time\n",
      "for 34 time\n",
      "for 35 time\n",
      "for 37 time\n",
      "for 38 time\n",
      "for 40 time\n",
      "for 41 time\n",
      "for 43 time\n",
      "for 44 time\n",
      "for 46 time\n",
      "for 47 time\n",
      "for 49 time\n",
      "for 50 time\n",
      "for 52 time\n",
      "for 53 time\n",
      "for 55 time\n",
      "for 56 time\n",
      "for 58 time\n",
      "for 59 time\n",
      "for 61 time\n",
      "for 62 time\n",
      "for 64 time\n",
      "for 65 time\n",
      "for 67 time\n",
      "for 68 time\n",
      "for 70 time\n",
      "for 71 time\n",
      "for 73 time\n",
      "for 74 time\n",
      "for 76 time\n",
      "for 77 time\n",
      "for 79 time\n",
      "for 80 time\n",
      "for 82 time\n",
      "for 83 time\n",
      "for 85 time\n",
      "for 86 time\n",
      "for 88 time\n",
      "for 89 time\n",
      "for 91 time\n",
      "for 92 time\n",
      "for 94 time\n",
      "for 95 time\n",
      "for 97 time\n",
      "for 98 time\n"
     ]
    }
   ],
   "source": [
    "for i in range (1, 100) : \n",
    "    if i % 3 == 0 :\n",
    "        continue\n",
    "    print(\"for %d time\" %i)"
   ]
  },
  {
   "cell_type": "code",
   "execution_count": 57,
   "id": "5faad668-05a0-4bae-82a7-3832e416561b",
   "metadata": {},
   "outputs": [
    {
     "name": "stdout",
     "output_type": "stream",
     "text": [
      "CockBook~\n",
      "CockBook~\n",
      "CockBook~\n",
      "CockBook~\n",
      "CockBook~\n",
      "CockBook~\n",
      "CockBook~\n",
      "CockBook~\n",
      "CockBook~\n",
      "CockBook~\n",
      "CockBook~\n",
      "CockBook~\n",
      "CockBook~\n",
      "CockBook~\n",
      "CockBook~\n",
      "CockBook~\n",
      "CockBook~\n",
      "CockBook~\n",
      "CockBook~\n",
      "CockBook~\n",
      "CockBook~\n",
      "CockBook~\n",
      "CockBook~\n",
      "CockBook~\n"
     ]
    }
   ],
   "source": [
    "for i in  range(4) :\n",
    "    for j in range(3) :\n",
    "        for k in range(2) :\n",
    "            print(\"CockBook~\")"
   ]
  },
  {
   "cell_type": "code",
   "execution_count": 62,
   "id": "2365c16c-8763-4503-8a3d-a54d7ac9c628",
   "metadata": {},
   "outputs": [
    {
     "name": "stdout",
     "output_type": "stream",
     "text": [
      "23088\n"
     ]
    }
   ],
   "source": [
    "hap = 0\n",
    "n = 1234\n",
    "\n",
    "while n < 4568 :\n",
    "    if n % 444 == 0 : \n",
    "        hap += n\n",
    "    n+=1\n",
    "print(hap)"
   ]
  },
  {
   "cell_type": "code",
   "execution_count": null,
   "id": "270cd823-3c9c-4aa5-8e51-1220b5e846a7",
   "metadata": {},
   "outputs": [],
   "source": []
  },
  {
   "cell_type": "code",
   "execution_count": null,
   "id": "7e07b273-a871-49b6-a026-29981d33b347",
   "metadata": {},
   "outputs": [],
   "source": []
  }
 ],
 "metadata": {
  "kernelspec": {
   "display_name": "Python 3 (ipykernel)",
   "language": "python",
   "name": "python3"
  },
  "language_info": {
   "codemirror_mode": {
    "name": "ipython",
    "version": 3
   },
   "file_extension": ".py",
   "mimetype": "text/x-python",
   "name": "python",
   "nbconvert_exporter": "python",
   "pygments_lexer": "ipython3",
   "version": "3.9.7"
  }
 },
 "nbformat": 4,
 "nbformat_minor": 5
}
