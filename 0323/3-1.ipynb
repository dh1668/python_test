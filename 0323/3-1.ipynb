{
 "cells": [
  {
   "cell_type": "markdown",
   "id": "027191f5-0a49-4d41-a728-b8f285c9299a",
   "metadata": {},
   "source": [
    "# Chapter6"
   ]
  },
  {
   "cell_type": "code",
   "execution_count": 30,
   "id": "4f848b43-2cc7-4cf0-b159-4efad6e2e178",
   "metadata": {},
   "outputs": [
    {
     "name": "stdin",
     "output_type": "stream",
     "text": [
      "입력 진수 결정(16/10/8/2):  2\n",
      " 값 입력:  1\n"
     ]
    }
   ],
   "source": [
    "# 진법이 아닌 수를 입력해서 입력하라는 메세지를 만들려면?\n",
    "sel = int(input(\"입력 진수 결정(16/10/8/2): \"))\n",
    "num10 = input(\" 값 입력: \")\n",
    "\n",
    "if sel == 16:\n",
    "    num10 = int(num10,16)\n",
    "elif sel == 10:\n",
    "    num10 = int(num10,10)\n",
    "elif sel == 8 :\n",
    "    num10 = int(num10,8)\n",
    "elif sel == 2 :\n",
    "    num10 = int(num10,2)\n",
    "    \n",
    "else :\n",
    "    print(\"숫자 16,10,8,2를 입력하세요!\")\n",
    "\n",
    "# 진법에 맞게 답을 넣어야함\n",
    "# 2진법에 1 이랑 0만있는 것같이"
   ]
  },
  {
   "cell_type": "code",
   "execution_count": 15,
   "id": "dd850830-eb1e-4a55-90c3-54899334f28b",
   "metadata": {},
   "outputs": [
    {
     "name": "stdin",
     "output_type": "stream",
     "text": [
      "입력 진수 결정(16/10/8/2):  16\n"
     ]
    }
   ],
   "source": [
    "sel = int(input(\"입력 진수 결정(16/10/8/2): \"))"
   ]
  },
  {
   "cell_type": "code",
   "execution_count": 1,
   "id": "ce2ef7f7-bb7b-41a6-9a34-0b98c1b975a0",
   "metadata": {},
   "outputs": [],
   "source": [
    "if type(123) == str :\n",
    "    print(\"문자열입니다. 다시 입력해보세요\")"
   ]
  },
  {
   "cell_type": "code",
   "execution_count": null,
   "id": "f05cc9f4-ade4-467c-b2b4-aaacdde767e1",
   "metadata": {},
   "outputs": [],
   "source": []
  },
  {
   "cell_type": "code",
   "execution_count": 24,
   "id": "f56aa75e-c402-4957-8b35-bad3ced7c15e",
   "metadata": {},
   "outputs": [],
   "source": [
    "import sys"
   ]
  },
  {
   "cell_type": "code",
   "execution_count": 36,
   "id": "d9e4c45e-c30c-4cfd-899e-66f252379901",
   "metadata": {},
   "outputs": [
    {
     "data": {
      "text/plain": [
       "\u001b[1;31mDocstring:\u001b[0m\n",
       "getsizeof(object [, default]) -> int\n",
       "\n",
       "Return the size of object in bytes.\n",
       "\u001b[1;31mType:\u001b[0m      builtin_function_or_method\n"
      ]
     },
     "metadata": {},
     "output_type": "display_data"
    }
   ],
   "source": [
    "sys.getsizeof??"
   ]
  },
  {
   "cell_type": "code",
   "execution_count": 29,
   "id": "c87bb56f-1b4f-4dca-ad63-d16f1fb9a04a",
   "metadata": {},
   "outputs": [],
   "source": [
    "# 내장함수 help()"
   ]
  },
  {
   "cell_type": "code",
   "execution_count": 32,
   "id": "3befc8ca-bff7-414b-a8d5-074cbfdfd413",
   "metadata": {},
   "outputs": [
    {
     "name": "stdout",
     "output_type": "stream",
     "text": [
      "Help on built-in function getsizeof in module sys:\n",
      "\n",
      "getsizeof(...)\n",
      "    getsizeof(object [, default]) -> int\n",
      "    \n",
      "    Return the size of object in bytes.\n",
      "\n"
     ]
    }
   ],
   "source": [
    "help(sys.getsizeof)"
   ]
  },
  {
   "cell_type": "code",
   "execution_count": 34,
   "id": "19ecd2b5-fad5-4a77-a922-a744d2a28093",
   "metadata": {},
   "outputs": [
    {
     "data": {
      "text/plain": [
       "78"
      ]
     },
     "execution_count": 34,
     "metadata": {},
     "output_type": "execute_result"
    }
   ],
   "source": [
    "sys.getsizeof('하나')"
   ]
  },
  {
   "cell_type": "code",
   "execution_count": 38,
   "id": "0cf59b0c-411f-4ae3-a082-2276b9e08055",
   "metadata": {},
   "outputs": [
    {
     "data": {
      "text/plain": [
       "28"
      ]
     },
     "execution_count": 38,
     "metadata": {},
     "output_type": "execute_result"
    }
   ],
   "source": [
    "sys.getsizeof(1000)"
   ]
  },
  {
   "cell_type": "code",
   "execution_count": 40,
   "id": "d69e56e1-0b15-41ba-ba6c-c8bcafa907f6",
   "metadata": {},
   "outputs": [],
   "source": [
    "# 내장함수 eval()"
   ]
  },
  {
   "cell_type": "code",
   "execution_count": 7,
   "id": "ff3ddb14-0a7d-4a1f-8573-c065ea4e49a0",
   "metadata": {},
   "outputs": [
    {
     "data": {
      "text/plain": [
       "\u001b[1;31mSignature:\u001b[0m \u001b[0meval\u001b[0m\u001b[1;33m(\u001b[0m\u001b[0msource\u001b[0m\u001b[1;33m,\u001b[0m \u001b[0mglobals\u001b[0m\u001b[1;33m=\u001b[0m\u001b[1;32mNone\u001b[0m\u001b[1;33m,\u001b[0m \u001b[0mlocals\u001b[0m\u001b[1;33m=\u001b[0m\u001b[1;32mNone\u001b[0m\u001b[1;33m,\u001b[0m \u001b[1;33m/\u001b[0m\u001b[1;33m)\u001b[0m\u001b[1;33m\u001b[0m\u001b[1;33m\u001b[0m\u001b[0m\n",
       "\u001b[1;31mDocstring:\u001b[0m\n",
       "Evaluate the given source in the context of globals and locals.\n",
       "\n",
       "The source may be a string representing a Python expression\n",
       "or a code object as returned by compile().\n",
       "The globals must be a dictionary and locals can be any mapping,\n",
       "defaulting to the current globals and locals.\n",
       "If only globals is given, locals defaults to it.\n",
       "\u001b[1;31mType:\u001b[0m      builtin_function_or_method\n"
      ]
     },
     "metadata": {},
     "output_type": "display_data"
    }
   ],
   "source": [
    "eval??"
   ]
  },
  {
   "cell_type": "code",
   "execution_count": 1,
   "id": "868ce1fd-6b5f-4808-9179-07ec7675c242",
   "metadata": {},
   "outputs": [
    {
     "data": {
      "text/plain": [
       "3.3"
      ]
     },
     "execution_count": 1,
     "metadata": {},
     "output_type": "execute_result"
    }
   ],
   "source": [
    "eval(\"1+2+3 /10\")"
   ]
  },
  {
   "cell_type": "code",
   "execution_count": 9,
   "id": "e7854918-a60c-4e03-91d0-e595260e6675",
   "metadata": {},
   "outputs": [
    {
     "name": "stdout",
     "output_type": "stream",
     "text": [
      "Help on built-in function print in module builtins:\n",
      "\n",
      "print(...)\n",
      "    print(value, ..., sep=' ', end='\\n', file=sys.stdout, flush=False)\n",
      "    \n",
      "    Prints the values to a stream, or to sys.stdout by default.\n",
      "    Optional keyword arguments:\n",
      "    file:  a file-like object (stream); defaults to the current sys.stdout.\n",
      "    sep:   string inserted between values, default a space.\n",
      "    end:   string appended after the last value, default a newline.\n",
      "    flush: whether to forcibly flush the stream.\n",
      "\n"
     ]
    }
   ],
   "source": [
    "help(print)"
   ]
  },
  {
   "cell_type": "code",
   "execution_count": 27,
   "id": "69680272-ed33-4ec4-a96e-cbc2ae3858a6",
   "metadata": {},
   "outputs": [
    {
     "name": "stdout",
     "output_type": "stream",
     "text": [
      "No Python documentation found for '안'.\n",
      "Use help() to get the interactive help utility.\n",
      "Use help(str) for help on the str class.\n",
      "\n"
     ]
    }
   ],
   "source": [
    "help('안')"
   ]
  }
 ],
 "metadata": {
  "kernelspec": {
   "display_name": "Python 3 (ipykernel)",
   "language": "python",
   "name": "python3"
  },
  "language_info": {
   "codemirror_mode": {
    "name": "ipython",
    "version": 3
   },
   "file_extension": ".py",
   "mimetype": "text/x-python",
   "name": "python",
   "nbconvert_exporter": "python",
   "pygments_lexer": "ipython3",
   "version": "3.9.7"
  }
 },
 "nbformat": 4,
 "nbformat_minor": 5
}
