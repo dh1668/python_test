{
 "cells": [
  {
   "cell_type": "markdown",
   "id": "b5fd9bc0-1432-4ea7-a73a-653470095467",
   "metadata": {},
   "source": [
    "# 반복문"
   ]
  },
  {
   "cell_type": "markdown",
   "id": "e3b5e31d-9d05-4066-9cab-d55324f7b339",
   "metadata": {},
   "source": [
    "- 반복!"
   ]
  },
  {
   "cell_type": "code",
   "execution_count": 18,
   "id": "def0de05-f5a6-4f9c-b24a-9c8203386c75",
   "metadata": {},
   "outputs": [
    {
     "name": "stdout",
     "output_type": "stream",
     "text": [
      "안녕하세요.... 0\n",
      "안녕하세요.... 1\n",
      "안녕하세요.... 2\n",
      "안녕하세요.... 3\n",
      "안녕하세요.... 4\n"
     ]
    }
   ],
   "source": [
    "for y in range(0, 5, 1) :\n",
    "    print(\"안녕하세요....\", y)"
   ]
  },
  {
   "cell_type": "code",
   "execution_count": 16,
   "id": "2c7d0f96-d4d8-41b0-a063-49f96abce255",
   "metadata": {},
   "outputs": [
    {
     "name": "stdout",
     "output_type": "stream",
     "text": [
      "안녕하세여... 20\n",
      "안녕하세여... 22\n",
      "안녕하세여... 24\n",
      "안녕하세여... 26\n",
      "안녕하세여... 28\n",
      "안녕하세여... 30\n",
      "안녕하세여... 32\n",
      "안녕하세여... 34\n",
      "안녕하세여... 36\n",
      "안녕하세여... 38\n",
      "안녕하세여... 40\n",
      "안녕하세여... 42\n",
      "안녕하세여... 44\n",
      "안녕하세여... 46\n",
      "안녕하세여... 48\n"
     ]
    }
   ],
   "source": [
    "for x in range(20,50,2) :\n",
    "    print(\"안녕하세여...\" , x)"
   ]
  },
  {
   "cell_type": "markdown",
   "id": "ae04cf87-55a6-4264-b83e-1fa37dd923ae",
   "metadata": {},
   "source": [
    "# range() 내장함수임"
   ]
  },
  {
   "cell_type": "code",
   "execution_count": 16,
   "id": "775ed4f0-e308-4845-9b4d-9111d2891dd4",
   "metadata": {},
   "outputs": [
    {
     "data": {
      "text/plain": [
       "range(0, 5)"
      ]
     },
     "execution_count": 18,
     "metadata": {},
     "output_type": "execute_result"
    }
   ],
   "source": [
    "range(0,5,1)"
   ]
  },
  {
   "cell_type": "code",
   "execution_count": 21,
   "id": "6872078d-1603-4b30-9c51-ed853c3800f5",
   "metadata": {},
   "outputs": [
    {
     "data": {
      "text/plain": [
       "list"
      ]
     },
     "execution_count": 21,
     "metadata": {},
     "output_type": "execute_result"
    }
   ],
   "source": [
    "type([0,1,3,5,9,10])"
   ]
  },
  {
   "cell_type": "code",
   "execution_count": 44,
   "id": "c45ee257-329f-47aa-b442-fd1ff2255a16",
   "metadata": {},
   "outputs": [
    {
     "data": {
      "text/plain": [
       "list"
      ]
     },
     "execution_count": 44,
     "metadata": {},
     "output_type": "execute_result"
    }
   ],
   "source": [
    "type(['하나',100,-0.934,range(1,3,1)])"
   ]
  },
  {
   "cell_type": "code",
   "execution_count": 56,
   "id": "af86317a-8b5f-4a78-99f7-5a3159ab8ae7",
   "metadata": {},
   "outputs": [
    {
     "name": "stdout",
     "output_type": "stream",
     "text": [
      "0 1 3 5 9 10 "
     ]
    }
   ],
   "source": [
    "# ***리스트***\n",
    "for i in [0, 1, 3, 5, 9, 10] :\n",
    "    print(i ,end ' ')"
   ]
  },
  {
   "cell_type": "code",
   "execution_count": 28,
   "id": "216e69ce-bc43-4f02-b191-426b1941c9bf",
   "metadata": {},
   "outputs": [
    {
     "name": "stdout",
     "output_type": "stream",
     "text": [
      "하나\n",
      "100\n",
      "-0.934\n",
      "range(1, 3)\n"
     ]
    }
   ],
   "source": [
    "for i in ['하나',100,-0.934,range(1,3,1)] :\n",
    "    print(i)"
   ]
  },
  {
   "cell_type": "code",
   "execution_count": 32,
   "id": "3676666d-e3a3-4e5e-adb3-d0f563446400",
   "metadata": {},
   "outputs": [
    {
     "name": "stdout",
     "output_type": "stream",
     "text": [
      "0 : 안녕하세요? for 문을 공부 중입니다. ^^\n",
      "1 : 안녕하세요? for 문을 공부 중입니다. ^^\n",
      "2 : 안녕하세요? for 문을 공부 중입니다. ^^\n"
     ]
    }
   ],
   "source": [
    "for i in range(0,3,1) :\n",
    "    print(\"%d : 안녕하세요? for 문을 공부 중입니다. ^^\"%i)\n",
    "\n",
    "# % 연결자\n",
    "# String.format()\n",
    "# f 리터럴\n",
    "# 사용해보기"
   ]
  },
  {
   "cell_type": "code",
   "execution_count": 34,
   "id": "c21d2b9f-71bb-4aff-be4d-cb6ae8c468dc",
   "metadata": {},
   "outputs": [
    {
     "name": "stdout",
     "output_type": "stream",
     "text": [
      "00 : 안녕하세요? for 문을 공부 중입니다. ^^\n",
      "01 : 안녕하세요? for 문을 공부 중입니다. ^^\n",
      "02 : 안녕하세요? for 문을 공부 중입니다. ^^\n"
     ]
    }
   ],
   "source": [
    "for i in range(0,3,1):\n",
    "    print(\"{0:02d} : 안녕하세요? for 문을 공부 중입니다. ^^\".format(i))"
   ]
  },
  {
   "cell_type": "code",
   "execution_count": 33,
   "id": "80792c00-2426-4a55-afeb-59e56e1145af",
   "metadata": {},
   "outputs": [
    {
     "name": "stdout",
     "output_type": "stream",
     "text": [
      "0 : 안녕하세요? for 문을 공부 중입니다. ^^\n",
      "1 : 안녕하세요? for 문을 공부 중입니다. ^^\n",
      "2 : 안녕하세요? for 문을 공부 중입니다. ^^\n"
     ]
    }
   ],
   "source": [
    "for i in range(0,3,1):\n",
    "    print(f\"{i} : 안녕하세요? for 문을 공부 중입니다. ^^\")"
   ]
  },
  {
   "cell_type": "markdown",
   "id": "7871529a-ae3d-421a-b79f-7ae9a994ff21",
   "metadata": {},
   "source": [
    "for i in range(0,3,1):\n",
    "    print(\"{} : 안녕하세요? for 문을 공부 중입니다. ^^\".format(i))"
   ]
  },
  {
   "cell_type": "markdown",
   "id": "bdc2653a-3bd4-46bf-a341-659779c064cf",
   "metadata": {
    "tags": []
   },
   "source": [
    "## 던더~( _ )\n",
    " - 변수이름을 따로 설정하지 않고 반복문 같은데서 사용한다고 생각하면된다"
   ]
  },
  {
   "cell_type": "code",
   "execution_count": 45,
   "id": "a39ec732-373d-4af0-ad2d-1aee6e176f44",
   "metadata": {},
   "outputs": [
    {
     "name": "stdout",
     "output_type": "stream",
     "text": [
      "안녕하세요...\n",
      "안녕하세요...\n",
      "안녕하세요...\n"
     ]
    }
   ],
   "source": [
    "for _ in range(1, 4, 1) :\n",
    "    print(\"안녕하세요...\" )"
   ]
  },
  {
   "cell_type": "markdown",
   "id": "7e741fa2-6d62-4611-90a0-8eb6c3131bad",
   "metadata": {},
   "source": []
  },
  {
   "cell_type": "code",
   "execution_count": 49,
   "id": "3d6dc96b-cbb6-4bd0-9a17-318ea4ee1642",
   "metadata": {},
   "outputs": [
    {
     "name": "stdout",
     "output_type": "stream",
     "text": [
      "하이요 5\n",
      "하이요 4\n",
      "하이요 3\n",
      "하이요 2\n",
      "하이요 1\n",
      "하이요 0\n",
      "하이요 -1\n",
      "하이요 -2\n",
      "하이요 -3\n",
      "하이요 -4\n"
     ]
    }
   ],
   "source": [
    "for i in range(5, -5 , -1) :\n",
    "    print(\"하이요\" , i)"
   ]
  },
  {
   "cell_type": "markdown",
   "id": "811634cc-1646-4dc2-a737-a5d2ea88c61f",
   "metadata": {},
   "source": [
    "## 줄바꿈(carrage return, line feed)\n",
    " - \\n : 한줄 뛰는거\n",
    " \n",
    " \n",
    " - , end = ' ' : 옆으로 쓰는거"
   ]
  },
  {
   "cell_type": "code",
   "execution_count": 50,
   "id": "86ca0dea-d80e-4a9b-a399-6bfbb977c860",
   "metadata": {},
   "outputs": [
    {
     "name": "stdout",
     "output_type": "stream",
     "text": [
      "3\n",
      "2\n",
      "1\n",
      "0\n",
      "-1\n"
     ]
    }
   ],
   "source": [
    "for i in range(3,-2,-1) :\n",
    "    print('%d' %i )"
   ]
  },
  {
   "cell_type": "code",
   "execution_count": 58,
   "id": "b7f35114-030c-41b7-9961-99c36cc5dca8",
   "metadata": {},
   "outputs": [
    {
     "name": "stdout",
     "output_type": "stream",
     "text": [
      "3 2 1 0 -1 "
     ]
    }
   ],
   "source": [
    "for i in range(3,-2,-1) :\n",
    "    print('%d' %i ,end=' ' )\n",
    "\n",
    "#  , end  = ' ' 는 옆으로 쓰는거다"
   ]
  },
  {
   "cell_type": "code",
   "execution_count": 59,
   "id": "c35cfcd9-14c6-4bbf-be33-e34cf4998489",
   "metadata": {},
   "outputs": [
    {
     "data": {
      "text/plain": [
       "\u001b[1;31mDocstring:\u001b[0m\n",
       "print(value, ..., sep=' ', end='\\n', file=sys.stdout, flush=False)\n",
       "\n",
       "Prints the values to a stream, or to sys.stdout by default.\n",
       "Optional keyword arguments:\n",
       "file:  a file-like object (stream); defaults to the current sys.stdout.\n",
       "sep:   string inserted between values, default a space.\n",
       "end:   string appended after the last value, default a newline.\n",
       "flush: whether to forcibly flush the stream.\n",
       "\u001b[1;31mType:\u001b[0m      builtin_function_or_method\n"
      ]
     },
     "metadata": {},
     "output_type": "display_data"
    }
   ],
   "source": [
    "print?"
   ]
  },
  {
   "cell_type": "code",
   "execution_count": 66,
   "id": "83f8a7d5-6a99-4bc7-8f79-bc5fbce16913",
   "metadata": {},
   "outputs": [],
   "source": [
    "#  hap = 1 + 2 + 3 + 4 + 5 + 6 + 7 + 8 + 9 + 10\n",
    "# print(\"1에서 10까지의 합계 : %d\" %hap)"
   ]
  },
  {
   "cell_type": "code",
   "execution_count": 70,
   "id": "d78237a2-5b89-4335-b44f-b0509a96507f",
   "metadata": {},
   "outputs": [
    {
     "name": "stdout",
     "output_type": "stream",
     "text": [
      "1에서 10까지의 합계 :165\n"
     ]
    }
   ],
   "source": [
    "i = 0\n",
    "\n",
    "for i in range(1, 11, 1) :\n",
    "    hap = hap + i\n",
    "\n",
    "print(\"1에서 10까지의 합계 :%d\" %hap)"
   ]
  },
  {
   "cell_type": "code",
   "execution_count": 73,
   "id": "a7c59b99-dba2-44db-8977-79adacb21465",
   "metadata": {},
   "outputs": [
    {
     "name": "stdout",
     "output_type": "stream",
     "text": [
      "1에서 10까지의 합계 :55\n"
     ]
    }
   ],
   "source": [
    "i = 0 \n",
    "hap = 0\n",
    "\n",
    "for i in range(1, 11, 1) :\n",
    "    hap = hap + i\n",
    "\n",
    "print(\"1에서 10까지의 합계 :%d\" %hap)"
   ]
  },
  {
   "cell_type": "code",
   "execution_count": 74,
   "id": "77d6837c-982f-4760-b00e-8dfb1377cbc7",
   "metadata": {},
   "outputs": [
    {
     "name": "stdout",
     "output_type": "stream",
     "text": [
      "1에서 10까지의 합계 :55\n"
     ]
    }
   ],
   "source": [
    "i = 0 \n",
    "hap = 0\n",
    "\n",
    "for i in range(1, 11, 1) :\n",
    "    hap = hap + i\n",
    "\n",
    "print(\"1에서 10까지의 합계 :%d\" %hap)"
   ]
  },
  {
   "cell_type": "markdown",
   "id": "7ae0bed1-b862-4f8f-9696-e5dec68ee8a2",
   "metadata": {},
   "source": [
    "### p.154"
   ]
  },
  {
   "cell_type": "code",
   "execution_count": 79,
   "id": "605d7fa9-fc50-40b4-b6d2-f202b80d8cba",
   "metadata": {},
   "outputs": [
    {
     "name": "stdout",
     "output_type": "stream",
     "text": [
      "500에서 1000까지의 홀수의 합계 :187500\n"
     ]
    }
   ],
   "source": [
    "i = 0 \n",
    "hap = 0\n",
    "\n",
    "for i in range(501, 1001, 2) :\n",
    "    hap = hap + i\n",
    "\n",
    "print(\"500에서 1000까지의 홀수의 합계 :%d\" %hap)"
   ]
  },
  {
   "cell_type": "code",
   "execution_count": 5,
   "id": "5d7d448d-eb3b-4a7d-b702-8776f78f817e",
   "metadata": {},
   "outputs": [
    {
     "name": "stdout",
     "output_type": "stream",
     "text": [
      "1에서 20까지의 홀수의 합계 :0\n",
      "1에서 20까지의 홀수의 합계 :2\n",
      "1에서 20까지의 홀수의 합계 :6\n",
      "1에서 20까지의 홀수의 합계 :12\n",
      "1에서 20까지의 홀수의 합계 :20\n",
      "1에서 20까지의 홀수의 합계 :30\n",
      "1에서 20까지의 홀수의 합계 :42\n",
      "1에서 20까지의 홀수의 합계 :56\n",
      "1에서 20까지의 홀수의 합계 :72\n",
      "1에서 20까지의 홀수의 합계 :90\n"
     ]
    }
   ],
   "source": [
    "i = 0 \n",
    "hap = 0\n",
    "\n",
    "for i in range(0, 20, 2) :\n",
    "    hap = hap + i\n",
    "\n",
    "    print(\"1에서 20까지의 홀수의 합계 :%d\" %hap)"
   ]
  }
 ],
 "metadata": {
  "kernelspec": {
   "display_name": "Python 3 (ipykernel)",
   "language": "python",
   "name": "python3"
  },
  "language_info": {
   "codemirror_mode": {
    "name": "ipython",
    "version": 3
   },
   "file_extension": ".py",
   "mimetype": "text/x-python",
   "name": "python",
   "nbconvert_exporter": "python",
   "pygments_lexer": "ipython3",
   "version": "3.9.7"
  }
 },
 "nbformat": 4,
 "nbformat_minor": 5
}
