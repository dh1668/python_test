{
 "cells": [
  {
   "cell_type": "markdown",
   "id": "6d0ee0e1-3ad5-467b-8796-e2f36a306db7",
   "metadata": {},
   "source": [
    "# 리스트로 스택을 표현하기"
   ]
  },
  {
   "cell_type": "markdown",
   "id": "b9b91158-c90d-4f95-a78f-9c0d47db57c0",
   "metadata": {},
   "source": [
    " 스택\n",
    " - LIFO(Last in First Out) 구조 \n",
    " - .append() 함수를 사용하여 넣을 수있다.\n",
    " - .pop() 함수를 사용하여 뺄 수 있다.\n",
    " \n",
    " 큐\n",
    " - FIFO(Fist in First Out) 구조\n",
    " - .append() 함수를 사용하여 넣을 수있다.\n",
    " - .pop() 함수를 사용하여 뺄 수 있다.\n",
    " "
   ]
  },
  {
   "cell_type": "code",
   "execution_count": 1,
   "id": "4ae1af4c-6913-471a-85e4-1775f8ae8074",
   "metadata": {},
   "outputs": [
    {
     "name": "stdout",
     "output_type": "stream",
     "text": [
      "자동차C\n",
      "2\n"
     ]
    }
   ],
   "source": [
    "#교과서 p.218~220\n",
    "\n",
    "parking =  [ ]      #변수설정과 리스트로 스택을 표현\n",
    "top = 0\n",
    "\n",
    "parking.append('자동차A')         #변수에 append() 내장함수붙이기\n",
    "top += 1                          # 스택에서 push를 .append() 로 쓴다\n",
    "\n",
    "parking.append('자동차B')\n",
    "top += 1\n",
    "parking.append('자동차C')\n",
    "top += 1\n",
    "\n",
    "outCar = parking.pop()            # 변수 설정과 동시에 .pop을 사용하여 데이터를 뺐다\n",
    "top -= 1                          # top 표시하기\n",
    "\n",
    "print(outCar)\n",
    "print(top)"
   ]
  },
  {
   "cell_type": "code",
   "execution_count": 18,
   "id": "da4127d1-d1ce-4819-93cb-cd534479a0cf",
   "metadata": {},
   "outputs": [
    {
     "name": "stdout",
     "output_type": "stream",
     "text": [
      "[1, 2, 3]\n",
      "[1, 2]\n",
      "[1, 2, 3, 4, 5]\n",
      "[1, 2, 3, 5]\n"
     ]
    }
   ],
   "source": [
    "a = []\n",
    "a.append(1)\n",
    "a.append(2)\n",
    "a.append(3) # a =  [ 1,2,3 ] 넣은거임  \n",
    "print(a)\n",
    "\n",
    "a.pop()     # a = 1번만 빼서 늦게 들어온 3이 먼저 나간거임\n",
    "print(a)    #  a = [ 1, 2] 이 되버림\n",
    "\n",
    "a.append(3)  # 다시 a = [ 1,2 ] 에 [ 3,4,5] 추가됨\n",
    "a.append(4)\n",
    "a.append(5)\n",
    "print(a)\n",
    "\n",
    "a.pop(3)      # 여기서 팝이 숫자를 쓰니 팝은 3번째인 4를 가르키는거임\n",
    "print(a)      # 그렇기에 [ 1, 2, 3, 4, 5] 가 [ 1, 2, 3, 5] 가된거임\n",
    "              # 파이썬은 [ 0번째 , 1번째 , 2번째 , 3번째 순으로 되어있음   \n",
    "\n"
   ]
  },
  {
   "cell_type": "code",
   "execution_count": null,
   "id": "49244bac-97f7-4e7b-ab69-2a44cd124230",
   "metadata": {},
   "outputs": [],
   "source": [
    "# queue 예시\n",
    "\n",
    "# >>> queue = [4, 5, 6]\n",
    "# >>> queue.append(7)\n",
    "# >>> queue.append(8)\n",
    "# >>> queue\n",
    "# [4, 5, 6, 7, 8]\n",
    "# >>> queue.pop(0)\n",
    "# 4\n",
    "# >>> queue.pop(0)\n",
    "# 5\n",
    "# >>> queue\n",
    "# [6, 7, 8]"
   ]
  },
  {
   "cell_type": "code",
   "execution_count": 44,
   "id": "7a3fa1e7-5a87-4b6f-8043-6ec52a63f264",
   "metadata": {},
   "outputs": [
    {
     "data": {
      "text/plain": [
       "[5, 6, 7, 8]"
      ]
     },
     "execution_count": 44,
     "metadata": {},
     "output_type": "execute_result"
    }
   ],
   "source": [
    "queue = [4, 5, 6]\n",
    "queue.append(7)          \n",
    "queue.append(8)\n",
    "queue                    #[4, 5, 6, 7, 8] 이나온다\n",
    "\n",
    "queue.pop(0)             #queue.pop() 처럼하면 스택처럼 나중에 들어온게 먼저나가기 때문에 *queue.pop(0)*을 쓰자\n",
    "queue                 # [5, 6, 7, 8]이 나온다"
   ]
  },
  {
   "cell_type": "code",
   "execution_count": null,
   "id": "f22e2c53-523a-44aa-8c58-8601b0ac38f1",
   "metadata": {},
   "outputs": [],
   "source": [
    "\n"
   ]
  }
 ],
 "metadata": {
  "kernelspec": {
   "display_name": "Python 3 (ipykernel)",
   "language": "python",
   "name": "python3"
  },
  "language_info": {
   "codemirror_mode": {
    "name": "ipython",
    "version": 3
   },
   "file_extension": ".py",
   "mimetype": "text/x-python",
   "name": "python",
   "nbconvert_exporter": "python",
   "pygments_lexer": "ipython3",
   "version": "3.9.7"
  }
 },
 "nbformat": 4,
 "nbformat_minor": 5
}
