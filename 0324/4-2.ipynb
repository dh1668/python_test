{
 "cells": [
  {
   "cell_type": "markdown",
   "id": "240dd9a4-f487-4581-991f-b7095cd02618",
   "metadata": {},
   "source": [
    "## 함수\n",
    " - 함수(function) : '무엇'을 넣으면 , '어떤 것'을 돌려주는 요술 상자\n",
    " - 메서드(method)와 차이점 : 함수는 외부에 별도로 존재, 메소드는 클래스안에 존재\n",
    " - 이름없는 함수는 lambda 예약어를 사용한다\n",
    "\n",
    " - 함수의형식\n",
    "   - 함수명()\n",
    " \n",
    " - print()함수\n",
    "   - print(\"CookBook\")\n",
    "   \n",
    "     - 함수는 def 예약어를 사용해서 정의한다."
   ]
  },
  {
   "cell_type": "code",
   "execution_count": 3,
   "id": "d0d6acba-2c9a-4d51-ba73-59db35104dea",
   "metadata": {},
   "outputs": [
    {
     "name": "stdin",
     "output_type": "stream",
     "text": [
      "어떤 커피 드릴까요 ?(1:보통,2:설탕,3:블랙) 2\n"
     ]
    },
    {
     "name": "stdout",
     "output_type": "stream",
     "text": [
      "\n",
      "#1. (자동으로) 뜨거운 물을 준비한다.\n",
      "#2. (자동으로) 종이컵을 준비한다.\n",
      "#4. (자동으로) 설탕커피를 탄다.\n",
      "#4. (자동으로) 물을 붓는다.\n",
      "#5. (자동으로) 스푼으로 젓는다.\n",
      "\n",
      "손님 여기 있습니다.\n"
     ]
    }
   ],
   "source": [
    "def coffeemachine(button) :                  #함수는 def 로 선언함  #(button)는 매개변수\n",
    "    print()\n",
    "    print(\"#1. (자동으로) 뜨거운 물을 준비한다.\")\n",
    "    print(\"#2. (자동으로) 종이컵을 준비한다.\")\n",
    "    \n",
    "    if button == 1 :\n",
    "        print(\"#3. (자동으로) 보통커피를 탄다.\")\n",
    "    elif button == 2 :\n",
    "        print(\"#4. (자동으로) 설탕커피를 탄다.\")\n",
    "    elif button == 3 :\n",
    "        print(\"#5. (자동으로) 블랙커피를 탄다.\")\n",
    "    else :\n",
    "        print(\"#3. (자동으로) 아무거나 탄다.\\n\")\n",
    "        \n",
    "    print(\"#4. (자동으로) 물을 붓는다.\");\n",
    "    print(\"#5. (자동으로) 스푼으로 젓는다.\");\n",
    "    print()\n",
    "    \n",
    "#메인 부분 코드 ##\n",
    "coffee = int(input(\"어떤 커피 드릴까요 ?(1:보통,2:설탕,3:블랙)\"))\n",
    "coffeemachine(coffee)\n",
    "print(\"손님 여기 있습니다.\");"
   ]
  },
  {
   "cell_type": "code",
   "execution_count": 4,
   "id": "3fb8f8c0-dca2-437e-8018-3da70209bd28",
   "metadata": {},
   "outputs": [
    {
     "data": {
      "text/plain": [
       "<function __main__.coffeemachine(button)>"
      ]
     },
     "execution_count": 4,
     "metadata": {},
     "output_type": "execute_result"
    }
   ],
   "source": [
    "coffeemachine"
   ]
  },
  {
   "cell_type": "code",
   "execution_count": 5,
   "id": "ee909258-1d82-41fc-bf99-ea80e9398cce",
   "metadata": {},
   "outputs": [
    {
     "data": {
      "text/plain": [
       "function"
      ]
     },
     "execution_count": 5,
     "metadata": {},
     "output_type": "execute_result"
    }
   ],
   "source": [
    "type(coffeemachine)"
   ]
  },
  {
   "cell_type": "code",
   "execution_count": 6,
   "id": "d15ba917-61dc-4502-9431-37cec7d201dc",
   "metadata": {},
   "outputs": [
    {
     "name": "stdout",
     "output_type": "stream",
     "text": [
      "\n",
      "#1. (자동으로) 뜨거운 물을 준비한다.\n",
      "#2. (자동으로) 종이컵을 준비한다.\n",
      "#4. (자동으로) 설탕커피를 탄다.\n",
      "#4. (자동으로) 물을 붓는다.\n",
      "#5. (자동으로) 스푼으로 젓는다.\n",
      "\n"
     ]
    }
   ],
   "source": [
    "#함수호출 연산자()\n",
    "coffeemachine(button=2)"
   ]
  },
  {
   "cell_type": "markdown",
   "id": "706990e4-b7c9-4ca6-9c31-8603ee6a055d",
   "metadata": {},
   "source": [
    "매개변수"
   ]
  },
  {
   "cell_type": "code",
   "execution_count": 28,
   "id": "da4b362b-d825-46e5-b4bb-e49ff05e0e5d",
   "metadata": {},
   "outputs": [],
   "source": [
    "def plus(v1, v2) :\n",
    "    print(v1+v2)"
   ]
  },
  {
   "cell_type": "code",
   "execution_count": 29,
   "id": "6175640d-3e3f-4e70-8b69-047180a86c45",
   "metadata": {},
   "outputs": [],
   "source": [
    "def plus2(v1, v2):\n",
    "    return v1+v2"
   ]
  },
  {
   "cell_type": "code",
   "execution_count": 30,
   "id": "5832931b-7f8c-42fc-9ddf-bc10024e3d6b",
   "metadata": {},
   "outputs": [
    {
     "name": "stdout",
     "output_type": "stream",
     "text": [
      "4\n"
     ]
    }
   ],
   "source": [
    "plus(2,2)"
   ]
  },
  {
   "cell_type": "code",
   "execution_count": 31,
   "id": "da5db920-fd0f-4f4e-b7a5-d1c753d24b19",
   "metadata": {},
   "outputs": [
    {
     "name": "stdout",
     "output_type": "stream",
     "text": [
      "5\n"
     ]
    }
   ],
   "source": [
    "plus(2,3)"
   ]
  },
  {
   "cell_type": "code",
   "execution_count": 32,
   "id": "32a4dfea-b632-4aa6-9a5b-bb94d557b052",
   "metadata": {},
   "outputs": [
    {
     "data": {
      "text/plain": [
       "5"
      ]
     },
     "execution_count": 32,
     "metadata": {},
     "output_type": "execute_result"
    }
   ],
   "source": [
    "r = plus2(2,3) #return 으로 plus2 에 보이듯 2 + 3 해서 =5 로 만드는거임\n",
    "r"
   ]
  },
  {
   "cell_type": "code",
   "execution_count": 61,
   "id": "67549418-0498-4784-a529-805ea706f30a",
   "metadata": {},
   "outputs": [],
   "source": [
    "def plus(v1,v2):\n",
    "    \"\"\"\n",
    "    plus함수는 v1,v2 매개변수를 받는다.\n",
    "     - v1 : 정수\n",
    "    \"\"\"\n",
    "    return v1+v2"
   ]
  },
  {
   "cell_type": "code",
   "execution_count": 62,
   "id": "05012d2b-14ce-4304-a8e7-e9df09d949ba",
   "metadata": {},
   "outputs": [
    {
     "data": {
      "text/plain": [
       "\u001b[1;31mSignature:\u001b[0m \u001b[0mplus\u001b[0m\u001b[1;33m(\u001b[0m\u001b[0mv1\u001b[0m\u001b[1;33m,\u001b[0m \u001b[0mv2\u001b[0m\u001b[1;33m)\u001b[0m\u001b[1;33m\u001b[0m\u001b[1;33m\u001b[0m\u001b[0m\n",
       "\u001b[1;31mDocstring:\u001b[0m\n",
       "plus함수는 v1,v2 매개변수를 받는다.\n",
       " - v1 : 정수\n",
       "\u001b[1;31mFile:\u001b[0m      c:\\users\\bit\\appdata\\local\\temp\\ipykernel_3704\\3009658528.py\n",
       "\u001b[1;31mType:\u001b[0m      function\n"
      ]
     },
     "metadata": {},
     "output_type": "display_data"
    }
   ],
   "source": [
    "plus?"
   ]
  },
  {
   "cell_type": "code",
   "execution_count": 63,
   "id": "b58a69f9-f50d-40f5-bbd4-6772794e2890",
   "metadata": {},
   "outputs": [
    {
     "data": {
      "text/plain": [
       "\u001b[1;31mSignature:\u001b[0m \u001b[0mplus2\u001b[0m\u001b[1;33m(\u001b[0m\u001b[0mv1\u001b[0m\u001b[1;33m,\u001b[0m \u001b[0mv2\u001b[0m\u001b[1;33m)\u001b[0m\u001b[1;33m\u001b[0m\u001b[1;33m\u001b[0m\u001b[0m\n",
       "\u001b[1;31mDocstring:\u001b[0m <no docstring>\n",
       "\u001b[1;31mFile:\u001b[0m      c:\\users\\bit\\appdata\\local\\temp\\ipykernel_3704\\4002714303.py\n",
       "\u001b[1;31mType:\u001b[0m      function\n"
      ]
     },
     "metadata": {},
     "output_type": "display_data"
    }
   ],
   "source": [
    "plus2?"
   ]
  },
  {
   "cell_type": "code",
   "execution_count": 65,
   "id": "7a05838c-9c7f-401d-ac98-93ac66e2f0da",
   "metadata": {},
   "outputs": [
    {
     "ename": "KeyboardInterrupt",
     "evalue": "Interrupted by user",
     "output_type": "error",
     "traceback": [
      "\u001b[1;31m---------------------------------------------------------------------------\u001b[0m",
      "\u001b[1;31mKeyboardInterrupt\u001b[0m                         Traceback (most recent call last)",
      "\u001b[1;32m~\\AppData\\Local\\Temp/ipykernel_3704/4266890226.py\u001b[0m in \u001b[0;36m<module>\u001b[1;34m\u001b[0m\n\u001b[0;32m     19\u001b[0m \u001b[1;33m\u001b[0m\u001b[0m\n\u001b[0;32m     20\u001b[0m \u001b[1;31m#메인 코드 부분#\u001b[0m\u001b[1;33m\u001b[0m\u001b[1;33m\u001b[0m\u001b[0m\n\u001b[1;32m---> 21\u001b[1;33m \u001b[0moper\u001b[0m \u001b[1;33m=\u001b[0m \u001b[0minput\u001b[0m\u001b[1;33m(\u001b[0m\u001b[1;34m\"계산을 입력하세요(+,-,*,/)\"\u001b[0m\u001b[1;33m)\u001b[0m\u001b[1;33m\u001b[0m\u001b[1;33m\u001b[0m\u001b[0m\n\u001b[0m\u001b[0;32m     22\u001b[0m \u001b[0mvar1\u001b[0m \u001b[1;33m=\u001b[0m \u001b[0mint\u001b[0m\u001b[1;33m(\u001b[0m\u001b[0minput\u001b[0m\u001b[1;33m(\u001b[0m\u001b[1;34m\"첫 번째 수를 입력하세요 : \"\u001b[0m\u001b[1;33m)\u001b[0m\u001b[1;33m)\u001b[0m\u001b[1;33m\u001b[0m\u001b[1;33m\u001b[0m\u001b[0m\n\u001b[0;32m     23\u001b[0m \u001b[0mvar2\u001b[0m \u001b[1;33m=\u001b[0m \u001b[0mint\u001b[0m\u001b[1;33m(\u001b[0m\u001b[0minput\u001b[0m\u001b[1;33m(\u001b[0m\u001b[1;34m\"두 번째 수를 입력하세요 : \"\u001b[0m\u001b[1;33m)\u001b[0m\u001b[1;33m)\u001b[0m\u001b[1;33m\u001b[0m\u001b[1;33m\u001b[0m\u001b[0m\n",
      "\u001b[1;32m~\\anaconda3\\lib\\site-packages\\ipykernel\\kernelbase.py\u001b[0m in \u001b[0;36mraw_input\u001b[1;34m(self, prompt)\u001b[0m\n\u001b[0;32m   1004\u001b[0m                 \u001b[1;34m\"raw_input was called, but this frontend does not support input requests.\"\u001b[0m\u001b[1;33m\u001b[0m\u001b[1;33m\u001b[0m\u001b[0m\n\u001b[0;32m   1005\u001b[0m             )\n\u001b[1;32m-> 1006\u001b[1;33m         return self._input_request(\n\u001b[0m\u001b[0;32m   1007\u001b[0m             \u001b[0mstr\u001b[0m\u001b[1;33m(\u001b[0m\u001b[0mprompt\u001b[0m\u001b[1;33m)\u001b[0m\u001b[1;33m,\u001b[0m\u001b[1;33m\u001b[0m\u001b[1;33m\u001b[0m\u001b[0m\n\u001b[0;32m   1008\u001b[0m             \u001b[0mself\u001b[0m\u001b[1;33m.\u001b[0m\u001b[0m_parent_ident\u001b[0m\u001b[1;33m[\u001b[0m\u001b[1;34m\"shell\"\u001b[0m\u001b[1;33m]\u001b[0m\u001b[1;33m,\u001b[0m\u001b[1;33m\u001b[0m\u001b[1;33m\u001b[0m\u001b[0m\n",
      "\u001b[1;32m~\\anaconda3\\lib\\site-packages\\ipykernel\\kernelbase.py\u001b[0m in \u001b[0;36m_input_request\u001b[1;34m(self, prompt, ident, parent, password)\u001b[0m\n\u001b[0;32m   1049\u001b[0m             \u001b[1;32mexcept\u001b[0m \u001b[0mKeyboardInterrupt\u001b[0m\u001b[1;33m:\u001b[0m\u001b[1;33m\u001b[0m\u001b[1;33m\u001b[0m\u001b[0m\n\u001b[0;32m   1050\u001b[0m                 \u001b[1;31m# re-raise KeyboardInterrupt, to truncate traceback\u001b[0m\u001b[1;33m\u001b[0m\u001b[1;33m\u001b[0m\u001b[0m\n\u001b[1;32m-> 1051\u001b[1;33m                 \u001b[1;32mraise\u001b[0m \u001b[0mKeyboardInterrupt\u001b[0m\u001b[1;33m(\u001b[0m\u001b[1;34m\"Interrupted by user\"\u001b[0m\u001b[1;33m)\u001b[0m \u001b[1;32mfrom\u001b[0m \u001b[1;32mNone\u001b[0m\u001b[1;33m\u001b[0m\u001b[1;33m\u001b[0m\u001b[0m\n\u001b[0m\u001b[0;32m   1052\u001b[0m             \u001b[1;32mexcept\u001b[0m \u001b[0mException\u001b[0m\u001b[1;33m:\u001b[0m\u001b[1;33m\u001b[0m\u001b[1;33m\u001b[0m\u001b[0m\n\u001b[0;32m   1053\u001b[0m                 \u001b[0mself\u001b[0m\u001b[1;33m.\u001b[0m\u001b[0mlog\u001b[0m\u001b[1;33m.\u001b[0m\u001b[0mwarning\u001b[0m\u001b[1;33m(\u001b[0m\u001b[1;34m\"Invalid Message:\"\u001b[0m\u001b[1;33m,\u001b[0m \u001b[0mexc_info\u001b[0m\u001b[1;33m=\u001b[0m\u001b[1;32mTrue\u001b[0m\u001b[1;33m)\u001b[0m\u001b[1;33m\u001b[0m\u001b[1;33m\u001b[0m\u001b[0m\n",
      "\u001b[1;31mKeyboardInterrupt\u001b[0m: Interrupted by user"
     ]
    }
   ],
   "source": [
    "# p.265\n",
    "## 함수선언부분##\n",
    "def calc(v1,v2, op) :\n",
    "    result = 0\n",
    "    if op == '+' :\n",
    "        result = v1 + v2\n",
    "    elif op == '_' :\n",
    "        result = v1-v2\n",
    "    elif op == '*' :\n",
    "        result = v1*v2\n",
    "    elif op == '/' :\n",
    "        result = v1 /v2\n",
    "    \n",
    "    return result\n",
    "\n",
    "#전역 변수 선언 부분#\n",
    "res = 0\n",
    "var1,var2,oper = 0,0,\"\"\n",
    "\n",
    "#메인 코드 부분#\n",
    "oper = input(\"계산을 입력하세요(+,-,*,/)\")\n",
    "var1 = int(input(\"첫 번째 수를 입력하세요 : \"))\n",
    "var2 = int(input(\"두 번째 수를 입력하세요 : \"))\n",
    "\n",
    "res = calc (var1, var2 , oper)\n",
    "\n",
    "print(\"## 계산기 : %d %s %d = %d\" %(var1,oper, var2,res))"
   ]
  },
  {
   "cell_type": "code",
   "execution_count": 56,
   "id": "6c649f0a-d800-4e0a-975b-48c015c51427",
   "metadata": {
    "tags": []
   },
   "outputs": [],
   "source": [
    "def mycalc():\n",
    "    return calc"
   ]
  },
  {
   "cell_type": "code",
   "execution_count": 60,
   "id": "303559ee-c874-458d-9081-a07739e37501",
   "metadata": {},
   "outputs": [
    {
     "ename": "NameError",
     "evalue": "name 'm' is not defined",
     "output_type": "error",
     "traceback": [
      "\u001b[1;31m---------------------------------------------------------------------------\u001b[0m",
      "\u001b[1;31mNameError\u001b[0m                                 Traceback (most recent call last)",
      "\u001b[1;32m~\\AppData\\Local\\Temp/ipykernel_3704/2215407240.py\u001b[0m in \u001b[0;36m<module>\u001b[1;34m\u001b[0m\n\u001b[1;32m----> 1\u001b[1;33m \u001b[0mm\u001b[0m\u001b[1;33m(\u001b[0m\u001b[1;36m10\u001b[0m\u001b[1;33m,\u001b[0m\u001b[1;36m5\u001b[0m\u001b[1;33m,\u001b[0m\u001b[1;34m\"+\"\u001b[0m\u001b[1;33m)\u001b[0m\u001b[1;33m\u001b[0m\u001b[1;33m\u001b[0m\u001b[0m\n\u001b[0m",
      "\u001b[1;31mNameError\u001b[0m: name 'm' is not defined"
     ]
    }
   ],
   "source": [
    "m(10,5,\"+\")"
   ]
  },
  {
   "cell_type": "code",
   "execution_count": 58,
   "id": "b2784be7-a67f-4db4-a111-069cb8273441",
   "metadata": {},
   "outputs": [
    {
     "data": {
      "text/plain": [
       "15"
      ]
     },
     "execution_count": 58,
     "metadata": {},
     "output_type": "execute_result"
    }
   ],
   "source": [
    "mycalc()(10,5,\"+\")"
   ]
  },
  {
   "cell_type": "code",
   "execution_count": 59,
   "id": "78b9a6a1-19a6-45a3-a295-1a0b516816e7",
   "metadata": {},
   "outputs": [
    {
     "ename": "NameError",
     "evalue": "name 'm' is not defined",
     "output_type": "error",
     "traceback": [
      "\u001b[1;31m---------------------------------------------------------------------------\u001b[0m",
      "\u001b[1;31mNameError\u001b[0m                                 Traceback (most recent call last)",
      "\u001b[1;32m~\\AppData\\Local\\Temp/ipykernel_3704/2215407240.py\u001b[0m in \u001b[0;36m<module>\u001b[1;34m\u001b[0m\n\u001b[1;32m----> 1\u001b[1;33m \u001b[0mm\u001b[0m\u001b[1;33m(\u001b[0m\u001b[1;36m10\u001b[0m\u001b[1;33m,\u001b[0m\u001b[1;36m5\u001b[0m\u001b[1;33m,\u001b[0m\u001b[1;34m\"+\"\u001b[0m\u001b[1;33m)\u001b[0m\u001b[1;33m\u001b[0m\u001b[1;33m\u001b[0m\u001b[0m\n\u001b[0m",
      "\u001b[1;31mNameError\u001b[0m: name 'm' is not defined"
     ]
    }
   ],
   "source": [
    "m(10,5,\"+\")"
   ]
  },
  {
   "cell_type": "markdown",
   "id": "01c87b44-d64e-4b5d-95e6-a16a82545c2a",
   "metadata": {},
   "source": [
    "## 지역변수 와 전역 변수의 이해\n",
    " - 지역 변수 : 한정된 지역에서만사용\n",
    " - 전역 변수 : 프로그램 전체에서 사용\n",
    " "
   ]
  },
  {
   "cell_type": "code",
   "execution_count": 67,
   "id": "a7d24cc0-973d-4543-9475-a5cea3b8b275",
   "metadata": {},
   "outputs": [],
   "source": [
    "a = 20\n",
    "\n",
    "def f1() :\n",
    "    a = 10          # 함수1 안에서 사용한 변수는 함수2 밖의 다른 함수들이 알 수 없다.\n",
    "    print(a)        # 로컬 변수 라고도 한다."
   ]
  },
  {
   "cell_type": "code",
   "execution_count": 69,
   "id": "121c24cd-e112-446c-863d-cf37890623a7",
   "metadata": {},
   "outputs": [
    {
     "name": "stdout",
     "output_type": "stream",
     "text": [
      "10\n"
     ]
    }
   ],
   "source": [
    "f1()"
   ]
  },
  {
   "cell_type": "code",
   "execution_count": 71,
   "id": "b92f4537-7d64-486e-961d-303b163636e3",
   "metadata": {
    "tags": []
   },
   "outputs": [],
   "source": [
    "a = 20\n",
    "\n",
    "def f1() :\n",
    "    a = 10          # 이 안에서만 사용한 것은 local() 등록해야 함수()해야 알수있다\n",
    "    print(a)\n",
    "    print(locals())"
   ]
  },
  {
   "cell_type": "code",
   "execution_count": 77,
   "id": "640172d1-b7af-40a1-9c86-dbd785f6235b",
   "metadata": {},
   "outputs": [],
   "source": [
    "def f2():\n",
    "    print(a)"
   ]
  },
  {
   "cell_type": "code",
   "execution_count": 74,
   "id": "48ce35f8-8512-4a06-add7-238956a0a673",
   "metadata": {},
   "outputs": [
    {
     "name": "stdout",
     "output_type": "stream",
     "text": [
      "10\n",
      "{'a': 10}\n"
     ]
    }
   ],
   "source": [
    "f1() #지역변수와 값만나옴"
   ]
  },
  {
   "cell_type": "code",
   "execution_count": 79,
   "id": "91ae97a9-b0e5-4056-99f0-8135d12539b0",
   "metadata": {},
   "outputs": [
    {
     "name": "stdout",
     "output_type": "stream",
     "text": [
      "20\n"
     ]
    }
   ],
   "source": [
    "f2() #전역변수가 나옴"
   ]
  },
  {
   "cell_type": "code",
   "execution_count": 76,
   "id": "499c9436-4c9f-4080-b657-3cc1b267ebcf",
   "metadata": {},
   "outputs": [
    {
     "data": {
      "text/plain": [
       "{'__name__': '__main__',\n",
       " '__doc__': 'Automatically created module for IPython interactive environment',\n",
       " '__package__': None,\n",
       " '__loader__': None,\n",
       " '__spec__': None,\n",
       " '__builtin__': <module 'builtins' (built-in)>,\n",
       " '__builtins__': <module 'builtins' (built-in)>,\n",
       " '_ih': ['',\n",
       "  'def coffeemachine(button) :\\n    print()\\n    print(\"#1. (자동으로) 뜨거운 물을 준비한다.\")\\n    print(\"#2. (자동으로) 종이컵을 준비한다.\")\\n    \\n    if button == 1 :\\n        print(\"#3. (자동으로) 보통커피를 탄다.\")\\n    elif button == 2 :\\n        print(\"#4. (자동으로) 설탕커피를 탄다.\")\\n    elif button == 3 :\\n        print(\"#5. (자동으로) 블랙커피를 탄다.\")\\n    else :\\n        print(\"#3. (자동으로) 아무거나 탄다.\\\\n\")\\n        \\n    print(\"#4.  (자동으로) 물을 붓는다.\");\\n    print(\"#5.  (자동으로) 스푼으로 젓는다.\");\\n    print()\\n    \\n#메인 부분 코드 ##\\ncoffee = int(input(\"어떤 커피 드릴까요 ?(1:보통,2:설탕,3:블랙)\"))\\ncoffeemachine(coffee)\\nprint(\"손님 여기 있습니다.\");',\n",
       "  'def coffeemachine(button) :\\n    print()\\n    print(\"#1. (자동으로) 뜨거운 물을 준비한다.\")\\n    print(\"#2. (자동으로) 종이컵을 준비한다.\")\\n    \\n    if button == 1 :\\n        print(\"#3. (자동으로) 보통커피를 탄다.\")\\n    elif button == 2 :\\n        print(\"#4. (자동으로) 설탕커피를 탄다.\")\\n    elif button == 3 :\\n        print(\"#5. (자동으로) 블랙커피를 탄다.\")\\n    else :\\n        print(\"#3. (자동으로) 아무거나 탄다.\\\\n\")\\n        \\n    print(\"#4.  (자동으로) 물을 붓는다.\");\\n    print(\"#5.  (자동으로) 스푼으로 젓는다.\");\\n    print()\\n    \\n#메인 부분 코드 ##\\ncoffee = int(input(\"어떤 커피 드릴까요 ?(1:보통,2:설탕,3:블랙)\"))\\ncoffeemachine(coffee)\\nprint(\"손님 여기 있습니다.\");',\n",
       "  'def coffeemachine(button) :\\n    print()\\n    print(\"#1. (자동으로) 뜨거운 물을 준비한다.\")\\n    print(\"#2. (자동으로) 종이컵을 준비한다.\")\\n    \\n    if button == 1 :\\n        print(\"#3. (자동으로) 보통커피를 탄다.\")\\n    elif button == 2 :\\n        print(\"#4. (자동으로) 설탕커피를 탄다.\")\\n    elif button == 3 :\\n        print(\"#5. (자동으로) 블랙커피를 탄다.\")\\n    else :\\n        print(\"#3. (자동으로) 아무거나 탄다.\\\\n\")\\n        \\n    print(\"#4. (자동으로) 물을 붓는다.\");\\n    print(\"#5. (자동으로) 스푼으로 젓는다.\");\\n    print()\\n    \\n#메인 부분 코드 ##\\ncoffee = int(input(\"어떤 커피 드릴까요 ?(1:보통,2:설탕,3:블랙)\"))\\ncoffeemachine(coffee)\\nprint(\"손님 여기 있습니다.\");',\n",
       "  'coffeemachine',\n",
       "  'type(coffeemachine)',\n",
       "  '#함수호출 연산자()\\ncoffeemachine(button=2)',\n",
       "  'def plut(v1, v2) :\\n    print(v1+v2)',\n",
       "  'def plus(v1, v2) :\\n    print(v1+v2)',\n",
       "  'plus(1,2)',\n",
       "  'plus(-1)',\n",
       "  'plus(-2,2)',\n",
       "  'plus(1,2)',\n",
       "  'plus(1,2,5)',\n",
       "  'plus(100,200)',\n",
       "  'plus(-201,200)',\n",
       "  'plus(-201,200)',\n",
       "  'plus(-205,200)',\n",
       "  'def plus(v1, v2) :\\n    print(v1+v2)',\n",
       "  'def plus2(v1, v2):\\n    print(return) v1+v2',\n",
       "  'def plus(v1, v2) :\\n    print(v1+v2)',\n",
       "  'def plus2(v1, v2):\\n    print(return) v1+v2',\n",
       "  'plus(2,2)',\n",
       "  'def plus2(v1, v2):\\n    return v1+v2',\n",
       "  'plus(2,3)',\n",
       "  'r = plus(2,3)\\nr',\n",
       "  'r = plus2(2,3) #return 으로 plus2 에 보이듯 2 + 3 해서 =5 로 만드는거임\\nr',\n",
       "  'def plus(v1,v2):\\n    \"\"\"\\n    plus함수는 v1,v2 매개변수를 받는다.\\n     - v1 : 정수\\n    \"\"\"',\n",
       "  'def plus(v1, v2) :\\n    print(v1+v2)',\n",
       "  'def plus2(v1, v2):\\n    return v1+v2',\n",
       "  'plus(2,2)',\n",
       "  'plus(2,3)',\n",
       "  'r = plus2(2,3) #return 으로 plus2 에 보이듯 2 + 3 해서 =5 로 만드는거임\\nr',\n",
       "  '# def plus(v1,v2):\\n#     \"\"\"\\n#     plus함수는 v1,v2 매개변수를 받는다.\\n#      - v1 : 정수\\n#     \"\"\"',\n",
       "  \"get_ipython().run_line_magic('pinfo', 'plus')\",\n",
       "  \"get_ipython().run_line_magic('pinfo', 'plus2')\",\n",
       "  'def plus(v1,v2):\\n    \"\"\"\\n    plus함수는 v1,v2 매개변수를 받는다.\\n     - v1 : 정수\\n    \"\"\"\\n    return',\n",
       "  'def plus(v1,v2):\\n    \"\"\"\\n    plus함수는 v1,v2 매개변수를 받는다.\\n     - v1 : 정수\\n    \"\"\"\\n    return',\n",
       "  \"get_ipython().run_line_magic('pinfo', 'plus')\",\n",
       "  \"get_ipython().run_line_magic('pinfo', 'plus2')\",\n",
       "  'p.265\\n## 함수선언부분##\\ndef clac(v1,v2, op) :\\n    result = 0\\n    if op == \\'+\\' :\\n        result = v1 + v2\\n    elif op == \\'_\\' :\\n        result = v1-v2\\n    elif op == \\'*\\' :\\n        result = v1*v2\\n    elif op == \\'/\\' :\\n        result = v1 /v2\\n    \\n    return result\\n\\n#전역 변수 선언 부분#\\nres = 0\\nvar1,var2,oper = 0,0,\"\"\\n\\n#메인 코드 부분#\\noper = input(\"계산을 입력하세요(+,-,*,/)\")\\nvar1 = int(input(\"첫 번째 수를 입력하세요 : \"))',\n",
       "  '# p.265\\n## 함수선언부분##\\ndef clac(v1,v2, op) :\\n    result = 0\\n    if op == \\'+\\' :\\n        result = v1 + v2\\n    elif op == \\'_\\' :\\n        result = v1-v2\\n    elif op == \\'*\\' :\\n        result = v1*v2\\n    elif op == \\'/\\' :\\n        result = v1 /v2\\n    \\n    return result\\n\\n#전역 변수 선언 부분#\\nres = 0\\nvar1,var2,oper = 0,0,\"\"\\n\\n#메인 코드 부분#\\noper = input(\"계산을 입력하세요(+,-,*,/)\")\\nvar1 = int(input(\"첫 번째 수를 입력하세요 : \"))',\n",
       "  '# p.265\\n## 함수선언부분##\\ndef clac(v1,v2, op) :\\n    result = 0\\n    if op == \\'+\\' :\\n        result = v1 + v2\\n    elif op == \\'_\\' :\\n        result = v1-v2\\n    elif op == \\'*\\' :\\n        result = v1*v2\\n    elif op == \\'/\\' :\\n        result = v1 /v2\\n    \\n    return result\\n\\n#전역 변수 선언 부분#\\nres = 0\\nvar1,var2,oper = 0,0,\"\"\\n\\n#메인 코드 부분#\\noper = input(\"계산을 입력하세요(+,-,*,/)\")\\nvar1 = int(input(\"첫 번째 수를 입력하세요 : \"))',\n",
       "  '# p.265\\n## 함수선언부분##\\ndef clac(v1,v2, op) :\\n    result = 0\\n    if op == \\'+\\' :\\n        result = v1 + v2\\n    elif op == \\'_\\' :\\n        result = v1-v2\\n    elif op == \\'*\\' :\\n        result = v1*v2\\n    elif op == \\'/\\' :\\n        result = v1 /v2\\n    \\n    return result\\n\\n#전역 변수 선언 부분#\\nres = 0\\nvar1,var2,oper = 0,0,\"\"\\n\\n#메인 코드 부분#\\noper = input(\"계산을 입력하세요(+,-,*,/)\")\\nvar1 = int(input(\"첫 번째 수를 입력하세요 : \"))\\nvar2 = int(input(\"두 번째 수를 입력하세요 : \"))\\n\\nres = calc(var1, var2 , oper)\\n\\nprint(\"## 계산기 : %d %s %d = %d\"%(var1,oper, var2,res)\")',\n",
       "  '# p.265\\n## 함수선언부분##\\ndef clac(v1,v2, op) :\\n    result = 0\\n    if op == \\'+\\' :\\n        result = v1 + v2\\n    elif op == \\'_\\' :\\n        result = v1-v2\\n    elif op == \\'*\\' :\\n        result = v1*v2\\n    elif op == \\'/\\' :\\n        result = v1 /v2\\n    \\n    return result\\n\\n#전역 변수 선언 부분#\\nres = 0\\nvar1,var2,oper = 0,0,\"\"\\n\\n#메인 코드 부분#\\noper = input(\"계산을 입력하세요(+,-,*,/)\")\\nvar1 = int(input(\"첫 번째 수를 입력하세요 : \"))\\nvar2 = int(input(\"두 번째 수를 입력하세요 : \"))\\n\\nres = calc(var1, var2 , oper)\\n\\nprint(\"## 계산기 : %d %s %d = %d\"%(var1,oper, var2,res))',\n",
       "  '# p.265\\n## 함수선언부분##\\ndef clac(v1,v2, op) :\\n    result = 0\\n    if op == \\'+\\' :\\n        result = v1 + v2\\n    elif op == \\'_\\' :\\n        result = v1-v2\\n    elif op == \\'*\\' :\\n        result = v1*v2\\n    elif op == \\'/\\' :\\n        result = v1 /v2\\n    \\n    return result\\n\\n#전역 변수 선언 부분#\\nres = 0\\nvar1,var2,oper = 0,0,\"\"\\n\\n#메인 코드 부분#\\noper = input(\"계산을 입력하세요(+,-,*,/)\")\\nvar1 = int(input(\"첫 번째 수를 입력하세요 : \"))\\nvar2 = int(input(\"두 번째 수를 입력하세요 : \"))\\n\\nres = calc(var1, var2 , oper)\\n\\nprint(\"## 계산기 : %d %s %d = %d\" %(var1,oper, var2,res))',\n",
       "  '# p.265\\n## 함수선언부분##\\ndef clac(v1,v2, op) :\\n    result = 0\\n    if op == \\'+\\' :\\n        result = v1 + v2\\n    elif op == \\'_\\' :\\n        result = v1-v2\\n    elif op == \\'*\\' :\\n        result = v1*v2\\n    elif op == \\'/\\' :\\n        result = v1 /v2\\n    \\n    return result\\n\\n#전역 변수 선언 부분#\\nres = 0\\nvar1,var2,oper = 0,0,\"\"\\n\\n#메인 코드 부분#\\noper = input(\"계산을 입력하세요(+,-,*,/)\")\\nvar1 = int(input(\"첫 번째 수를 입력하세요 : \"))\\nvar2 = int(input(\"두 번째 수를 입력하세요 : \"))\\n\\nres = calc (var1, var2 , oper)\\n\\nprint(\"## 계산기 : %d %s %d = %d\" %(var1,oper, var2,res))',\n",
       "  '# p.265\\n## 함수선언부분##\\ndef clac(v1,v2, op) :\\n    result = 0\\n    if op == \\'+\\' :\\n        result = v1 + v2\\n    elif op == \\'_\\' :\\n        result = v1-v2\\n    elif op == \\'*\\' :\\n        result = v1*v2\\n    elif op == \\'/\\' :\\n        result = v1 /v2\\n    \\n    return result\\n\\n#전역 변수 선언 부분#\\nres = 0\\nvar1,var2,oper = 0,0,\"\"\\n\\n#메인 코드 부분#\\noper = input(\"계산을 입력하세요(+,-,*,/)\")\\nvar1 = int(input(\"첫 번째 수를 입력하세요 : \"))\\nvar2 = int(input(\"두 번째 수를 입력하세요 : \"))\\n\\nres = calc (var1, var2 , oper)\\n\\nprint(\"## 계산기 : %d %s %d = %d\" %(var1,oper, var2,res))',\n",
       "  '# p.265\\n## 함수선언부분##\\ndef clac(v1,v2, op) :\\n    result = 0\\n    if op == \\'+\\' :\\n        result = v1 + v2\\n    elif op == \\'_\\' :\\n        result = v1-v2\\n    elif op == \\'*\\' :\\n        result = v1*v2\\n    elif op == \\'/\\' :\\n        result = v1 /v2\\n    \\n    return result\\n\\n#전역 변수 선언 부분#\\nres = 0\\nvar1,var2,oper = 0,0,\"\"\\n\\n#메인 코드 부분#\\noper = input(\"계산을 입력하세요(+,-,*,/)\")\\nvar1 = int(input(\"첫 번째 수를 입력하세요 : \"))\\nvar2 = int(input(\"두 번째 수를 입력하세요 : \"))\\n\\nres = calc (var1, var2 , oper)\\n\\nprint(\"## 계산기 : %d %s %d = %d\" %(var1,oper, var2,res))',\n",
       "  'def mycalc():\\n    reture calc',\n",
       "  'def mycalc():\\n    return calc',\n",
       "  '# p.265\\n## 함수선언부분##\\ndef calc(v1,v2, op) :\\n    result = 0\\n    if op == \\'+\\' :\\n        result = v1 + v2\\n    elif op == \\'_\\' :\\n        result = v1-v2\\n    elif op == \\'*\\' :\\n        result = v1*v2\\n    elif op == \\'/\\' :\\n        result = v1 /v2\\n    \\n    return result\\n\\n#전역 변수 선언 부분#\\nres = 0\\nvar1,var2,oper = 0,0,\"\"\\n\\n#메인 코드 부분#\\noper = input(\"계산을 입력하세요(+,-,*,/)\")\\nvar1 = int(input(\"첫 번째 수를 입력하세요 : \"))\\nvar2 = int(input(\"두 번째 수를 입력하세요 : \"))\\n\\nres = calc (var1, var2 , oper)\\n\\nprint(\"## 계산기 : %d %s %d = %d\" %(var1,oper, var2,res))',\n",
       "  '# p.265\\n## 함수선언부분##\\ndef calc(v1,v2, op) :\\n    result = 0\\n    if op == \\'+\\' :\\n        result = v1 + v2\\n    elif op == \\'_\\' :\\n        result = v1-v2\\n    elif op == \\'*\\' :\\n        result = v1*v2\\n    elif op == \\'/\\' :\\n        result = v1 /v2\\n    \\n    return result\\n\\n#전역 변수 선언 부분#\\nres = 0\\nvar1,var2,oper = 0,0,\"\"\\n\\n#메인 코드 부분#\\noper = input(\"계산을 입력하세요(+,-,*,/)\")\\nvar1 = int(input(\"첫 번째 수를 입력하세요 : \"))\\nvar2 = int(input(\"두 번째 수를 입력하세요 : \"))\\n\\nres = calc (var1, var2 , oper)\\n\\nprint(\"## 계산기 : %d %s %d = %d\" %(var1,oper, var2,res))',\n",
       "  '# p.265\\n## 함수선언부분##\\ndef calc(v1,v2, op) :\\n    result = 0\\n    if op == \\'+\\' :\\n        result = v1 + v2\\n    elif op == \\'_\\' :\\n        result = v1-v2\\n    elif op == \\'*\\' :\\n        result = v1*v2\\n    elif op == \\'/\\' :\\n        result = v1 /v2\\n    \\n    return result\\n\\n#전역 변수 선언 부분#\\nres = 0\\nvar1,var2,oper = 0,0,\"\"\\n\\n#메인 코드 부분#\\noper = input(\"계산을 입력하세요(+,-,*,/)\")\\nvar1 = int(input(\"첫 번째 수를 입력하세요 : \"))\\nvar2 = int(input(\"두 번째 수를 입력하세요 : \"))\\n\\nres = calc (var1, var2 , oper)\\n\\nprint(\"## 계산기 : %d %s %d = %d\" %(var1,oper, var2,res))',\n",
       "  'def mycalc():\\n    return calc',\n",
       "  'def mycalc():\\n    return calc',\n",
       "  'def mycalc():\\n    return calc',\n",
       "  'mycalc()(10,5,\"+\")',\n",
       "  'mycalc()(10,5,\"+\")',\n",
       "  'm(10,5,\"+\")',\n",
       "  'm(10,5,\"+\")',\n",
       "  'def plus(v1,v2):\\n    \"\"\"\\n    plus함수는 v1,v2 매개변수를 받는다.\\n     - v1 : 정수\\n    \"\"\"\\n    return v1+v2',\n",
       "  \"get_ipython().run_line_magic('pinfo', 'plus')\",\n",
       "  \"get_ipython().run_line_magic('pinfo', 'plus2')\",\n",
       "  '# p.265\\n## 함수선언부분##\\ndef calc(v1,v2, op) :\\n    result = 0\\n    if op == \\'+\\' :\\n        result = v1 + v2\\n    elif op == \\'_\\' :\\n        result = v1-v2\\n    elif op == \\'*\\' :\\n        result = v1*v2\\n    elif op == \\'/\\' :\\n        result = v1 /v2\\n    \\n    return result\\n\\n#전역 변수 선언 부분#\\nres = 0\\nvar1,var2,oper = 0,0,\"\"\\n\\n#메인 코드 부분#\\noper = input(\"계산을 입력하세요(+,-,*,/)\")\\nvar1 = int(input(\"첫 번째 수를 입력하세요 : \"))\\nvar2 = int(input(\"두 번째 수를 입력하세요 : \"))\\n\\nres = calc (var1, var2 , oper)\\n\\nprint(\"## 계산기 : %d %s %d = %d\" %(var1,oper, var2,res))',\n",
       "  '# p.265\\n## 함수선언부분##\\ndef calc(v1,v2, op) :\\n    result = 0\\n    if op == \\'+\\' :\\n        result = v1 + v2\\n    elif op == \\'_\\' :\\n        result = v1-v2\\n    elif op == \\'*\\' :\\n        result = v1*v2\\n    elif op == \\'/\\' :\\n        result = v1 /v2\\n    \\n    return result\\n\\n#전역 변수 선언 부분#\\nres = 0\\nvar1,var2,oper = 0,0,\"\"\\n\\n#메인 코드 부분#\\noper = input(\"계산을 입력하세요(+,-,*,/)\")\\nvar1 = int(input(\"첫 번째 수를 입력하세요 : \"))\\nvar2 = int(input(\"두 번째 수를 입력하세요 : \"))\\n\\nres = calc (var1, var2 , oper)\\n\\nprint(\"## 계산기 : %d %s %d = %d\" %(var1,oper, var2,res))',\n",
       "  'a = 20\\n\\ndef f1() :\\n    a ',\n",
       "  'a = 20\\n\\ndef f1() :\\n    a = 10\\n    print(a)',\n",
       "  'f1()',\n",
       "  'f1()',\n",
       "  'a = 20\\n\\ndef f1() :\\n    a = 10          # \\n    print(a)\\n    print(locals())',\n",
       "  'a = 20\\n\\ndef f1() :\\n    a = 10          # \\n    print(a)\\n    print(locals())',\n",
       "  'f1',\n",
       "  'f1()',\n",
       "  'f1()',\n",
       "  'golbals()',\n",
       "  'globals()'],\n",
       " '_oh': {4: <function __main__.coffeemachine(button)>,\n",
       "  5: function,\n",
       "  26: 5,\n",
       "  32: 5,\n",
       "  57: 15,\n",
       "  58: 15,\n",
       "  72: <function __main__.f1()>},\n",
       " '_dh': ['C:\\\\Users\\\\BIT\\\\Works'],\n",
       " 'In': ['',\n",
       "  'def coffeemachine(button) :\\n    print()\\n    print(\"#1. (자동으로) 뜨거운 물을 준비한다.\")\\n    print(\"#2. (자동으로) 종이컵을 준비한다.\")\\n    \\n    if button == 1 :\\n        print(\"#3. (자동으로) 보통커피를 탄다.\")\\n    elif button == 2 :\\n        print(\"#4. (자동으로) 설탕커피를 탄다.\")\\n    elif button == 3 :\\n        print(\"#5. (자동으로) 블랙커피를 탄다.\")\\n    else :\\n        print(\"#3. (자동으로) 아무거나 탄다.\\\\n\")\\n        \\n    print(\"#4.  (자동으로) 물을 붓는다.\");\\n    print(\"#5.  (자동으로) 스푼으로 젓는다.\");\\n    print()\\n    \\n#메인 부분 코드 ##\\ncoffee = int(input(\"어떤 커피 드릴까요 ?(1:보통,2:설탕,3:블랙)\"))\\ncoffeemachine(coffee)\\nprint(\"손님 여기 있습니다.\");',\n",
       "  'def coffeemachine(button) :\\n    print()\\n    print(\"#1. (자동으로) 뜨거운 물을 준비한다.\")\\n    print(\"#2. (자동으로) 종이컵을 준비한다.\")\\n    \\n    if button == 1 :\\n        print(\"#3. (자동으로) 보통커피를 탄다.\")\\n    elif button == 2 :\\n        print(\"#4. (자동으로) 설탕커피를 탄다.\")\\n    elif button == 3 :\\n        print(\"#5. (자동으로) 블랙커피를 탄다.\")\\n    else :\\n        print(\"#3. (자동으로) 아무거나 탄다.\\\\n\")\\n        \\n    print(\"#4.  (자동으로) 물을 붓는다.\");\\n    print(\"#5.  (자동으로) 스푼으로 젓는다.\");\\n    print()\\n    \\n#메인 부분 코드 ##\\ncoffee = int(input(\"어떤 커피 드릴까요 ?(1:보통,2:설탕,3:블랙)\"))\\ncoffeemachine(coffee)\\nprint(\"손님 여기 있습니다.\");',\n",
       "  'def coffeemachine(button) :\\n    print()\\n    print(\"#1. (자동으로) 뜨거운 물을 준비한다.\")\\n    print(\"#2. (자동으로) 종이컵을 준비한다.\")\\n    \\n    if button == 1 :\\n        print(\"#3. (자동으로) 보통커피를 탄다.\")\\n    elif button == 2 :\\n        print(\"#4. (자동으로) 설탕커피를 탄다.\")\\n    elif button == 3 :\\n        print(\"#5. (자동으로) 블랙커피를 탄다.\")\\n    else :\\n        print(\"#3. (자동으로) 아무거나 탄다.\\\\n\")\\n        \\n    print(\"#4. (자동으로) 물을 붓는다.\");\\n    print(\"#5. (자동으로) 스푼으로 젓는다.\");\\n    print()\\n    \\n#메인 부분 코드 ##\\ncoffee = int(input(\"어떤 커피 드릴까요 ?(1:보통,2:설탕,3:블랙)\"))\\ncoffeemachine(coffee)\\nprint(\"손님 여기 있습니다.\");',\n",
       "  'coffeemachine',\n",
       "  'type(coffeemachine)',\n",
       "  '#함수호출 연산자()\\ncoffeemachine(button=2)',\n",
       "  'def plut(v1, v2) :\\n    print(v1+v2)',\n",
       "  'def plus(v1, v2) :\\n    print(v1+v2)',\n",
       "  'plus(1,2)',\n",
       "  'plus(-1)',\n",
       "  'plus(-2,2)',\n",
       "  'plus(1,2)',\n",
       "  'plus(1,2,5)',\n",
       "  'plus(100,200)',\n",
       "  'plus(-201,200)',\n",
       "  'plus(-201,200)',\n",
       "  'plus(-205,200)',\n",
       "  'def plus(v1, v2) :\\n    print(v1+v2)',\n",
       "  'def plus2(v1, v2):\\n    print(return) v1+v2',\n",
       "  'def plus(v1, v2) :\\n    print(v1+v2)',\n",
       "  'def plus2(v1, v2):\\n    print(return) v1+v2',\n",
       "  'plus(2,2)',\n",
       "  'def plus2(v1, v2):\\n    return v1+v2',\n",
       "  'plus(2,3)',\n",
       "  'r = plus(2,3)\\nr',\n",
       "  'r = plus2(2,3) #return 으로 plus2 에 보이듯 2 + 3 해서 =5 로 만드는거임\\nr',\n",
       "  'def plus(v1,v2):\\n    \"\"\"\\n    plus함수는 v1,v2 매개변수를 받는다.\\n     - v1 : 정수\\n    \"\"\"',\n",
       "  'def plus(v1, v2) :\\n    print(v1+v2)',\n",
       "  'def plus2(v1, v2):\\n    return v1+v2',\n",
       "  'plus(2,2)',\n",
       "  'plus(2,3)',\n",
       "  'r = plus2(2,3) #return 으로 plus2 에 보이듯 2 + 3 해서 =5 로 만드는거임\\nr',\n",
       "  '# def plus(v1,v2):\\n#     \"\"\"\\n#     plus함수는 v1,v2 매개변수를 받는다.\\n#      - v1 : 정수\\n#     \"\"\"',\n",
       "  \"get_ipython().run_line_magic('pinfo', 'plus')\",\n",
       "  \"get_ipython().run_line_magic('pinfo', 'plus2')\",\n",
       "  'def plus(v1,v2):\\n    \"\"\"\\n    plus함수는 v1,v2 매개변수를 받는다.\\n     - v1 : 정수\\n    \"\"\"\\n    return',\n",
       "  'def plus(v1,v2):\\n    \"\"\"\\n    plus함수는 v1,v2 매개변수를 받는다.\\n     - v1 : 정수\\n    \"\"\"\\n    return',\n",
       "  \"get_ipython().run_line_magic('pinfo', 'plus')\",\n",
       "  \"get_ipython().run_line_magic('pinfo', 'plus2')\",\n",
       "  'p.265\\n## 함수선언부분##\\ndef clac(v1,v2, op) :\\n    result = 0\\n    if op == \\'+\\' :\\n        result = v1 + v2\\n    elif op == \\'_\\' :\\n        result = v1-v2\\n    elif op == \\'*\\' :\\n        result = v1*v2\\n    elif op == \\'/\\' :\\n        result = v1 /v2\\n    \\n    return result\\n\\n#전역 변수 선언 부분#\\nres = 0\\nvar1,var2,oper = 0,0,\"\"\\n\\n#메인 코드 부분#\\noper = input(\"계산을 입력하세요(+,-,*,/)\")\\nvar1 = int(input(\"첫 번째 수를 입력하세요 : \"))',\n",
       "  '# p.265\\n## 함수선언부분##\\ndef clac(v1,v2, op) :\\n    result = 0\\n    if op == \\'+\\' :\\n        result = v1 + v2\\n    elif op == \\'_\\' :\\n        result = v1-v2\\n    elif op == \\'*\\' :\\n        result = v1*v2\\n    elif op == \\'/\\' :\\n        result = v1 /v2\\n    \\n    return result\\n\\n#전역 변수 선언 부분#\\nres = 0\\nvar1,var2,oper = 0,0,\"\"\\n\\n#메인 코드 부분#\\noper = input(\"계산을 입력하세요(+,-,*,/)\")\\nvar1 = int(input(\"첫 번째 수를 입력하세요 : \"))',\n",
       "  '# p.265\\n## 함수선언부분##\\ndef clac(v1,v2, op) :\\n    result = 0\\n    if op == \\'+\\' :\\n        result = v1 + v2\\n    elif op == \\'_\\' :\\n        result = v1-v2\\n    elif op == \\'*\\' :\\n        result = v1*v2\\n    elif op == \\'/\\' :\\n        result = v1 /v2\\n    \\n    return result\\n\\n#전역 변수 선언 부분#\\nres = 0\\nvar1,var2,oper = 0,0,\"\"\\n\\n#메인 코드 부분#\\noper = input(\"계산을 입력하세요(+,-,*,/)\")\\nvar1 = int(input(\"첫 번째 수를 입력하세요 : \"))',\n",
       "  '# p.265\\n## 함수선언부분##\\ndef clac(v1,v2, op) :\\n    result = 0\\n    if op == \\'+\\' :\\n        result = v1 + v2\\n    elif op == \\'_\\' :\\n        result = v1-v2\\n    elif op == \\'*\\' :\\n        result = v1*v2\\n    elif op == \\'/\\' :\\n        result = v1 /v2\\n    \\n    return result\\n\\n#전역 변수 선언 부분#\\nres = 0\\nvar1,var2,oper = 0,0,\"\"\\n\\n#메인 코드 부분#\\noper = input(\"계산을 입력하세요(+,-,*,/)\")\\nvar1 = int(input(\"첫 번째 수를 입력하세요 : \"))\\nvar2 = int(input(\"두 번째 수를 입력하세요 : \"))\\n\\nres = calc(var1, var2 , oper)\\n\\nprint(\"## 계산기 : %d %s %d = %d\"%(var1,oper, var2,res)\")',\n",
       "  '# p.265\\n## 함수선언부분##\\ndef clac(v1,v2, op) :\\n    result = 0\\n    if op == \\'+\\' :\\n        result = v1 + v2\\n    elif op == \\'_\\' :\\n        result = v1-v2\\n    elif op == \\'*\\' :\\n        result = v1*v2\\n    elif op == \\'/\\' :\\n        result = v1 /v2\\n    \\n    return result\\n\\n#전역 변수 선언 부분#\\nres = 0\\nvar1,var2,oper = 0,0,\"\"\\n\\n#메인 코드 부분#\\noper = input(\"계산을 입력하세요(+,-,*,/)\")\\nvar1 = int(input(\"첫 번째 수를 입력하세요 : \"))\\nvar2 = int(input(\"두 번째 수를 입력하세요 : \"))\\n\\nres = calc(var1, var2 , oper)\\n\\nprint(\"## 계산기 : %d %s %d = %d\"%(var1,oper, var2,res))',\n",
       "  '# p.265\\n## 함수선언부분##\\ndef clac(v1,v2, op) :\\n    result = 0\\n    if op == \\'+\\' :\\n        result = v1 + v2\\n    elif op == \\'_\\' :\\n        result = v1-v2\\n    elif op == \\'*\\' :\\n        result = v1*v2\\n    elif op == \\'/\\' :\\n        result = v1 /v2\\n    \\n    return result\\n\\n#전역 변수 선언 부분#\\nres = 0\\nvar1,var2,oper = 0,0,\"\"\\n\\n#메인 코드 부분#\\noper = input(\"계산을 입력하세요(+,-,*,/)\")\\nvar1 = int(input(\"첫 번째 수를 입력하세요 : \"))\\nvar2 = int(input(\"두 번째 수를 입력하세요 : \"))\\n\\nres = calc(var1, var2 , oper)\\n\\nprint(\"## 계산기 : %d %s %d = %d\" %(var1,oper, var2,res))',\n",
       "  '# p.265\\n## 함수선언부분##\\ndef clac(v1,v2, op) :\\n    result = 0\\n    if op == \\'+\\' :\\n        result = v1 + v2\\n    elif op == \\'_\\' :\\n        result = v1-v2\\n    elif op == \\'*\\' :\\n        result = v1*v2\\n    elif op == \\'/\\' :\\n        result = v1 /v2\\n    \\n    return result\\n\\n#전역 변수 선언 부분#\\nres = 0\\nvar1,var2,oper = 0,0,\"\"\\n\\n#메인 코드 부분#\\noper = input(\"계산을 입력하세요(+,-,*,/)\")\\nvar1 = int(input(\"첫 번째 수를 입력하세요 : \"))\\nvar2 = int(input(\"두 번째 수를 입력하세요 : \"))\\n\\nres = calc (var1, var2 , oper)\\n\\nprint(\"## 계산기 : %d %s %d = %d\" %(var1,oper, var2,res))',\n",
       "  '# p.265\\n## 함수선언부분##\\ndef clac(v1,v2, op) :\\n    result = 0\\n    if op == \\'+\\' :\\n        result = v1 + v2\\n    elif op == \\'_\\' :\\n        result = v1-v2\\n    elif op == \\'*\\' :\\n        result = v1*v2\\n    elif op == \\'/\\' :\\n        result = v1 /v2\\n    \\n    return result\\n\\n#전역 변수 선언 부분#\\nres = 0\\nvar1,var2,oper = 0,0,\"\"\\n\\n#메인 코드 부분#\\noper = input(\"계산을 입력하세요(+,-,*,/)\")\\nvar1 = int(input(\"첫 번째 수를 입력하세요 : \"))\\nvar2 = int(input(\"두 번째 수를 입력하세요 : \"))\\n\\nres = calc (var1, var2 , oper)\\n\\nprint(\"## 계산기 : %d %s %d = %d\" %(var1,oper, var2,res))',\n",
       "  '# p.265\\n## 함수선언부분##\\ndef clac(v1,v2, op) :\\n    result = 0\\n    if op == \\'+\\' :\\n        result = v1 + v2\\n    elif op == \\'_\\' :\\n        result = v1-v2\\n    elif op == \\'*\\' :\\n        result = v1*v2\\n    elif op == \\'/\\' :\\n        result = v1 /v2\\n    \\n    return result\\n\\n#전역 변수 선언 부분#\\nres = 0\\nvar1,var2,oper = 0,0,\"\"\\n\\n#메인 코드 부분#\\noper = input(\"계산을 입력하세요(+,-,*,/)\")\\nvar1 = int(input(\"첫 번째 수를 입력하세요 : \"))\\nvar2 = int(input(\"두 번째 수를 입력하세요 : \"))\\n\\nres = calc (var1, var2 , oper)\\n\\nprint(\"## 계산기 : %d %s %d = %d\" %(var1,oper, var2,res))',\n",
       "  'def mycalc():\\n    reture calc',\n",
       "  'def mycalc():\\n    return calc',\n",
       "  '# p.265\\n## 함수선언부분##\\ndef calc(v1,v2, op) :\\n    result = 0\\n    if op == \\'+\\' :\\n        result = v1 + v2\\n    elif op == \\'_\\' :\\n        result = v1-v2\\n    elif op == \\'*\\' :\\n        result = v1*v2\\n    elif op == \\'/\\' :\\n        result = v1 /v2\\n    \\n    return result\\n\\n#전역 변수 선언 부분#\\nres = 0\\nvar1,var2,oper = 0,0,\"\"\\n\\n#메인 코드 부분#\\noper = input(\"계산을 입력하세요(+,-,*,/)\")\\nvar1 = int(input(\"첫 번째 수를 입력하세요 : \"))\\nvar2 = int(input(\"두 번째 수를 입력하세요 : \"))\\n\\nres = calc (var1, var2 , oper)\\n\\nprint(\"## 계산기 : %d %s %d = %d\" %(var1,oper, var2,res))',\n",
       "  '# p.265\\n## 함수선언부분##\\ndef calc(v1,v2, op) :\\n    result = 0\\n    if op == \\'+\\' :\\n        result = v1 + v2\\n    elif op == \\'_\\' :\\n        result = v1-v2\\n    elif op == \\'*\\' :\\n        result = v1*v2\\n    elif op == \\'/\\' :\\n        result = v1 /v2\\n    \\n    return result\\n\\n#전역 변수 선언 부분#\\nres = 0\\nvar1,var2,oper = 0,0,\"\"\\n\\n#메인 코드 부분#\\noper = input(\"계산을 입력하세요(+,-,*,/)\")\\nvar1 = int(input(\"첫 번째 수를 입력하세요 : \"))\\nvar2 = int(input(\"두 번째 수를 입력하세요 : \"))\\n\\nres = calc (var1, var2 , oper)\\n\\nprint(\"## 계산기 : %d %s %d = %d\" %(var1,oper, var2,res))',\n",
       "  '# p.265\\n## 함수선언부분##\\ndef calc(v1,v2, op) :\\n    result = 0\\n    if op == \\'+\\' :\\n        result = v1 + v2\\n    elif op == \\'_\\' :\\n        result = v1-v2\\n    elif op == \\'*\\' :\\n        result = v1*v2\\n    elif op == \\'/\\' :\\n        result = v1 /v2\\n    \\n    return result\\n\\n#전역 변수 선언 부분#\\nres = 0\\nvar1,var2,oper = 0,0,\"\"\\n\\n#메인 코드 부분#\\noper = input(\"계산을 입력하세요(+,-,*,/)\")\\nvar1 = int(input(\"첫 번째 수를 입력하세요 : \"))\\nvar2 = int(input(\"두 번째 수를 입력하세요 : \"))\\n\\nres = calc (var1, var2 , oper)\\n\\nprint(\"## 계산기 : %d %s %d = %d\" %(var1,oper, var2,res))',\n",
       "  'def mycalc():\\n    return calc',\n",
       "  'def mycalc():\\n    return calc',\n",
       "  'def mycalc():\\n    return calc',\n",
       "  'mycalc()(10,5,\"+\")',\n",
       "  'mycalc()(10,5,\"+\")',\n",
       "  'm(10,5,\"+\")',\n",
       "  'm(10,5,\"+\")',\n",
       "  'def plus(v1,v2):\\n    \"\"\"\\n    plus함수는 v1,v2 매개변수를 받는다.\\n     - v1 : 정수\\n    \"\"\"\\n    return v1+v2',\n",
       "  \"get_ipython().run_line_magic('pinfo', 'plus')\",\n",
       "  \"get_ipython().run_line_magic('pinfo', 'plus2')\",\n",
       "  '# p.265\\n## 함수선언부분##\\ndef calc(v1,v2, op) :\\n    result = 0\\n    if op == \\'+\\' :\\n        result = v1 + v2\\n    elif op == \\'_\\' :\\n        result = v1-v2\\n    elif op == \\'*\\' :\\n        result = v1*v2\\n    elif op == \\'/\\' :\\n        result = v1 /v2\\n    \\n    return result\\n\\n#전역 변수 선언 부분#\\nres = 0\\nvar1,var2,oper = 0,0,\"\"\\n\\n#메인 코드 부분#\\noper = input(\"계산을 입력하세요(+,-,*,/)\")\\nvar1 = int(input(\"첫 번째 수를 입력하세요 : \"))\\nvar2 = int(input(\"두 번째 수를 입력하세요 : \"))\\n\\nres = calc (var1, var2 , oper)\\n\\nprint(\"## 계산기 : %d %s %d = %d\" %(var1,oper, var2,res))',\n",
       "  '# p.265\\n## 함수선언부분##\\ndef calc(v1,v2, op) :\\n    result = 0\\n    if op == \\'+\\' :\\n        result = v1 + v2\\n    elif op == \\'_\\' :\\n        result = v1-v2\\n    elif op == \\'*\\' :\\n        result = v1*v2\\n    elif op == \\'/\\' :\\n        result = v1 /v2\\n    \\n    return result\\n\\n#전역 변수 선언 부분#\\nres = 0\\nvar1,var2,oper = 0,0,\"\"\\n\\n#메인 코드 부분#\\noper = input(\"계산을 입력하세요(+,-,*,/)\")\\nvar1 = int(input(\"첫 번째 수를 입력하세요 : \"))\\nvar2 = int(input(\"두 번째 수를 입력하세요 : \"))\\n\\nres = calc (var1, var2 , oper)\\n\\nprint(\"## 계산기 : %d %s %d = %d\" %(var1,oper, var2,res))',\n",
       "  'a = 20\\n\\ndef f1() :\\n    a ',\n",
       "  'a = 20\\n\\ndef f1() :\\n    a = 10\\n    print(a)',\n",
       "  'f1()',\n",
       "  'f1()',\n",
       "  'a = 20\\n\\ndef f1() :\\n    a = 10          # \\n    print(a)\\n    print(locals())',\n",
       "  'a = 20\\n\\ndef f1() :\\n    a = 10          # \\n    print(a)\\n    print(locals())',\n",
       "  'f1',\n",
       "  'f1()',\n",
       "  'f1()',\n",
       "  'golbals()',\n",
       "  'globals()'],\n",
       " 'Out': {4: <function __main__.coffeemachine(button)>,\n",
       "  5: function,\n",
       "  26: 5,\n",
       "  32: 5,\n",
       "  57: 15,\n",
       "  58: 15,\n",
       "  72: <function __main__.f1()>},\n",
       " 'get_ipython': <bound method InteractiveShell.get_ipython of <ipykernel.zmqshell.ZMQInteractiveShell object at 0x000002477274E4F0>>,\n",
       " 'exit': <IPython.core.autocall.ZMQExitAutocall at 0x247727a2670>,\n",
       " 'quit': <IPython.core.autocall.ZMQExitAutocall at 0x247727a2670>,\n",
       " '_': <function __main__.f1()>,\n",
       " '__': 15,\n",
       " '___': 15,\n",
       " '_i': 'golbals()',\n",
       " '_ii': 'f1()',\n",
       " '_iii': 'f1()',\n",
       " '_i1': 'def coffeemachine(button) :\\n    print()\\n    print(\"#1. (자동으로) 뜨거운 물을 준비한다.\")\\n    print(\"#2. (자동으로) 종이컵을 준비한다.\")\\n    \\n    if button == 1 :\\n        print(\"#3. (자동으로) 보통커피를 탄다.\")\\n    elif button == 2 :\\n        print(\"#4. (자동으로) 설탕커피를 탄다.\")\\n    elif button == 3 :\\n        print(\"#5. (자동으로) 블랙커피를 탄다.\")\\n    else :\\n        print(\"#3. (자동으로) 아무거나 탄다.\\\\n\")\\n        \\n    print(\"#4.  (자동으로) 물을 붓는다.\");\\n    print(\"#5.  (자동으로) 스푼으로 젓는다.\");\\n    print()\\n    \\n#메인 부분 코드 ##\\ncoffee = int(input(\"어떤 커피 드릴까요 ?(1:보통,2:설탕,3:블랙)\"))\\ncoffeemachine(coffee)\\nprint(\"손님 여기 있습니다.\");',\n",
       " 'coffeemachine': <function __main__.coffeemachine(button)>,\n",
       " '_i2': 'def coffeemachine(button) :\\n    print()\\n    print(\"#1. (자동으로) 뜨거운 물을 준비한다.\")\\n    print(\"#2. (자동으로) 종이컵을 준비한다.\")\\n    \\n    if button == 1 :\\n        print(\"#3. (자동으로) 보통커피를 탄다.\")\\n    elif button == 2 :\\n        print(\"#4. (자동으로) 설탕커피를 탄다.\")\\n    elif button == 3 :\\n        print(\"#5. (자동으로) 블랙커피를 탄다.\")\\n    else :\\n        print(\"#3. (자동으로) 아무거나 탄다.\\\\n\")\\n        \\n    print(\"#4.  (자동으로) 물을 붓는다.\");\\n    print(\"#5.  (자동으로) 스푼으로 젓는다.\");\\n    print()\\n    \\n#메인 부분 코드 ##\\ncoffee = int(input(\"어떤 커피 드릴까요 ?(1:보통,2:설탕,3:블랙)\"))\\ncoffeemachine(coffee)\\nprint(\"손님 여기 있습니다.\");',\n",
       " 'coffee': 2,\n",
       " '_i3': 'def coffeemachine(button) :\\n    print()\\n    print(\"#1. (자동으로) 뜨거운 물을 준비한다.\")\\n    print(\"#2. (자동으로) 종이컵을 준비한다.\")\\n    \\n    if button == 1 :\\n        print(\"#3. (자동으로) 보통커피를 탄다.\")\\n    elif button == 2 :\\n        print(\"#4. (자동으로) 설탕커피를 탄다.\")\\n    elif button == 3 :\\n        print(\"#5. (자동으로) 블랙커피를 탄다.\")\\n    else :\\n        print(\"#3. (자동으로) 아무거나 탄다.\\\\n\")\\n        \\n    print(\"#4. (자동으로) 물을 붓는다.\");\\n    print(\"#5. (자동으로) 스푼으로 젓는다.\");\\n    print()\\n    \\n#메인 부분 코드 ##\\ncoffee = int(input(\"어떤 커피 드릴까요 ?(1:보통,2:설탕,3:블랙)\"))\\ncoffeemachine(coffee)\\nprint(\"손님 여기 있습니다.\");',\n",
       " '_i4': 'coffeemachine',\n",
       " '_4': <function __main__.coffeemachine(button)>,\n",
       " '_i5': 'type(coffeemachine)',\n",
       " '_5': function,\n",
       " '_i6': '#함수호출 연산자()\\ncoffeemachine(button=2)',\n",
       " '_i7': 'def plut(v1, v2) :\\n    print(v1+v2)',\n",
       " 'plut': <function __main__.plut(v1, v2)>,\n",
       " '_i8': 'def plus(v1, v2) :\\n    print(v1+v2)',\n",
       " 'plus': <function __main__.plus(v1, v2)>,\n",
       " '_i9': 'plus(1,2)',\n",
       " '_i10': 'plus(-1)',\n",
       " '_i11': 'plus(-2,2)',\n",
       " '_i12': 'plus(1,2)',\n",
       " '_i13': 'plus(1,2,5)',\n",
       " '_i14': 'plus(100,200)',\n",
       " '_i15': 'plus(-201,200)',\n",
       " '_i16': 'plus(-201,200)',\n",
       " '_i17': 'plus(-205,200)',\n",
       " '_i18': 'def plus(v1, v2) :\\n    print(v1+v2)',\n",
       " '_i19': 'def plus2(v1, v2):\\n    print(return) v1+v2',\n",
       " '_i20': 'def plus(v1, v2) :\\n    print(v1+v2)',\n",
       " '_i21': 'def plus2(v1, v2):\\n    print(return) v1+v2',\n",
       " '_i22': 'plus(2,2)',\n",
       " '_i23': 'def plus2(v1, v2):\\n    return v1+v2',\n",
       " 'plus2': <function __main__.plus2(v1, v2)>,\n",
       " '_i24': 'plus(2,3)',\n",
       " '_i25': 'r = plus(2,3)\\nr',\n",
       " 'r': 5,\n",
       " '_i26': 'r = plus2(2,3) #return 으로 plus2 에 보이듯 2 + 3 해서 =5 로 만드는거임\\nr',\n",
       " '_26': 5,\n",
       " '_i27': 'def plus(v1,v2):\\n    \"\"\"\\n    plus함수는 v1,v2 매개변수를 받는다.\\n     - v1 : 정수\\n    \"\"\"',\n",
       " '_i28': 'def plus(v1, v2) :\\n    print(v1+v2)',\n",
       " '_i29': 'def plus2(v1, v2):\\n    return v1+v2',\n",
       " '_i30': 'plus(2,2)',\n",
       " '_i31': 'plus(2,3)',\n",
       " '_i32': 'r = plus2(2,3) #return 으로 plus2 에 보이듯 2 + 3 해서 =5 로 만드는거임\\nr',\n",
       " '_32': 5,\n",
       " '_i33': '# def plus(v1,v2):\\n#     \"\"\"\\n#     plus함수는 v1,v2 매개변수를 받는다.\\n#      - v1 : 정수\\n#     \"\"\"',\n",
       " '_i34': 'plus?',\n",
       " '_i35': 'plus2?',\n",
       " '_i36': 'def plus(v1,v2):\\n    \"\"\"\\n    plus함수는 v1,v2 매개변수를 받는다.\\n     - v1 : 정수\\n    \"\"\"\\n    return',\n",
       " '_i37': 'def plus(v1,v2):\\n    \"\"\"\\n    plus함수는 v1,v2 매개변수를 받는다.\\n     - v1 : 정수\\n    \"\"\"\\n    return',\n",
       " '_i38': 'plus?',\n",
       " '_i39': 'plus2?',\n",
       " '_i40': 'p.265\\n## 함수선언부분##\\ndef clac(v1,v2, op) :\\n    result = 0\\n    if op == \\'+\\' :\\n        result = v1 + v2\\n    elif op == \\'_\\' :\\n        result = v1-v2\\n    elif op == \\'*\\' :\\n        result = v1*v2\\n    elif op == \\'/\\' :\\n        result = v1 /v2\\n    \\n    return result\\n\\n#전역 변수 선언 부분#\\nres = 0\\nvar1,var2,oper = 0,0,\"\"\\n\\n#메인 코드 부분#\\noper = input(\"계산을 입력하세요(+,-,*,/)\")\\nvar1 = int(input(\"첫 번째 수를 입력하세요 : \"))',\n",
       " '_i41': '# p.265\\n## 함수선언부분##\\ndef clac(v1,v2, op) :\\n    result = 0\\n    if op == \\'+\\' :\\n        result = v1 + v2\\n    elif op == \\'_\\' :\\n        result = v1-v2\\n    elif op == \\'*\\' :\\n        result = v1*v2\\n    elif op == \\'/\\' :\\n        result = v1 /v2\\n    \\n    return result\\n\\n#전역 변수 선언 부분#\\nres = 0\\nvar1,var2,oper = 0,0,\"\"\\n\\n#메인 코드 부분#\\noper = input(\"계산을 입력하세요(+,-,*,/)\")\\nvar1 = int(input(\"첫 번째 수를 입력하세요 : \"))',\n",
       " 'clac': <function __main__.clac(v1, v2, op)>,\n",
       " 'res': 0,\n",
       " 'var1': 0,\n",
       " 'var2': 0,\n",
       " 'oper': '',\n",
       " '_i42': '# p.265\\n## 함수선언부분##\\ndef clac(v1,v2, op) :\\n    result = 0\\n    if op == \\'+\\' :\\n        result = v1 + v2\\n    elif op == \\'_\\' :\\n        result = v1-v2\\n    elif op == \\'*\\' :\\n        result = v1*v2\\n    elif op == \\'/\\' :\\n        result = v1 /v2\\n    \\n    return result\\n\\n#전역 변수 선언 부분#\\nres = 0\\nvar1,var2,oper = 0,0,\"\"\\n\\n#메인 코드 부분#\\noper = input(\"계산을 입력하세요(+,-,*,/)\")\\nvar1 = int(input(\"첫 번째 수를 입력하세요 : \"))',\n",
       " '_i43': '# p.265\\n## 함수선언부분##\\ndef clac(v1,v2, op) :\\n    result = 0\\n    if op == \\'+\\' :\\n        result = v1 + v2\\n    elif op == \\'_\\' :\\n        result = v1-v2\\n    elif op == \\'*\\' :\\n        result = v1*v2\\n    elif op == \\'/\\' :\\n        result = v1 /v2\\n    \\n    return result\\n\\n#전역 변수 선언 부분#\\nres = 0\\nvar1,var2,oper = 0,0,\"\"\\n\\n#메인 코드 부분#\\noper = input(\"계산을 입력하세요(+,-,*,/)\")\\nvar1 = int(input(\"첫 번째 수를 입력하세요 : \"))\\nvar2 = int(input(\"두 번째 수를 입력하세요 : \"))\\n\\nres = calc(var1, var2 , oper)\\n\\nprint(\"## 계산기 : %d %s %d = %d\"%(var1,oper, var2,res)\")',\n",
       " '_i44': '# p.265\\n## 함수선언부분##\\ndef clac(v1,v2, op) :\\n    result = 0\\n    if op == \\'+\\' :\\n        result = v1 + v2\\n    elif op == \\'_\\' :\\n        result = v1-v2\\n    elif op == \\'*\\' :\\n        result = v1*v2\\n    elif op == \\'/\\' :\\n        result = v1 /v2\\n    \\n    return result\\n\\n#전역 변수 선언 부분#\\nres = 0\\nvar1,var2,oper = 0,0,\"\"\\n\\n#메인 코드 부분#\\noper = input(\"계산을 입력하세요(+,-,*,/)\")\\nvar1 = int(input(\"첫 번째 수를 입력하세요 : \"))\\nvar2 = int(input(\"두 번째 수를 입력하세요 : \"))\\n\\nres = calc(var1, var2 , oper)\\n\\nprint(\"## 계산기 : %d %s %d = %d\"%(var1,oper, var2,res))',\n",
       " '_i45': '# p.265\\n## 함수선언부분##\\ndef clac(v1,v2, op) :\\n    result = 0\\n    if op == \\'+\\' :\\n        result = v1 + v2\\n    elif op == \\'_\\' :\\n        result = v1-v2\\n    elif op == \\'*\\' :\\n        result = v1*v2\\n    elif op == \\'/\\' :\\n        result = v1 /v2\\n    \\n    return result\\n\\n#전역 변수 선언 부분#\\nres = 0\\nvar1,var2,oper = 0,0,\"\"\\n\\n#메인 코드 부분#\\noper = input(\"계산을 입력하세요(+,-,*,/)\")\\nvar1 = int(input(\"첫 번째 수를 입력하세요 : \"))\\nvar2 = int(input(\"두 번째 수를 입력하세요 : \"))\\n\\nres = calc(var1, var2 , oper)\\n\\nprint(\"## 계산기 : %d %s %d = %d\" %(var1,oper, var2,res))',\n",
       " '_i46': '# p.265\\n## 함수선언부분##\\ndef clac(v1,v2, op) :\\n    result = 0\\n    if op == \\'+\\' :\\n        result = v1 + v2\\n    elif op == \\'_\\' :\\n        result = v1-v2\\n    elif op == \\'*\\' :\\n        result = v1*v2\\n    elif op == \\'/\\' :\\n        result = v1 /v2\\n    \\n    return result\\n\\n#전역 변수 선언 부분#\\nres = 0\\nvar1,var2,oper = 0,0,\"\"\\n\\n#메인 코드 부분#\\noper = input(\"계산을 입력하세요(+,-,*,/)\")\\nvar1 = int(input(\"첫 번째 수를 입력하세요 : \"))\\nvar2 = int(input(\"두 번째 수를 입력하세요 : \"))\\n\\nres = calc (var1, var2 , oper)\\n\\nprint(\"## 계산기 : %d %s %d = %d\" %(var1,oper, var2,res))',\n",
       " '_i47': '# p.265\\n## 함수선언부분##\\ndef clac(v1,v2, op) :\\n    result = 0\\n    if op == \\'+\\' :\\n        result = v1 + v2\\n    elif op == \\'_\\' :\\n        result = v1-v2\\n    elif op == \\'*\\' :\\n        result = v1*v2\\n    elif op == \\'/\\' :\\n        result = v1 /v2\\n    \\n    return result\\n\\n#전역 변수 선언 부분#\\nres = 0\\nvar1,var2,oper = 0,0,\"\"\\n\\n#메인 코드 부분#\\noper = input(\"계산을 입력하세요(+,-,*,/)\")\\nvar1 = int(input(\"첫 번째 수를 입력하세요 : \"))\\nvar2 = int(input(\"두 번째 수를 입력하세요 : \"))\\n\\nres = calc (var1, var2 , oper)\\n\\nprint(\"## 계산기 : %d %s %d = %d\" %(var1,oper, var2,res))',\n",
       " '_i48': '# p.265\\n## 함수선언부분##\\ndef clac(v1,v2, op) :\\n    result = 0\\n    if op == \\'+\\' :\\n        result = v1 + v2\\n    elif op == \\'_\\' :\\n        result = v1-v2\\n    elif op == \\'*\\' :\\n        result = v1*v2\\n    elif op == \\'/\\' :\\n        result = v1 /v2\\n    \\n    return result\\n\\n#전역 변수 선언 부분#\\nres = 0\\nvar1,var2,oper = 0,0,\"\"\\n\\n#메인 코드 부분#\\noper = input(\"계산을 입력하세요(+,-,*,/)\")\\nvar1 = int(input(\"첫 번째 수를 입력하세요 : \"))\\nvar2 = int(input(\"두 번째 수를 입력하세요 : \"))\\n\\nres = calc (var1, var2 , oper)\\n\\nprint(\"## 계산기 : %d %s %d = %d\" %(var1,oper, var2,res))',\n",
       " '_i49': 'def mycalc():\\n    reture calc',\n",
       " '_i50': 'def mycalc():\\n    return calc',\n",
       " 'mycalc': <function __main__.mycalc()>,\n",
       " '_i51': '# p.265\\n## 함수선언부분##\\ndef calc(v1,v2, op) :\\n    result = 0\\n    if op == \\'+\\' :\\n        result = v1 + v2\\n    elif op == \\'_\\' :\\n        result = v1-v2\\n    elif op == \\'*\\' :\\n        result = v1*v2\\n    elif op == \\'/\\' :\\n        result = v1 /v2\\n    \\n    return result\\n\\n#전역 변수 선언 부분#\\nres = 0\\nvar1,var2,oper = 0,0,\"\"\\n\\n#메인 코드 부분#\\noper = input(\"계산을 입력하세요(+,-,*,/)\")\\nvar1 = int(input(\"첫 번째 수를 입력하세요 : \"))\\nvar2 = int(input(\"두 번째 수를 입력하세요 : \"))\\n\\nres = calc (var1, var2 , oper)\\n\\nprint(\"## 계산기 : %d %s %d = %d\" %(var1,oper, var2,res))',\n",
       " 'calc': <function __main__.calc(v1, v2, op)>,\n",
       " '_i52': '# p.265\\n## 함수선언부분##\\ndef calc(v1,v2, op) :\\n    result = 0\\n    if op == \\'+\\' :\\n        result = v1 + v2\\n    elif op == \\'_\\' :\\n        result = v1-v2\\n    elif op == \\'*\\' :\\n        result = v1*v2\\n    elif op == \\'/\\' :\\n        result = v1 /v2\\n    \\n    return result\\n\\n#전역 변수 선언 부분#\\nres = 0\\nvar1,var2,oper = 0,0,\"\"\\n\\n#메인 코드 부분#\\noper = input(\"계산을 입력하세요(+,-,*,/)\")\\nvar1 = int(input(\"첫 번째 수를 입력하세요 : \"))\\nvar2 = int(input(\"두 번째 수를 입력하세요 : \"))\\n\\nres = calc (var1, var2 , oper)\\n\\nprint(\"## 계산기 : %d %s %d = %d\" %(var1,oper, var2,res))',\n",
       " '_i53': '# p.265\\n## 함수선언부분##\\ndef calc(v1,v2, op) :\\n    result = 0\\n    if op == \\'+\\' :\\n        result = v1 + v2\\n    elif op == \\'_\\' :\\n        result = v1-v2\\n    elif op == \\'*\\' :\\n        result = v1*v2\\n    elif op == \\'/\\' :\\n        result = v1 /v2\\n    \\n    return result\\n\\n#전역 변수 선언 부분#\\nres = 0\\nvar1,var2,oper = 0,0,\"\"\\n\\n#메인 코드 부분#\\noper = input(\"계산을 입력하세요(+,-,*,/)\")\\nvar1 = int(input(\"첫 번째 수를 입력하세요 : \"))\\nvar2 = int(input(\"두 번째 수를 입력하세요 : \"))\\n\\nres = calc (var1, var2 , oper)\\n\\nprint(\"## 계산기 : %d %s %d = %d\" %(var1,oper, var2,res))',\n",
       " '_i54': 'def mycalc():\\n    return calc',\n",
       " '_i55': 'def mycalc():\\n    return calc',\n",
       " '_i56': 'def mycalc():\\n    return calc',\n",
       " '_i57': 'mycalc()(10,5,\"+\")',\n",
       " '_57': 15,\n",
       " '_i58': 'mycalc()(10,5,\"+\")',\n",
       " '_58': 15,\n",
       " '_i59': 'm(10,5,\"+\")',\n",
       " '_i60': 'm(10,5,\"+\")',\n",
       " '_i61': 'def plus(v1,v2):\\n    \"\"\"\\n    plus함수는 v1,v2 매개변수를 받는다.\\n     - v1 : 정수\\n    \"\"\"\\n    return v1+v2',\n",
       " '_i62': 'plus?',\n",
       " '_i63': 'plus2?',\n",
       " '_i64': '# p.265\\n## 함수선언부분##\\ndef calc(v1,v2, op) :\\n    result = 0\\n    if op == \\'+\\' :\\n        result = v1 + v2\\n    elif op == \\'_\\' :\\n        result = v1-v2\\n    elif op == \\'*\\' :\\n        result = v1*v2\\n    elif op == \\'/\\' :\\n        result = v1 /v2\\n    \\n    return result\\n\\n#전역 변수 선언 부분#\\nres = 0\\nvar1,var2,oper = 0,0,\"\"\\n\\n#메인 코드 부분#\\noper = input(\"계산을 입력하세요(+,-,*,/)\")\\nvar1 = int(input(\"첫 번째 수를 입력하세요 : \"))\\nvar2 = int(input(\"두 번째 수를 입력하세요 : \"))\\n\\nres = calc (var1, var2 , oper)\\n\\nprint(\"## 계산기 : %d %s %d = %d\" %(var1,oper, var2,res))',\n",
       " '_i65': '# p.265\\n## 함수선언부분##\\ndef calc(v1,v2, op) :\\n    result = 0\\n    if op == \\'+\\' :\\n        result = v1 + v2\\n    elif op == \\'_\\' :\\n        result = v1-v2\\n    elif op == \\'*\\' :\\n        result = v1*v2\\n    elif op == \\'/\\' :\\n        result = v1 /v2\\n    \\n    return result\\n\\n#전역 변수 선언 부분#\\nres = 0\\nvar1,var2,oper = 0,0,\"\"\\n\\n#메인 코드 부분#\\noper = input(\"계산을 입력하세요(+,-,*,/)\")\\nvar1 = int(input(\"첫 번째 수를 입력하세요 : \"))\\nvar2 = int(input(\"두 번째 수를 입력하세요 : \"))\\n\\nres = calc (var1, var2 , oper)\\n\\nprint(\"## 계산기 : %d %s %d = %d\" %(var1,oper, var2,res))',\n",
       " '_i66': 'a = 20\\n\\ndef f1() :\\n    a ',\n",
       " 'a': 20,\n",
       " 'f1': <function __main__.f1()>,\n",
       " '_i67': 'a = 20\\n\\ndef f1() :\\n    a = 10\\n    print(a)',\n",
       " '_i68': 'f1()',\n",
       " '_i69': 'f1()',\n",
       " '_i70': 'a = 20\\n\\ndef f1() :\\n    a = 10          # \\n    print(a)\\n    print(locals())',\n",
       " '_i71': 'a = 20\\n\\ndef f1() :\\n    a = 10          # \\n    print(a)\\n    print(locals())',\n",
       " '_i72': 'f1',\n",
       " '_72': <function __main__.f1()>,\n",
       " '_i73': 'f1()',\n",
       " '_i74': 'f1()',\n",
       " '_i75': 'golbals()',\n",
       " '_i76': 'globals()'}"
      ]
     },
     "execution_count": 76,
     "metadata": {},
     "output_type": "execute_result"
    }
   ],
   "source": [
    "globals()   #python jupyter.py 으로 인식하는거 = 전체코드를 해석한거임"
   ]
  },
  {
   "cell_type": "code",
   "execution_count": 83,
   "id": "68e0a8a5-f9ce-4962-9155-07eca54aa590",
   "metadata": {},
   "outputs": [],
   "source": [
    "#p.269\n",
    "# 함수 선언 부분 #\n",
    "\n",
    "def f3() :\n",
    "    global a # 이 함수 안에서 a는 전역변수  <global 을 쓰니까 변수값이 치환돼서  밖에서도 그렇게나옴>\n",
    "    a = 30\n",
    "    print(a)"
   ]
  },
  {
   "cell_type": "code",
   "execution_count": 85,
   "id": "ff204248-d6f9-4cff-bc9b-ad628bb88f61",
   "metadata": {},
   "outputs": [
    {
     "name": "stdout",
     "output_type": "stream",
     "text": [
      "30\n"
     ]
    }
   ],
   "source": [
    "f3()"
   ]
  },
  {
   "cell_type": "code",
   "execution_count": 87,
   "id": "b84e67aa-f4c6-48e2-94db-82873c15ae64",
   "metadata": {},
   "outputs": [
    {
     "data": {
      "text/plain": [
       "30"
      ]
     },
     "execution_count": 87,
     "metadata": {},
     "output_type": "execute_result"
    }
   ],
   "source": [
    "a"
   ]
  },
  {
   "cell_type": "markdown",
   "id": "16aa3bdf-22f9-4a43-825c-5f6eff965393",
   "metadata": {},
   "source": [
    "####  - 반환값이 여러 개인 함수"
   ]
  },
  {
   "cell_type": "code",
   "execution_count": 92,
   "id": "6cbf5d6c-a142-42d6-81af-5ac58af4ef5b",
   "metadata": {},
   "outputs": [
    {
     "name": "stdout",
     "output_type": "stream",
     "text": [
      "multi()에서 돌려준 값 ==> 300,-100\n"
     ]
    }
   ],
   "source": [
    "#함수 선언 부분#\n",
    "def multi(v1,v2) :\n",
    "    retList = []   # 반환할 리스트\n",
    "    res1 = v1 + v2\n",
    "    res2 = v1 - v2\n",
    "    retList.append(res1)\n",
    "    retList.append(res2)\n",
    "    return retList\n",
    "\n",
    "#전역 변수 선언 부분#\n",
    "myList = []\n",
    "hap ,sub = 0,0\n",
    "\n",
    "#메인 코드 부분\n",
    "myList = multi(100,200)\n",
    "hap = myList[0]\n",
    "sub = myList[1]\n",
    "print(\"multi()에서 돌려준 값 ==> %d,%d\"%(hap,sub))"
   ]
  },
  {
   "cell_type": "code",
   "execution_count": 94,
   "id": "51fe95ff-8d8b-4202-83f9-82137a6aaf3c",
   "metadata": {},
   "outputs": [],
   "source": [
    "def multi(v1, v2) : \n",
    "    res1 = v1 + v2\n",
    "    res2 = v1 - v2\n",
    "    return res1, res2 ,res2, res1"
   ]
  },
  {
   "cell_type": "markdown",
   "id": "9ea7a51a-e87d-4256-b375-cca3c1926ebb",
   "metadata": {},
   "source": [
    "#### PASS"
   ]
  },
  {
   "cell_type": "code",
   "execution_count": 96,
   "id": "43ddcc10-ff14-4520-92fb-94fc6341461c",
   "metadata": {},
   "outputs": [],
   "source": [
    "def f1() : \n",
    "    pass"
   ]
  },
  {
   "cell_type": "code",
   "execution_count": 99,
   "id": "5142181b-6880-4916-9f62-b6e58b6c3237",
   "metadata": {},
   "outputs": [],
   "source": [
    "f1()"
   ]
  },
  {
   "cell_type": "code",
   "execution_count": 101,
   "id": "c949782c-aa42-4861-bc84-7d03a9e935fc",
   "metadata": {},
   "outputs": [],
   "source": [
    "if True :\n",
    "    pass\n",
    "else :\n",
    "    print('End')"
   ]
  },
  {
   "cell_type": "markdown",
   "id": "2db6cd6e-2194-4cf0-8449-c2cbd491b912",
   "metadata": {},
   "source": [
    "## 매개변수 전달"
   ]
  },
  {
   "cell_type": "code",
   "execution_count": 160,
   "id": "a6614a28-b6a8-4c70-9c78-b1a25479be79",
   "metadata": {},
   "outputs": [],
   "source": [
    "def f1 (v1,v2) : \n",
    "    return v1 + v2"
   ]
  },
  {
   "cell_type": "code",
   "execution_count": 161,
   "id": "c1051f39-a2d7-4579-bd95-304655c7f49c",
   "metadata": {},
   "outputs": [],
   "source": [
    "def f2 (v1,v2,v3 ) :\n",
    "    return v1+v2+v3"
   ]
  },
  {
   "cell_type": "code",
   "execution_count": 162,
   "id": "02af5e98-4094-4669-913f-c0e3967b8fcc",
   "metadata": {},
   "outputs": [
    {
     "data": {
      "text/plain": [
       "30"
      ]
     },
     "execution_count": 162,
     "metadata": {},
     "output_type": "execute_result"
    }
   ],
   "source": [
    "f1 (10,20)"
   ]
  },
  {
   "cell_type": "code",
   "execution_count": 111,
   "id": "1f3997fd-493a-4cdd-b715-4661c9e75d93",
   "metadata": {},
   "outputs": [
    {
     "ename": "TypeError",
     "evalue": "f2() missing 1 required positional argument: 'v3'",
     "output_type": "error",
     "traceback": [
      "\u001b[1;31m---------------------------------------------------------------------------\u001b[0m",
      "\u001b[1;31mTypeError\u001b[0m                                 Traceback (most recent call last)",
      "\u001b[1;32m~\\AppData\\Local\\Temp/ipykernel_3704/4209983719.py\u001b[0m in \u001b[0;36m<module>\u001b[1;34m\u001b[0m\n\u001b[1;32m----> 1\u001b[1;33m \u001b[0mf2\u001b[0m\u001b[1;33m(\u001b[0m\u001b[1;36m1\u001b[0m\u001b[1;33m,\u001b[0m\u001b[1;36m2\u001b[0m\u001b[1;33m)\u001b[0m \u001b[1;31m# 이렇게 3개인 매개변수를 2개만 끌어오는 그런식으로하면 오류가 남\u001b[0m\u001b[1;33m\u001b[0m\u001b[1;33m\u001b[0m\u001b[0m\n\u001b[0m",
      "\u001b[1;31mTypeError\u001b[0m: f2() missing 1 required positional argument: 'v3'"
     ]
    }
   ],
   "source": [
    "f2(1,2) # 이렇게 3개인 매개변수를 2개만 끌어오는 그런식으로하면 오류가 남"
   ]
  },
  {
   "cell_type": "markdown",
   "id": "652863b8-7cf3-403e-a874-b20d46f75725",
   "metadata": {},
   "source": [
    "매개변수 기본값 "
   ]
  },
  {
   "cell_type": "code",
   "execution_count": 112,
   "id": "a61bbd4a-47b3-4e6d-aff1-b2909a105d03",
   "metadata": {},
   "outputs": [],
   "source": [
    "def f3(v1,v2,v3 = 0 ) : #매개변수 값이 전달이 안되면 기본값\n",
    "    return v1+v2+v3"
   ]
  },
  {
   "cell_type": "code",
   "execution_count": 115,
   "id": "a99e4a1d-be59-46fb-abb5-50b5d759ff69",
   "metadata": {},
   "outputs": [
    {
     "data": {
      "text/plain": [
       "6"
      ]
     },
     "execution_count": 115,
     "metadata": {},
     "output_type": "execute_result"
    }
   ],
   "source": [
    "f3(1,2,3)"
   ]
  },
  {
   "cell_type": "code",
   "execution_count": 120,
   "id": "d2716bdb-32b2-4dc8-a5aa-a8b00ef563c5",
   "metadata": {},
   "outputs": [
    {
     "data": {
      "text/plain": [
       "3"
      ]
     },
     "execution_count": 120,
     "metadata": {},
     "output_type": "execute_result"
    }
   ],
   "source": [
    "f3(1,2)   # < <위와 같이 기본값으로 설정하면 오류가안남"
   ]
  },
  {
   "cell_type": "code",
   "execution_count": 126,
   "id": "412be95b-56fb-4f74-9acd-4ba96dbdb1b6",
   "metadata": {},
   "outputs": [
    {
     "data": {
      "text/plain": [
       "8"
      ]
     },
     "execution_count": 126,
     "metadata": {},
     "output_type": "execute_result"
    }
   ],
   "source": [
    "f3(v1=1,v2=3,v3=4)"
   ]
  },
  {
   "cell_type": "code",
   "execution_count": 127,
   "id": "c52dbb84-6618-4f59-9d00-d29d90823ba2",
   "metadata": {},
   "outputs": [
    {
     "data": {
      "text/plain": [
       "6"
      ]
     },
     "execution_count": 127,
     "metadata": {},
     "output_type": "execute_result"
    }
   ],
   "source": [
    "f3(v1=1 ,v3=3, v2=2)   ##순서가 바뀐다해도 상관없음 어차피 f3라는 지정을 했기때문에"
   ]
  },
  {
   "cell_type": "markdown",
   "id": "487f8639-e0b0-43b4-a3c4-734ea87561ba",
   "metadata": {},
   "source": [
    "## `*`, `**`    매개변수 (딕셔너리사용)\n",
    "  - 위 f3와 같이 기본값 설정하는데 귀찮으면 이렇게 쓸수 있다는 뜻임"
   ]
  },
  {
   "cell_type": "code",
   "execution_count": 138,
   "id": "3a40bb85-652d-442a-affd-ee11204aa0e1",
   "metadata": {},
   "outputs": [],
   "source": [
    "def f4(*v) :\n",
    "    result = 0\n",
    "    for n in v :\n",
    "        result += n\n",
    "    return result"
   ]
  },
  {
   "cell_type": "code",
   "execution_count": 139,
   "id": "7b8b5507-288e-41df-9492-9cb9f956344a",
   "metadata": {},
   "outputs": [
    {
     "data": {
      "text/plain": [
       "<function __main__.f4(*v)>"
      ]
     },
     "execution_count": 139,
     "metadata": {},
     "output_type": "execute_result"
    }
   ],
   "source": [
    "f4\n"
   ]
  },
  {
   "cell_type": "code",
   "execution_count": 140,
   "id": "d16c0110-a2b0-43c7-a081-a2872582a8fe",
   "metadata": {},
   "outputs": [
    {
     "data": {
      "text/plain": [
       "6"
      ]
     },
     "execution_count": 140,
     "metadata": {},
     "output_type": "execute_result"
    }
   ],
   "source": [
    "f4 (1,2,3)"
   ]
  },
  {
   "cell_type": "code",
   "execution_count": 141,
   "id": "115b1891-1602-49ed-b037-c0442d7864d4",
   "metadata": {},
   "outputs": [
    {
     "data": {
      "text/plain": [
       "1"
      ]
     },
     "execution_count": 141,
     "metadata": {},
     "output_type": "execute_result"
    }
   ],
   "source": [
    "f4(1)"
   ]
  },
  {
   "cell_type": "markdown",
   "id": "513b9081-2bdd-40e1-9d1c-9232fb8b813e",
   "metadata": {},
   "source": [
    "## 딕셔너리 매개변수"
   ]
  },
  {
   "cell_type": "code",
   "execution_count": 158,
   "id": "7617420d-a069-4246-b879-6fe6ee835c75",
   "metadata": {},
   "outputs": [],
   "source": [
    "def f5(**v) :       # **  << 딕셔너리 \n",
    "    for k in v.keys():\n",
    "        print('%s --> %d 명' %(k, v[k]))"
   ]
  },
  {
   "cell_type": "code",
   "execution_count": 159,
   "id": "649e3254-5fe5-405f-beca-f78caad4d589",
   "metadata": {},
   "outputs": [
    {
     "name": "stdout",
     "output_type": "stream",
     "text": [
      "v1 --> 1 명\n",
      "v2 --> 3 명\n",
      "v3 --> 0 명\n"
     ]
    }
   ],
   "source": [
    "f5(v1=1,v2=3,v3=0)"
   ]
  },
  {
   "cell_type": "code",
   "execution_count": null,
   "id": "1a6400eb-586a-477f-b266-8211e593b8f8",
   "metadata": {},
   "outputs": [],
   "source": [
    "f5(1,2,3)"
   ]
  },
  {
   "cell_type": "code",
   "execution_count": 148,
   "id": "8433dee4-8ee5-49aa-9f8f-46aaf0253d7d",
   "metadata": {},
   "outputs": [],
   "source": [
    "def myfunction(*args, **kwargs):\n",
    "    print('args :', args)\n",
    "    print('kwargs :',kwargs)"
   ]
  },
  {
   "cell_type": "code",
   "execution_count": 149,
   "id": "80da3f12-d4fd-4c64-a8ed-9c1415b7383b",
   "metadata": {},
   "outputs": [
    {
     "name": "stdout",
     "output_type": "stream",
     "text": [
      "args : ()\n",
      "kwargs : {}\n"
     ]
    }
   ],
   "source": [
    "myfunction()"
   ]
  },
  {
   "cell_type": "code",
   "execution_count": 151,
   "id": "c1e9bb6b-d9e1-4c2e-b0a6-49a8690d6813",
   "metadata": {},
   "outputs": [
    {
     "name": "stdout",
     "output_type": "stream",
     "text": [
      "args : (1,)\n",
      "kwargs : {}\n"
     ]
    }
   ],
   "source": [
    "myfunction(1)"
   ]
  },
  {
   "cell_type": "code",
   "execution_count": 153,
   "id": "e220e7b1-29ed-4043-b9f1-f23548cf4901",
   "metadata": {},
   "outputs": [
    {
     "name": "stdout",
     "output_type": "stream",
     "text": [
      "args : ()\n",
      "kwargs : {'a': 3}\n"
     ]
    }
   ],
   "source": [
    "myfunction(a=3)"
   ]
  },
  {
   "cell_type": "code",
   "execution_count": 163,
   "id": "1746fb6c-2454-4a40-9cdd-2464089a6340",
   "metadata": {},
   "outputs": [
    {
     "name": "stdout",
     "output_type": "stream",
     "text": [
      "args : (1, 2, 3)\n",
      "kwargs : {'a': 3}\n"
     ]
    }
   ],
   "source": [
    "myfunction(1,2,3, a=3)   # <위에 설정한 것처럼 때문에 무조건 숫자가 먼저 튜플안에와야함"
   ]
  },
  {
   "cell_type": "markdown",
   "id": "eec85fcd-a490-49f2-b8f0-26a66c94208c",
   "metadata": {},
   "source": [
    "## - 모듈 : 함수의 집합\n",
    " - `import MODULE`\n",
    " - `import MODULE as alias\n",
    " - `from MODULE import func1,func2`"
   ]
  },
  {
   "cell_type": "code",
   "execution_count": 173,
   "id": "74364f9d-98ca-4084-98f3-2836362f7be3",
   "metadata": {},
   "outputs": [],
   "source": [
    "import Module # 이름 지정해야함 모듈파일"
   ]
  },
  {
   "cell_type": "code",
   "execution_count": 175,
   "id": "97a01fec-9e7f-4d77-8f44-a4646346b828",
   "metadata": {},
   "outputs": [
    {
     "data": {
      "text/plain": [
       "module"
      ]
     },
     "execution_count": 175,
     "metadata": {},
     "output_type": "execute_result"
    }
   ],
   "source": [
    "type(Module)"
   ]
  },
  {
   "cell_type": "code",
   "execution_count": 179,
   "id": "8129f088-b4a1-4d6c-9157-5a766946a925",
   "metadata": {},
   "outputs": [
    {
     "name": "stdout",
     "output_type": "stream",
     "text": [
      "Module1.py의 func1()\n"
     ]
    }
   ],
   "source": [
    "Module.func1()   #함수"
   ]
  },
  {
   "cell_type": "code",
   "execution_count": 181,
   "id": "fed4628e-7cf5-4baa-94ef-bd8d170e2fcb",
   "metadata": {},
   "outputs": [
    {
     "data": {
      "text/plain": [
       "<function Module.func1()>"
      ]
     },
     "execution_count": 181,
     "metadata": {},
     "output_type": "execute_result"
    }
   ],
   "source": [
    "Module.func1      #객체 "
   ]
  },
  {
   "cell_type": "code",
   "execution_count": 221,
   "id": "d6f68464-f92a-46c5-beb3-5d5f8e715a8f",
   "metadata": {},
   "outputs": [],
   "source": [
    "import Module1 as m1"
   ]
  },
  {
   "cell_type": "code",
   "execution_count": 183,
   "id": "91b10b48-570e-44b9-a738-7696664a1eb0",
   "metadata": {},
   "outputs": [],
   "source": [
    "# 모듈 안의 특정한 객체만 가져올때!"
   ]
  },
  {
   "cell_type": "code",
   "execution_count": 222,
   "id": "79b01c0a-aa77-43bc-906f-562eb2e442f3",
   "metadata": {},
   "outputs": [],
   "source": [
    "from Module1 import func1, func2"
   ]
  },
  {
   "cell_type": "code",
   "execution_count": 190,
   "id": "17923266-06d1-43aa-a300-7c5a51a17dc7",
   "metadata": {},
   "outputs": [
    {
     "name": "stdout",
     "output_type": "stream",
     "text": [
      " C 드라이브의 볼륨에는 이름이 없습니다.\n",
      " 볼륨 일련 번호: 7897-893C\n",
      "\n",
      " C:\\Users\\BIT\\Works 디렉터리\n",
      "\n",
      "\n",
      " C:\\Users\\BIT\\Works 디렉터리\n",
      "\n",
      "\n",
      " C:\\Users\\BIT\\Works 디렉터리\n",
      "\n",
      "2022-03-24  오후 03:11               186 Module.py\n",
      "2022-03-24  오후 03:19                64 Module2.py\n",
      "               2개 파일                 250 바이트\n",
      "               0개 디렉터리  93,179,564,032 바이트 남음\n"
     ]
    }
   ],
   "source": [
    "%ls *.py    #Module2랑 연동된거임"
   ]
  },
  {
   "cell_type": "code",
   "execution_count": 191,
   "id": "d9b89aee-1483-49f3-b791-64dbc9f88230",
   "metadata": {},
   "outputs": [
    {
     "name": "stdout",
     "output_type": "stream",
     "text": [
      "Module2 --> func1()\n"
     ]
    }
   ],
   "source": [
    "!python Module2.py"
   ]
  },
  {
   "cell_type": "code",
   "execution_count": 197,
   "id": "932d41bc-281b-43b8-a33e-b37587e70c91",
   "metadata": {},
   "outputs": [],
   "source": [
    "#다른 사람.\n",
    "import Module2"
   ]
  },
  {
   "cell_type": "code",
   "execution_count": 199,
   "id": "fbe8c243-159f-4903-88c9-dd89d4e08f33",
   "metadata": {},
   "outputs": [
    {
     "name": "stdout",
     "output_type": "stream",
     "text": [
      "Module2 --> func1()\n"
     ]
    }
   ],
   "source": [
    "Module2.func1()"
   ]
  },
  {
   "cell_type": "markdown",
   "id": "23e767e3-cf49-4723-a015-ae66ae73e62a",
   "metadata": {},
   "source": [
    "## __main__적용\n",
    " - C / java 컴파일러 언어 -> start point \n",
    "   - 시작하는 함수\n",
    "   \n",
    " - startpoint 대체\n",
    " - 모듈의 테스트 코드"
   ]
  },
  {
   "cell_type": "code",
   "execution_count": 204,
   "id": "6c6c8df0-01da-47df-abbd-f16a58904dff",
   "metadata": {},
   "outputs": [],
   "source": [
    "# p.86 __main__ 적용"
   ]
  },
  {
   "cell_type": "code",
   "execution_count": 216,
   "id": "75fa6948-a3f2-4a5c-a50e-71539f629ed2",
   "metadata": {},
   "outputs": [],
   "source": [
    "!python Module4.py"
   ]
  },
  {
   "cell_type": "code",
   "execution_count": 223,
   "id": "078e342d-d4dd-45d7-9dbd-d1c55bd9e38c",
   "metadata": {},
   "outputs": [],
   "source": [
    "import Module4"
   ]
  },
  {
   "cell_type": "code",
   "execution_count": 231,
   "id": "5feee2c5-109e-40be-8b61-7117fe4c58fa",
   "metadata": {},
   "outputs": [
    {
     "name": "stdout",
     "output_type": "stream",
     "text": [
      "('_abc', '_ast', '_bisect', '_blake2', '_codecs', '_codecs_cn', '_codecs_hk', '_codecs_iso2022', '_codecs_jp', '_codecs_kr', '_codecs_tw', '_collections', '_contextvars', '_csv', '_datetime', '_functools', '_heapq', '_imp', '_io', '_json', '_locale', '_lsprof', '_md5', '_multibytecodec', '_opcode', '_operator', '_peg_parser', '_pickle', '_random', '_sha1', '_sha256', '_sha3', '_sha512', '_signal', '_sre', '_stat', '_statistics', '_string', '_struct', '_symtable', '_thread', '_tracemalloc', '_warnings', '_weakref', '_winapi', '_xxsubinterpreters', 'array', 'atexit', 'audioop', 'binascii', 'builtins', 'cmath', 'errno', 'faulthandler', 'gc', 'itertools', 'marshal', 'math', 'mmap', 'msvcrt', 'nt', 'parser', 'sys', 'time', 'winreg', 'xxsubtype', 'zlib')\n"
     ]
    }
   ],
   "source": [
    "import sys\n",
    "print(sys.builtin_module_names)"
   ]
  },
  {
   "cell_type": "code",
   "execution_count": 233,
   "id": "9b017917-0533-4f63-a918-0ddb2b0059f2",
   "metadata": {},
   "outputs": [
    {
     "data": {
      "text/plain": [
       "['__builtins__',\n",
       " '__cached__',\n",
       " '__doc__',\n",
       " '__file__',\n",
       " '__loader__',\n",
       " '__name__',\n",
       " '__package__',\n",
       " '__spec__']"
      ]
     },
     "execution_count": 233,
     "metadata": {},
     "output_type": "execute_result"
    }
   ],
   "source": [
    "dir(Module4)"
   ]
  },
  {
   "cell_type": "code",
   "execution_count": 235,
   "id": "b8331c16-414b-4533-8ec5-51b831a52c35",
   "metadata": {},
   "outputs": [
    {
     "data": {
      "text/plain": [
       "'Module4'"
      ]
     },
     "execution_count": 235,
     "metadata": {},
     "output_type": "execute_result"
    }
   ],
   "source": [
    "Module4.__name__"
   ]
  },
  {
   "cell_type": "markdown",
   "id": "00667d97-a2b4-4ff5-99af-8d47f39f7719",
   "metadata": {},
   "source": [
    "실습: p277 예제 로또 코드\n",
    "- 1.getNumber 를 LottoModule.py 에 정의한다.\n",
    "- 2.LottoModule 을 가져와 p.277코드를 완성한다."
   ]
  },
  {
   "cell_type": "code",
   "execution_count": 236,
   "id": "9b2156fc-50d2-49a6-922b-6c9251dd5dd1",
   "metadata": {},
   "outputs": [],
   "source": [
    "!python LottoModule.py"
   ]
  },
  {
   "cell_type": "code",
   "execution_count": 1,
   "id": "6ad357c8-5083-4714-85ac-1bb9558907bb",
   "metadata": {},
   "outputs": [],
   "source": [
    "import LottoModule2 as lm"
   ]
  },
  {
   "cell_type": "code",
   "execution_count": 3,
   "id": "558af1c0-4502-4098-b769-8bc665eb0cd9",
   "metadata": {},
   "outputs": [
    {
     "name": "stdout",
     "output_type": "stream",
     "text": [
      "** 로또 추첨을 시작합니다.**\n",
      "\n",
      "추첨된 로또 번호 ==>  추첨된 로또 번호 ==>  추첨된 로또 번호 ==>  추첨된 로또 번호 ==>  추첨된 로또 번호 ==>  추첨된 로또 번호 ==>  6 10 17 22 35 38 "
     ]
    }
   ],
   "source": [
    "import LottoModule2 as lm\n",
    "import random\n",
    "# def 줄 빼고 다쓰면됌\n",
    "lotto = []\n",
    "num = 0\n",
    "\n",
    "print(\"** 로또 추첨을 시작합니다.**\\n\");\n",
    "\n",
    "while True :\n",
    "    num = lm.getNumber()\n",
    "    \n",
    "    if lotto.count(num) == 0 :\n",
    "        lotto.append(num)\n",
    "        \n",
    "    if len(lotto) >= 6 :\n",
    "        break\n",
    "\n",
    "    print(\"추첨된 로또 번호 ==> \" , end = ' ')\n",
    "lotto.sort()\n",
    "for i in range(0,6) :\n",
    "    print(\"%d \" %lotto[i], end='')"
   ]
  },
  {
   "cell_type": "code",
   "execution_count": null,
   "id": "ff211138-0286-4a20-8e33-b99071a87347",
   "metadata": {},
   "outputs": [],
   "source": []
  }
 ],
 "metadata": {
  "kernelspec": {
   "display_name": "Python 3 (ipykernel)",
   "language": "python",
   "name": "python3"
  },
  "language_info": {
   "codemirror_mode": {
    "name": "ipython",
    "version": 3
   },
   "file_extension": ".py",
   "mimetype": "text/x-python",
   "name": "python",
   "nbconvert_exporter": "python",
   "pygments_lexer": "ipython3",
   "version": "3.9.7"
  }
 },
 "nbformat": 4,
 "nbformat_minor": 5
}
