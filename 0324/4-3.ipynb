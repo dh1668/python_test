{
 "cells": [
  {
   "cell_type": "code",
   "execution_count": 5,
   "id": "3048d3f2-39ab-4467-9e59-2670bbacc531",
   "metadata": {},
   "outputs": [],
   "source": [
    "import mypackage.Module5          #패키지에 넣고 연동하기"
   ]
  },
  {
   "cell_type": "markdown",
   "id": "1ac7018a-3e5f-42c7-a509-483947a779e7",
   "metadata": {},
   "source": [
    "## Lambda 함수\n",
    " `lambda` 키워 > 이름이 없는 함수를 만든다."
   ]
  },
  {
   "cell_type": "code",
   "execution_count": 8,
   "id": "124723fb-860f-4983-9998-7540b7858b06",
   "metadata": {},
   "outputs": [],
   "source": [
    "hap2 = lambda x, y : x + y     #모듈 5이랑 연결중임"
   ]
  },
  {
   "cell_type": "code",
   "execution_count": 10,
   "id": "e9508ea9-509d-4e43-a74e-594b7db29d1f",
   "metadata": {},
   "outputs": [
    {
     "data": {
      "text/plain": [
       "function"
      ]
     },
     "execution_count": 3,
     "metadata": {},
     "output_type": "execute_result"
    }
   ],
   "source": [
    "type(hap2)"
   ]
  },
  {
   "cell_type": "code",
   "execution_count": 11,
   "id": "44632844-8cc2-46bd-ac3d-fb29b2f85b7d",
   "metadata": {},
   "outputs": [
    {
     "data": {
      "text/plain": [
       "<function __main__.<lambda>(x, y)>"
      ]
     },
     "execution_count": 4,
     "metadata": {},
     "output_type": "execute_result"
    }
   ],
   "source": [
    "hap2"
   ]
  },
  {
   "cell_type": "code",
   "execution_count": 13,
   "id": "ea3cfbb4-d1ad-4dc3-9a2a-617963a720e1",
   "metadata": {},
   "outputs": [
    {
     "data": {
      "text/plain": [
       "300"
      ]
     },
     "execution_count": 5,
     "metadata": {},
     "output_type": "execute_result"
    }
   ],
   "source": [
    "hap2(100,200)"
   ]
  },
  {
   "cell_type": "code",
   "execution_count": 14,
   "id": "a6c70769-54d8-4ab7-8219-3c08ac1ff78c",
   "metadata": {},
   "outputs": [],
   "source": [
    "hap2 = lambda x = 10 , y=20  :x + y"
   ]
  },
  {
   "cell_type": "code",
   "execution_count": 15,
   "id": "8e32c785-8692-4ef3-b6b5-3af4c330492f",
   "metadata": {},
   "outputs": [
    {
     "data": {
      "text/plain": [
       "30"
      ]
     },
     "execution_count": 7,
     "metadata": {},
     "output_type": "execute_result"
    }
   ],
   "source": [
    "hap2()"
   ]
  },
  {
   "cell_type": "code",
   "execution_count": 18,
   "id": "fcd177e5-1b56-4e9a-8ccc-2282f3ce70f9",
   "metadata": {},
   "outputs": [
    {
     "name": "stdout",
     "output_type": "stream",
     "text": [
      "[11, 12, 13, 14, 15]\n"
     ]
    }
   ],
   "source": [
    "li = [1,2,3,4,5]\n",
    "\n",
    "result = list(map(lambda x : x + 10 , li ))\n",
    "print(result)"
   ]
  },
  {
   "cell_type": "markdown",
   "id": "912113b4-f2bc-473b-a590-ea7f276a97b3",
   "metadata": {},
   "source": [
    "## 재귀 함수\n",
    "\n",
    " - 자신이 자신을 호출"
   ]
  },
  {
   "cell_type": "code",
   "execution_count": null,
   "id": "2ca314ef-30d6-4283-9280-ff3800640c60",
   "metadata": {},
   "outputs": [
    {
     "name": "stdout",
     "output_type": "stream",
     "text": [
      "HelloHelloHelloHelloHelloHelloHelloHelloHelloHelloHelloHelloHelloHelloHelloHelloHelloHelloHelloHelloHelloHelloHelloHelloHelloHelloHelloHelloHelloHelloHelloHelloHelloHelloHelloHelloHelloHelloHelloHelloHelloHelloHelloHelloHelloHelloHelloHelloHelloHelloHelloHelloHelloHelloHelloHelloHelloHelloHelloHelloHelloHelloHelloHelloHelloHelloHelloHelloHelloHelloHelloHelloHelloHelloHelloHelloHelloHelloHelloHelloHelloHelloHelloHelloHelloHelloHelloHelloHelloHelloHelloHelloHelloHelloHelloHelloHelloHelloHelloHelloHelloHelloHelloHelloHelloHelloHelloHelloHelloHelloHelloHelloHelloHelloHelloHelloHelloHelloHelloHelloHelloHelloHelloHelloHelloHelloHelloHelloHelloHelloHelloHelloHelloHelloHelloHelloHelloHelloHelloHelloHelloHelloHelloHelloHelloHelloHelloHelloHelloHelloHelloHelloHelloHelloHelloHelloHelloHelloHelloHelloHelloHelloHelloHelloHelloHelloHelloHelloHelloHelloHelloHelloHelloHelloHelloHelloHelloHelloHelloHelloHelloHelloHelloHelloHelloHelloHelloHelloHelloHelloHelloHelloHelloHelloHelloHelloHelloHelloHelloHelloHelloHelloHelloHelloHelloHelloHelloHelloHelloHelloHelloHelloHelloHelloHelloHelloHelloHelloHelloHelloHelloHelloHelloHelloHelloHelloHelloHelloHelloHelloHelloHelloHelloHelloHelloHelloHelloHelloHelloHelloHelloHelloHelloHelloHelloHelloHelloHelloHelloHelloHelloHelloHelloHelloHelloHelloHelloHelloHelloHelloHelloHelloHelloHelloHelloHelloHelloHelloHelloHelloHelloHelloHelloHelloHelloHelloHelloHelloHelloHelloHelloHelloHelloHelloHelloHelloHelloHelloHelloHelloHelloHelloHelloHelloHelloHelloHelloHelloHelloHelloHelloHelloHelloHelloHelloHelloHelloHelloHelloHelloHelloHelloHelloHelloHelloHelloHelloHelloHelloHelloHelloHelloHelloHelloHelloHelloHelloHelloHelloHelloHelloHelloHelloHelloHelloHelloHelloHelloHelloHelloHelloHelloHelloHelloHelloHelloHelloHelloHelloHelloHelloHelloHelloHelloHelloHelloHelloHelloHelloHelloHelloHelloHelloHelloHelloHelloHelloHelloHelloHelloHelloHelloHelloHelloHelloHelloHelloHelloHelloHelloHelloHelloHelloHelloHelloHelloHelloHelloHelloHelloHelloHelloHelloHelloHelloHelloHelloHelloHelloHelloHelloHelloHelloHelloHelloHelloHelloHelloHelloHelloHelloHelloHelloHelloHelloHelloHelloHelloHelloHelloHelloHelloHelloHelloHelloHelloHelloHelloHelloHelloHelloHelloHelloHelloHelloHelloHelloHelloHelloHelloHelloHelloHelloHelloHelloHelloHelloHelloHelloHelloHelloHelloHelloHelloHelloHelloHelloHelloHelloHelloHelloHelloHelloHelloHelloHelloHelloHelloHelloHelloHelloHelloHelloHelloHelloHelloHelloHelloHelloHelloHelloHelloHelloHelloHelloHelloHelloHelloHelloHelloHelloHelloHelloHelloHelloHelloHelloHelloHelloHelloHelloHelloHelloHelloHelloHelloHelloHelloHelloHelloHelloHelloHelloHelloHelloHelloHelloHelloHelloHelloHelloHelloHelloHelloHelloHelloHelloHelloHelloHelloHelloHelloHelloHelloHelloHelloHelloHelloHelloHelloHelloHelloHelloHelloHelloHelloHelloHelloHelloHelloHelloHelloHelloHelloHelloHelloHelloHelloHelloHelloHelloHelloHelloHelloHelloHelloHelloHelloHelloHelloHelloHelloHelloHelloHelloHelloHelloHelloHelloHelloHelloHelloHelloHelloHelloHelloHelloHelloHelloHelloHelloHelloHelloHelloHelloHelloHelloHelloHelloHelloHelloHelloHelloHelloHelloHelloHelloHelloHelloHelloHelloHelloHelloHelloHelloHelloHelloHelloHelloHelloHelloHelloHelloHelloHelloHelloHelloHelloHelloHelloHelloHelloHelloHelloHelloHelloHelloHelloHelloHelloHelloHelloHelloHelloHelloHelloHelloHelloHelloHelloHelloHelloHelloHelloHelloHelloHelloHelloHelloHelloHelloHelloHelloHelloHelloHelloHelloHelloHelloHelloHelloHelloHelloHelloHelloHelloHelloHelloHelloHelloHelloHelloHelloHelloHelloHelloHelloHelloHelloHelloHelloHelloHelloHelloHelloHelloHelloHelloHelloHelloHelloHelloHelloHelloHelloHelloHelloHelloHelloHelloHelloHelloHelloHelloHelloHelloHelloHelloHelloHelloHelloHelloHelloHelloHelloHelloHelloHelloHelloHelloHelloHelloHelloHelloHelloHelloHelloHelloHelloHelloHelloHelloHelloHelloHelloHelloHelloHelloHelloHelloHelloHelloHelloHelloHelloHelloHelloHelloHelloHelloHelloHelloHelloHelloHelloHelloHelloHelloHelloHelloHelloHelloHelloHelloHelloHelloHelloHelloHelloHelloHelloHelloHelloHelloHelloHelloHelloHelloHelloHelloHelloHelloHelloHelloHelloHelloHelloHelloHelloHelloHelloHelloHelloHelloHelloHelloHelloHelloHelloHelloHelloHelloHelloHelloHelloHelloHelloHelloHelloHelloHelloHelloHelloHelloHelloHelloHelloHelloHelloHelloHelloHelloHelloHelloHelloHelloHelloHelloHelloHelloHelloHelloHelloHelloHelloHelloHelloHelloHelloHelloHelloHelloHelloHelloHelloHelloHelloHelloHelloHelloHelloHelloHelloHelloHelloHelloHelloHelloHelloHelloHelloHelloHelloHelloHelloHelloHelloHelloHelloHelloHelloHelloHelloHelloHelloHelloHelloHelloHelloHelloHelloHelloHelloHelloHelloHelloHelloHelloHelloHelloHelloHelloHelloHelloHelloHelloHelloHelloHelloHelloHelloHelloHelloHelloHelloHelloHelloHelloHelloHelloHelloHelloHelloHelloHelloHelloHelloHelloHelloHelloHelloHelloHelloHelloHelloHelloHelloHelloHelloHelloHelloHelloHelloHelloHelloHelloHelloHelloHelloHelloHelloHelloHelloHelloHelloHelloHelloHelloHelloHelloHelloHelloHelloHelloHelloHelloHelloHelloHelloHelloHelloHelloHelloHelloHelloHelloHelloHelloHelloHelloHelloHelloHelloHelloHelloHelloHelloHelloHelloHelloHelloHelloHelloHelloHelloHelloHelloHelloHelloHelloHelloHelloHelloHelloHelloHelloHelloHelloHelloHelloHelloHelloHelloHelloHelloHelloHelloHelloHelloHelloHelloHelloHelloHelloHelloHelloHelloHelloHelloHelloHelloHelloHelloHelloHelloHelloHelloHelloHelloHelloHelloHelloHelloHelloHelloHelloHelloHelloHelloHelloHelloHelloHelloHelloHelloHelloHelloHelloHelloHelloHelloHelloHelloHelloHelloHelloHelloHelloHelloHelloHelloHelloHelloHelloHelloHelloHelloHelloHelloHelloHelloHelloHelloHelloHelloHelloHelloHelloHelloHelloHelloHelloHelloHelloHelloHelloHelloHelloHelloHelloHelloHelloHelloHelloHelloHelloHelloHelloHelloHelloHelloHelloHelloHelloHelloHelloHelloHelloHelloHelloHelloHelloHelloHelloHelloHelloHelloHelloHelloHelloHelloHelloHelloHelloHelloHelloHelloHelloHelloHelloHelloHelloHelloHelloHelloHelloHelloHelloHelloHelloHelloHelloHelloHelloHelloHelloHelloHelloHelloHelloHelloHelloHelloHelloHelloHelloHelloHelloHelloHelloHelloHelloHelloHelloHelloHelloHelloHelloHelloHelloHelloHelloHelloHelloHelloHelloHelloHelloHelloHelloHelloHelloHelloHelloHelloHelloHelloHelloHelloHelloHelloHelloHelloHelloHelloHelloHelloHelloHelloHelloHelloHelloHelloHelloHelloHelloHelloHelloHelloHelloHelloHelloHelloHelloHelloHelloHelloHelloHelloHelloHelloHelloHelloHelloHelloHelloHelloHelloHelloHelloHelloHelloHelloHelloHelloHelloHelloHelloHelloHelloHelloHelloHelloHelloHelloHelloHelloHelloHelloHelloHelloHelloHelloHelloHelloHelloHelloHelloHelloHelloHelloHelloHelloHelloHelloHelloHelloHelloHelloHelloHelloHelloHelloHelloHelloHelloHelloHelloHelloHelloHelloHelloHelloHelloHelloHelloHelloHelloHelloHelloHelloHelloHelloHelloHelloHelloHelloHelloHelloHelloHelloHelloHelloHelloHelloHelloHelloHelloHelloHelloHelloHelloHelloHelloHelloHelloHelloHelloHelloHelloHelloHelloHelloHelloHelloHelloHelloHelloHelloHelloHelloHelloHelloHelloHelloHelloHelloHelloHelloHelloHelloHelloHelloHelloHelloHelloHelloHelloHelloHelloHelloHelloHelloHelloHelloHelloHelloHelloHelloHelloHelloHelloHelloHelloHelloHelloHelloHelloHelloHelloHelloHelloHelloHelloHelloHelloHelloHelloHelloHelloHelloHelloHelloHelloHelloHelloHelloHelloHelloHelloHelloHelloHelloHelloHelloHelloHelloHelloHelloHelloHelloHelloHelloHelloHelloHelloHelloHelloHelloHelloHelloHelloHelloHelloHelloHelloHelloHelloHelloHelloHelloHelloHelloHelloHelloHelloHelloHelloHelloHelloHelloHelloHelloHelloHelloHelloHelloHelloHelloHelloHelloHelloHelloHelloHelloHelloHelloHelloHelloHelloHelloHelloHelloHelloHelloHelloHelloHelloHelloHelloHelloHelloHelloHelloHelloHelloHelloHelloHelloHelloHelloHelloHelloHelloHelloHelloHelloHelloHelloHelloHelloHelloHelloHelloHelloHelloHelloHelloHelloHelloHelloHelloHelloHelloHelloHelloHelloHelloHelloHelloHelloHelloHelloHelloHelloHelloHelloHelloHelloHelloHelloHelloHelloHelloHelloHelloHelloHelloHelloHelloHelloHelloHelloHelloHelloHelloHelloHelloHelloHelloHelloHelloHelloHelloHelloHelloHelloHelloHelloHelloHelloHelloHelloHelloHelloHelloHelloHelloHelloHelloHelloHelloHelloHelloHelloHelloHelloHelloHelloHelloHelloHelloHelloHelloHelloHelloHelloHelloHelloHelloHelloHelloHelloHelloHelloHelloHelloHelloHelloHelloHelloHelloHelloHelloHelloHelloHelloHelloHelloHelloHelloHelloHelloHelloHelloHelloHelloHelloHelloHelloHelloHelloHelloHelloHelloHelloHelloHelloHelloHelloHelloHelloHelloHelloHelloHelloHelloHelloHelloHelloHelloHelloHelloHelloHelloHelloHelloHelloHelloHelloHelloHelloHelloHelloHelloHelloHelloHelloHelloHelloHelloHelloHelloHelloHelloHelloHelloHelloHelloHelloHelloHelloHelloHelloHelloHelloHelloHelloHelloHelloHelloHelloHelloHelloHelloHelloHelloHelloHelloHelloHelloHelloHelloHelloHelloHelloHelloHelloHelloHelloHelloHelloHelloHelloHelloHelloHelloHelloHelloHelloHelloHelloHelloHelloHelloHelloHelloHelloHelloHelloHelloHelloHelloHelloHelloHelloHelloHelloHelloHelloHelloHelloHelloHelloHelloHelloHelloHelloHelloHelloHelloHelloHelloHelloHelloHelloHelloHelloHelloHelloHelloHelloHelloHelloHelloHelloHelloHelloHelloHelloHelloHelloHelloHelloHelloHelloHelloHelloHelloHelloHelloHelloHelloHelloHelloHelloHelloHelloHelloHelloHelloHelloHelloHelloHelloHelloHelloHelloHelloHelloHelloHelloHelloHelloHelloHelloHelloHelloHelloHelloHelloHelloHelloHelloHelloHelloHelloHelloHelloHelloHelloHelloHelloHelloHelloHelloHelloHelloHelloHelloHelloHelloHelloHelloHelloHelloHelloHelloHelloHelloHelloHelloHelloHelloHelloHelloHelloHelloHelloHelloHelloHelloHelloHelloHelloHelloHelloHelloHelloHelloHelloHelloHelloHelloHelloHelloHelloHelloHelloHelloHelloHelloHelloHelloHelloHelloHelloHelloHelloHelloHelloHelloHelloHelloHelloHelloHelloHelloHelloHelloHelloHelloHelloHelloHelloHelloHelloHelloHelloHelloHelloHelloHelloHelloHelloHelloHelloHelloHelloHelloHelloHelloHelloHelloHelloHelloHelloHelloHelloHelloHelloHelloHelloHelloHelloHelloHelloHelloHelloHelloHelloHelloHelloHelloHelloHelloHelloHelloHelloHelloHelloHelloHelloHelloHelloHelloHelloHelloHelloHelloHelloHelloHelloHelloHelloHelloHelloHelloHelloHelloHelloHelloHelloHelloHelloHelloHelloHelloHelloHelloHelloHelloHelloHelloHelloHelloHelloHelloHelloHelloHelloHelloHelloHelloHelloHelloHelloHelloHelloHelloHelloHelloHelloHelloHelloHelloHelloHelloHelloHelloHelloHelloHelloHelloHelloHelloHelloHelloHelloHelloHelloHelloHelloHelloHelloHelloHelloHelloHelloHelloHelloHelloHelloHelloHelloHelloHelloHelloHelloHelloHelloHelloHelloHelloHelloHelloHelloHelloHelloHelloHelloHelloHelloHelloHelloHelloHelloHelloHelloHelloHelloHelloHelloHelloHelloHelloHelloHelloHelloHelloHelloHelloHelloHelloHelloHelloHelloHelloHelloHelloHelloHelloHelloHelloHelloHelloHelloHelloHelloHelloHelloHelloHelloHelloHelloHelloHelloHelloHelloHelloHelloHelloHelloHelloHelloHelloHelloHelloHelloHelloHelloHelloHelloHelloHelloHelloHelloHelloHelloHelloHelloHelloHelloHelloHelloHelloHelloHelloHelloHelloHelloHelloHelloHelloHelloHelloHelloHelloHelloHelloHelloHelloHelloHelloHelloHelloHelloHelloHelloHelloHelloHelloHelloHelloHelloHelloHelloHelloHelloHelloHelloHelloHelloHelloHelloHelloHelloHelloHelloHelloHelloHelloHelloHelloHelloHelloHelloHelloHelloHelloHelloHelloHelloHelloHelloHelloHelloHelloHelloHelloHelloHelloHelloHelloHelloHelloHelloHelloHelloHelloHelloHelloHelloHelloHelloHelloHelloHelloHelloHelloHelloHelloHelloHelloHelloHelloHelloHelloHelloHelloHelloHelloHelloHelloHelloHelloHelloHelloHelloHelloHelloHelloHelloHelloHelloHelloHelloHelloHelloHelloHelloHelloHelloHelloHelloHelloHelloHelloHelloHelloHelloHelloHelloHelloHelloHelloHelloHelloHelloHelloHelloHelloHelloHelloHelloHelloHelloHelloHelloHelloHelloHelloHelloHelloHelloHelloHelloHelloHelloHelloHelloHelloHelloHelloHelloHelloHelloHelloHelloHelloHelloHelloHelloHelloHelloHelloHelloHelloHelloHelloHelloHelloHelloHelloHelloHelloHelloHelloHelloHelloHelloHelloHelloHelloHelloHelloHelloHelloHelloHelloHelloHelloHelloHelloHelloHelloHelloHelloHelloHelloHelloHelloHelloHelloHelloHelloHelloHelloHelloHelloHelloHelloHelloHelloHelloHelloHelloHelloHelloHelloHelloHelloHelloHelloHelloHelloHelloHelloHelloHelloHelloHelloHelloHelloHelloHelloHelloHelloHelloHelloHelloHelloHelloHelloHelloHelloHelloHelloHelloHelloHelloHelloHelloHelloHelloHelloHelloHelloHelloHelloHelloHelloHelloHelloHelloHelloHelloHelloHelloHelloHelloHelloHelloHelloHelloHelloHelloHelloHelloHelloHelloHelloHelloHelloHelloHelloHelloHelloHelloHelloHelloHelloHelloHelloHelloHelloHelloHelloHelloHelloHelloHelloHelloHelloHelloHelloHelloHelloHelloHelloHelloHelloHelloHelloHelloHelloHelloHelloHelloHello"
     ]
    }
   ],
   "source": [
    "def selfcall() :\n",
    "    print('Hello', end = '')\n",
    "    selfcall()\n",
    "selfcall()"
   ]
  },
  {
   "cell_type": "markdown",
   "id": "79f84698-4fbb-403f-a851-d603197c676b",
   "metadata": {},
   "source": [
    "## 팩토리얼 값을 구하는함수 (factorial)"
   ]
  },
  {
   "cell_type": "code",
   "execution_count": 7,
   "id": "85897208-1633-4ae6-a209-61308ade6c5a",
   "metadata": {},
   "outputs": [],
   "source": [
    "def factorial (num) :\n",
    "    if num <= 1 :\n",
    "        return num\n",
    "    else :\n",
    "        return num* factorial(num-1)\n",
    "print(factorial(4))\n",
    "print(factorial(10))"
   ]
  },
  {
   "cell_type": "markdown",
   "id": "155ba884-7db7-4ce7-a5e3-d420e221d27c",
   "metadata": {},
   "source": [
    "## 제너레이터 와 yield\n",
    "- yield 문 : 함수를 종결하지 않으면서 값을 계속 반환"
   ]
  },
  {
   "cell_type": "code",
   "execution_count": null,
   "id": "e0de517d-42fd-43cc-96cc-d105abd5533c",
   "metadata": {},
   "outputs": [],
   "source": [
    "def genFunc() :\n",
    "    yield 1\n",
    "    yield 2\n",
    "    yield 3\n",
    "print(list(genFunc()))"
   ]
  },
  {
   "cell_type": "markdown",
   "id": "2eb06068-d1ec-4c99-b48f-cbaa65074c5a",
   "metadata": {},
   "source": [
    "# 객체지향 p . 394"
   ]
  },
  {
   "cell_type": "markdown",
   "id": "7b0b1de3-9c20-46c4-a862-7104023f2721",
   "metadata": {},
   "source": [
    "#### 자동차 설계도( class )   자동차(인스턴스) 객체\n",
    "\n",
    "#### printMessage()안에서는 필드를 사용하지 않으므로 이때는 self 생략이 가능"
   ]
  },
  {
   "cell_type": "code",
   "execution_count": null,
   "id": "97547a37-ff14-4c56-bc77-4e6180a09c5c",
   "metadata": {},
   "outputs": [],
   "source": [
    "# class Car :\n",
    "#     # 자동차의 필드\n",
    "#     색상 = \"\"\n",
    "#     현재_속도 = 0\n",
    "    \n",
    "#     # 자동차의 메서드\n",
    "#     def upSpeed(증가할_속도량 ) :\n",
    "#         #현재의 속도에서 증가할 _ 속도량만큼 속도를 올리는 코드\n",
    "#     def downSpeed(감소할_속도량) : \n",
    "#         #현재의 속도에서 감소힐 _ 속도량만큼 속도를 내리는 코드"
   ]
  },
  {
   "cell_type": "code",
   "execution_count": 91,
   "id": "f3a101ab-518c-4659-a5ba-21b1d3f9c934",
   "metadata": {},
   "outputs": [],
   "source": [
    "class Car :                 #클래스의 생성과정\n",
    "    # 속성\n",
    "    color = \"\"\n",
    "    speed = 0\n",
    "    \n",
    "    #메소드\n",
    "    def upspeed(self, value) :\n",
    "        self.speed += value\n",
    "    \n",
    "    def downspeed(self, value) :\n",
    "        self.speed -= value\n",
    "    \n",
    "    def print(self) :     #print 쓰기위해서도 self 를넣어야함\n",
    "        print(\"Car class\")"
   ]
  },
  {
   "cell_type": "code",
   "execution_count": 92,
   "id": "dcf09503-e12e-461e-bf74-b3d56d2feb78",
   "metadata": {},
   "outputs": [
    {
     "data": {
      "text/plain": [
       "__main__.Car"
      ]
     },
     "execution_count": 92,
     "metadata": {},
     "output_type": "execute_result"
    }
   ],
   "source": [
    "Car"
   ]
  },
  {
   "cell_type": "code",
   "execution_count": 93,
   "id": "3e462793-4932-4e62-aa3e-7759da908471",
   "metadata": {},
   "outputs": [
    {
     "data": {
      "text/plain": [
       "type"
      ]
     },
     "execution_count": 93,
     "metadata": {},
     "output_type": "execute_result"
    }
   ],
   "source": [
    "type(Car)"
   ]
  },
  {
   "cell_type": "code",
   "execution_count": 94,
   "id": "9aace874-3548-435f-8df8-013bd7c82b13",
   "metadata": {},
   "outputs": [],
   "source": [
    "Car1 = Car()   # 인스턴스 생성과정\n",
    "Car2 = Car()\n",
    "Car3 = Car()"
   ]
  },
  {
   "cell_type": "code",
   "execution_count": 95,
   "id": "4c568e49-35a4-4ba6-bbe0-7c098c7e82b2",
   "metadata": {},
   "outputs": [
    {
     "data": {
      "text/plain": [
       "__main__.Car"
      ]
     },
     "execution_count": 95,
     "metadata": {},
     "output_type": "execute_result"
    }
   ],
   "source": [
    "type(Car1)"
   ]
  },
  {
   "cell_type": "code",
   "execution_count": 96,
   "id": "bff282da-5288-4d24-8505-eb5f8ad448b6",
   "metadata": {},
   "outputs": [
    {
     "data": {
      "text/plain": [
       "<__main__.Car at 0x20ae4160d00>"
      ]
     },
     "execution_count": 96,
     "metadata": {},
     "output_type": "execute_result"
    }
   ],
   "source": [
    "Car1 # 모듈 객체로 비교해보기 ( 0x20ae4047f70은 클래스의 주소 )"
   ]
  },
  {
   "cell_type": "code",
   "execution_count": 143,
   "id": "63217f04-0554-4dac-8da8-afb539e8bf58",
   "metadata": {},
   "outputs": [],
   "source": [
    "Car1.color = \"빨강\"      #필드값 생성 대입\n",
    "Car1.speed = 0\n",
    "Car2.color = \"파랑\"\n",
    "Car2.speed = 0\n",
    "Car3.color = \"노랑\"\n",
    "Car3.speed = 0"
   ]
  },
  {
   "cell_type": "code",
   "execution_count": 144,
   "id": "35c5acae-58c4-48ad-918f-b1b4f4156150",
   "metadata": {
    "tags": []
   },
   "outputs": [
    {
     "name": "stdout",
     "output_type": "stream",
     "text": [
      "car1 : 빨강,30\n"
     ]
    }
   ],
   "source": [
    "Car1.upspeed(30)           # 메소드 호출\n",
    "print(\"car1 : %s,%d\" % (Car1.color, Car1.speed) )"
   ]
  },
  {
   "cell_type": "code",
   "execution_count": 145,
   "id": "627efb0c-bfab-40f1-b7f5-e7fa6bf913d1",
   "metadata": {
    "tags": []
   },
   "outputs": [
    {
     "name": "stdout",
     "output_type": "stream",
     "text": [
      "car2 :  파랑 20\n"
     ]
    }
   ],
   "source": [
    "Car2.upspeed(20)           # 메소드 호출\n",
    "print(\"car2 : \", Car2.color, Car2.speed )"
   ]
  },
  {
   "cell_type": "code",
   "execution_count": 146,
   "id": "fe55f468-e744-432d-a6b4-251abfb57945",
   "metadata": {
    "tags": []
   },
   "outputs": [
    {
     "name": "stdout",
     "output_type": "stream",
     "text": [
      "car3 :  노랑 10\n"
     ]
    }
   ],
   "source": [
    "Car3.upspeed(10)           # 메소드 호출\n",
    "print(\"car3 : \", Car3.color, Car3.speed )"
   ]
  },
  {
   "cell_type": "markdown",
   "id": "59f9aa67-9512-473b-9a7c-8ff86a2d67c0",
   "metadata": {},
   "source": [
    "#### 클래스 사용순서 p.401참고"
   ]
  },
  {
   "cell_type": "markdown",
   "id": "8233dde6-a6b0-4fa2-ae30-c8fbbfd44ddb",
   "metadata": {},
   "source": [
    "### 생성자 : 인스턴스를 생성하면서 필드 값을 초기화시키는 함수\n",
    " - 생성자 기본\n",
    "   - __init__() 라는 이름\n",
    "   "
   ]
  },
  {
   "cell_type": "code",
   "execution_count": 147,
   "id": "24e0b7b8-7d53-45d5-becc-431b0d6a6d51",
   "metadata": {},
   "outputs": [
    {
     "name": "stdout",
     "output_type": "stream",
     "text": [
      "빨강 빨강\n"
     ]
    }
   ],
   "source": [
    "class Car :                 #클래스의 생성과정\n",
    "    # 속성    : 필드\n",
    "    color = \"\"\n",
    "    speed = 0\n",
    "    \n",
    "    # ★생성자 \n",
    "    def __init__(self) : # self - 매개변수\n",
    "        self.color = \"빨강\"\n",
    "        self.speed = 0\n",
    "    \n",
    "    #메소드\n",
    "    def upspeed(self, value) :\n",
    "        self.speed += value\n",
    "    \n",
    "    def downspeed(self, value) :\n",
    "        self.speed -= value\n",
    "    def print(self) :     #print 쓰기위해서도 self 를넣어야함\n",
    "        print(\"Car class\")\n",
    "\n",
    "        \n",
    "Car1 = Car()\n",
    "Car2 = Car()\n",
    "\n",
    "print(Car1.color, Car2.color)"
   ]
  },
  {
   "cell_type": "code",
   "execution_count": 148,
   "id": "c74872ee-f490-44ac-8e9a-72521e43c1a5",
   "metadata": {},
   "outputs": [
    {
     "name": "stdout",
     "output_type": "stream",
     "text": [
      "빨강 빨강\n"
     ]
    }
   ],
   "source": [
    "Car1 = Car()\n",
    "Car2 = Car()\n",
    "\n",
    "print(Car1.color, Car2.color)"
   ]
  },
  {
   "cell_type": "code",
   "execution_count": 149,
   "id": "2ace340a-3931-4668-93d4-ec6ef7b7c11b",
   "metadata": {
    "tags": []
   },
   "outputs": [],
   "source": [
    "class Car :                 #클래스의 생성과정\n",
    "    # 속성    : 필드  <인스턴스 변수>\n",
    "    color = \"\"\n",
    "    speed = 0\n",
    "    \n",
    "    # ★생성자 \n",
    "    def __init__(self,v1 ,v2) : # self - 매개변수\n",
    "        self.color = v1\n",
    "        self.speed = v2\n",
    "    \n",
    "    #메소드\n",
    "    def upspeed(self, value) :\n",
    "        self.speed += value\n",
    "    \n",
    "    def downspeed(self, value) :\n",
    "        self.speed -= value\n",
    "    \n",
    "    def print(self) :     #print 쓰기위해서도 self 를넣어야함\n",
    "        print(self.color, self.speed)"
   ]
  },
  {
   "cell_type": "code",
   "execution_count": 150,
   "id": "eef5b4d0-05c7-4357-a7cf-5fe339c21cdb",
   "metadata": {},
   "outputs": [],
   "source": [
    "Car1 = Car(\"노랑\",0)\n",
    "Car2 = Car(\"오렌지\",0)"
   ]
  },
  {
   "cell_type": "code",
   "execution_count": 151,
   "id": "cc14929a-fbe3-44ef-902e-5aa65e266a11",
   "metadata": {},
   "outputs": [],
   "source": [
    "#인스턴스 변수 : 필드(속성)\n",
    " #클래스 변수 : "
   ]
  },
  {
   "cell_type": "code",
   "execution_count": 152,
   "id": "99342909-0bc7-4e44-991b-f42a9473f7ca",
   "metadata": {
    "tags": []
   },
   "outputs": [],
   "source": [
    "class Car :                \n",
    "    # 속성    : 필드  <인스턴스 변수>\n",
    "    color = \"\"  #<< 인스턴스 변수\n",
    "    speed = 0   #<< 인스턴스 변수\n",
    "    count = 0   #<< 클래스 변수\n",
    "    \n",
    "    \n",
    "    # ★생성자                       # self  옆 v1 ,v2 = 기본값을 설정하는거임\n",
    "    def __init__(self) : \n",
    "        self.speed =0\n",
    "        Car.count += 1\n",
    "    \n",
    "    #메소드\n",
    "    def upspeed(self, value) :\n",
    "        self.speed += value\n",
    "    \n",
    "    def downspeed(self, value) :\n",
    "        self.speed -= value\n",
    "    \n",
    "    def print(self) :   \n",
    "        print(self.color, self.speed)"
   ]
  },
  {
   "cell_type": "code",
   "execution_count": 153,
   "id": "dd3a7cad-b285-4690-8007-6f9db3d5e97a",
   "metadata": {},
   "outputs": [],
   "source": [
    "Car1= Car()\n",
    "Car1.speed = 30"
   ]
  },
  {
   "cell_type": "code",
   "execution_count": 154,
   "id": "a7187682-40c8-40b9-bb90-d5b835fed988",
   "metadata": {},
   "outputs": [
    {
     "data": {
      "text/plain": [
       "1"
      ]
     },
     "execution_count": 154,
     "metadata": {},
     "output_type": "execute_result"
    }
   ],
   "source": [
    "Car1.count"
   ]
  },
  {
   "cell_type": "code",
   "execution_count": 155,
   "id": "18ff4271-bfad-44ac-b241-33c17b1f6a46",
   "metadata": {},
   "outputs": [],
   "source": [
    "Car2= Car()\n",
    "Car2.speed = 60"
   ]
  },
  {
   "cell_type": "code",
   "execution_count": 156,
   "id": "a3eb4c9b-cb33-4ba1-827f-6d83032f366b",
   "metadata": {},
   "outputs": [
    {
     "data": {
      "text/plain": [
       "60"
      ]
     },
     "execution_count": 156,
     "metadata": {},
     "output_type": "execute_result"
    }
   ],
   "source": [
    "Car2.speed"
   ]
  },
  {
   "cell_type": "code",
   "execution_count": 157,
   "id": "18de7a81-652c-4f4a-9a56-52a6af0cb885",
   "metadata": {},
   "outputs": [
    {
     "data": {
      "text/plain": [
       "2"
      ]
     },
     "execution_count": 157,
     "metadata": {},
     "output_type": "execute_result"
    }
   ],
   "source": [
    "Car2.count"
   ]
  },
  {
   "cell_type": "code",
   "execution_count": 132,
   "id": "97f39799-cb1e-4449-928f-3475d56c4a42",
   "metadata": {},
   "outputs": [
    {
     "data": {
      "text/plain": [
       "3"
      ]
     },
     "execution_count": 132,
     "metadata": {},
     "output_type": "execute_result"
    }
   ],
   "source": [
    "Car2.count"
   ]
  },
  {
   "cell_type": "code",
   "execution_count": 133,
   "id": "8df6a2c1-9ffa-44b7-909e-879ae663dbc2",
   "metadata": {},
   "outputs": [],
   "source": [
    "Car2.count =1000"
   ]
  },
  {
   "cell_type": "code",
   "execution_count": 134,
   "id": "658afe5d-f3e8-4614-a0eb-131e184da4f9",
   "metadata": {},
   "outputs": [
    {
     "data": {
      "text/plain": [
       "3"
      ]
     },
     "execution_count": 134,
     "metadata": {},
     "output_type": "execute_result"
    }
   ],
   "source": [
    "Car1.count"
   ]
  },
  {
   "cell_type": "code",
   "execution_count": 135,
   "id": "d656e04f-514f-41df-84be-d922dba8fc4d",
   "metadata": {},
   "outputs": [
    {
     "data": {
      "text/plain": [
       "3"
      ]
     },
     "execution_count": 135,
     "metadata": {},
     "output_type": "execute_result"
    }
   ],
   "source": [
    "Car.count"
   ]
  },
  {
   "cell_type": "markdown",
   "id": "c790142a-842e-421e-b243-13eeef7d4df7",
   "metadata": {},
   "source": [
    "#### 상속의 개념 Inheritance    /       p.410 \n",
    "\n",
    "- 기존 클래스에 있는 필드와 메소드를 그대로 물려받는 새로운 클래스를 만드는것 "
   ]
  },
  {
   "cell_type": "code",
   "execution_count": 136,
   "id": "250777ca-5829-4a5e-8b92-3b8f5cbe3424",
   "metadata": {},
   "outputs": [],
   "source": [
    "class Car :\n",
    "    speed = 0\n",
    "    \n",
    "    def upspeed(self ,v) :\n",
    "        self.speed += v\n",
    "        print('속도' , self.speed)"
   ]
  },
  {
   "cell_type": "code",
   "execution_count": 138,
   "id": "bff96c77-39eb-4c0f-9922-055b15210234",
   "metadata": {},
   "outputs": [],
   "source": [
    "class Sedan(Car) :\n",
    "    def upspeed(Self, v) :\n",
    "        self.speed += v\n",
    "        \n",
    "        if self.speed > 150:\n",
    "            self.speed = 150"
   ]
  },
  {
   "cell_type": "code",
   "execution_count": 139,
   "id": "87b753ae-fcae-47a0-9af1-8c77f50d228c",
   "metadata": {},
   "outputs": [],
   "source": [
    "class Truck(Car):\n",
    "    pass"
   ]
  },
  {
   "cell_type": "code",
   "execution_count": 140,
   "id": "6ec62893-5688-41e4-807c-eb28a7d8f082",
   "metadata": {},
   "outputs": [],
   "source": [
    "Truck1 = Truck()\n",
    "Sedan1 = Sedan()"
   ]
  },
  {
   "cell_type": "code",
   "execution_count": 142,
   "id": "c2b5fd28-c6e1-4a14-a519-63f4bb76eeed",
   "metadata": {},
   "outputs": [
    {
     "name": "stdout",
     "output_type": "stream",
     "text": [
      "속도 100\n"
     ]
    }
   ],
   "source": [
    "Truck1.upspeed(100)"
   ]
  },
  {
   "cell_type": "code",
   "execution_count": null,
   "id": "ac15d0b3-7cd5-4a62-9a7b-54899367029b",
   "metadata": {},
   "outputs": [],
   "source": []
  }
 ],
 "metadata": {
  "kernelspec": {
   "display_name": "Python 3 (ipykernel)",
   "language": "python",
   "name": "python3"
  },
  "language_info": {
   "codemirror_mode": {
    "name": "ipython",
    "version": 3
   },
   "file_extension": ".py",
   "mimetype": "text/x-python",
   "name": "python",
   "nbconvert_exporter": "python",
   "pygments_lexer": "ipython3",
   "version": "3.9.7"
  }
 },
 "nbformat": 4,
 "nbformat_minor": 5
}
