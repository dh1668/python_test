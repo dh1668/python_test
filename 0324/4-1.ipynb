{
 "cells": [
  {
   "cell_type": "raw",
   "id": "ae06e83a-a2d5-4d4b-842e-a0eea2360377",
   "metadata": {},
   "source": [
    "# 4일차 (3.24)"
   ]
  },
  {
   "cell_type": "markdown",
   "id": "e3fcf43f-6584-4718-bd0a-a0bbc2db8a36",
   "metadata": {},
   "source": [
    "## random 모듈"
   ]
  },
  {
   "cell_type": "code",
   "execution_count": 3,
   "id": "dc63d741-61d1-47d6-a461-a2700c0f6779",
   "metadata": {},
   "outputs": [],
   "source": [
    "import random"
   ]
  },
  {
   "cell_type": "code",
   "execution_count": 17,
   "id": "7170590d-3274-4ffa-aa3b-20b605282dd4",
   "metadata": {},
   "outputs": [
    {
     "data": {
      "text/plain": [
       "0.5762495945940038"
      ]
     },
     "execution_count": 17,
     "metadata": {},
     "output_type": "execute_result"
    }
   ],
   "source": [
    "random.random()           # 랜덤으로 수를 불러오는거임  \n",
    "                          # shift + tab 누르면 뭐가 문제인지나옴 () 안에 넣어서하기"
   ]
  },
  {
   "cell_type": "code",
   "execution_count": 43,
   "id": "553cc9f6-3ad2-4e06-acd1-9631021de0ad",
   "metadata": {},
   "outputs": [
    {
     "data": {
      "text/plain": [
       "10"
      ]
     },
     "execution_count": 43,
     "metadata": {},
     "output_type": "execute_result"
    }
   ],
   "source": [
    "random.randint(1,20)     #다음번에도 10이 나올 확률이 있음"
   ]
  },
  {
   "cell_type": "code",
   "execution_count": 46,
   "id": "5de677c1-a531-431e-9f75-fce7c5e56063",
   "metadata": {},
   "outputs": [
    {
     "data": {
      "text/plain": [
       "12"
      ]
     },
     "execution_count": 46,
     "metadata": {},
     "output_type": "execute_result"
    }
   ],
   "source": [
    "random.randrange(1,100)     # .randint와 비슷하지만 다른거임 "
   ]
  },
  {
   "cell_type": "code",
   "execution_count": 155,
   "id": "8390903e-3696-4e01-95d8-a5c8fc6d051c",
   "metadata": {},
   "outputs": [
    {
     "data": {
      "text/plain": [
       "'b'"
      ]
     },
     "execution_count": 155,
     "metadata": {},
     "output_type": "execute_result"
    }
   ],
   "source": [
    "a = [ 'e' , 'd' ,'a' , 'c' ,'b']\n",
    "\n",
    "random.choice(a)              # 변수에 초기화한 리스트 안 데이터만 골라지는 거임"
   ]
  },
  {
   "cell_type": "code",
   "execution_count": 158,
   "id": "c909d049-b29e-4138-ad75-5d1d59644ba9",
   "metadata": {},
   "outputs": [
    {
     "name": "stdout",
     "output_type": "stream",
     "text": [
      "40722\n"
     ]
    }
   ],
   "source": [
    "hap = 0\n",
    "for i in range(3333,9999) :\n",
    "    if i % 1234 !=0 :\n",
    "        continue\n",
    "    if hap+i > 100000 :\n",
    "        break\n",
    "    hap += i\n",
    "print(hap)"
   ]
  },
  {
   "cell_type": "markdown",
   "id": "94593124-3b2e-4d52-9581-beec8d7b2296",
   "metadata": {},
   "source": [
    "# chapter8 문자열  (# 시퀀스형 자료 라고 하시는데 찾아보자)\n",
    " - 불변형                                            \n",
    " - 인덱스 가능\n",
    " - `str` 클래스에서 다양한 문자열 함수"
   ]
  },
  {
   "cell_type": "code",
   "execution_count": 159,
   "id": "66673b6d-c89a-459b-bc22-2bbe35f955be",
   "metadata": {},
   "outputs": [
    {
     "data": {
      "text/plain": [
       "str"
      ]
     },
     "execution_count": 159,
     "metadata": {},
     "output_type": "execute_result"
    }
   ],
   "source": [
    "type('문자')"
   ]
  },
  {
   "cell_type": "code",
   "execution_count": 166,
   "id": "1a669d50-af6a-468d-a90a-a0fe5680cf48",
   "metadata": {},
   "outputs": [
    {
     "data": {
      "text/plain": [
       "'안녕하세요 파이썬'"
      ]
     },
     "execution_count": 166,
     "metadata": {},
     "output_type": "execute_result"
    }
   ],
   "source": [
    "s = \"안녕하세요 파이썬\"\n",
    "s"
   ]
  },
  {
   "cell_type": "code",
   "execution_count": 167,
   "id": "cc40a194-81d2-4ddf-80fa-ae9f511fa7ab",
   "metadata": {},
   "outputs": [
    {
     "data": {
      "text/plain": [
       "9"
      ]
     },
     "execution_count": 167,
     "metadata": {},
     "output_type": "execute_result"
    }
   ],
   "source": [
    "len(s)  #크기 확인하는거임"
   ]
  },
  {
   "cell_type": "code",
   "execution_count": 168,
   "id": "8150d37e-9096-4b63-af2e-2c8fe44c5aba",
   "metadata": {},
   "outputs": [
    {
     "data": {
      "text/plain": [
       "('안', '썬')"
      ]
     },
     "execution_count": 168,
     "metadata": {},
     "output_type": "execute_result"
    }
   ],
   "source": [
    "s[0], s[8]"
   ]
  },
  {
   "cell_type": "code",
   "execution_count": 170,
   "id": "af8e1a18-4523-4e8b-a98e-25c1932f0ad8",
   "metadata": {},
   "outputs": [
    {
     "data": {
      "text/plain": [
       "' 파이썬'"
      ]
     },
     "execution_count": 170,
     "metadata": {},
     "output_type": "execute_result"
    }
   ],
   "source": [
    "s[-4:]     #뛰어쓰기 포함해서 ' 파이썬' 나오는거임"
   ]
  },
  {
   "cell_type": "markdown",
   "id": "011124e9-a821-493f-98a6-e1c642846232",
   "metadata": {},
   "source": [
    "#### 문자열 결합"
   ]
  },
  {
   "cell_type": "code",
   "execution_count": 172,
   "id": "4575edf7-4d1c-406f-b11d-b0f5626363fc",
   "metadata": {},
   "outputs": [
    {
     "data": {
      "text/plain": [
       "'안녕 파이썬'"
      ]
     },
     "execution_count": 172,
     "metadata": {},
     "output_type": "execute_result"
    }
   ],
   "source": [
    "'안녕' + ' 파이썬'          # 더하기는 되지만 빼는거안됌"
   ]
  },
  {
   "cell_type": "code",
   "execution_count": 175,
   "id": "7f18ea85-9bfb-40af-9efb-c9dfee3d9c19",
   "metadata": {},
   "outputs": [
    {
     "data": {
      "text/plain": [
       "'안녕안녕안녕'"
      ]
     },
     "execution_count": 175,
     "metadata": {},
     "output_type": "execute_result"
    }
   ],
   "source": [
    "'안녕' * 3     # << 곱하기는 복제하는거임"
   ]
  },
  {
   "cell_type": "code",
   "execution_count": 180,
   "id": "1383385a-02f0-4f69-9d54-3baca501af9f",
   "metadata": {},
   "outputs": [
    {
     "ename": "TypeError",
     "evalue": "can only concatenate str (not \"int\") to str",
     "output_type": "error",
     "traceback": [
      "\u001b[1;31m---------------------------------------------------------------------------\u001b[0m",
      "\u001b[1;31mTypeError\u001b[0m                                 Traceback (most recent call last)",
      "\u001b[1;32m~\\AppData\\Local\\Temp/ipykernel_8104/2869000361.py\u001b[0m in \u001b[0;36m<module>\u001b[1;34m\u001b[0m\n\u001b[1;32m----> 1\u001b[1;33m \u001b[1;34m'안녕'\u001b[0m \u001b[1;33m+\u001b[0m \u001b[1;36m2\u001b[0m  \u001b[1;31m# 안돼는이유는 문자랑 숫자랑 결합이안돼기때문\u001b[0m\u001b[1;33m\u001b[0m\u001b[1;33m\u001b[0m\u001b[0m\n\u001b[0m",
      "\u001b[1;31mTypeError\u001b[0m: can only concatenate str (not \"int\") to str"
     ]
    }
   ],
   "source": [
    "'안녕' + 2  # 안돼는이유는 문자랑 숫자랑 결합이안돼기때문"
   ]
  },
  {
   "cell_type": "code",
   "execution_count": 183,
   "id": "4edc3749-e5d5-4aae-9352-154f5d18a530",
   "metadata": {},
   "outputs": [
    {
     "data": {
      "text/plain": [
       "'안녕2'"
      ]
     },
     "execution_count": 183,
     "metadata": {},
     "output_type": "execute_result"
    }
   ],
   "source": [
    "'안녕' + str(2)         # 문자열 형태로 변환하면 가능하다"
   ]
  },
  {
   "cell_type": "code",
   "execution_count": 184,
   "id": "fdb66483-ed47-4ac1-8c41-c54fbab2f5eb",
   "metadata": {},
   "outputs": [],
   "source": [
    "#P.237 프로그램1 의 완성(P.234 설명 코딩임)"
   ]
  },
  {
   "cell_type": "code",
   "execution_count": 185,
   "id": "221bffc2-abbe-40d0-ba31-69d7eb3e9748",
   "metadata": {},
   "outputs": [
    {
     "name": "stdin",
     "output_type": "stream",
     "text": [
      "문자열을 입력하세요 :  안녕하세요\n"
     ]
    },
    {
     "name": "stdout",
     "output_type": "stream",
     "text": [
      "내용을 거꾸로 출력 -->요세하녕안\n"
     ]
    }
   ],
   "source": [
    "## 변수선언부분 ##\n",
    "inStr, outStr = \"\",\"\"   #문자열이라고 대입한거임\n",
    "count, i =0,0           #정수값으로 대입\n",
    "\n",
    "##메인 코드부분\n",
    "\n",
    "inStr = input(\"문자열을 입력하세요 : \")\n",
    "count= len(inStr)\n",
    "\n",
    "for i in range(0,count) :\n",
    "    outStr += inStr[count - (i + 1)]   #★★★★★ count - (i + 1) 물어보기\n",
    "\n",
    "print(\"내용을 거꾸로 출력 -->%s\" %outStr)"
   ]
  },
  {
   "cell_type": "markdown",
   "id": "ba4dd016-5c8a-4584-89a0-1390e7957f5f",
   "metadata": {},
   "source": [
    "## 객체 \n",
    " \n",
    " \n",
    "객체(object)지향 프로그램\n",
    " \n",
    "-객체란?\n",
    "  - 이름\n",
    "  - 속성 : 상태 값 / 현재의 상태 유지!\n",
    "  - 행위 : 상태를 변경할 수 있는 함수나 메서드"
   ]
  },
  {
   "cell_type": "code",
   "execution_count": 186,
   "id": "39a404ec-c0c0-4b5d-a6b5-3a11676f0682",
   "metadata": {},
   "outputs": [],
   "source": [
    "import random      # random은 모듈이라고 부름"
   ]
  },
  {
   "cell_type": "code",
   "execution_count": 187,
   "id": "04052ee3-832d-4025-a966-47d2bfcc3cfb",
   "metadata": {},
   "outputs": [
    {
     "data": {
      "text/plain": [
       "0.2780971746535923"
      ]
     },
     "execution_count": 187,
     "metadata": {},
     "output_type": "execute_result"
    }
   ],
   "source": [
    "# 모듈의 이름! > 객체\n",
    "# doc[ . ] 로 접근 : 속성, 함수(메소드)\n",
    "random.random()    # 단어 뒤에 tap 누르면 나오는게 속성임 ex) random. <하고 tap "
   ]
  },
  {
   "cell_type": "markdown",
   "id": "0a4b9502-4325-403f-9778-b2dcb0e10550",
   "metadata": {},
   "source": [
    "## 문자열 클래스 "
   ]
  },
  {
   "cell_type": "code",
   "execution_count": 188,
   "id": "dc60c554-9728-4f67-99e6-2c950fb08d71",
   "metadata": {},
   "outputs": [
    {
     "data": {
      "text/plain": [
       "'Hello'"
      ]
     },
     "execution_count": 188,
     "metadata": {},
     "output_type": "execute_result"
    }
   ],
   "source": [
    "\"Hello\"   # <<이름없는 변수"
   ]
  },
  {
   "cell_type": "code",
   "execution_count": 195,
   "id": "d18807e3-ac92-4536-8ad9-a72b3b3c0dd7",
   "metadata": {},
   "outputs": [
    {
     "data": {
      "text/plain": [
       "3249996426672"
      ]
     },
     "execution_count": 195,
     "metadata": {},
     "output_type": "execute_result"
    }
   ],
   "source": [
    "id(\"Hello\")"
   ]
  },
  {
   "cell_type": "code",
   "execution_count": 202,
   "id": "ea07a543-7f9e-4a50-af53-21b84e1bb51d",
   "metadata": {},
   "outputs": [
    {
     "data": {
      "text/plain": [
       "3249996426672"
      ]
     },
     "execution_count": 202,
     "metadata": {},
     "output_type": "execute_result"
    }
   ],
   "source": [
    " _   # <<언더바 도 객체임"
   ]
  },
  {
   "cell_type": "code",
   "execution_count": 203,
   "id": "4dd54114-cd97-4e0c-8842-802dfae19996",
   "metadata": {},
   "outputs": [
    {
     "data": {
      "text/plain": [
       "'Hello'"
      ]
     },
     "execution_count": 203,
     "metadata": {},
     "output_type": "execute_result"
    }
   ],
   "source": [
    "\"Hello\""
   ]
  },
  {
   "cell_type": "code",
   "execution_count": 205,
   "id": "dde0909d-e27d-4e5c-a241-8299d9527cef",
   "metadata": {},
   "outputs": [
    {
     "data": {
      "text/plain": [
       "str"
      ]
     },
     "execution_count": 205,
     "metadata": {},
     "output_type": "execute_result"
    }
   ],
   "source": [
    "type('h')"
   ]
  },
  {
   "cell_type": "code",
   "execution_count": 206,
   "id": "a0aa25b2-f645-4562-9a6b-423525ded8ab",
   "metadata": {},
   "outputs": [],
   "source": [
    "#p.239 맨위"
   ]
  },
  {
   "cell_type": "code",
   "execution_count": 261,
   "id": "e3e89cec-cd7d-4a32-be82-ef2dc36de10c",
   "metadata": {
    "tags": []
   },
   "outputs": [],
   "source": [
    "ss = \"Hello Python\" "
   ]
  },
  {
   "cell_type": "code",
   "execution_count": 262,
   "id": "ef922f75-36e6-4ef0-bd4f-249f195edcc1",
   "metadata": {},
   "outputs": [
    {
     "data": {
      "text/plain": [
       "('HELLO PYTHON', 'hello python')"
      ]
     },
     "execution_count": 262,
     "metadata": {},
     "output_type": "execute_result"
    }
   ],
   "source": [
    "ss.upper(), ss.lower()        # 대소문자로 함수"
   ]
  },
  {
   "cell_type": "code",
   "execution_count": 263,
   "id": "3dbced56-3e6e-4da6-9e5d-f14fb438c298",
   "metadata": {},
   "outputs": [
    {
     "data": {
      "text/plain": [
       "'hELLO pYTHON'"
      ]
     },
     "execution_count": 263,
     "metadata": {},
     "output_type": "execute_result"
    }
   ],
   "source": [
    "ss.swapcase()     #앞에꺼만 소문자고 나머진 대문자로 변경하는 함수"
   ]
  },
  {
   "cell_type": "code",
   "execution_count": 264,
   "id": "8ceb6b5d-b9d4-4a5f-9a21-5ba483c394b4",
   "metadata": {},
   "outputs": [
    {
     "data": {
      "text/plain": [
       "'Hello Python'"
      ]
     },
     "execution_count": 264,
     "metadata": {},
     "output_type": "execute_result"
    }
   ],
   "source": [
    "ss.title()"
   ]
  },
  {
   "cell_type": "code",
   "execution_count": 265,
   "id": "fbd4327e-b602-4579-b413-108e82ff9171",
   "metadata": {},
   "outputs": [],
   "source": [
    "ss = \"파이썬 공부는 즐겁습니다. 물론 공부가 재미있지는 않죠!\""
   ]
  },
  {
   "cell_type": "code",
   "execution_count": 266,
   "id": "75cb6d4e-fc4b-4f80-a845-18f78299e166",
   "metadata": {},
   "outputs": [
    {
     "data": {
      "text/plain": [
       "31"
      ]
     },
     "execution_count": 266,
     "metadata": {},
     "output_type": "execute_result"
    }
   ],
   "source": [
    "len(ss)"
   ]
  },
  {
   "cell_type": "code",
   "execution_count": 267,
   "id": "875f6106-ca89-4422-9202-7f3ae6926526",
   "metadata": {},
   "outputs": [
    {
     "data": {
      "text/plain": [
       "2"
      ]
     },
     "execution_count": 267,
     "metadata": {},
     "output_type": "execute_result"
    }
   ],
   "source": [
    "ss.count('공부')"
   ]
  },
  {
   "cell_type": "code",
   "execution_count": 268,
   "id": "6c6bf9f4-e88f-4c9a-8a16-8f129bb22133",
   "metadata": {},
   "outputs": [
    {
     "data": {
      "text/plain": [
       "4"
      ]
     },
     "execution_count": 268,
     "metadata": {},
     "output_type": "execute_result"
    }
   ],
   "source": [
    "ss.find('공부') #왼쪽에서 찾아라 라는뜻"
   ]
  },
  {
   "cell_type": "code",
   "execution_count": 269,
   "id": "8c3e2514-9eea-4f85-acab-c68b2505be6c",
   "metadata": {},
   "outputs": [
    {
     "data": {
      "text/plain": [
       "18"
      ]
     },
     "execution_count": 269,
     "metadata": {},
     "output_type": "execute_result"
    }
   ],
   "source": [
    "ss.rfind('공부') #오른쪽에서 찾아라 (high index)"
   ]
  },
  {
   "cell_type": "code",
   "execution_count": 270,
   "id": "60071fdf-e1dc-4221-bf86-80841499b923",
   "metadata": {},
   "outputs": [
    {
     "data": {
      "text/plain": [
       "18"
      ]
     },
     "execution_count": 270,
     "metadata": {},
     "output_type": "execute_result"
    }
   ],
   "source": [
    "ss.find('공부',5)"
   ]
  },
  {
   "cell_type": "code",
   "execution_count": 271,
   "id": "27766f54-936d-4100-a801-87eb1319362a",
   "metadata": {},
   "outputs": [
    {
     "data": {
      "text/plain": [
       "'공부는 즐겁습니다. 물론 공부가 재미있지는 않죠!'"
      ]
     },
     "execution_count": 271,
     "metadata": {},
     "output_type": "execute_result"
    }
   ],
   "source": [
    "ss[ss.find('공부'):]"
   ]
  },
  {
   "cell_type": "code",
   "execution_count": 272,
   "id": "dbae9f24-48e0-43c7-a553-6602cefe55fe",
   "metadata": {},
   "outputs": [
    {
     "data": {
      "text/plain": [
       "'공부는 즐겁습니다.'"
      ]
     },
     "execution_count": 272,
     "metadata": {},
     "output_type": "execute_result"
    }
   ],
   "source": [
    "ss[ss.find('공부'):ss.rfind('물론')-1]"
   ]
  },
  {
   "cell_type": "code",
   "execution_count": 273,
   "id": "257a5ea7-b750-46f8-9abe-3fb1e56d4dbd",
   "metadata": {},
   "outputs": [
    {
     "data": {
      "text/plain": [
       "4"
      ]
     },
     "execution_count": 273,
     "metadata": {},
     "output_type": "execute_result"
    }
   ],
   "source": [
    "ss.index('공부') # .find 하고 같은값이나옴"
   ]
  },
  {
   "cell_type": "code",
   "execution_count": 274,
   "id": "221beecd-09e8-4de6-a103-5aecdfa0ac06",
   "metadata": {},
   "outputs": [],
   "source": [
    "# index  에러가 뜸\n",
    "# find는  -1를 반환해주고"
   ]
  },
  {
   "cell_type": "code",
   "execution_count": 275,
   "id": "093d6b1e-3700-4e89-9a93-0ac7dce2f20d",
   "metadata": {},
   "outputs": [
    {
     "ename": "ValueError",
     "evalue": "substring not found",
     "output_type": "error",
     "traceback": [
      "\u001b[1;31m---------------------------------------------------------------------------\u001b[0m",
      "\u001b[1;31mValueError\u001b[0m                                Traceback (most recent call last)",
      "\u001b[1;32m~\\AppData\\Local\\Temp/ipykernel_8104/938966654.py\u001b[0m in \u001b[0;36m<module>\u001b[1;34m\u001b[0m\n\u001b[1;32m----> 1\u001b[1;33m \u001b[0mss\u001b[0m\u001b[1;33m.\u001b[0m\u001b[0mindex\u001b[0m\u001b[1;33m(\u001b[0m\u001b[1;34m'킹콩'\u001b[0m\u001b[1;33m)\u001b[0m\u001b[1;33m\u001b[0m\u001b[1;33m\u001b[0m\u001b[0m\n\u001b[0m",
      "\u001b[1;31mValueError\u001b[0m: substring not found"
     ]
    }
   ],
   "source": [
    "ss.index('킹콩')"
   ]
  },
  {
   "cell_type": "code",
   "execution_count": 276,
   "id": "501343b4-99a8-450a-821a-19becbb1f564",
   "metadata": {},
   "outputs": [
    {
     "data": {
      "text/plain": [
       "-1"
      ]
     },
     "execution_count": 276,
     "metadata": {},
     "output_type": "execute_result"
    }
   ],
   "source": [
    "ss.find('킹콩')"
   ]
  },
  {
   "cell_type": "code",
   "execution_count": 277,
   "id": "beabe421-d2ed-4bc9-91c9-367d8671cc97",
   "metadata": {},
   "outputs": [
    {
     "data": {
      "text/plain": [
       "True"
      ]
     },
     "execution_count": 277,
     "metadata": {},
     "output_type": "execute_result"
    }
   ],
   "source": [
    "ss.startswith(\"파이썬\")"
   ]
  },
  {
   "cell_type": "code",
   "execution_count": 278,
   "id": "47c31b27-9ef5-4b5e-bcf2-5c5554cd615c",
   "metadata": {},
   "outputs": [
    {
     "data": {
      "text/plain": [
       "False"
      ]
     },
     "execution_count": 278,
     "metadata": {},
     "output_type": "execute_result"
    }
   ],
   "source": [
    "ss.endswith(\".\")"
   ]
  },
  {
   "cell_type": "code",
   "execution_count": 279,
   "id": "5d638ea5-3ded-4fa0-ba4a-791ba125d915",
   "metadata": {},
   "outputs": [
    {
     "name": "stdin",
     "output_type": "stream",
     "text": [
      "입력 문자열 ==>  파이썬 열공 중~\n"
     ]
    },
    {
     "name": "stdout",
     "output_type": "stream",
     "text": [
      "출력 문자열 ==>(파이썬 열공 중~)"
     ]
    }
   ],
   "source": [
    "# p.240    8-3예시\n",
    "ss=input(\"입력 문자열 ==> \")\n",
    "print(\"출력 문자열 ==>\", end = '')\n",
    "\n",
    "if ss.startswith('(') == False :\n",
    "    print(\"(\", end = '')\n",
    "    \n",
    "print(ss, end = '')\n",
    "\n",
    "if ss.endswith(')') == False :\n",
    "    print(\")\", end = '')"
   ]
  },
  {
   "cell_type": "markdown",
   "id": "ed4ec66c-6ecd-4380-9f53-c92a62bb16f3",
   "metadata": {},
   "source": [
    "#### ★공백 삭제*변경하기 : strip() , rstrip() , lstrip() \n",
    ", replace()"
   ]
  },
  {
   "cell_type": "code",
   "execution_count": 291,
   "id": "1751a66d-3fad-4bd9-bf26-36b83e04efea",
   "metadata": {},
   "outputs": [],
   "source": [
    "ss = '   파   이   썬   '"
   ]
  },
  {
   "cell_type": "code",
   "execution_count": 292,
   "id": "7d6c4325-53f1-4fd2-8c28-1959f0750512",
   "metadata": {
    "tags": []
   },
   "outputs": [
    {
     "data": {
      "text/plain": [
       "'파   이   썬'"
      ]
     },
     "execution_count": 292,
     "metadata": {},
     "output_type": "execute_result"
    }
   ],
   "source": [
    "ss.strip()    #양쪽 공백삭제"
   ]
  },
  {
   "cell_type": "code",
   "execution_count": 293,
   "id": "0ecd10a0-0151-4789-9862-d303c76eda80",
   "metadata": {},
   "outputs": [
    {
     "data": {
      "text/plain": [
       "'   파   이   썬'"
      ]
     },
     "execution_count": 293,
     "metadata": {},
     "output_type": "execute_result"
    }
   ],
   "source": [
    "ss.rstrip()     #오른쪽 공백만 삭제"
   ]
  },
  {
   "cell_type": "code",
   "execution_count": 294,
   "id": "b7a2db8f-014b-41db-91c1-e5e4f96960cc",
   "metadata": {},
   "outputs": [
    {
     "data": {
      "text/plain": [
       "'파   이   썬   '"
      ]
     },
     "execution_count": 294,
     "metadata": {},
     "output_type": "execute_result"
    }
   ],
   "source": [
    "ss.lstrip() #왼쪽만 공백"
   ]
  },
  {
   "cell_type": "code",
   "execution_count": 295,
   "id": "cf8d7166-65d9-4e3a-b141-dab9316b0c9d",
   "metadata": {},
   "outputs": [],
   "source": [
    "#p.241 맨밑 예시"
   ]
  },
  {
   "cell_type": "code",
   "execution_count": 300,
   "id": "011f0caa-25ac-4ed3-ba9d-d09a72144059",
   "metadata": {},
   "outputs": [
    {
     "data": {
      "text/plain": [
       "'열심히 python 공부 중 ~~'"
      ]
     },
     "execution_count": 300,
     "metadata": {},
     "output_type": "execute_result"
    }
   ],
   "source": [
    "ss= '열심히 파이썬 공부 중 ~~'             # replace = 변경(교체)해주는거임\n",
    "ss.replace('파이썬', 'python')"
   ]
  },
  {
   "cell_type": "markdown",
   "id": "35df47d3-03ac-4685-8250-6b5453b2c76c",
   "metadata": {},
   "source": [
    "#### ★문자열 분리 * 결합하기 : split(),splitlines(),join()"
   ]
  },
  {
   "cell_type": "code",
   "execution_count": 301,
   "id": "e771f1a4-075f-476f-9ec4-7b875ed88c8a",
   "metadata": {},
   "outputs": [],
   "source": [
    "# split\n",
    "ss ='Python을 공부 하 느 는 거 은 재밌어'"
   ]
  },
  {
   "cell_type": "code",
   "execution_count": 302,
   "id": "be6115b1-ab0b-4bb7-8be5-2193b161176e",
   "metadata": {},
   "outputs": [
    {
     "data": {
      "text/plain": [
       "['Python을', '공부', '하', '느', '는', '거', '은', '재밌어']"
      ]
     },
     "execution_count": 302,
     "metadata": {},
     "output_type": "execute_result"
    }
   ],
   "source": [
    "ss.split() # 구분자: ' '"
   ]
  },
  {
   "cell_type": "code",
   "execution_count": 303,
   "id": "f9da6877-dc2e-4ad1-8302-f1d76d6e6816",
   "metadata": {},
   "outputs": [],
   "source": [
    "ss= 'a:b:c:d;f;k;'"
   ]
  },
  {
   "cell_type": "code",
   "execution_count": 305,
   "id": "78d50ed3-9b02-43bd-87c1-bd43e87863b4",
   "metadata": {},
   "outputs": [
    {
     "data": {
      "text/plain": [
       "['a', 'b', 'c', 'd;f;k;']"
      ]
     },
     "execution_count": 305,
     "metadata": {},
     "output_type": "execute_result"
    }
   ],
   "source": [
    "ss.split(sep=':')   #아래와 같은뜻"
   ]
  },
  {
   "cell_type": "code",
   "execution_count": 307,
   "id": "63422911-2098-4e93-9fae-42e0f1015f3c",
   "metadata": {},
   "outputs": [
    {
     "data": {
      "text/plain": [
       "['a', 'b', 'c', 'd;f;k;']"
      ]
     },
     "execution_count": 307,
     "metadata": {},
     "output_type": "execute_result"
    }
   ],
   "source": [
    "ss.split(':')      #위와 같은뜻"
   ]
  },
  {
   "cell_type": "code",
   "execution_count": 322,
   "id": "8b6df393-83d1-4ef4-8adb-9fbd6779db39",
   "metadata": {},
   "outputs": [
    {
     "data": {
      "text/plain": [
       "['안녕하세요.', '파이썬 재밌어요.']"
      ]
     },
     "execution_count": 322,
     "metadata": {},
     "output_type": "execute_result"
    }
   ],
   "source": [
    "ss = \"\"\"안녕하세요.\n",
    "파이썬 재밌어요.\"\"\"\n",
    "ss.splitlines()"
   ]
  },
  {
   "cell_type": "code",
   "execution_count": 323,
   "id": "5b7fc2b5-bd98-4d8c-9ff7-04939a7c70e7",
   "metadata": {},
   "outputs": [
    {
     "data": {
      "text/plain": [
       "['안녕하세요.', '파이썬 재밌어요.']"
      ]
     },
     "execution_count": 323,
     "metadata": {},
     "output_type": "execute_result"
    }
   ],
   "source": [
    "ss.split(sep='\\n')"
   ]
  },
  {
   "cell_type": "code",
   "execution_count": 324,
   "id": "bf4b7c3a-e724-45cf-8c83-ad7ee33c8030",
   "metadata": {},
   "outputs": [
    {
     "data": {
      "text/plain": [
       "'파%이%썬% %재%밌%어%요'"
      ]
     },
     "execution_count": 324,
     "metadata": {},
     "output_type": "execute_result"
    }
   ],
   "source": [
    "ss ='%'                    #글자사이에 채우는거 뛰어쓰기에는 안채움\n",
    "ss.join('파이썬 재밌어요')"
   ]
  },
  {
   "cell_type": "code",
   "execution_count": 325,
   "id": "aab8d71f-5fc0-42bd-95d7-1c65b61ec361",
   "metadata": {},
   "outputs": [
    {
     "name": "stdin",
     "output_type": "stream",
     "text": [
      "날짜(연/월/일) 입력 ==> 2022/12/31\n"
     ]
    },
    {
     "name": "stdout",
     "output_type": "stream",
     "text": [
      "입력한 날짜의 10년 후 ==> "
     ]
    }
   ],
   "source": [
    "#p.243 8-6\n",
    "ss=input(\"날짜(연/월/일) 입력 ==>\")\n",
    "\n",
    "ssList =ss.split('/')\n",
    "\n",
    "print(\"입력한 날짜의 10년 후 ==> \", end = '')\n",
    "print(str(int(ssList[])+10) +\"년\",end='')\n",
    "print(ssList[1]+\"월\",end='')\n",
    "print(ssList[2]+\"일\")"
   ]
  },
  {
   "cell_type": "markdown",
   "id": "ea8e59a0-3002-40c9-b59d-8062e2723eac",
   "metadata": {},
   "source": [
    "#### map()\n",
    " - map(함수명, 리스트명)"
   ]
  },
  {
   "cell_type": "code",
   "execution_count": 326,
   "id": "44ab0698-bba4-487a-ab26-f5c010aed17a",
   "metadata": {},
   "outputs": [
    {
     "data": {
      "text/plain": [
       "['1', '3', '4', '5']"
      ]
     },
     "execution_count": 326,
     "metadata": {},
     "output_type": "execute_result"
    }
   ],
   "source": [
    "list(map(str, [1,3,4,5]))"
   ]
  },
  {
   "cell_type": "code",
   "execution_count": 328,
   "id": "5e50e127-68bb-480b-bedd-715926c73eed",
   "metadata": {},
   "outputs": [
    {
     "data": {
      "text/plain": [
       "[12.0, 3.0, 4.0, 4.0]"
      ]
     },
     "execution_count": 328,
     "metadata": {},
     "output_type": "execute_result"
    }
   ],
   "source": [
    "list(map(float, [12,3,4,4]))"
   ]
  },
  {
   "cell_type": "code",
   "execution_count": 329,
   "id": "22419f3d-0e10-47ed-8318-912074d3aa54",
   "metadata": {},
   "outputs": [
    {
     "data": {
      "text/plain": [
       "'1'"
      ]
     },
     "execution_count": 329,
     "metadata": {},
     "output_type": "execute_result"
    }
   ],
   "source": [
    "str(1)"
   ]
  },
  {
   "cell_type": "markdown",
   "id": "f4e4a50b-7ccc-4647-9ca5-2b1b4f0e38d7",
   "metadata": {},
   "source": [
    "#### 문자열 정렬하기, 채우기 :center() , ljust() , rjust() , zfill()"
   ]
  },
  {
   "cell_type": "code",
   "execution_count": 336,
   "id": "f1a779db-d1a1-4595-8b51-7ce4f5a92e18",
   "metadata": {},
   "outputs": [],
   "source": [
    "#p.244 예시\n",
    "ss = '파이썬'"
   ]
  },
  {
   "cell_type": "code",
   "execution_count": 337,
   "id": "fbfd1d46-7e21-4565-8c77-b395711c8359",
   "metadata": {},
   "outputs": [
    {
     "data": {
      "text/plain": [
       "'   파이썬    '"
      ]
     },
     "execution_count": 337,
     "metadata": {},
     "output_type": "execute_result"
    }
   ],
   "source": [
    "ss.center(10)"
   ]
  },
  {
   "cell_type": "code",
   "execution_count": 338,
   "id": "4b020eed-adc3-4329-ae1e-26f9a9cf1714",
   "metadata": {},
   "outputs": [
    {
     "data": {
      "text/plain": [
       "'___파이썬____'"
      ]
     },
     "execution_count": 338,
     "metadata": {},
     "output_type": "execute_result"
    }
   ],
   "source": [
    "ss.center(10,'_')"
   ]
  },
  {
   "cell_type": "code",
   "execution_count": 339,
   "id": "53e3ba06-1571-42a2-a5de-75cfbc252252",
   "metadata": {},
   "outputs": [
    {
     "data": {
      "text/plain": [
       "'파이썬       '"
      ]
     },
     "execution_count": 339,
     "metadata": {},
     "output_type": "execute_result"
    }
   ],
   "source": [
    "ss.ljust(10)"
   ]
  },
  {
   "cell_type": "code",
   "execution_count": 340,
   "id": "33e2e234-3b08-4c69-83cb-93e41a03ad08",
   "metadata": {},
   "outputs": [
    {
     "data": {
      "text/plain": [
       "'       파이썬'"
      ]
     },
     "execution_count": 340,
     "metadata": {},
     "output_type": "execute_result"
    }
   ],
   "source": [
    "ss.rjust(10)"
   ]
  },
  {
   "cell_type": "code",
   "execution_count": 341,
   "id": "395cb290-6ff6-4219-af63-fb28a58a0a03",
   "metadata": {},
   "outputs": [
    {
     "data": {
      "text/plain": [
       "'0000000파이썬'"
      ]
     },
     "execution_count": 341,
     "metadata": {},
     "output_type": "execute_result"
    }
   ],
   "source": [
    "ss.zfill(10)"
   ]
  },
  {
   "cell_type": "markdown",
   "id": "ec60c553-18e5-45b4-a37d-b07acd385268",
   "metadata": {},
   "source": [
    "#### 문자열 구성 파악(확인)"
   ]
  },
  {
   "cell_type": "code",
   "execution_count": 344,
   "id": "4d6b718d-de4b-421d-9662-8cc7d3c0262f",
   "metadata": {},
   "outputs": [
    {
     "data": {
      "text/plain": [
       "True"
      ]
     },
     "execution_count": 344,
     "metadata": {},
     "output_type": "execute_result"
    }
   ],
   "source": [
    "#p.245 예시\n",
    "'1234'.isdigit() #숫자 확인"
   ]
  },
  {
   "cell_type": "code",
   "execution_count": 345,
   "id": "2fc97e9a-8d20-42ab-90c5-ce975f61920b",
   "metadata": {},
   "outputs": [
    {
     "data": {
      "text/plain": [
       "True"
      ]
     },
     "execution_count": 345,
     "metadata": {},
     "output_type": "execute_result"
    }
   ],
   "source": [
    "'abcd'.isalpha() #알파벳 확인"
   ]
  },
  {
   "cell_type": "code",
   "execution_count": 346,
   "id": "f260aa5e-d5be-4abc-8f7d-009e8f634ad1",
   "metadata": {},
   "outputs": [
    {
     "data": {
      "text/plain": [
       "True"
      ]
     },
     "execution_count": 346,
     "metadata": {},
     "output_type": "execute_result"
    }
   ],
   "source": [
    "'abc123'.isalnum()"
   ]
  },
  {
   "cell_type": "code",
   "execution_count": 348,
   "id": "30750d23-c4f0-4ecc-9996-8f9511ef754c",
   "metadata": {},
   "outputs": [
    {
     "data": {
      "text/plain": [
       "True"
      ]
     },
     "execution_count": 348,
     "metadata": {},
     "output_type": "execute_result"
    }
   ],
   "source": [
    "'abcd'.islower() #소문자확인"
   ]
  },
  {
   "cell_type": "code",
   "execution_count": 350,
   "id": "eff6037c-daa7-424b-a1e3-f6cfb0f1e0f6",
   "metadata": {},
   "outputs": [
    {
     "data": {
      "text/plain": [
       "True"
      ]
     },
     "execution_count": 350,
     "metadata": {},
     "output_type": "execute_result"
    }
   ],
   "source": [
    "'ABCD'.isupper() #대문자확인"
   ]
  },
  {
   "cell_type": "code",
   "execution_count": 370,
   "id": "6e43d741-bdba-4497-9f26-d8c2620eb237",
   "metadata": {},
   "outputs": [
    {
     "data": {
      "text/plain": [
       "True"
      ]
     },
     "execution_count": 370,
     "metadata": {},
     "output_type": "execute_result"
    }
   ],
   "source": [
    "'    '.isspace() #공간확인"
   ]
  },
  {
   "cell_type": "code",
   "execution_count": 372,
   "id": "7a5b4c12-5fe4-43b2-b81b-00e2f8b2ed0a",
   "metadata": {},
   "outputs": [
    {
     "data": {
      "text/plain": [
       "(65, 97)"
      ]
     },
     "execution_count": 372,
     "metadata": {},
     "output_type": "execute_result"
    }
   ],
   "source": [
    "ord('A') , ord('a') # 유니코드 값나옴"
   ]
  },
  {
   "cell_type": "code",
   "execution_count": 373,
   "id": "ca39c365-041d-4ca7-b24a-26a9868c72c3",
   "metadata": {},
   "outputs": [
    {
     "data": {
      "text/plain": [
       "(44032, 55203)"
      ]
     },
     "execution_count": 373,
     "metadata": {},
     "output_type": "execute_result"
    }
   ],
   "source": [
    "ord('가') , ord('힣')"
   ]
  },
  {
   "cell_type": "markdown",
   "id": "0851d4a5-8325-403f-afed-3de79539398e",
   "metadata": {},
   "source": [
    "## p.250 연습문제 11번"
   ]
  },
  {
   "cell_type": "code",
   "execution_count": 354,
   "id": "ac480c71-37ce-449f-adc8-6376871c4872",
   "metadata": {},
   "outputs": [],
   "source": [
    "# '파이썬###CookBook $$$ @@@ 열공중 1234'를 한글/영문자만 남기게하기"
   ]
  },
  {
   "cell_type": "code",
   "execution_count": 360,
   "id": "980dd74d-dddb-4b55-ad69-3c56ead7773c",
   "metadata": {},
   "outputs": [
    {
     "name": "stdin",
     "output_type": "stream",
     "text": [
      "문자열 --> \"파이썬###CookBook $$$ @@@ 열공중 1234\"\n"
     ]
    },
    {
     "name": "stdout",
     "output_type": "stream",
     "text": [
      "한글/영문자만 남김 --> 파이썬CookBook열공중\n"
     ]
    }
   ],
   "source": [
    "inStr, outStr ='',''\n",
    "inStr = input('문자열 -->')\n",
    "\n",
    "for i in range(0, len(inStr)) :\n",
    "    if inStr[i].isalpha() == True :\n",
    "        outStr += inStr[i]\n",
    "        \n",
    "print('한글/영문자만 남김 --> ' + outStr)"
   ]
  },
  {
   "cell_type": "code",
   "execution_count": 368,
   "id": "00dcdea6-137c-4b35-8346-718e633dc6a6",
   "metadata": {},
   "outputs": [
    {
     "ename": "KeyboardInterrupt",
     "evalue": "Interrupted by user",
     "output_type": "error",
     "traceback": [
      "\u001b[1;31m---------------------------------------------------------------------------\u001b[0m",
      "\u001b[1;31mKeyboardInterrupt\u001b[0m                         Traceback (most recent call last)",
      "\u001b[1;32m~\\AppData\\Local\\Temp/ipykernel_8104/3936408170.py\u001b[0m in \u001b[0;36m<module>\u001b[1;34m\u001b[0m\n\u001b[0;32m      1\u001b[0m \u001b[0minStr\u001b[0m\u001b[1;33m,\u001b[0m \u001b[0moutStr\u001b[0m \u001b[1;33m=\u001b[0m \u001b[1;34m''\u001b[0m\u001b[1;33m,\u001b[0m \u001b[1;34m''\u001b[0m\u001b[1;33m\u001b[0m\u001b[1;33m\u001b[0m\u001b[0m\n\u001b[1;32m----> 2\u001b[1;33m \u001b[0minStr\u001b[0m \u001b[1;33m=\u001b[0m \u001b[0minput\u001b[0m\u001b[1;33m(\u001b[0m\u001b[1;34m'문자열을 입력하세요 : '\u001b[0m\u001b[1;33m)\u001b[0m\u001b[1;33m\u001b[0m\u001b[1;33m\u001b[0m\u001b[0m\n\u001b[0m\u001b[0;32m      3\u001b[0m \u001b[1;33m\u001b[0m\u001b[0m\n\u001b[0;32m      4\u001b[0m \u001b[1;32mfor\u001b[0m \u001b[0mi\u001b[0m \u001b[1;32min\u001b[0m \u001b[0mrange\u001b[0m\u001b[1;33m(\u001b[0m\u001b[1;36m0\u001b[0m\u001b[1;33m,\u001b[0m\u001b[0mlen\u001b[0m\u001b[1;33m(\u001b[0m\u001b[0minStr\u001b[0m\u001b[1;33m)\u001b[0m\u001b[1;33m)\u001b[0m \u001b[1;33m:\u001b[0m\u001b[1;33m\u001b[0m\u001b[1;33m\u001b[0m\u001b[0m\n\u001b[0;32m      5\u001b[0m     \u001b[1;32mif\u001b[0m \u001b[0minStr\u001b[0m\u001b[1;33m[\u001b[0m\u001b[0mi\u001b[0m\u001b[1;33m]\u001b[0m\u001b[1;33m.\u001b[0m\u001b[0misalpha\u001b[0m \u001b[1;33m==\u001b[0m \u001b[1;32mTrue\u001b[0m \u001b[1;33m:\u001b[0m\u001b[1;33m\u001b[0m\u001b[1;33m\u001b[0m\u001b[0m\n",
      "\u001b[1;32m~\\anaconda3\\lib\\site-packages\\ipykernel\\kernelbase.py\u001b[0m in \u001b[0;36mraw_input\u001b[1;34m(self, prompt)\u001b[0m\n\u001b[0;32m   1004\u001b[0m                 \u001b[1;34m\"raw_input was called, but this frontend does not support input requests.\"\u001b[0m\u001b[1;33m\u001b[0m\u001b[1;33m\u001b[0m\u001b[0m\n\u001b[0;32m   1005\u001b[0m             )\n\u001b[1;32m-> 1006\u001b[1;33m         return self._input_request(\n\u001b[0m\u001b[0;32m   1007\u001b[0m             \u001b[0mstr\u001b[0m\u001b[1;33m(\u001b[0m\u001b[0mprompt\u001b[0m\u001b[1;33m)\u001b[0m\u001b[1;33m,\u001b[0m\u001b[1;33m\u001b[0m\u001b[1;33m\u001b[0m\u001b[0m\n\u001b[0;32m   1008\u001b[0m             \u001b[0mself\u001b[0m\u001b[1;33m.\u001b[0m\u001b[0m_parent_ident\u001b[0m\u001b[1;33m[\u001b[0m\u001b[1;34m\"shell\"\u001b[0m\u001b[1;33m]\u001b[0m\u001b[1;33m,\u001b[0m\u001b[1;33m\u001b[0m\u001b[1;33m\u001b[0m\u001b[0m\n",
      "\u001b[1;32m~\\anaconda3\\lib\\site-packages\\ipykernel\\kernelbase.py\u001b[0m in \u001b[0;36m_input_request\u001b[1;34m(self, prompt, ident, parent, password)\u001b[0m\n\u001b[0;32m   1049\u001b[0m             \u001b[1;32mexcept\u001b[0m \u001b[0mKeyboardInterrupt\u001b[0m\u001b[1;33m:\u001b[0m\u001b[1;33m\u001b[0m\u001b[1;33m\u001b[0m\u001b[0m\n\u001b[0;32m   1050\u001b[0m                 \u001b[1;31m# re-raise KeyboardInterrupt, to truncate traceback\u001b[0m\u001b[1;33m\u001b[0m\u001b[1;33m\u001b[0m\u001b[0m\n\u001b[1;32m-> 1051\u001b[1;33m                 \u001b[1;32mraise\u001b[0m \u001b[0mKeyboardInterrupt\u001b[0m\u001b[1;33m(\u001b[0m\u001b[1;34m\"Interrupted by user\"\u001b[0m\u001b[1;33m)\u001b[0m \u001b[1;32mfrom\u001b[0m \u001b[1;32mNone\u001b[0m\u001b[1;33m\u001b[0m\u001b[1;33m\u001b[0m\u001b[0m\n\u001b[0m\u001b[0;32m   1052\u001b[0m             \u001b[1;32mexcept\u001b[0m \u001b[0mException\u001b[0m\u001b[1;33m:\u001b[0m\u001b[1;33m\u001b[0m\u001b[1;33m\u001b[0m\u001b[0m\n\u001b[0;32m   1053\u001b[0m                 \u001b[0mself\u001b[0m\u001b[1;33m.\u001b[0m\u001b[0mlog\u001b[0m\u001b[1;33m.\u001b[0m\u001b[0mwarning\u001b[0m\u001b[1;33m(\u001b[0m\u001b[1;34m\"Invalid Message:\"\u001b[0m\u001b[1;33m,\u001b[0m \u001b[0mexc_info\u001b[0m\u001b[1;33m=\u001b[0m\u001b[1;32mTrue\u001b[0m\u001b[1;33m)\u001b[0m\u001b[1;33m\u001b[0m\u001b[1;33m\u001b[0m\u001b[0m\n",
      "\u001b[1;31mKeyboardInterrupt\u001b[0m: Interrupted by user"
     ]
    }
   ],
   "source": [
    "inStr, outStr = '', ''\n",
    "inStr = input('문자열을 입력하세요 : ')\n",
    "\n",
    "for i in range(0,len(inStr)) :\n",
    "    if inStr[i].isalpha == True :\n",
    "        outStr += inStr[i]\n",
    "        \n",
    "print('대문자 : ' + outStr)"
   ]
  },
  {
   "cell_type": "code",
   "execution_count": 369,
   "id": "c521e29e-10fa-4f07-b533-c586a8a10e85",
   "metadata": {},
   "outputs": [
    {
     "name": "stdin",
     "output_type": "stream",
     "text": [
      "문자열을 입력하세요 :  IT CookBook 파이썬을 365일 공부하고 있습니다. ^___^\n"
     ]
    },
    {
     "name": "stdout",
     "output_type": "stream",
     "text": [
      "대문자 :  ITCB\n",
      "소문자 :  ookook\n",
      "숫자 :  365\n",
      "한글 :  파이썬을일공부하고있습니다\n",
      "기타 :       . ^___^\n"
     ]
    }
   ],
   "source": [
    "numStr, lowerStr, upperStr, hanStr, etcStr = ['']*5\n",
    "ch = ''\n",
    "\n",
    "inStr = input('문자열을 입력하세요 : ')\n",
    "for ch in inStr :\n",
    "    if( ord(ch) >= ord(\"A\") and ord(ch) <= ord(\"Z\")) :\n",
    "        upperStr += ch\n",
    "    elif ( ord(ch) >= ord(\"a\") and ord(ch) <= ord(\"z\")) :\n",
    "        lowerStr += ch\n",
    "    elif ( ord(ch) >= ord(\"0\") and ord(ch) <= ord(\"9\")) :\n",
    "        numStr += ch\n",
    "    elif ( ord(ch) >= ord(\"가\") and ord(ch) <= ord(\"힣\")) :\n",
    "        hanStr += ch\n",
    "    else :\n",
    "        etcStr += ch\n",
    "        \n",
    "print(\"대문자 : \", upperStr)\n",
    "print(\"소문자 : \", lowerStr)\n",
    "print(\"숫자 : \", numStr)\n",
    "print(\"한글 : \", hanStr)\n",
    "print(\"기타 : \", etcStr)"
   ]
  },
  {
   "cell_type": "code",
   "execution_count": null,
   "id": "cc0c03c4-5a58-414c-af6a-b06ea5270d7a",
   "metadata": {},
   "outputs": [],
   "source": []
  },
  {
   "cell_type": "code",
   "execution_count": null,
   "id": "348a4a5f-cf5a-45d7-8333-a4df88fb88b6",
   "metadata": {},
   "outputs": [],
   "source": []
  }
 ],
 "metadata": {
  "kernelspec": {
   "display_name": "Python 3 (ipykernel)",
   "language": "python",
   "name": "python3"
  },
  "language_info": {
   "codemirror_mode": {
    "name": "ipython",
    "version": 3
   },
   "file_extension": ".py",
   "mimetype": "text/x-python",
   "name": "python",
   "nbconvert_exporter": "python",
   "pygments_lexer": "ipython3",
   "version": "3.9.7"
  }
 },
 "nbformat": 4,
 "nbformat_minor": 5
}
