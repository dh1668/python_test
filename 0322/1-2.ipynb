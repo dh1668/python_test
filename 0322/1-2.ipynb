{
 "cells": [
  {
   "cell_type": "code",
   "execution_count": 1,
   "id": "608b572c-681d-4cf9-80a9-f3567fa6f0d7",
   "metadata": {},
   "outputs": [],
   "source": [
    "abc = 100"
   ]
  },
  {
   "cell_type": "code",
   "execution_count": 11,
   "id": "fb6694d7-2af8-48ab-930b-c6240ada499f",
   "metadata": {
    "tags": []
   },
   "outputs": [
    {
     "data": {
      "text/plain": [
       "100"
      ]
     },
     "execution_count": 11,
     "metadata": {},
     "output_type": "execute_result"
    }
   ],
   "source": [
    "abc"
   ]
  },
  {
   "cell_type": "code",
   "execution_count": null,
   "id": "da2f9036-6cae-40fc-a498-2ba6c85d8ccf",
   "metadata": {},
   "outputs": [],
   "source": [
    "a=100"
   ]
  },
  {
   "cell_type": "code",
   "execution_count": 7,
   "id": "e35b80eb-e405-4eeb-80f7-b141f7861b57",
   "metadata": {},
   "outputs": [
    {
     "data": {
      "text/plain": [
       "100"
      ]
     },
     "execution_count": 7,
     "metadata": {},
     "output_type": "execute_result"
    }
   ],
   "source": [
    "a "
   ]
  },
  {
   "cell_type": "code",
   "execution_count": 13,
   "id": "e5f5faca-63bc-4dd7-8920-2469cf6d7828",
   "metadata": {},
   "outputs": [],
   "source": [
    "b =50"
   ]
  },
  {
   "cell_type": "code",
   "execution_count": 15,
   "id": "70123e92-6dae-4a38-8947-8692e2c9865a",
   "metadata": {},
   "outputs": [
    {
     "data": {
      "text/plain": [
       "50"
      ]
     },
     "execution_count": 15,
     "metadata": {},
     "output_type": "execute_result"
    }
   ],
   "source": [
    "b"
   ]
  },
  {
   "cell_type": "code",
   "execution_count": 16,
   "id": "7211b148-3509-424e-96d9-0b133b7de286",
   "metadata": {},
   "outputs": [
    {
     "data": {
      "text/plain": [
       "150"
      ]
     },
     "execution_count": 16,
     "metadata": {},
     "output_type": "execute_result"
    }
   ],
   "source": [
    "a + b"
   ]
  },
  {
   "cell_type": "code",
   "execution_count": 17,
   "id": "3991179b-4ed9-4c6a-9ad4-08a1430c4305",
   "metadata": {},
   "outputs": [
    {
     "data": {
      "text/plain": [
       "50"
      ]
     },
     "execution_count": 17,
     "metadata": {},
     "output_type": "execute_result"
    }
   ],
   "source": [
    "a - b"
   ]
  },
  {
   "cell_type": "code",
   "execution_count": 18,
   "id": "a4d76bdc-5280-4bd7-8c15-2634ce7ae433",
   "metadata": {},
   "outputs": [
    {
     "data": {
      "text/plain": [
       "5000"
      ]
     },
     "execution_count": 18,
     "metadata": {},
     "output_type": "execute_result"
    }
   ],
   "source": [
    "a * b"
   ]
  },
  {
   "cell_type": "code",
   "execution_count": 19,
   "id": "9bf4ae3d-a1ab-407c-bcda-c72b16f5af8c",
   "metadata": {},
   "outputs": [
    {
     "data": {
      "text/plain": [
       "2.0"
      ]
     },
     "execution_count": 19,
     "metadata": {},
     "output_type": "execute_result"
    }
   ],
   "source": [
    "a / b"
   ]
  },
  {
   "cell_type": "code",
   "execution_count": 21,
   "id": "0daec235-44e5-4e22-8088-c14f9368d83b",
   "metadata": {},
   "outputs": [
    {
     "data": {
      "text/plain": [
       "5000"
      ]
     },
     "execution_count": 21,
     "metadata": {},
     "output_type": "execute_result"
    }
   ],
   "source": [
    "result = a*b\n",
    "result "
   ]
  },
  {
   "cell_type": "code",
   "execution_count": 22,
   "id": "f5b2189c-1380-4370-b34d-8bfedd5b5bfb",
   "metadata": {},
   "outputs": [
    {
     "data": {
      "text/plain": [
       "50000"
      ]
     },
     "execution_count": 22,
     "metadata": {},
     "output_type": "execute_result"
    }
   ],
   "source": [
    "result * 10"
   ]
  },
  {
   "cell_type": "code",
   "execution_count": 25,
   "id": "0e0355d5-b7ba-4c90-af93-21287f8c8898",
   "metadata": {},
   "outputs": [
    {
     "data": {
      "text/plain": [
       "89.5"
      ]
     },
     "execution_count": 25,
     "metadata": {},
     "output_type": "execute_result"
    }
   ],
   "source": [
    "math_score = 87\n",
    "english_score = 92\n",
    "average = (math_score + english_score) /2\n",
    "average"
   ]
  },
  {
   "cell_type": "code",
   "execution_count": 26,
   "id": "1078e885-d0ba-4023-8d99-be7b7f26c91c",
   "metadata": {},
   "outputs": [
    {
     "data": {
      "text/plain": [
       "'백점'"
      ]
     },
     "execution_count": 26,
     "metadata": {},
     "output_type": "execute_result"
    }
   ],
   "source": [
    "math_score = \"백점\"\n",
    "math_score"
   ]
  },
  {
   "cell_type": "code",
   "execution_count": 27,
   "id": "14027dc7-d5dc-4083-882a-37218138621d",
   "metadata": {},
   "outputs": [
    {
     "name": "stdout",
     "output_type": "stream",
     "text": [
      "100 + 50 = 5000\n"
     ]
    }
   ],
   "source": [
    "# 결과출력\n",
    "print(a, '+' ,b, '=' , result)"
   ]
  },
  {
   "cell_type": "code",
   "execution_count": 31,
   "id": "17e61a0e-5a84-4022-846d-eee576d6bd8b",
   "metadata": {},
   "outputs": [],
   "source": [
    "a=100\n"
   ]
  },
  {
   "cell_type": "code",
   "execution_count": 33,
   "id": "d962b8b0-7c36-413b-bf54-b1abb88053dc",
   "metadata": {},
   "outputs": [],
   "source": [
    "b=50"
   ]
  },
  {
   "cell_type": "code",
   "execution_count": 34,
   "id": "c1f76656-e157-4a8a-95fd-20d2daa82913",
   "metadata": {},
   "outputs": [],
   "source": [
    "result=a+b"
   ]
  },
  {
   "cell_type": "code",
   "execution_count": 35,
   "id": "090cb4ee-9308-45a9-9722-3b0cd9b4ab19",
   "metadata": {},
   "outputs": [
    {
     "name": "stdout",
     "output_type": "stream",
     "text": [
      "150\n"
     ]
    }
   ],
   "source": [
    "print(result)"
   ]
  },
  {
   "cell_type": "code",
   "execution_count": 51,
   "id": "4204c66e-dae6-4f73-83e8-540229c648e0",
   "metadata": {},
   "outputs": [
    {
     "name": "stdout",
     "output_type": "stream",
     "text": [
      "사칙연산을 수행합니다\n"
     ]
    },
    {
     "name": "stdin",
     "output_type": "stream",
     "text": [
      "첫 번째 숫자를 입력하세요 50\n",
      "두 번째 숫자를 입력하세요 10\n"
     ]
    },
    {
     "name": "stdout",
     "output_type": "stream",
     "text": [
      "50 + 10 = 60\n",
      "50 * 10 = 500\n",
      "50 - 10 = 40\n",
      "50 / 10 = 5.0\n"
     ]
    }
   ],
   "source": [
    "print(\"사칙연산을 수행합니다\")\n",
    "a = int(input(\"첫 번째 숫자를 입력하세요\"))\n",
    "b = int(input(\"두 번째 숫자를 입력하세요\"))\n",
    "\n",
    "result = a+b\n",
    "print(a, '+' , b , '=' ,result)\n",
    "result = a*b\n",
    "print(a, '*' , b , '=' ,result)\n",
    "result = a-b\n",
    "print(a, '-' , b , '=' , result)\n",
    "result = a/b\n",
    "print (a, '/' , b , '=' , result)"
   ]
  },
  {
   "cell_type": "code",
   "execution_count": 6,
   "id": "556c0d37-72d7-4195-a1d0-9b023663b06b",
   "metadata": {},
   "outputs": [],
   "source": [
    "#input()함수로 작성\n",
    "# 예상문제 7"
   ]
  },
  {
   "cell_type": "code",
   "execution_count": 8,
   "id": "cf1e914b-4f2b-4664-858d-ec05bf9879f5",
   "metadata": {},
   "outputs": [
    {
     "name": "stdin",
     "output_type": "stream",
     "text": [
      "숫자1 입력 :  10\n",
      "숫자2 입력 :  20\n",
      "숫자3 입력 :  30\n"
     ]
    },
    {
     "name": "stdout",
     "output_type": "stream",
     "text": [
      "10 + 20 + 30 = 60\n",
      "10 * 20 * 30 = 6000\n",
      "10 - 20 - 30 = -40\n",
      "10 / 20 / 30 = 0.016666666666666666\n"
     ]
    }
   ],
   "source": [
    "a=int(input(\"숫자1 입력 : \"))\n",
    "b=int(input(\"숫자2 입력 : \"))\n",
    "c=int(input(\"숫자3 입력 : \"))\n",
    "\n",
    "result = a+b+c\n",
    "print(a, '+' , b , '+' , c , '=' , result)\n",
    "result = a*b*c\n",
    "print(a, '*' , b , '*' , c , '=' , result)\n",
    "result = a-b-c\n",
    "print(a, '-' , b , '-' , c , '=' , result)\n",
    "result = a/b/c\n",
    "print(a, '/' , b , '/' , c , '=' , result)"
   ]
  },
  {
   "cell_type": "code",
   "execution_count": 30,
   "id": "b24b1f1d-56fc-486d-abe2-1d755f20e44e",
   "metadata": {},
   "outputs": [
    {
     "data": {
      "text/plain": [
       "(15, 20, 30)"
      ]
     },
     "execution_count": 30,
     "metadata": {},
     "output_type": "execute_result"
    }
   ],
   "source": [
    "a=int(a)\n",
    "b=int(b)\n",
    "c=int(c)\n",
    "a,b,c"
   ]
  },
  {
   "cell_type": "code",
   "execution_count": 36,
   "id": "0c08fe2b-fc2c-49ec-8053-accc075ba499",
   "metadata": {},
   "outputs": [
    {
     "name": "stdout",
     "output_type": "stream",
     "text": [
      "15+20+30= 65\n"
     ]
    }
   ],
   "source": [
    "print(f\"{a}+{b}+{c}=\", (a+b+c))"
   ]
  },
  {
   "cell_type": "code",
   "execution_count": 48,
   "id": "9308cf26-7c08-46bb-abda-d02f06893630",
   "metadata": {},
   "outputs": [
    {
     "name": "stdout",
     "output_type": "stream",
     "text": [
      "65+20= 85\n"
     ]
    }
   ],
   "source": [
    "print(f\"{a+b+c}+{b}=\", (a+b+b+c))"
   ]
  }
 ],
 "metadata": {
  "kernelspec": {
   "display_name": "Python 3 (ipykernel)",
   "language": "python",
   "name": "python3"
  },
  "language_info": {
   "codemirror_mode": {
    "name": "ipython",
    "version": 3
   },
   "file_extension": ".py",
   "mimetype": "text/x-python",
   "name": "python",
   "nbconvert_exporter": "python",
   "pygments_lexer": "ipython3",
   "version": "3.9.7"
  }
 },
 "nbformat": 4,
 "nbformat_minor": 5
}
