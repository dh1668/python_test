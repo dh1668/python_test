{
 "cells": [
  {
   "cell_type": "code",
   "execution_count": 15,
   "id": "5c73220e-6683-4b79-98a2-ee08ae07f6bb",
   "metadata": {},
   "outputs": [],
   "source": [
    " #Chapter 3"
   ]
  },
  {
   "cell_type": "markdown",
   "id": "77e0cdda-33eb-43bb-bf94-fa67e2adc445",
   "metadata": {},
   "source": [
    " print() 입력 값을 기본 콘솔(터미널)로 내보내는 역할!!!\n",
    " **OS 콘솔**\n",
    "    \n",
    "    - 표준입출력을 수행하는 프로그램!"
   ]
  },
  {
   "cell_type": "code",
   "execution_count": 10,
   "id": "8ff70630-43f2-45a1-b9c5-470dadaf6cb5",
   "metadata": {},
   "outputs": [
    {
     "name": "stdout",
     "output_type": "stream",
     "text": [
      "안녕\n"
     ]
    }
   ],
   "source": [
    "print(\"안녕\")"
   ]
  },
  {
   "cell_type": "code",
   "execution_count": 20,
   "id": "f3dfc0fa-eec5-4968-9210-417938b06137",
   "metadata": {},
   "outputs": [
    {
     "name": "stdout",
     "output_type": "stream",
     "text": [
      "100\n"
     ]
    }
   ],
   "source": [
    "print(\"100\")"
   ]
  },
  {
   "cell_type": "markdown",
   "id": "021f59b2-cc63-4c61-b8b8-83c7fa4d942a",
   "metadata": {},
   "source": [
    "**형식화문자열(Formating string)**\n",
    "\n",
    "1. % 연결자\n",
    "2. String.format()\n",
    "3. f 리터럴"
   ]
  },
  {
   "cell_type": "code",
   "execution_count": 190,
   "id": "3a673c99-508b-4e77-822b-fe8e069fd7ee",
   "metadata": {},
   "outputs": [
    {
     "name": "stdout",
     "output_type": "stream",
     "text": [
      "입력 100는 평균입니다.\n"
     ]
    }
   ],
   "source": [
    "print(\"입력 %d는 평균입니다.\" %100)"
   ]
  },
  {
   "cell_type": "code",
   "execution_count": 30,
   "id": "51daeaf0-1ff1-471c-b644-c8ac7f235f8d",
   "metadata": {},
   "outputs": [
    {
     "name": "stdout",
     "output_type": "stream",
     "text": [
      "입력 100는 50의 평균이고 곱셈은 100*50=5000입니다.\n"
     ]
    }
   ],
   "source": [
    "print(\"입력 %d는 %d의 평균이고 곱셈은 %d*%d=%d입니다.\" % (100, 50, 100, 50, (100*50)) )"
   ]
  },
  {
   "cell_type": "code",
   "execution_count": 157,
   "id": "b832f989-b82a-40c8-8c67-15e5a314022e",
   "metadata": {},
   "outputs": [
    {
     "name": "stdout",
     "output_type": "stream",
     "text": [
      "입력 100는 50의 평균이고 곱셈은 100*50=5000입니다.\n"
     ]
    }
   ],
   "source": [
    "print(f\"입력 {100}는 {50}의 평균이고 곱셈은 {100}*{50}={100*50}입니다.\" )"
   ]
  },
  {
   "cell_type": "markdown",
   "id": "0de2f9bf-e61c-4311-b92b-0be3f337d264",
   "metadata": {},
   "source": [
    "형식문자"
   ]
  },
  {
   "cell_type": "code",
   "execution_count": 32,
   "id": "b55d8587-979c-4203-bef0-a33473d64aba",
   "metadata": {},
   "outputs": [
    {
     "name": "stdout",
     "output_type": "stream",
     "text": [
      "100\n"
     ]
    }
   ],
   "source": [
    "print(\"%d\" %100)"
   ]
  },
  {
   "cell_type": "code",
   "execution_count": 35,
   "id": "dce0cadf-95c1-44c0-8251-1d02a2485fe4",
   "metadata": {},
   "outputs": [
    {
     "name": "stdout",
     "output_type": "stream",
     "text": [
      "0\n"
     ]
    }
   ],
   "source": [
    "print(\"%d\" %0.1)"
   ]
  },
  {
   "cell_type": "code",
   "execution_count": 34,
   "id": "094d9cff-2a06-4ce0-8efd-ec357c8b69f1",
   "metadata": {},
   "outputs": [
    {
     "name": "stdout",
     "output_type": "stream",
     "text": [
      "0.100000\n"
     ]
    }
   ],
   "source": [
    "print(\"%f\" %0.1)"
   ]
  },
  {
   "cell_type": "code",
   "execution_count": 43,
   "id": "f28a4818-0366-4401-a8e0-9b363a8445a0",
   "metadata": {},
   "outputs": [
    {
     "name": "stdout",
     "output_type": "stream",
     "text": [
      "9 a b c d e f\n"
     ]
    }
   ],
   "source": [
    "#16진수\n",
    "print(\"%x %x %x %x %x %x %x\" % (9,10,11,12,13,14,15) )"
   ]
  },
  {
   "cell_type": "code",
   "execution_count": 40,
   "id": "df7ba8aa-06f5-42ac-aca2-2b589d9bb335",
   "metadata": {},
   "outputs": [
    {
     "name": "stdout",
     "output_type": "stream",
     "text": [
      "10\n"
     ]
    }
   ],
   "source": [
    "print(\"%x\" %16)"
   ]
  },
  {
   "cell_type": "code",
   "execution_count": 44,
   "id": "d072f534-bbd5-42af-8194-39b179bbb1a8",
   "metadata": {},
   "outputs": [
    {
     "name": "stdout",
     "output_type": "stream",
     "text": [
      "1 3 7 10 11 12 13\n"
     ]
    }
   ],
   "source": [
    "#8진수\n",
    "print(\"%o %o %o %o %o %o %o\" % (1,3,7,8,9,10,11) )"
   ]
  },
  {
   "cell_type": "code",
   "execution_count": 214,
   "id": "97fd75e4-c362-434a-a451-167d9c103603",
   "metadata": {},
   "outputs": [
    {
     "name": "stdout",
     "output_type": "stream",
     "text": [
      "123\n",
      "  123\n",
      "00123\n",
      "123.450000\n",
      "  123.5\n",
      "123.45000\n",
      "Python\n",
      "    Python\n"
     ]
    }
   ],
   "source": [
    "print(\"%d\" %123)\n",
    "print(\"%5d\" %123)\n",
    "print(\"%05d\" %123)\n",
    "\n",
    "print(\"%f\" %123.45)\n",
    "print(\"%7.1f\" %123.45)\n",
    "print(\"%7.5f\" %123.45)\n",
    "\n",
    "print(\"%s\" %\"Python\")\n",
    "print(\"%10s\" %\"Python\")"
   ]
  },
  {
   "cell_type": "markdown",
   "id": "ec64638e-d01b-48ef-840f-ae4cdcfa6176",
   "metadata": {},
   "source": [
    "format() 문자열"
   ]
  },
  {
   "cell_type": "code",
   "execution_count": null,
   "id": "0a1807cf-2442-4584-a461-dd150faeaf62",
   "metadata": {},
   "outputs": [
    {
     "name": "stdout",
     "output_type": "stream",
     "text": [
      "123   123 00123\n"
     ]
    }
   ],
   "source": [
    "print(\"%d %5d %05d\" %(123,123,123)) "
   ]
  },
  {
   "cell_type": "code",
   "execution_count": 155,
   "id": "62d0dc25-3aae-43d8-90dc-6f908d80acb5",
   "metadata": {},
   "outputs": [
    {
     "name": "stdout",
     "output_type": "stream",
     "text": [
      "2:d, 1:5d, 0:05d\n"
     ]
    }
   ],
   "source": [
    "print(\"{2:d} {1:5d} {0:05d}\".format(123,234,567))"
   ]
  },
  {
   "cell_type": "markdown",
   "id": "2214b3b8-3034-434e-a387-69f21584c3b9",
   "metadata": {},
   "source": [
    "**이스케이프 문자**"
   ]
  },
  {
   "cell_type": "code",
   "execution_count": 67,
   "id": "188f6606-358a-4c30-bf68-42411bb73182",
   "metadata": {},
   "outputs": [
    {
     "name": "stdout",
     "output_type": "stream",
     "text": [
      "한줄에 다써보자... 열심히 \n",
      "줄 바꿈\n",
      "연습 \n"
     ]
    }
   ],
   "source": [
    "print(\"한줄에 다써보자... 열심히 \\n줄 바꿈\\n연습 \")"
   ]
  },
  {
   "cell_type": "code",
   "execution_count": 72,
   "id": "e7462fba-e52d-428a-a9c7-94061f97eda0",
   "metadata": {},
   "outputs": [
    {
     "name": "stdout",
     "output_type": "stream",
     "text": [
      "----\t----\t----\n",
      "\n",
      "종류\t설명\t비교\n",
      "\n",
      "몰라\n"
     ]
    }
   ],
   "source": [
    "print(\"----\\t----\\t----\\n\")\n",
    "print(\"종류\\t설명\\t비교\\n\")\n",
    "print(\"몰라\")"
   ]
  },
  {
   "cell_type": "code",
   "execution_count": 203,
   "id": "1087725e-664f-479f-9260-b3ee7fc39b92",
   "metadata": {},
   "outputs": [
    {
     "name": "stdout",
     "output_type": "stream",
     "text": [
      "글자가 '강조' 되는 효과1\n"
     ]
    }
   ],
   "source": [
    "print(\"글자가 \\'강조\\' 되는 효과1\")"
   ]
  },
  {
   "cell_type": "code",
   "execution_count": 76,
   "id": "25251978-74ef-4c2c-a87a-58557bc8062a",
   "metadata": {},
   "outputs": [
    {
     "name": "stdout",
     "output_type": "stream",
     "text": [
      "글자가 \"강조\" 되는 효과2\n"
     ]
    }
   ],
   "source": [
    "print(\"글자가 \\\"강조\\\" 되는 효과2\")"
   ]
  },
  {
   "cell_type": "code",
   "execution_count": 78,
   "id": "c18d1638-4f58-4394-9fe8-8c9831fd6e3c",
   "metadata": {},
   "outputs": [
    {
     "name": "stdout",
     "output_type": "stream",
     "text": [
      "\\\\\\ 역슬래시 세 개 출력\n"
     ]
    }
   ],
   "source": [
    "print(\"\\\\\\\\\\\\ 역슬래시 세 개 출력\")"
   ]
  },
  {
   "cell_type": "code",
   "execution_count": 83,
   "id": "74f3f12b-3508-42f9-b0b8-8e6eed0b10ba",
   "metadata": {},
   "outputs": [
    {
     "name": "stdout",
     "output_type": "stream",
     "text": [
      "\\n \\t \\\\ 를 그대로 출력\n"
     ]
    }
   ],
   "source": [
    "# r을 앞에 쓰면 글자 그대로 출력되는기능임\n",
    "print(r\"\\n \\t \\\\ 를 그대로 출력\")"
   ]
  },
  {
   "cell_type": "markdown",
   "id": "dc333312-c4ac-4971-adf2-9ab78d461b7a",
   "metadata": {},
   "source": [
    "# Section 03\n",
    "변수 = 동적타이핑(Dynamic typing)"
   ]
  },
  {
   "cell_type": "code",
   "execution_count": null,
   "id": "6c740a12-7c8b-47b8-9416-3820c0c7725e",
   "metadata": {},
   "outputs": [],
   "source": [
    "# 참, 거짓 값 : True , False"
   ]
  },
  {
   "cell_type": "code",
   "execution_count": 87,
   "id": "7201b1fb-c698-457e-99c5-479d44968d6f",
   "metadata": {},
   "outputs": [],
   "source": [
    "boolVar = True"
   ]
  },
  {
   "cell_type": "code",
   "execution_count": 88,
   "id": "f77a972d-8c7d-4fc2-a7a7-902ed91ba39f",
   "metadata": {},
   "outputs": [
    {
     "data": {
      "text/plain": [
       "True"
      ]
     },
     "execution_count": 88,
     "metadata": {},
     "output_type": "execute_result"
    }
   ],
   "source": [
    "boolVar"
   ]
  },
  {
   "cell_type": "code",
   "execution_count": 91,
   "id": "a86cf8e0-b17a-4694-b0dc-90c3d4335aca",
   "metadata": {},
   "outputs": [
    {
     "data": {
      "text/plain": [
       "'문자열'"
      ]
     },
     "execution_count": 91,
     "metadata": {},
     "output_type": "execute_result"
    }
   ],
   "source": [
    "boolVar = \"문자열\"\n",
    "boolVar\n",
    "#다른 언어는 안돼지만 파이썬만은 이런것이 가능하다"
   ]
  },
  {
   "cell_type": "code",
   "execution_count": 93,
   "id": "2ad0c45a-47b0-4b67-ac37-361270cdcd65",
   "metadata": {},
   "outputs": [],
   "source": [
    "boolVar = 0.1"
   ]
  },
  {
   "cell_type": "code",
   "execution_count": 99,
   "id": "f7b6d4d7-64ad-4d4f-bd07-3c838450c8ef",
   "metadata": {},
   "outputs": [
    {
     "name": "stdout",
     "output_type": "stream",
     "text": [
      "boolVar는  0.1\n"
     ]
    }
   ],
   "source": [
    "print(\"boolVar는 \" , boolVar)"
   ]
  },
  {
   "cell_type": "code",
   "execution_count": 109,
   "id": "bfd4f911-961f-45a6-90c9-08b0b9a11c42",
   "metadata": {},
   "outputs": [
    {
     "name": "stdout",
     "output_type": "stream",
     "text": [
      "boolVar는  0.1\n"
     ]
    }
   ],
   "source": [
    "print(\"boolVar는 \",\"0.1\")"
   ]
  },
  {
   "cell_type": "code",
   "execution_count": 128,
   "id": "8c7c43f7-ef0c-47d4-989f-47598fb71678",
   "metadata": {},
   "outputs": [
    {
     "name": "stdout",
     "output_type": "stream",
     "text": [
      "boolVar는 0.100000\n"
     ]
    }
   ],
   "source": [
    "print(\"boolVar는 %f\" % boolVar)"
   ]
  },
  {
   "cell_type": "code",
   "execution_count": 129,
   "id": "ff4d32f2-8c09-4aee-99c2-bd74e12bba45",
   "metadata": {},
   "outputs": [],
   "source": [
    "myVar = int"
   ]
  },
  {
   "cell_type": "code",
   "execution_count": 112,
   "id": "e3a975da-7fa1-478f-b990-82af19c523f8",
   "metadata": {},
   "outputs": [
    {
     "data": {
      "text/plain": [
       "(True, 0, 0.1, '안녕')"
      ]
     },
     "execution_count": 112,
     "metadata": {},
     "output_type": "execute_result"
    }
   ],
   "source": [
    "a, b, f, s = True, 0, 0.1, \"안녕\"\n",
    "a, b ,f, s"
   ]
  },
  {
   "cell_type": "code",
   "execution_count": 116,
   "id": "6d15333e-7243-4f2c-b9a9-e75a108258d1",
   "metadata": {},
   "outputs": [],
   "source": [
    "z = y = w = 0\n",
    "#이렇게 안쓰는걸 추천"
   ]
  },
  {
   "cell_type": "code",
   "execution_count": 115,
   "id": "98235efe-f65f-457e-bbe7-8ce2dc3adc71",
   "metadata": {},
   "outputs": [
    {
     "data": {
      "text/plain": [
       "(0, 0, 0)"
      ]
     },
     "execution_count": 115,
     "metadata": {},
     "output_type": "execute_result"
    }
   ],
   "source": [
    "z, y , w"
   ]
  },
  {
   "cell_type": "markdown",
   "id": "e5d59c51-f2ea-4ee1-96f4-2fa89c045756",
   "metadata": {},
   "source": [
    "변수이름\n",
    " - 숫자시작 x\n",
    " - 예약어 x\n",
    " - _ 같은 언더바는 가능\n",
    " - 대소문자 구별하기"
   ]
  },
  {
   "cell_type": "code",
   "execution_count": 119,
   "id": "f4f5d657-ec51-4d22-b1f0-b1f39f65d544",
   "metadata": {},
   "outputs": [],
   "source": [
    "import keyword"
   ]
  },
  {
   "cell_type": "code",
   "execution_count": 124,
   "id": "e1d7d010-a00e-4b21-ad50-ffc174004576",
   "metadata": {},
   "outputs": [
    {
     "data": {
      "text/plain": [
       "['False',\n",
       " 'None',\n",
       " 'True',\n",
       " '__peg_parser__',\n",
       " 'and',\n",
       " 'as',\n",
       " 'assert',\n",
       " 'async',\n",
       " 'await',\n",
       " 'break',\n",
       " 'class',\n",
       " 'continue',\n",
       " 'def',\n",
       " 'del',\n",
       " 'elif',\n",
       " 'else',\n",
       " 'except',\n",
       " 'finally',\n",
       " 'for',\n",
       " 'from',\n",
       " 'global',\n",
       " 'if',\n",
       " 'import',\n",
       " 'in',\n",
       " 'is',\n",
       " 'lambda',\n",
       " 'nonlocal',\n",
       " 'not',\n",
       " 'or',\n",
       " 'pass',\n",
       " 'raise',\n",
       " 'return',\n",
       " 'try',\n",
       " 'while',\n",
       " 'with',\n",
       " 'yield']"
      ]
     },
     "execution_count": 124,
     "metadata": {},
     "output_type": "execute_result"
    }
   ],
   "source": [
    "keyword.kwlist\n",
    "# keyword에 바로 .tab 누르면 됌\n",
    "# f는 실수 i는 변수\n",
    "# 밑에 있는건 쓰면안돼는 변수이름"
   ]
  },
  {
   "cell_type": "code",
   "execution_count": 139,
   "id": "5c3659e9-8a32-4be3-acaa-00793dc6a17e",
   "metadata": {},
   "outputs": [
    {
     "data": {
      "text/plain": [
       "float"
      ]
     },
     "execution_count": 139,
     "metadata": {},
     "output_type": "execute_result"
    }
   ],
   "source": [
    "type(boolVar)"
   ]
  },
  {
   "cell_type": "code",
   "execution_count": 143,
   "id": "b2807840-7af8-4b41-ad56-5ba91c2a922b",
   "metadata": {},
   "outputs": [
    {
     "data": {
      "text/plain": [
       "147"
      ]
     },
     "execution_count": 143,
     "metadata": {},
     "output_type": "execute_result"
    }
   ],
   "source": [
    "a = 0b10010011\n",
    "a"
   ]
  },
  {
   "cell_type": "code",
   "execution_count": 148,
   "id": "7a1ef853-712d-49a6-b81d-699d9489f102",
   "metadata": {},
   "outputs": [
    {
     "data": {
      "text/plain": [
       "147"
      ]
     },
     "execution_count": 148,
     "metadata": {},
     "output_type": "execute_result"
    }
   ],
   "source": [
    "int('10010011',2)"
   ]
  },
  {
   "cell_type": "code",
   "execution_count": 165,
   "id": "73b76cb9-0e66-4a25-967e-fdf697c02631",
   "metadata": {},
   "outputs": [
    {
     "data": {
      "text/plain": [
       "15"
      ]
     },
     "execution_count": 165,
     "metadata": {},
     "output_type": "execute_result"
    }
   ],
   "source": [
    "int('F',16)"
   ]
  },
  {
   "cell_type": "code",
   "execution_count": 168,
   "id": "cb423b40-0791-4098-ae1b-63ad08acb846",
   "metadata": {},
   "outputs": [
    {
     "data": {
      "text/plain": [
       "'0b10010011'"
      ]
     },
     "execution_count": 168,
     "metadata": {},
     "output_type": "execute_result"
    }
   ],
   "source": [
    "bin(147)"
   ]
  },
  {
   "cell_type": "code",
   "execution_count": 170,
   "id": "97393e54-7e3d-499e-8a51-f8e5094b9747",
   "metadata": {},
   "outputs": [
    {
     "data": {
      "text/plain": [
       "'0b11111010'"
      ]
     },
     "execution_count": 170,
     "metadata": {},
     "output_type": "execute_result"
    }
   ],
   "source": [
    "bin(0xFA)"
   ]
  },
  {
   "cell_type": "code",
   "execution_count": 172,
   "id": "94a7a1c1-8a00-43d8-9edf-4f128de9c2f5",
   "metadata": {},
   "outputs": [
    {
     "data": {
      "text/plain": [
       "'0o223'"
      ]
     },
     "execution_count": 172,
     "metadata": {},
     "output_type": "execute_result"
    }
   ],
   "source": [
    "oct(147)"
   ]
  },
  {
   "cell_type": "code",
   "execution_count": 174,
   "id": "e4bf15b2-bac5-4497-939a-6fe75f20eed5",
   "metadata": {},
   "outputs": [
    {
     "data": {
      "text/plain": [
       "'0x93'"
      ]
     },
     "execution_count": 174,
     "metadata": {},
     "output_type": "execute_result"
    }
   ],
   "source": [
    "hex(147)"
   ]
  },
  {
   "cell_type": "code",
   "execution_count": 185,
   "id": "67cdeea7-d53e-462e-8e7b-534a29cc5606",
   "metadata": {},
   "outputs": [
    {
     "name": "stdin",
     "output_type": "stream",
     "text": [
      "입력 진수 결정(16/10/8/2):  10\n",
      " 값 입력:  260\n"
     ]
    },
    {
     "name": "stdout",
     "output_type": "stream",
     "text": [
      "16진수 ==> 0x104\n",
      "10진수 ==> 260\n",
      "8진수 ==> 0o404\n",
      "2진수 ==> 0b100000100\n"
     ]
    }
   ],
   "source": [
    "sel = int(input(\"입력 진수 결정(16/10/8/2): \"))\n",
    "num = input(\" 값 입력: \")\n",
    "\n",
    "if sel == 16:\n",
    "    num10 = int(num,16)\n",
    "if sel == 10:\n",
    "    num10 = int(num,10)\n",
    "if sel == 8 :\n",
    "    num10 = int(num,8)\n",
    "if sel == 2 :\n",
    "    num10 = int(num,2)\n",
    "\n",
    "print(\"16진수 ==>\", hex(num10))\n",
    "print(\"10진수 ==>\", num10)\n",
    "print(\"8진수 ==>\", oct(num10))\n",
    "print(\"2진수 ==>\", bin(num10))\n",
    "\n",
    "# sel에서 진수 결정한 수랑 같은 if sel 이  수행한다\n",
    "#81쪽 >> 조건문 하고 실습하기"
   ]
  },
  {
   "cell_type": "code",
   "execution_count": 192,
   "id": "0eabb1c0-4b59-4eb0-b7a9-a4ef05e846f1",
   "metadata": {},
   "outputs": [
    {
     "data": {
      "text/plain": [
       "(10, '260')"
      ]
     },
     "execution_count": 192,
     "metadata": {},
     "output_type": "execute_result"
    }
   ],
   "source": [
    "sel , num"
   ]
  }
 ],
 "metadata": {
  "kernelspec": {
   "display_name": "Python 3 (ipykernel)",
   "language": "python",
   "name": "python3"
  },
  "language_info": {
   "codemirror_mode": {
    "name": "ipython",
    "version": 3
   },
   "file_extension": ".py",
   "mimetype": "text/x-python",
   "name": "python",
   "nbconvert_exporter": "python",
   "pygments_lexer": "ipython3",
   "version": "3.9.7"
  }
 },
 "nbformat": 4,
 "nbformat_minor": 5
}
