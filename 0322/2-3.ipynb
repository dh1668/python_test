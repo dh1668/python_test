{
 "cells": [
  {
   "cell_type": "markdown",
   "id": "5dded402-1f72-4665-8b5c-f5b934bf9f26",
   "metadata": {},
   "source": [
    "# chapter4"
   ]
  },
  {
   "cell_type": "code",
   "execution_count": 2,
   "id": "5dc16820-5911-4def-bbcd-07c228259be2",
   "metadata": {},
   "outputs": [],
   "source": [
    "a = 3; b =5 "
   ]
  },
  {
   "cell_type": "code",
   "execution_count": 3,
   "id": "62c09398-4474-4d88-9bc2-92f3736f0ae8",
   "metadata": {},
   "outputs": [
    {
     "data": {
      "text/plain": [
       "8"
      ]
     },
     "execution_count": 3,
     "metadata": {},
     "output_type": "execute_result"
    }
   ],
   "source": [
    "a + b"
   ]
  },
  {
   "cell_type": "code",
   "execution_count": 4,
   "id": "e12d5afe-de8b-4113-bd1b-5100414aac69",
   "metadata": {},
   "outputs": [
    {
     "data": {
      "text/plain": [
       "-2"
      ]
     },
     "execution_count": 4,
     "metadata": {},
     "output_type": "execute_result"
    }
   ],
   "source": [
    "a - b"
   ]
  },
  {
   "cell_type": "code",
   "execution_count": 5,
   "id": "2f34b9b9-f35b-4a0c-b831-620c81b7f2b9",
   "metadata": {},
   "outputs": [
    {
     "data": {
      "text/plain": [
       "0.6"
      ]
     },
     "execution_count": 5,
     "metadata": {},
     "output_type": "execute_result"
    }
   ],
   "source": [
    "a / b"
   ]
  },
  {
   "cell_type": "code",
   "execution_count": 6,
   "id": "c2abfc72-760c-416d-a434-3c1e2725216a",
   "metadata": {},
   "outputs": [
    {
     "data": {
      "text/plain": [
       "0"
      ]
     },
     "execution_count": 6,
     "metadata": {},
     "output_type": "execute_result"
    }
   ],
   "source": [
    "a // b"
   ]
  },
  {
   "cell_type": "code",
   "execution_count": 8,
   "id": "574ee65f-c1a5-4ac7-ac93-e91808000822",
   "metadata": {},
   "outputs": [
    {
     "data": {
      "text/plain": [
       "3"
      ]
     },
     "execution_count": 8,
     "metadata": {},
     "output_type": "execute_result"
    }
   ],
   "source": [
    "a % b"
   ]
  },
  {
   "cell_type": "code",
   "execution_count": 10,
   "id": "0ecff431-28f4-4457-b8bc-370410413331",
   "metadata": {},
   "outputs": [
    {
     "data": {
      "text/plain": [
       "243"
      ]
     },
     "execution_count": 10,
     "metadata": {},
     "output_type": "execute_result"
    }
   ],
   "source": [
    "a ** b"
   ]
  },
  {
   "cell_type": "markdown",
   "id": "426047b5-cacb-4908-87fa-52cdfa3f4127",
   "metadata": {},
   "source": [
    "우선순위\n"
   ]
  },
  {
   "cell_type": "code",
   "execution_count": 11,
   "id": "3e95282e-358f-4c45-b251-edec1ab4e53d",
   "metadata": {},
   "outputs": [],
   "source": [
    "a, b, c = 2, 3, 4"
   ]
  },
  {
   "cell_type": "code",
   "execution_count": 12,
   "id": "a395c568-07c0-4f9f-90be-fda363aa8230",
   "metadata": {},
   "outputs": [
    {
     "data": {
      "text/plain": [
       "1"
      ]
     },
     "execution_count": 12,
     "metadata": {},
     "output_type": "execute_result"
    }
   ],
   "source": [
    "a + b -c"
   ]
  },
  {
   "cell_type": "code",
   "execution_count": 13,
   "id": "41547a54-3415-46ab-bcd6-3a2882db8f18",
   "metadata": {},
   "outputs": [
    {
     "data": {
      "text/plain": [
       "1"
      ]
     },
     "execution_count": 13,
     "metadata": {},
     "output_type": "execute_result"
    }
   ],
   "source": [
    "a + (b - c)"
   ]
  },
  {
   "cell_type": "code",
   "execution_count": 14,
   "id": "f932b3c9-f363-48c7-95db-cfdafffbaa8c",
   "metadata": {},
   "outputs": [
    {
     "data": {
      "text/plain": [
       "20"
      ]
     },
     "execution_count": 14,
     "metadata": {},
     "output_type": "execute_result"
    }
   ],
   "source": [
    "(a + b) * c"
   ]
  },
  {
   "cell_type": "code",
   "execution_count": 15,
   "id": "e69f8d80-1e8f-4d5f-a00b-3cff32677bce",
   "metadata": {},
   "outputs": [
    {
     "data": {
      "text/plain": [
       "14"
      ]
     },
     "execution_count": 15,
     "metadata": {},
     "output_type": "execute_result"
    }
   ],
   "source": [
    "a +(b * c)"
   ]
  },
  {
   "cell_type": "markdown",
   "id": "177af93c-1595-42a0-8348-9548e3a4df1a",
   "metadata": {},
   "source": [
    "### 내장 자료형 함수\n",
    " - int()\n",
    " - bin()\n",
    " - oct()\n",
    " - hex()\n",
    " - float()"
   ]
  },
  {
   "cell_type": "markdown",
   "id": "85006886-e001-476f-9ff3-f59858b7091a",
   "metadata": {},
   "source": [
    "#문자형 자료형 함수\n",
    "- str()"
   ]
  },
  {
   "cell_type": "code",
   "execution_count": 94,
   "id": "448dc802-ce59-4391-8cf9-2f6316e3043e",
   "metadata": {},
   "outputs": [
    {
     "data": {
      "text/plain": [
       "'100.1231'"
      ]
     },
     "execution_count": 94,
     "metadata": {},
     "output_type": "execute_result"
    }
   ],
   "source": [
    "a =100; b=100.123\n",
    "str(a) + '1'; str(b) + '1'"
   ]
  },
  {
   "cell_type": "markdown",
   "id": "7fd9aad1-8bf3-4a25-ac99-68581dadb12f",
   "metadata": {},
   "source": [
    "## 복합대입연산자"
   ]
  },
  {
   "cell_type": "code",
   "execution_count": 34,
   "id": "97fe3607-95d5-41cc-96ee-41eaf0b2eeeb",
   "metadata": {},
   "outputs": [],
   "source": [
    "a = 10"
   ]
  },
  {
   "cell_type": "code",
   "execution_count": 35,
   "id": "eea8dba6-d93b-4819-8d28-9c5a71c247f8",
   "metadata": {},
   "outputs": [],
   "source": [
    "a = a + 3 "
   ]
  },
  {
   "cell_type": "code",
   "execution_count": 36,
   "id": "6f0613fb-525e-4175-8f23-a7c3ab87168a",
   "metadata": {},
   "outputs": [
    {
     "data": {
      "text/plain": [
       "13"
      ]
     },
     "execution_count": 36,
     "metadata": {},
     "output_type": "execute_result"
    }
   ],
   "source": [
    "a"
   ]
  },
  {
   "cell_type": "code",
   "execution_count": 37,
   "id": "3ea3ddcf-edb3-4d0c-8e27-922a96aebeef",
   "metadata": {},
   "outputs": [],
   "source": [
    "a += 3"
   ]
  },
  {
   "cell_type": "code",
   "execution_count": 38,
   "id": "56920ad7-1424-47ac-a572-23d60d579746",
   "metadata": {},
   "outputs": [
    {
     "data": {
      "text/plain": [
       "16"
      ]
     },
     "execution_count": 38,
     "metadata": {},
     "output_type": "execute_result"
    }
   ],
   "source": [
    "a"
   ]
  },
  {
   "cell_type": "code",
   "execution_count": 39,
   "id": "5a4d0302-0541-40c1-b395-a3ce365d863d",
   "metadata": {},
   "outputs": [],
   "source": [
    "a **= 3"
   ]
  },
  {
   "cell_type": "code",
   "execution_count": 40,
   "id": "23c687d7-34d1-48f7-955c-38c8618ee77e",
   "metadata": {},
   "outputs": [
    {
     "ename": "SyntaxError",
     "evalue": "'literal' is an illegal expression for augmented assignment (Temp/ipykernel_7736/632958915.py, line 1)",
     "output_type": "error",
     "traceback": [
      "\u001b[1;36m  File \u001b[1;32m\"C:\\Users\\BIT\\AppData\\Local\\Temp/ipykernel_7736/632958915.py\"\u001b[1;36m, line \u001b[1;32m1\u001b[0m\n\u001b[1;33m    10 **= 3\u001b[0m\n\u001b[1;37m    ^\u001b[0m\n\u001b[1;31mSyntaxError\u001b[0m\u001b[1;31m:\u001b[0m 'literal' is an illegal expression for augmented assignment\n"
     ]
    }
   ],
   "source": [
    "10 **= 3"
   ]
  },
  {
   "cell_type": "code",
   "execution_count": 71,
   "id": "41051936-685e-4a27-b1b1-a1409ca54b6c",
   "metadata": {},
   "outputs": [
    {
     "name": "stdin",
     "output_type": "stream",
     "text": [
      "교환할 돈은 얼마 ?  8630\n"
     ]
    }
   ],
   "source": [
    "# p.96 1번문제\n",
    "## 변수 선언 부분##\n",
    "money , c500 , c100, c50, c10 = 0, 0, 0, 0, 0\n",
    "\n",
    "## 메인 코드 부분 ##\n",
    "money = int(input(\"교환할 돈은 얼마 ? \"))"
   ]
  },
  {
   "cell_type": "code",
   "execution_count": null,
   "id": "121ab08d-ac3d-481f-851c-f8a95165e536",
   "metadata": {},
   "outputs": [
    {
     "data": {
      "text/plain": [
       "17"
      ]
     },
     "execution_count": 72,
     "metadata": {},
     "output_type": "execute_result"
    }
   ],
   "source": [
    "money // 500"
   ]
  },
  {
   "cell_type": "code",
   "execution_count": null,
   "id": "65fb0d3e-4f21-4f73-9fab-e4529c5bd2f9",
   "metadata": {},
   "outputs": [
    {
     "data": {
      "text/plain": [
       "130"
      ]
     },
     "execution_count": 73,
     "metadata": {},
     "output_type": "execute_result"
    }
   ],
   "source": [
    "money % 500"
   ]
  },
  {
   "cell_type": "code",
   "execution_count": null,
   "id": "612e4d8d-9d3c-4f80-b2d7-d9b5c4963ec7",
   "metadata": {},
   "outputs": [
    {
     "data": {
      "text/plain": [
       "86"
      ]
     },
     "execution_count": 74,
     "metadata": {},
     "output_type": "execute_result"
    }
   ],
   "source": [
    "money // 100 "
   ]
  },
  {
   "cell_type": "code",
   "execution_count": null,
   "id": "b1fcfb7d-6466-4587-93fd-0f196179be2f",
   "metadata": {},
   "outputs": [
    {
     "data": {
      "text/plain": [
       "30"
      ]
     },
     "execution_count": 75,
     "metadata": {},
     "output_type": "execute_result"
    }
   ],
   "source": [
    "money % 100"
   ]
  },
  {
   "cell_type": "code",
   "execution_count": null,
   "id": "27de2671-22a7-4c8d-a31b-ea49d320a41a",
   "metadata": {},
   "outputs": [
    {
     "data": {
      "text/plain": [
       "172"
      ]
     },
     "execution_count": 76,
     "metadata": {},
     "output_type": "execute_result"
    }
   ],
   "source": [
    "money // 50"
   ]
  },
  {
   "cell_type": "code",
   "execution_count": null,
   "id": "36e45b20-5179-439e-b334-67b73104e4d4",
   "metadata": {},
   "outputs": [
    {
     "data": {
      "text/plain": [
       "30"
      ]
     },
     "execution_count": 77,
     "metadata": {},
     "output_type": "execute_result"
    }
   ],
   "source": [
    "money % 50"
   ]
  },
  {
   "cell_type": "code",
   "execution_count": null,
   "id": "5d02eda0-8f4d-4c69-913a-f25b546ba96a",
   "metadata": {},
   "outputs": [
    {
     "data": {
      "text/plain": [
       "863"
      ]
     },
     "execution_count": 78,
     "metadata": {},
     "output_type": "execute_result"
    }
   ],
   "source": [
    "money // 10"
   ]
  },
  {
   "cell_type": "code",
   "execution_count": null,
   "id": "075d6b4a-8be7-4bde-9b8a-1ad684946331",
   "metadata": {},
   "outputs": [
    {
     "data": {
      "text/plain": [
       "0"
      ]
     },
     "execution_count": 79,
     "metadata": {},
     "output_type": "execute_result"
    }
   ],
   "source": [
    "money % 10"
   ]
  },
  {
   "cell_type": "code",
   "execution_count": 99,
   "id": "78999dc5-1ebe-4084-85a8-d4d1f8a6c8ea",
   "metadata": {},
   "outputs": [
    {
     "name": "stdin",
     "output_type": "stream",
     "text": [
      "교환할 돈은 얼마 ?  7200\n"
     ]
    },
    {
     "name": "stdout",
     "output_type": "stream",
     "text": [
      "\n",
      " 500원짜리 ==> 14개\n",
      " 100원짜리 ==> 2개\n",
      " 50원짜리 ==> 0개\n",
      " 10원짜리 ==> 0개\n",
      " 바꾸지 못한 잔돈 ==> 0원 \n",
      "\n"
     ]
    }
   ],
   "source": [
    "#p100 5번 쓰기\n",
    "# p.96 1번문제\n",
    "## 변수 선언 부분##\n",
    "money , c500 , c100, c50, c10 = 0, 0, 0, 0, 0\n",
    "\n",
    "## 메인 코드 부분 ##\n",
    "money = int(input(\"교환할 돈은 얼마 ? \"))\n",
    "\n",
    "c500 = money // 500\n",
    "money %=500\n",
    "\n",
    "c100 = money // 100\n",
    "money %=100\n",
    "\n",
    "c50 = money // 50\n",
    "money %=50\n",
    "\n",
    "c10 = money // 10\n",
    "money %=10\n",
    "\n",
    "print(\"\\n 500원짜리 ==> %d개\" % c500)\n",
    "print(\" 100원짜리 ==> %d개\" % c100)\n",
    "print(\" 50원짜리 ==> %d개\" % c50)\n",
    "print(\" 10원짜리 ==> %d개\" % c10)\n",
    "print(\" 바꾸지 못한 잔돈 ==> %d원 \\n\" % money)\n",
    "      "
   ]
  },
  {
   "cell_type": "markdown",
   "id": "3fb45cd3-dcaa-48f5-9ca5-70540cbdb2e3",
   "metadata": {},
   "source": [
    "## 관계연산자"
   ]
  },
  {
   "cell_type": "code",
   "execution_count": 83,
   "id": "803ccea1-2db0-4019-97f9-eb9de289fc73",
   "metadata": {},
   "outputs": [
    {
     "data": {
      "text/plain": [
       "False"
      ]
     },
     "execution_count": 83,
     "metadata": {},
     "output_type": "execute_result"
    }
   ],
   "source": [
    "10 == 5"
   ]
  },
  {
   "cell_type": "code",
   "execution_count": 84,
   "id": "d1524ed9-e62e-46cb-a64c-bd6e41ef974d",
   "metadata": {},
   "outputs": [
    {
     "data": {
      "text/plain": [
       "True"
      ]
     },
     "execution_count": 84,
     "metadata": {},
     "output_type": "execute_result"
    }
   ],
   "source": [
    "10 == 10"
   ]
  },
  {
   "cell_type": "code",
   "execution_count": 85,
   "id": "cd7c8044-b479-4fb0-90d1-cb9a5ff4b53d",
   "metadata": {},
   "outputs": [
    {
     "data": {
      "text/plain": [
       "True"
      ]
     },
     "execution_count": 85,
     "metadata": {},
     "output_type": "execute_result"
    }
   ],
   "source": [
    "10 > 5"
   ]
  },
  {
   "cell_type": "code",
   "execution_count": 86,
   "id": "dec7a3d4-cd4e-4424-ac5b-9070c3ef3745",
   "metadata": {},
   "outputs": [
    {
     "data": {
      "text/plain": [
       "False"
      ]
     },
     "execution_count": 86,
     "metadata": {},
     "output_type": "execute_result"
    }
   ],
   "source": [
    "10 < 5"
   ]
  },
  {
   "cell_type": "code",
   "execution_count": 89,
   "id": "4d2c8ce7-e9e1-4450-97a5-40e5425c5517",
   "metadata": {},
   "outputs": [
    {
     "name": "stdout",
     "output_type": "stream",
     "text": [
      "5보다 크다\n"
     ]
    }
   ],
   "source": [
    "if 10 > 5:\n",
    "    print(\"5보다 크다\")"
   ]
  },
  {
   "cell_type": "code",
   "execution_count": 90,
   "id": "ff329424-68d2-4bc1-a759-89d482288e29",
   "metadata": {},
   "outputs": [
    {
     "data": {
      "text/plain": [
       "True"
      ]
     },
     "execution_count": 90,
     "metadata": {},
     "output_type": "execute_result"
    }
   ],
   "source": [
    "10 != 5"
   ]
  },
  {
   "cell_type": "code",
   "execution_count": 91,
   "id": "bfb628a3-a20c-4d2e-b86f-c0ce35dc4c23",
   "metadata": {},
   "outputs": [
    {
     "data": {
      "text/plain": [
       "False"
      ]
     },
     "execution_count": 91,
     "metadata": {},
     "output_type": "execute_result"
    }
   ],
   "source": [
    "10 != 10"
   ]
  },
  {
   "cell_type": "markdown",
   "id": "164c3106-cd2b-49d1-b9c5-c1ee3f04aa8e",
   "metadata": {},
   "source": [
    "## 논리연산자"
   ]
  },
  {
   "cell_type": "markdown",
   "id": "ab4f2e4b-8e33-43be-8279-25e23a20f4a8",
   "metadata": {},
   "source": [
    "논리곱 : and\n",
    "= 둘다 참이어야 참"
   ]
  },
  {
   "cell_type": "markdown",
   "id": "48438f74-2b6c-4548-b1fe-e2bfae4f8a17",
   "metadata": {},
   "source": [
    "논리합 : or\n",
    "= 둘 중 하나만 참이여도 참"
   ]
  },
  {
   "cell_type": "markdown",
   "id": "27797471-d5ac-4571-b73a-6ee5fdf0c583",
   "metadata": {},
   "source": [
    "부정 : not\n",
    "= 참이면 거짓, 거짓이면 참"
   ]
  },
  {
   "cell_type": "code",
   "execution_count": 101,
   "id": "f00c1e44-b938-49fe-9a07-78ae5ed2c88e",
   "metadata": {},
   "outputs": [],
   "source": [
    "a=99"
   ]
  },
  {
   "cell_type": "code",
   "execution_count": 102,
   "id": "4c6339fb-49bc-4609-86be-adc618296f5a",
   "metadata": {},
   "outputs": [
    {
     "data": {
      "text/plain": [
       "False"
      ]
     },
     "execution_count": 102,
     "metadata": {},
     "output_type": "execute_result"
    }
   ],
   "source": [
    "#논리곱\n",
    "a > 100"
   ]
  },
  {
   "cell_type": "code",
   "execution_count": 104,
   "id": "0f037dc4-7f86-49e9-af92-84315642afab",
   "metadata": {},
   "outputs": [
    {
     "data": {
      "text/plain": [
       "False"
      ]
     },
     "execution_count": 104,
     "metadata": {},
     "output_type": "execute_result"
    }
   ],
   "source": [
    "#a가 100보다 크거나 200보다 작은거!!!\n",
    "(a > 100) and (a < 200)"
   ]
  },
  {
   "cell_type": "code",
   "execution_count": 105,
   "id": "df49852f-e315-47ce-a831-04a3922747a3",
   "metadata": {},
   "outputs": [
    {
     "data": {
      "text/plain": [
       "True"
      ]
     },
     "execution_count": 105,
     "metadata": {},
     "output_type": "execute_result"
    }
   ],
   "source": [
    "#논리합\n",
    "(a > 100) or (a < 200)"
   ]
  },
  {
   "cell_type": "code",
   "execution_count": 106,
   "id": "68822e1b-23aa-4d31-bea3-c8ee5365a1ca",
   "metadata": {},
   "outputs": [
    {
     "data": {
      "text/plain": [
       "False"
      ]
     },
     "execution_count": 106,
     "metadata": {},
     "output_type": "execute_result"
    }
   ],
   "source": [
    "# 반대\n",
    "not True"
   ]
  },
  {
   "cell_type": "code",
   "execution_count": 108,
   "id": "f5233471-9d1a-401b-96b5-925131f083c1",
   "metadata": {},
   "outputs": [
    {
     "data": {
      "text/plain": [
       "True"
      ]
     },
     "execution_count": 108,
     "metadata": {},
     "output_type": "execute_result"
    }
   ],
   "source": [
    "not (a > 100)"
   ]
  },
  {
   "cell_type": "markdown",
   "id": "917f1da9-6cd8-47c1-a807-e57d69ba3fae",
   "metadata": {},
   "source": [
    "## 비트 연산자"
   ]
  },
  {
   "cell_type": "code",
   "execution_count": 109,
   "id": "0fca6d0e-65c5-4591-94b7-9df4ee080e15",
   "metadata": {},
   "outputs": [
    {
     "data": {
      "text/plain": [
       "2"
      ]
     },
     "execution_count": 109,
     "metadata": {},
     "output_type": "execute_result"
    }
   ],
   "source": [
    "# 비트 논리연산\n",
    "10 & 7"
   ]
  },
  {
   "cell_type": "code",
   "execution_count": 110,
   "id": "990ea848-a5de-4f4f-90f1-79e8e6da9bf0",
   "metadata": {},
   "outputs": [
    {
     "data": {
      "text/plain": [
       "('0b1010', '0b111')"
      ]
     },
     "execution_count": 110,
     "metadata": {},
     "output_type": "execute_result"
    }
   ],
   "source": [
    "bin(10), bin(7)"
   ]
  },
  {
   "cell_type": "markdown",
   "id": "cc65c2ad-19f7-4e92-bea6-523dd65b1244",
   "metadata": {},
   "source": [
    "```\n",
    "    0b1010\n",
    "&    0b111\n",
    "-------------\n",
    "    0010\n",
    "```"
   ]
  },
  {
   "cell_type": "code",
   "execution_count": 112,
   "id": "74597a8c-fbb3-4dbb-8b5a-3378ead55e3b",
   "metadata": {},
   "outputs": [
    {
     "data": {
      "text/plain": [
       "'0b10'"
      ]
     },
     "execution_count": 112,
     "metadata": {},
     "output_type": "execute_result"
    }
   ],
   "source": [
    "bin(10 & 7)"
   ]
  },
  {
   "cell_type": "code",
   "execution_count": 113,
   "id": "ee1f87d8-cd43-418d-b585-aaf7d256efaa",
   "metadata": {},
   "outputs": [
    {
     "data": {
      "text/plain": [
       "0"
      ]
     },
     "execution_count": 113,
     "metadata": {},
     "output_type": "execute_result"
    }
   ],
   "source": [
    "2 & 1"
   ]
  },
  {
   "cell_type": "code",
   "execution_count": 114,
   "id": "ee380b59-1328-4816-8314-2f9c84f4224d",
   "metadata": {},
   "outputs": [
    {
     "data": {
      "text/plain": [
       "'0b0'"
      ]
     },
     "execution_count": 114,
     "metadata": {},
     "output_type": "execute_result"
    }
   ],
   "source": [
    "bin (2 & 1)"
   ]
  },
  {
   "cell_type": "code",
   "execution_count": 115,
   "id": "f30b1450-36db-441d-bf2c-9229c36328cc",
   "metadata": {},
   "outputs": [
    {
     "data": {
      "text/plain": [
       "('0b1111011', '0b111001000')"
      ]
     },
     "execution_count": 115,
     "metadata": {},
     "output_type": "execute_result"
    }
   ],
   "source": [
    "bin(123), bin(456)"
   ]
  },
  {
   "cell_type": "markdown",
   "id": "bada9885-e737-49e7-87e1-43f3c24e68a5",
   "metadata": {},
   "source": [
    "```\n",
    "    '0b1111011'\n",
    "  '0b111001000'\n",
    "```"
   ]
  },
  {
   "cell_type": "code",
   "execution_count": 116,
   "id": "49aa6e45-3304-44aa-8a35-d81513297d7f",
   "metadata": {},
   "outputs": [
    {
     "data": {
      "text/plain": [
       "'0b1001000'"
      ]
     },
     "execution_count": 116,
     "metadata": {},
     "output_type": "execute_result"
    }
   ],
   "source": [
    "bin(123 & 456)"
   ]
  },
  {
   "cell_type": "code",
   "execution_count": 117,
   "id": "bbcc16d4-a514-4c50-9a05-6ee643788377",
   "metadata": {},
   "outputs": [
    {
     "data": {
      "text/plain": [
       "'0b10'"
      ]
     },
     "execution_count": 117,
     "metadata": {},
     "output_type": "execute_result"
    }
   ],
   "source": [
    "bin(2)"
   ]
  },
  {
   "cell_type": "code",
   "execution_count": 119,
   "id": "ebebf9c5-1379-4a83-88d8-0ac517944e8a",
   "metadata": {},
   "outputs": [
    {
     "data": {
      "text/plain": [
       "-3"
      ]
     },
     "execution_count": 119,
     "metadata": {},
     "output_type": "execute_result"
    }
   ],
   "source": [
    "~2"
   ]
  },
  {
   "cell_type": "code",
   "execution_count": 120,
   "id": "4c6ed034-4548-412f-9f12-24f2bcdf8bbd",
   "metadata": {},
   "outputs": [
    {
     "data": {
      "text/plain": [
       "'-0b11'"
      ]
     },
     "execution_count": 120,
     "metadata": {},
     "output_type": "execute_result"
    }
   ],
   "source": [
    "bin(~2)"
   ]
  },
  {
   "cell_type": "code",
   "execution_count": 121,
   "id": "b6587070-9075-47d1-8a8b-9b937d9e01d6",
   "metadata": {},
   "outputs": [
    {
     "data": {
      "text/plain": [
       "'0b1111'"
      ]
     },
     "execution_count": 121,
     "metadata": {},
     "output_type": "execute_result"
    }
   ],
   "source": [
    "bin(10|7)"
   ]
  },
  {
   "cell_type": "code",
   "execution_count": 122,
   "id": "c6ce7f7b-5803-4e6d-9bc9-4b610432a293",
   "metadata": {},
   "outputs": [
    {
     "data": {
      "text/plain": [
       "'0b111111011'"
      ]
     },
     "execution_count": 122,
     "metadata": {},
     "output_type": "execute_result"
    }
   ],
   "source": [
    "bin(123|456)"
   ]
  },
  {
   "cell_type": "code",
   "execution_count": 123,
   "id": "58c565b5-8acc-4197-84b1-de31d02e4c98",
   "metadata": {},
   "outputs": [
    {
     "data": {
      "text/plain": [
       "'0b1111111111111111'"
      ]
     },
     "execution_count": 123,
     "metadata": {},
     "output_type": "execute_result"
    }
   ],
   "source": [
    "bin(0xFFFF|0x0000)"
   ]
  },
  {
   "cell_type": "markdown",
   "id": "699e5be3-b412-4306-b7fd-75af6667c3fc",
   "metadata": {},
   "source": [
    "### 배타적 논리합"
   ]
  },
  {
   "cell_type": "code",
   "execution_count": 124,
   "id": "eed9daaa-002f-4bb5-a0d6-3a53d1173a2e",
   "metadata": {},
   "outputs": [
    {
     "data": {
      "text/plain": [
       "('0b1010', '0b111')"
      ]
     },
     "execution_count": 124,
     "metadata": {},
     "output_type": "execute_result"
    }
   ],
   "source": [
    "bin(10), bin(7)"
   ]
  },
  {
   "cell_type": "code",
   "execution_count": 125,
   "id": "1dcc86ae-c07c-44c0-b169-f80ac54a03fc",
   "metadata": {},
   "outputs": [
    {
     "data": {
      "text/plain": [
       "'0b1101'"
      ]
     },
     "execution_count": 125,
     "metadata": {},
     "output_type": "execute_result"
    }
   ],
   "source": [
    "bin(10^7)"
   ]
  },
  {
   "cell_type": "markdown",
   "id": "f4ac8de7-66d3-470b-acd2-3e21e69f68ad",
   "metadata": {},
   "source": [
    "Masking 기법 : 비트 기반 연산!!!\n",
    "\n",
    "```\n",
    "00010 & 11000\n",
    "```"
   ]
  },
  {
   "cell_type": "markdown",
   "id": "173f8cc1-52ec-4ad4-83c8-e4ca24e4bec4",
   "metadata": {},
   "source": [
    "### 쉬프트 연산자\n",
    "\n",
    "    >>\n",
    "    <<"
   ]
  },
  {
   "cell_type": "code",
   "execution_count": 126,
   "id": "4482d524-004b-48a7-a658-b8ac9e1c6b26",
   "metadata": {},
   "outputs": [
    {
     "data": {
      "text/plain": [
       "'0b1010'"
      ]
     },
     "execution_count": 126,
     "metadata": {},
     "output_type": "execute_result"
    }
   ],
   "source": [
    "a = 10; bin(a)"
   ]
  },
  {
   "cell_type": "code",
   "execution_count": 127,
   "id": "80d5f6e6-2e47-4d1f-afa1-fe1b710228eb",
   "metadata": {},
   "outputs": [
    {
     "data": {
      "text/plain": [
       "20"
      ]
     },
     "execution_count": 127,
     "metadata": {},
     "output_type": "execute_result"
    }
   ],
   "source": [
    "a <<1     #1칸"
   ]
  },
  {
   "cell_type": "code",
   "execution_count": 128,
   "id": "0be5b02e-f513-4caa-8ad1-8902b9295104",
   "metadata": {},
   "outputs": [
    {
     "data": {
      "text/plain": [
       "'0b10100'"
      ]
     },
     "execution_count": 128,
     "metadata": {},
     "output_type": "execute_result"
    }
   ],
   "source": [
    "bin(a << 1)"
   ]
  },
  {
   "cell_type": "code",
   "execution_count": 146,
   "id": "9796b000-724b-40a2-958d-fe827a4d4654",
   "metadata": {},
   "outputs": [
    {
     "data": {
      "text/plain": [
       "'0b101'"
      ]
     },
     "execution_count": 146,
     "metadata": {},
     "output_type": "execute_result"
    }
   ],
   "source": [
    "# >>\n",
    "bin(a >> 1)"
   ]
  },
  {
   "cell_type": "code",
   "execution_count": 155,
   "id": "5bb8b8ec-c390-4b9b-8b07-ec7b0d16d6e6",
   "metadata": {},
   "outputs": [
    {
     "name": "stdout",
     "output_type": "stream",
     "text": [
      "20\n"
     ]
    }
   ],
   "source": [
    "q = 10; q += 10\n",
    "print(q)"
   ]
  },
  {
   "cell_type": "code",
   "execution_count": 152,
   "id": "34ab7363-4e35-4364-8c30-11a9400bc4e0",
   "metadata": {},
   "outputs": [
    {
     "name": "stdout",
     "output_type": "stream",
     "text": [
      "10240000000000\n"
     ]
    }
   ],
   "source": [
    "q **=10\n",
    "print(q)"
   ]
  },
  {
   "cell_type": "code",
   "execution_count": 156,
   "id": "aed16344-9dd6-4590-bee3-8c118c9ee6db",
   "metadata": {},
   "outputs": [
    {
     "data": {
      "text/plain": [
       "'0b10'"
      ]
     },
     "execution_count": 156,
     "metadata": {},
     "output_type": "execute_result"
    }
   ],
   "source": [
    "bin(10&7)"
   ]
  },
  {
   "cell_type": "markdown",
   "id": "374a8d14-cbd0-4da8-8de1-966c18741cca",
   "metadata": {},
   "source": [
    "# 윤년 계산하기"
   ]
  },
  {
   "cell_type": "markdown",
   "id": "2316b99d-a209-4e21-9454-1e7a8655454f",
   "metadata": {},
   "source": [
    "윤년은 \n",
    " - 4로  나누어 떨어지고 100으로 나누어 떨어지지 않는다\n",
    " - 400으로 나누어 떨어진다.\n",
    " \n",
    " "
   ]
  },
  {
   "cell_type": "markdown",
   "id": "b5b9eeb7-dd7c-4feb-9196-628418453cd2",
   "metadata": {},
   "source": [
    "_main_의미 : p 86쪽 설명\n"
   ]
  },
  {
   "cell_type": "code",
   "execution_count": 158,
   "id": "3e24abd1-5ca6-4aaa-81a6-cb2a2b0aa9d0",
   "metadata": {},
   "outputs": [
    {
     "name": "stdin",
     "output_type": "stream",
     "text": [
      "연도를 입력하세요 : 2022\n"
     ]
    }
   ],
   "source": [
    "year = int(input('연도를 입력하세요 :'))"
   ]
  },
  {
   "cell_type": "code",
   "execution_count": 159,
   "id": "80e4c9e0-8d70-434f-9ca7-69af9c683d60",
   "metadata": {},
   "outputs": [
    {
     "data": {
      "text/plain": [
       "False"
      ]
     },
     "execution_count": 159,
     "metadata": {},
     "output_type": "execute_result"
    }
   ],
   "source": [
    "(year % 4 == 0 ) and (year % 100 != 0)"
   ]
  },
  {
   "cell_type": "code",
   "execution_count": 160,
   "id": "b818f7b6-3390-4d76-bbf2-6f9bd34c7155",
   "metadata": {},
   "outputs": [
    {
     "data": {
      "text/plain": [
       "False"
      ]
     },
     "execution_count": 160,
     "metadata": {},
     "output_type": "execute_result"
    }
   ],
   "source": [
    "(year % 400 == 0 )"
   ]
  },
  {
   "cell_type": "code",
   "execution_count": 161,
   "id": "dce117c0-7200-4d70-a7c8-27e399919973",
   "metadata": {},
   "outputs": [
    {
     "name": "stdout",
     "output_type": "stream",
     "text": [
      "2022년은 윤년이 아닙니다.\n"
     ]
    }
   ],
   "source": [
    "if((year % 400 == 0 ) and (year % 400 == 0 )) or (year % 400 ==0):\n",
    "    print(\"%d년은 윤년입니다. %year\");\n",
    "else :\n",
    "    print(\"%d년은 윤년이 아닙니다.\" %year);"
   ]
  },
  {
   "cell_type": "code",
   "execution_count": null,
   "id": "184aba81-ff3c-4819-ad39-d04dedf1b979",
   "metadata": {},
   "outputs": [],
   "source": [
    "year =0\n",
    "\n",
    "if __name__==\"__main__\" :\n",
    "    year= int(input(\"연도를 입력하세요:\"))\n",
    "\n",
    "if((year % 400 == 0 ) and (year % 400 == 0 )) or (year % 400 ==0):\n",
    "    print(\"%d년은 윤년입니다. %year\");\n",
    "else :\n",
    "    print(\"%d년은 윤년이 아닙니다.\" %year);"
   ]
  },
  {
   "cell_type": "markdown",
   "id": "a9d8414b-6b7e-4963-a917-d974a2950c1b",
   "metadata": {},
   "source": []
  }
 ],
 "metadata": {
  "kernelspec": {
   "display_name": "Python 3 (ipykernel)",
   "language": "python",
   "name": "python3"
  },
  "language_info": {
   "codemirror_mode": {
    "name": "ipython",
    "version": 3
   },
   "file_extension": ".py",
   "mimetype": "text/x-python",
   "name": "python",
   "nbconvert_exporter": "python",
   "pygments_lexer": "ipython3",
   "version": "3.9.7"
  }
 },
 "nbformat": 4,
 "nbformat_minor": 5
}
