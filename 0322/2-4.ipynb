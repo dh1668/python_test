{
 "cells": [
  {
   "cell_type": "markdown",
   "id": "1f1def4c-9b02-4a71-851c-9b4e2d26f63f",
   "metadata": {},
   "source": [
    "# Chapter5 조건문\n",
    "``` \n",
    " if 조건식\n",
    "```"
   ]
  },
  {
   "cell_type": "markdown",
   "id": "0f590d97-ebac-4d95-bdb6-4bd39a161f9d",
   "metadata": {},
   "source": [
    "코드블럭   \" : \"  << 콜론기준으로 시작함\n",
    "들여쓰기 (4칸)  << tap 눌르기"
   ]
  },
  {
   "cell_type": "code",
   "execution_count": 7,
   "id": "d2f5a482-0ed6-4861-9ef2-f153027667b6",
   "metadata": {},
   "outputs": [
    {
     "name": "stdout",
     "output_type": "stream",
     "text": [
      "작다\n"
     ]
    }
   ],
   "source": [
    "a = 99\n",
    "if a < 100:\n",
    "    print(\"작다\")"
   ]
  },
  {
   "cell_type": "code",
   "execution_count": 10,
   "id": "6acab0ec-48dc-4a8a-847e-2f9c618afeb3",
   "metadata": {},
   "outputs": [
    {
     "name": "stdout",
     "output_type": "stream",
     "text": [
      "작다\n",
      "....\n"
     ]
    }
   ],
   "source": [
    "a = 99\n",
    "if a < 100:\n",
    "    print(\"작다\")\n",
    "    print(\"....\")\n"
   ]
  },
  {
   "cell_type": "code",
   "execution_count": 20,
   "id": "b2f19880-b10f-4b72-8e13-26784c752a11",
   "metadata": {},
   "outputs": [
    {
     "name": "stdout",
     "output_type": "stream",
     "text": [
      "프로그램끝\n"
     ]
    }
   ],
   "source": [
    "a = 200\n",
    "\n",
    "if a < 100 :\n",
    "    print(\"100보다 작군요.\")\n",
    "    print(\"거짓이므로 이 문장은 안보이겠죠?\")\n",
    "\n",
    "print(\"프로그램끝\")"
   ]
  },
  {
   "cell_type": "code",
   "execution_count": null,
   "id": "daf6e17d-02b1-4e78-9536-d3c5819268be",
   "metadata": {},
   "outputs": [],
   "source": [
    "a = 200\n",
    "\n",
    "if a < 100 :\n",
    "    print(\"100보다 작군요.\")\n",
    "else:\n",
    "    print(\"좀 더 힘내세요\")\n",
    "\n",
    "print(\"프로그램끝\")"
   ]
  },
  {
   "cell_type": "markdown",
   "id": "ecba67ff-4001-4142-a748-d781bec0115f",
   "metadata": {},
   "source": [
    "쉘 나누기 : ctrl + shift + \" - \""
   ]
  },
  {
   "cell_type": "code",
   "execution_count": 23,
   "id": "9ecae09a-29e1-4bb9-ba9f-966348bab69b",
   "metadata": {},
   "outputs": [
    {
     "name": "stdin",
     "output_type": "stream",
     "text": [
      "정수를 입력하세요 :  4\n"
     ]
    },
    {
     "name": "stdout",
     "output_type": "stream",
     "text": [
      "홀수를 입력했군요\n",
      "프로그램끝\n"
     ]
    }
   ],
   "source": [
    "#p.129 5-5\n",
    "a= int(input(\"정수를 입력하세요 : \"))\n",
    "\n",
    "if a % 2 ==0 :\n",
    "    print(\"짝수를 입력했군요\")\n",
    "else :\n",
    "    print(\"홀수를 입력했군요\")\n",
    "print(\"프로그램끝\")\n",
    "\n",
    "# == 0 <짝수>\n",
    "# != 0 <홀수>"
   ]
  },
  {
   "cell_type": "code",
   "execution_count": 25,
   "id": "a8b2d8de-7144-4642-ae7a-24d36282d0a4",
   "metadata": {},
   "outputs": [
    {
     "name": "stdout",
     "output_type": "stream",
     "text": [
      "와 100보다 크군요\n"
     ]
    }
   ],
   "source": [
    "# if ~ else ~ if ~else 조건문\n",
    "\n",
    "# 50보다 크고 100보다 작은 경우\n",
    "# (a>50) and (a<100)\n",
    "a =101\n",
    "\n",
    "if a > 50:\n",
    "    if a < 100:\n",
    "        print(\"50보다 크고 100보다 작군요\")\n",
    "    else :\n",
    "        print(\"와 100보다 크군요\")\n",
    "else :\n",
    "    print(\"50보다 작다!!\")"
   ]
  },
  {
   "cell_type": "code",
   "execution_count": 28,
   "id": "20aa5ab4-1e92-49d3-bcbb-3487b83e4d9b",
   "metadata": {},
   "outputs": [
    {
     "name": "stdin",
     "output_type": "stream",
     "text": [
      "점수를 입력하세요 :  87\n"
     ]
    },
    {
     "name": "stdout",
     "output_type": "stream",
     "text": [
      "B\n",
      "학점입니다. ^^\n"
     ]
    }
   ],
   "source": [
    "score = int(input(\"점수를 입력하세요 : \"))\n",
    "\n",
    "if score >= 90:\n",
    "    print(\"A\")\n",
    "elif score >= 80:\n",
    "    print(\"B\")\n",
    "elif score >= 70:\n",
    "    print(\"C\")\n",
    "elif score >= 60:\n",
    "    print(\"D\")\n",
    "\n",
    "else :\n",
    "    print(\"F\")\n",
    "    \n",
    "print(\"학점입니다. ^^\")\n",
    "    \n",
    "\n",
    "    "
   ]
  },
  {
   "cell_type": "code",
   "execution_count": 31,
   "id": "9da5e51f-d818-4d86-9331-2395d3401ab2",
   "metadata": {},
   "outputs": [
    {
     "name": "stdout",
     "output_type": "stream",
     "text": [
      "합격\n"
     ]
    }
   ],
   "source": [
    "jumsu = 75\n",
    "res = ''\n",
    "if jumsu >= 60 :\n",
    "    res = '합격'\n",
    "else :\n",
    "    res = '불합격'\n",
    "print(res)"
   ]
  },
  {
   "cell_type": "code",
   "execution_count": 36,
   "id": "30e89b8b-fd8a-4ae4-85a4-0fc0a2ba9b2c",
   "metadata": {},
   "outputs": [
    {
     "name": "stdout",
     "output_type": "stream",
     "text": [
      "합격\n"
     ]
    }
   ],
   "source": [
    "res = '합격' if jumsu >=60 else '불합격'\n",
    "print(res)"
   ]
  },
  {
   "cell_type": "code",
   "execution_count": 54,
   "id": "46d33bd3-9603-494b-98a8-cb94f6ea023a",
   "metadata": {},
   "outputs": [
    {
     "data": {
      "text/plain": [
       "'0b101'"
      ]
     },
     "execution_count": 54,
     "metadata": {},
     "output_type": "execute_result"
    }
   ],
   "source": [
    "bin(0x5)"
   ]
  }
 ],
 "metadata": {
  "kernelspec": {
   "display_name": "Python 3 (ipykernel)",
   "language": "python",
   "name": "python3"
  },
  "language_info": {
   "codemirror_mode": {
    "name": "ipython",
    "version": 3
   },
   "file_extension": ".py",
   "mimetype": "text/x-python",
   "name": "python",
   "nbconvert_exporter": "python",
   "pygments_lexer": "ipython3",
   "version": "3.9.7"
  }
 },
 "nbformat": 4,
 "nbformat_minor": 5
}
