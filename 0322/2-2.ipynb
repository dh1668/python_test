{
 "cells": [
  {
   "cell_type": "markdown",
   "id": "f4f12f5f-8fa6-406a-8151-cf14d696ea49",
   "metadata": {},
   "source": [
    "# Sec05 기본 데이터형"
   ]
  },
  {
   "cell_type": "markdown",
   "id": "8b3043b4-c442-4a76-a9fa-59619c0c0fa2",
   "metadata": {},
   "source": [
    "기본 형식 -> 하나의 값을 저장하는 방법!"
   ]
  },
  {
   "cell_type": "code",
   "execution_count": 3,
   "id": "ed466cc8-0ce9-41e3-b379-4e9651ea370f",
   "metadata": {},
   "outputs": [
    {
     "data": {
      "text/plain": [
       "123"
      ]
     },
     "execution_count": 3,
     "metadata": {},
     "output_type": "execute_result"
    }
   ],
   "source": [
    "a = 123 #정수\n",
    "a"
   ]
  },
  {
   "cell_type": "code",
   "execution_count": 4,
   "id": "ee356a92-8939-454b-afe5-a6d7c21f7a8c",
   "metadata": {},
   "outputs": [
    {
     "data": {
      "text/plain": [
       "int"
      ]
     },
     "execution_count": 4,
     "metadata": {},
     "output_type": "execute_result"
    }
   ],
   "source": [
    "type(a)"
   ]
  },
  {
   "cell_type": "code",
   "execution_count": 6,
   "id": "5223ac78-59a1-47a6-8633-5acd2287194e",
   "metadata": {},
   "outputs": [
    {
     "data": {
      "text/plain": [
       "123000000"
      ]
     },
     "execution_count": 6,
     "metadata": {},
     "output_type": "execute_result"
    }
   ],
   "source": [
    "a = a * 1000\n",
    "a"
   ]
  },
  {
   "cell_type": "code",
   "execution_count": 8,
   "id": "ee4cbe40-719e-4369-b33a-8db0c46a1b00",
   "metadata": {},
   "outputs": [
    {
     "data": {
      "text/plain": [
       "100000000000000000000000000000000000000000000000000000000000000000000000000000000000000000000000000000000000000000000000000000000000000000000000000000000000000000000000000000000000000000000000000000000"
      ]
     },
     "execution_count": 8,
     "metadata": {},
     "output_type": "execute_result"
    }
   ],
   "source": [
    "a = 100**100\n",
    "a"
   ]
  },
  {
   "cell_type": "code",
   "execution_count": 10,
   "id": "c52221ba-a067-4dff-ae2b-056f2748732b",
   "metadata": {},
   "outputs": [
    {
     "data": {
      "text/plain": [
       "int"
      ]
     },
     "execution_count": 10,
     "metadata": {},
     "output_type": "execute_result"
    }
   ],
   "source": [
    "type(a)\n"
   ]
  },
  {
   "cell_type": "code",
   "execution_count": 11,
   "id": "d51d47e9-04db-4c96-a436-3d8015fd8744",
   "metadata": {},
   "outputs": [
    {
     "data": {
      "text/plain": [
       "int"
      ]
     },
     "execution_count": 11,
     "metadata": {},
     "output_type": "execute_result"
    }
   ],
   "source": [
    "a =0xFF\n",
    "type(a)"
   ]
  },
  {
   "cell_type": "code",
   "execution_count": 12,
   "id": "4b2e6d60-7bb9-415d-b43c-7e4b27f03f5b",
   "metadata": {},
   "outputs": [
    {
     "data": {
      "text/plain": [
       "int"
      ]
     },
     "execution_count": 12,
     "metadata": {},
     "output_type": "execute_result"
    }
   ],
   "source": [
    "type(0b11111)"
   ]
  },
  {
   "cell_type": "code",
   "execution_count": 15,
   "id": "99362f0e-7fa6-4378-93b9-cdd8a75e9c91",
   "metadata": {},
   "outputs": [],
   "source": [
    "a = 3.14\n",
    "b = 3.14e5"
   ]
  },
  {
   "cell_type": "code",
   "execution_count": 16,
   "id": "2e5bcb05-cb3e-4c6f-b387-8a82db8b0162",
   "metadata": {},
   "outputs": [
    {
     "data": {
      "text/plain": [
       "3.14"
      ]
     },
     "execution_count": 16,
     "metadata": {},
     "output_type": "execute_result"
    }
   ],
   "source": [
    "a"
   ]
  },
  {
   "cell_type": "code",
   "execution_count": 17,
   "id": "40443598-e361-4c45-899d-dec267052211",
   "metadata": {},
   "outputs": [
    {
     "data": {
      "text/plain": [
       "314000.0"
      ]
     },
     "execution_count": 17,
     "metadata": {},
     "output_type": "execute_result"
    }
   ],
   "source": [
    "b"
   ]
  },
  {
   "cell_type": "code",
   "execution_count": 18,
   "id": "3c2d61d3-b345-4a93-a920-961ec2f786ee",
   "metadata": {},
   "outputs": [
    {
     "data": {
      "text/plain": [
       "110000.0"
      ]
     },
     "execution_count": 18,
     "metadata": {},
     "output_type": "execute_result"
    }
   ],
   "source": [
    "1.1e5"
   ]
  },
  {
   "cell_type": "code",
   "execution_count": 19,
   "id": "f9d4172c-90ee-411a-96db-31864144a47d",
   "metadata": {},
   "outputs": [
    {
     "data": {
      "text/plain": [
       "101000.0"
      ]
     },
     "execution_count": 19,
     "metadata": {},
     "output_type": "execute_result"
    }
   ],
   "source": [
    "1.01e5"
   ]
  },
  {
   "cell_type": "code",
   "execution_count": 41,
   "id": "57ec0681-8d39-4626-b738-31a88669d761",
   "metadata": {},
   "outputs": [],
   "source": [
    "a = 30; b =10"
   ]
  },
  {
   "cell_type": "code",
   "execution_count": 42,
   "id": "cbc83258-6129-49d1-a756-09d43bd17041",
   "metadata": {},
   "outputs": [
    {
     "data": {
      "text/plain": [
       "40"
      ]
     },
     "execution_count": 42,
     "metadata": {},
     "output_type": "execute_result"
    }
   ],
   "source": [
    "a + b"
   ]
  },
  {
   "cell_type": "code",
   "execution_count": 43,
   "id": "3c42e089-7bb3-4474-a6d1-9dbd784fb5eb",
   "metadata": {},
   "outputs": [
    {
     "data": {
      "text/plain": [
       "20"
      ]
     },
     "execution_count": 43,
     "metadata": {},
     "output_type": "execute_result"
    }
   ],
   "source": [
    "a - b"
   ]
  },
  {
   "cell_type": "code",
   "execution_count": 44,
   "id": "da976897-8808-4437-998f-dc84eb3156ae",
   "metadata": {},
   "outputs": [
    {
     "data": {
      "text/plain": [
       "300"
      ]
     },
     "execution_count": 44,
     "metadata": {},
     "output_type": "execute_result"
    }
   ],
   "source": [
    "a * b"
   ]
  },
  {
   "cell_type": "markdown",
   "id": "213d919a-0c78-4e7b-ae51-76bf63b05438",
   "metadata": {},
   "source": [
    "1. 정밀도가 큰 자료형으로 결과가 반환\n",
    "2. 자료 범위가 큰자료형으로 결과가 반환! <-- python에서는 큰의미가없지만 다른언어에선중요"
   ]
  },
  {
   "cell_type": "code",
   "execution_count": 45,
   "id": "001a35b7-ffd5-4fbc-a0a5-30117f082ad7",
   "metadata": {},
   "outputs": [
    {
     "data": {
      "text/plain": [
       "3.0"
      ]
     },
     "execution_count": 45,
     "metadata": {},
     "output_type": "execute_result"
    }
   ],
   "source": [
    "a / b"
   ]
  },
  {
   "cell_type": "code",
   "execution_count": 46,
   "id": "128f0c28-1200-4676-9760-9b32a1b6e882",
   "metadata": {},
   "outputs": [
    {
     "data": {
      "text/plain": [
       "0"
      ]
     },
     "execution_count": 46,
     "metadata": {},
     "output_type": "execute_result"
    }
   ],
   "source": [
    "a % b #나머지"
   ]
  },
  {
   "cell_type": "code",
   "execution_count": 47,
   "id": "1c718cb9-af12-4296-b71c-587f9b898dc2",
   "metadata": {},
   "outputs": [
    {
     "data": {
      "text/plain": [
       "3"
      ]
     },
     "execution_count": 47,
     "metadata": {},
     "output_type": "execute_result"
    }
   ],
   "source": [
    "a // b # 몫"
   ]
  },
  {
   "cell_type": "code",
   "execution_count": 57,
   "id": "f5ea702d-3411-4192-80df-df4d912b50d9",
   "metadata": {},
   "outputs": [
    {
     "data": {
      "text/plain": [
       "bool"
      ]
     },
     "execution_count": 57,
     "metadata": {},
     "output_type": "execute_result"
    }
   ],
   "source": [
    "# boolean형\n",
    "a = True\n",
    "type(a)"
   ]
  },
  {
   "cell_type": "code",
   "execution_count": 53,
   "id": "e2c107d7-cf64-47ed-a179-af80cf82b435",
   "metadata": {},
   "outputs": [
    {
     "data": {
      "text/plain": [
       "(False, True)"
      ]
     },
     "execution_count": 53,
     "metadata": {},
     "output_type": "execute_result"
    }
   ],
   "source": [
    "10 == 1, 10 == 10\n"
   ]
  },
  {
   "cell_type": "code",
   "execution_count": 58,
   "id": "bfb67b3e-7d34-476a-b4ce-0600770e41b8",
   "metadata": {},
   "outputs": [],
   "source": [
    "#문자열"
   ]
  },
  {
   "cell_type": "code",
   "execution_count": 88,
   "id": "98588dad-d5b4-4fcd-9532-356992fc2054",
   "metadata": {},
   "outputs": [
    {
     "name": "stdout",
     "output_type": "stream",
     "text": [
      "파이썬 만세\n"
     ]
    },
    {
     "data": {
      "text/plain": [
       "str"
      ]
     },
     "execution_count": 88,
     "metadata": {},
     "output_type": "execute_result"
    }
   ],
   "source": [
    "b = \"파이썬 만세\"\n",
    "b\n",
    "print(b)\n",
    "type(b)"
   ]
  },
  {
   "cell_type": "code",
   "execution_count": 65,
   "id": "525d0fcf-d5ac-4d1b-95d1-fcf49c65deec",
   "metadata": {},
   "outputs": [
    {
     "data": {
      "text/plain": [
       "'안녕하세요'"
      ]
     },
     "execution_count": 65,
     "metadata": {},
     "output_type": "execute_result"
    }
   ],
   "source": [
    "\"안녕하세요\"\n",
    "# ' ' 로 변환되서 나옴"
   ]
  },
  {
   "cell_type": "code",
   "execution_count": 66,
   "id": "75071204-9164-4809-9f7b-ec65c38cf709",
   "metadata": {},
   "outputs": [
    {
     "data": {
      "text/plain": [
       "'안녕하세요'"
      ]
     },
     "execution_count": 66,
     "metadata": {},
     "output_type": "execute_result"
    }
   ],
   "source": [
    "'안녕하세요'"
   ]
  },
  {
   "cell_type": "code",
   "execution_count": 79,
   "id": "b1560a7d-5d60-40ad-8411-5282a619e3d4",
   "metadata": {},
   "outputs": [],
   "source": [
    "a = \"\"\"\n",
    "안녕하세요\n",
    "반갑습니다.\n",
    "파이썬 교육 수료하겠습니다.\n",
    "\"\"\"\n",
    "\n",
    "#\"\"\"은 docstring 이라고부른다"
   ]
  },
  {
   "cell_type": "code",
   "execution_count": 81,
   "id": "5cb2add0-2b86-43e3-8802-d50f797a9d3f",
   "metadata": {},
   "outputs": [
    {
     "data": {
      "text/plain": [
       "'\\n안녕하세요\\n반갑습니다.\\n파이썬 교육 수료하겠습니다.\\n'"
      ]
     },
     "execution_count": 81,
     "metadata": {},
     "output_type": "execute_result"
    }
   ],
   "source": [
    "a"
   ]
  },
  {
   "cell_type": "code",
   "execution_count": 82,
   "id": "323d1ba1-1741-4e61-9bee-d2794dc0b76c",
   "metadata": {},
   "outputs": [
    {
     "data": {
      "text/plain": [
       "str"
      ]
     },
     "execution_count": 82,
     "metadata": {},
     "output_type": "execute_result"
    }
   ],
   "source": [
    "type(a)"
   ]
  },
  {
   "cell_type": "code",
   "execution_count": 90,
   "id": "8981abca-c6c8-4169-a323-e2e3dec0726c",
   "metadata": {},
   "outputs": [],
   "source": [
    "#p89 ~ p92\n",
    "#연습문제풀기"
   ]
  },
  {
   "cell_type": "code",
   "execution_count": 94,
   "id": "6f232a0a-9381-48b6-adc9-d673ea38cc18",
   "metadata": {},
   "outputs": [
    {
     "name": "stdout",
     "output_type": "stream",
     "text": [
      "CookBook\n"
     ]
    }
   ],
   "source": [
    "print(\"%5s\" %\"CookBook\")"
   ]
  },
  {
   "cell_type": "code",
   "execution_count": 97,
   "id": "7fae82b4-5b7f-4f61-97d7-78b331ddfeb2",
   "metadata": {},
   "outputs": [
    {
     "name": "stdout",
     "output_type": "stream",
     "text": [
      "123.5\n"
     ]
    }
   ],
   "source": [
    "print(\"%1.1f\"%123.45)"
   ]
  },
  {
   "cell_type": "code",
   "execution_count": 105,
   "id": "2cb886ff-13f3-4d77-aba6-ae5840f981d2",
   "metadata": {},
   "outputs": [
    {
     "data": {
      "text/plain": [
       "'0b11'"
      ]
     },
     "execution_count": 105,
     "metadata": {},
     "output_type": "execute_result"
    }
   ],
   "source": [
    "bin()"
   ]
  }
 ],
 "metadata": {
  "kernelspec": {
   "display_name": "Python 3 (ipykernel)",
   "language": "python",
   "name": "python3"
  },
  "language_info": {
   "codemirror_mode": {
    "name": "ipython",
    "version": 3
   },
   "file_extension": ".py",
   "mimetype": "text/x-python",
   "name": "python",
   "nbconvert_exporter": "python",
   "pygments_lexer": "ipython3",
   "version": "3.9.7"
  }
 },
 "nbformat": 4,
 "nbformat_minor": 5
}
