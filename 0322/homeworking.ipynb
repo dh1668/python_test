{
 "cells": [
  {
   "cell_type": "code",
   "execution_count": 1,
   "id": "63908221-e870-4675-b91a-46dbfe7edc9d",
   "metadata": {},
   "outputs": [],
   "source": [
    "#3장 연습문제 1번~14번 p89~p91\n",
    "\n",
    "#쥬피터 노트북으로 코드 연습 실행"
   ]
  },
  {
   "cell_type": "code",
   "execution_count": 4,
   "id": "c9e3f9a0-71ed-47b0-a847-1add9bc35f00",
   "metadata": {},
   "outputs": [
    {
     "name": "stdout",
     "output_type": "stream",
     "text": [
      "100\n",
      "100\n",
      "100\n",
      "50+50\n"
     ]
    }
   ],
   "source": [
    "# 문제1\n",
    "print(\"100\")\n",
    "print(100)\n",
    "print(50+50)\n",
    "print(\"50+50\")\n",
    "\n",
    "#정답 4번"
   ]
  },
  {
   "cell_type": "code",
   "execution_count": 6,
   "id": "6394d410-059d-464a-a85d-4b717febc577",
   "metadata": {},
   "outputs": [
    {
     "name": "stdout",
     "output_type": "stream",
     "text": [
      "5/10=0\n"
     ]
    }
   ],
   "source": [
    "#문제2\n",
    "print('%d/%d=%d'%(5,10,5/10))"
   ]
  },
  {
   "cell_type": "code",
   "execution_count": 13,
   "id": "45c26c26-8981-4e9c-a0ba-b894e88cadce",
   "metadata": {},
   "outputs": [
    {
     "name": "stdout",
     "output_type": "stream",
     "text": [
      "0876\n",
      "CockBook\n"
     ]
    }
   ],
   "source": [
    "#문제3\n",
    "print(\"%04d\" %876)\n",
    "print(\"%5s\" %\"CockBook\")\n",
    "print()"
   ]
  }
 ],
 "metadata": {
  "kernelspec": {
   "display_name": "Python 3 (ipykernel)",
   "language": "python",
   "name": "python3"
  },
  "language_info": {
   "codemirror_mode": {
    "name": "ipython",
    "version": 3
   },
   "file_extension": ".py",
   "mimetype": "text/x-python",
   "name": "python",
   "nbconvert_exporter": "python",
   "pygments_lexer": "ipython3",
   "version": "3.9.7"
  }
 },
 "nbformat": 4,
 "nbformat_minor": 5
}
